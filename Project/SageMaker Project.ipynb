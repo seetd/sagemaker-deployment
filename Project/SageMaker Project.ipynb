{
 "cells": [
  {
   "cell_type": "markdown",
   "metadata": {},
   "source": [
    "# Creating a Sentiment Analysis Web App\n",
    "## Using PyTorch and SageMaker\n",
    "\n",
    "_Deep Learning Nanodegree Program | Deployment_\n",
    "\n",
    "---\n",
    "\n",
    "Now that we have a basic understanding of how SageMaker works we will try to use it to construct a complete project from end to end. Our goal will be to have a simple web page which a user can use to enter a movie review. The web page will then send the review off to our deployed model which will predict the sentiment of the entered review.\n",
    "\n",
    "## Instructions\n",
    "\n",
    "Some template code has already been provided for you, and you will need to implement additional functionality to successfully complete this notebook. You will not need to modify the included code beyond what is requested. Sections that begin with '**TODO**' in the header indicate that you need to complete or implement some portion within them. Instructions will be provided for each section and the specifics of the implementation are marked in the code block with a `# TODO: ...` comment. Please be sure to read the instructions carefully!\n",
    "\n",
    "In addition to implementing code, there will be questions for you to answer which relate to the task and your implementation. Each section where you will answer a question is preceded by a '**Question:**' header. Carefully read each question and provide your answer below the '**Answer:**' header by editing the Markdown cell.\n",
    "\n",
    "> **Note**: Code and Markdown cells can be executed using the **Shift+Enter** keyboard shortcut. In addition, a cell can be edited by typically clicking it (double-click for Markdown cells) or by pressing **Enter** while it is highlighted.\n",
    "\n",
    "## General Outline\n",
    "\n",
    "Recall the general outline for SageMaker projects using a notebook instance.\n",
    "\n",
    "1. Download or otherwise retrieve the data.\n",
    "2. Process / Prepare the data.\n",
    "3. Upload the processed data to S3.\n",
    "4. Train a chosen model.\n",
    "5. Test the trained model (typically using a batch transform job).\n",
    "6. Deploy the trained model.\n",
    "7. Use the deployed model.\n",
    "\n",
    "For this project, you will be following the steps in the general outline with some modifications. \n",
    "\n",
    "First, you will not be testing the model in its own step. You will still be testing the model, however, you will do it by deploying your model and then using the deployed model by sending the test data to it. One of the reasons for doing this is so that you can make sure that your deployed model is working correctly before moving forward.\n",
    "\n",
    "In addition, you will deploy and use your trained model a second time. In the second iteration you will customize the way that your trained model is deployed by including some of your own code. In addition, your newly deployed model will be used in the sentiment analysis web app."
   ]
  },
  {
   "cell_type": "markdown",
   "metadata": {},
   "source": [
    "## Step 1: Downloading the data\n",
    "\n",
    "As in the XGBoost in SageMaker notebook, we will be using the [IMDb dataset](http://ai.stanford.edu/~amaas/data/sentiment/)\n",
    "\n",
    "> Maas, Andrew L., et al. [Learning Word Vectors for Sentiment Analysis](http://ai.stanford.edu/~amaas/data/sentiment/). In _Proceedings of the 49th Annual Meeting of the Association for Computational Linguistics: Human Language Technologies_. Association for Computational Linguistics, 2011."
   ]
  },
  {
   "cell_type": "code",
   "execution_count": 1,
   "metadata": {},
   "outputs": [
    {
     "name": "stdout",
     "output_type": "stream",
     "text": [
      "mkdir: cannot create directory ‘../data’: File exists\n",
      "--2019-04-29 19:25:04--  http://ai.stanford.edu/~amaas/data/sentiment/aclImdb_v1.tar.gz\n",
      "Resolving ai.stanford.edu (ai.stanford.edu)... 171.64.68.10\n",
      "Connecting to ai.stanford.edu (ai.stanford.edu)|171.64.68.10|:80... connected.\n",
      "HTTP request sent, awaiting response... 200 OK\n",
      "Length: 84125825 (80M) [application/x-gzip]\n",
      "Saving to: ‘../data/aclImdb_v1.tar.gz’\n",
      "\n",
      "../data/aclImdb_v1. 100%[===================>]  80.23M  24.6MB/s    in 3.8s    \n",
      "\n",
      "2019-04-29 19:25:09 (20.9 MB/s) - ‘../data/aclImdb_v1.tar.gz’ saved [84125825/84125825]\n",
      "\n"
     ]
    }
   ],
   "source": [
    "%mkdir ../data\n",
    "!wget -O ../data/aclImdb_v1.tar.gz http://ai.stanford.edu/~amaas/data/sentiment/aclImdb_v1.tar.gz\n",
    "!tar -zxf ../data/aclImdb_v1.tar.gz -C ../data"
   ]
  },
  {
   "cell_type": "markdown",
   "metadata": {},
   "source": [
    "## Step 2: Preparing and Processing the data\n",
    "\n",
    "Also, as in the XGBoost notebook, we will be doing some initial data processing. The first few steps are the same as in the XGBoost example. To begin with, we will read in each of the reviews and combine them into a single input structure. Then, we will split the dataset into a training set and a testing set."
   ]
  },
  {
   "cell_type": "code",
   "execution_count": 2,
   "metadata": {},
   "outputs": [],
   "source": [
    "import os\n",
    "import glob\n",
    "\n",
    "def read_imdb_data(data_dir='../data/aclImdb'):\n",
    "    data = {}\n",
    "    labels = {}\n",
    "    \n",
    "    for data_type in ['train', 'test']:\n",
    "        data[data_type] = {}\n",
    "        labels[data_type] = {}\n",
    "        \n",
    "        for sentiment in ['pos', 'neg']:\n",
    "            data[data_type][sentiment] = []\n",
    "            labels[data_type][sentiment] = []\n",
    "            \n",
    "            path = os.path.join(data_dir, data_type, sentiment, '*.txt')\n",
    "            files = glob.glob(path)\n",
    "            \n",
    "            for f in files:\n",
    "                with open(f) as review:\n",
    "                    data[data_type][sentiment].append(review.read())\n",
    "                    # Here we represent a positive review by '1' and a negative review by '0'\n",
    "                    labels[data_type][sentiment].append(1 if sentiment == 'pos' else 0)\n",
    "                    \n",
    "            assert len(data[data_type][sentiment]) == len(labels[data_type][sentiment]), \\\n",
    "                    \"{}/{} data size does not match labels size\".format(data_type, sentiment)\n",
    "                \n",
    "    return data, labels"
   ]
  },
  {
   "cell_type": "code",
   "execution_count": 3,
   "metadata": {},
   "outputs": [
    {
     "name": "stdout",
     "output_type": "stream",
     "text": [
      "IMDB reviews: train = 12500 pos / 12500 neg, test = 12500 pos / 12500 neg\n"
     ]
    }
   ],
   "source": [
    "data, labels = read_imdb_data()\n",
    "print(\"IMDB reviews: train = {} pos / {} neg, test = {} pos / {} neg\".format(\n",
    "            len(data['train']['pos']), len(data['train']['neg']),\n",
    "            len(data['test']['pos']), len(data['test']['neg'])))"
   ]
  },
  {
   "cell_type": "markdown",
   "metadata": {},
   "source": [
    "Now that we've read the raw training and testing data from the downloaded dataset, we will combine the positive and negative reviews and shuffle the resulting records."
   ]
  },
  {
   "cell_type": "code",
   "execution_count": 4,
   "metadata": {},
   "outputs": [],
   "source": [
    "from sklearn.utils import shuffle\n",
    "\n",
    "def prepare_imdb_data(data, labels):\n",
    "    \"\"\"Prepare training and test sets from IMDb movie reviews.\"\"\"\n",
    "    \n",
    "    #Combine positive and negative reviews and labels\n",
    "    data_train = data['train']['pos'] + data['train']['neg']\n",
    "    data_test = data['test']['pos'] + data['test']['neg']\n",
    "    labels_train = labels['train']['pos'] + labels['train']['neg']\n",
    "    labels_test = labels['test']['pos'] + labels['test']['neg']\n",
    "    \n",
    "    #Shuffle reviews and corresponding labels within training and test sets\n",
    "    data_train, labels_train = shuffle(data_train, labels_train)\n",
    "    data_test, labels_test = shuffle(data_test, labels_test)\n",
    "    \n",
    "    # Return a unified training data, test data, training labels, test labets\n",
    "    return data_train, data_test, labels_train, labels_test"
   ]
  },
  {
   "cell_type": "code",
   "execution_count": 5,
   "metadata": {},
   "outputs": [
    {
     "name": "stdout",
     "output_type": "stream",
     "text": [
      "IMDb reviews (combined): train = 25000, test = 25000\n"
     ]
    }
   ],
   "source": [
    "train_X, test_X, train_y, test_y = prepare_imdb_data(data, labels)\n",
    "print(\"IMDb reviews (combined): train = {}, test = {}\".format(len(train_X), len(test_X)))"
   ]
  },
  {
   "cell_type": "markdown",
   "metadata": {},
   "source": [
    "Now that we have our training and testing sets unified and prepared, we should do a quick check and see an example of the data our model will be trained on. This is generally a good idea as it allows you to see how each of the further processing steps affects the reviews and it also ensures that the data has been loaded correctly."
   ]
  },
  {
   "cell_type": "code",
   "execution_count": 6,
   "metadata": {},
   "outputs": [
    {
     "name": "stdout",
     "output_type": "stream",
     "text": [
      "Some guy gets whacked. Right out in plain sight this other guy shoots him. He's got some bodyguards and they whack the killer, but a reporter gets interested. She goes to the hospital where they took the guy who got whacked. She walks in, and corners one bodyguard, but he doesn't feel like talking. I can't figure out why. It's not like anyone else is interested. She's the only reporter there. Anyway, her editor discourages her from working on this lame story. But hey, she does anyway. She goes to see the killer's sister & mom. A few minutes after she leaves they get whacked big time-- somebody blows up their trailer-- huge ball of fire. Then she searches out the bodyguard from the hospital. She finds him hungover on his boat, but a minute later they're both underwater sucking on a scuba tank 'cause three guys are trying to whack them (and have blown up the boat big time-- huge ball of fire). The reporter and the bodyguard whack two of the guys who are trying to whack them. <br /><br />In the course of the next hour another guy gets whacked crossing the street, there's a shootout with several stiffs in a warehouse, some car chases with wreckage & death, a fake suicide, etc. etc. Lotsa stiffs, all kindsa carnage. <br /><br />Great stuff, but what the reporter and the bodyguard can't figure is: why in hell the original guy got whacked. What's the motivation? Of course, it might help us to figure out why the reporter's even interested. Through almost all of this she's the only reporter on the story. Nobody else in the media cares. Not even with all the big fireballs and dead bodies. True, the original guy who got whacked wasn't exactly a celebrity. His job was a little bit dull. He was just the President. Yeah, the one who lives in the White House. Oh, and the bodyguard is a Secret Service agent.<br /><br />Is that the spoiler?<br /><br />It should be. After all there are no TV cameras, no other print reporters, no bloggers... just another one of those police blotter crimes...<br /><br />So what's the spoiler?<br /><br />Lemme think...<br /><br />No! Wait! The spoiler is that his wife did it! Yeah... the First Lady. She was p---ed because the President was fooling around. And she gets away with it. She's really sharp, huh? But how the hell could anybody ever figure that out? Why would anyone bother? After all, only one reporter is even interested. <br /><br />I give this move a \"1\". It was so dumb I just had to keep watching. And it only got dumber! That's the real spoiler! But even though I've told you, you've got to see it to believe it!\n",
      "0\n"
     ]
    }
   ],
   "source": [
    "print(train_X[100])\n",
    "print(train_y[100])"
   ]
  },
  {
   "cell_type": "markdown",
   "metadata": {},
   "source": [
    "The first step in processing the reviews is to make sure that any html tags that appear should be removed. In addition we wish to tokenize our input, that way words such as *entertained* and *entertaining* are considered the same with regard to sentiment analysis."
   ]
  },
  {
   "cell_type": "code",
   "execution_count": 7,
   "metadata": {},
   "outputs": [],
   "source": [
    "import nltk\n",
    "from nltk.corpus import stopwords\n",
    "from nltk.stem.porter import *\n",
    "\n",
    "import re\n",
    "from bs4 import BeautifulSoup\n",
    "\n",
    "def review_to_words(review):\n",
    "    nltk.download(\"stopwords\", quiet=True)\n",
    "    stemmer = PorterStemmer()\n",
    "    \n",
    "    text = BeautifulSoup(review, \"html.parser\").get_text() # Remove HTML tags\n",
    "    text = re.sub(r\"[^a-zA-Z0-9]\", \" \", text.lower()) # Convert to lower case\n",
    "    words = text.split() # Split string into words\n",
    "    words = [w for w in words if w not in stopwords.words(\"english\")] # Remove stopwords\n",
    "    words = [PorterStemmer().stem(w) for w in words] # stem\n",
    "    \n",
    "    return words"
   ]
  },
  {
   "cell_type": "markdown",
   "metadata": {},
   "source": [
    "The `review_to_words` method defined above uses `BeautifulSoup` to remove any html tags that appear and uses the `nltk` package to tokenize the reviews. As a check to ensure we know how everything is working, try applying `review_to_words` to one of the reviews in the training set."
   ]
  },
  {
   "cell_type": "code",
   "execution_count": 8,
   "metadata": {},
   "outputs": [
    {
     "data": {
      "text/plain": [
       "['guy',\n",
       " 'get',\n",
       " 'whack',\n",
       " 'right',\n",
       " 'plain',\n",
       " 'sight',\n",
       " 'guy',\n",
       " 'shoot',\n",
       " 'got',\n",
       " 'bodyguard',\n",
       " 'whack',\n",
       " 'killer',\n",
       " 'report',\n",
       " 'get',\n",
       " 'interest',\n",
       " 'goe',\n",
       " 'hospit',\n",
       " 'took',\n",
       " 'guy',\n",
       " 'got',\n",
       " 'whack',\n",
       " 'walk',\n",
       " 'corner',\n",
       " 'one',\n",
       " 'bodyguard',\n",
       " 'feel',\n",
       " 'like',\n",
       " 'talk',\n",
       " 'figur',\n",
       " 'like',\n",
       " 'anyon',\n",
       " 'els',\n",
       " 'interest',\n",
       " 'report',\n",
       " 'anyway',\n",
       " 'editor',\n",
       " 'discourag',\n",
       " 'work',\n",
       " 'lame',\n",
       " 'stori',\n",
       " 'hey',\n",
       " 'anyway',\n",
       " 'goe',\n",
       " 'see',\n",
       " 'killer',\n",
       " 'sister',\n",
       " 'mom',\n",
       " 'minut',\n",
       " 'leav',\n",
       " 'get',\n",
       " 'whack',\n",
       " 'big',\n",
       " 'time',\n",
       " 'somebodi',\n",
       " 'blow',\n",
       " 'trailer',\n",
       " 'huge',\n",
       " 'ball',\n",
       " 'fire',\n",
       " 'search',\n",
       " 'bodyguard',\n",
       " 'hospit',\n",
       " 'find',\n",
       " 'hungov',\n",
       " 'boat',\n",
       " 'minut',\n",
       " 'later',\n",
       " 'underwat',\n",
       " 'suck',\n",
       " 'scuba',\n",
       " 'tank',\n",
       " 'caus',\n",
       " 'three',\n",
       " 'guy',\n",
       " 'tri',\n",
       " 'whack',\n",
       " 'blown',\n",
       " 'boat',\n",
       " 'big',\n",
       " 'time',\n",
       " 'huge',\n",
       " 'ball',\n",
       " 'fire',\n",
       " 'report',\n",
       " 'bodyguard',\n",
       " 'whack',\n",
       " 'two',\n",
       " 'guy',\n",
       " 'tri',\n",
       " 'whack',\n",
       " 'cours',\n",
       " 'next',\n",
       " 'hour',\n",
       " 'anoth',\n",
       " 'guy',\n",
       " 'get',\n",
       " 'whack',\n",
       " 'cross',\n",
       " 'street',\n",
       " 'shootout',\n",
       " 'sever',\n",
       " 'stiff',\n",
       " 'warehous',\n",
       " 'car',\n",
       " 'chase',\n",
       " 'wreckag',\n",
       " 'death',\n",
       " 'fake',\n",
       " 'suicid',\n",
       " 'etc',\n",
       " 'etc',\n",
       " 'lotsa',\n",
       " 'stiff',\n",
       " 'kindsa',\n",
       " 'carnag',\n",
       " 'great',\n",
       " 'stuff',\n",
       " 'report',\n",
       " 'bodyguard',\n",
       " 'figur',\n",
       " 'hell',\n",
       " 'origin',\n",
       " 'guy',\n",
       " 'got',\n",
       " 'whack',\n",
       " 'motiv',\n",
       " 'cours',\n",
       " 'might',\n",
       " 'help',\n",
       " 'us',\n",
       " 'figur',\n",
       " 'report',\n",
       " 'even',\n",
       " 'interest',\n",
       " 'almost',\n",
       " 'report',\n",
       " 'stori',\n",
       " 'nobodi',\n",
       " 'els',\n",
       " 'media',\n",
       " 'care',\n",
       " 'even',\n",
       " 'big',\n",
       " 'firebal',\n",
       " 'dead',\n",
       " 'bodi',\n",
       " 'true',\n",
       " 'origin',\n",
       " 'guy',\n",
       " 'got',\n",
       " 'whack',\n",
       " 'exactli',\n",
       " 'celebr',\n",
       " 'job',\n",
       " 'littl',\n",
       " 'bit',\n",
       " 'dull',\n",
       " 'presid',\n",
       " 'yeah',\n",
       " 'one',\n",
       " 'live',\n",
       " 'white',\n",
       " 'hous',\n",
       " 'oh',\n",
       " 'bodyguard',\n",
       " 'secret',\n",
       " 'servic',\n",
       " 'agent',\n",
       " 'spoiler',\n",
       " 'tv',\n",
       " 'camera',\n",
       " 'print',\n",
       " 'report',\n",
       " 'blogger',\n",
       " 'anoth',\n",
       " 'one',\n",
       " 'polic',\n",
       " 'blotter',\n",
       " 'crime',\n",
       " 'spoiler',\n",
       " 'lemm',\n",
       " 'think',\n",
       " 'wait',\n",
       " 'spoiler',\n",
       " 'wife',\n",
       " 'yeah',\n",
       " 'first',\n",
       " 'ladi',\n",
       " 'p',\n",
       " 'ed',\n",
       " 'presid',\n",
       " 'fool',\n",
       " 'around',\n",
       " 'get',\n",
       " 'away',\n",
       " 'realli',\n",
       " 'sharp',\n",
       " 'huh',\n",
       " 'hell',\n",
       " 'could',\n",
       " 'anybodi',\n",
       " 'ever',\n",
       " 'figur',\n",
       " 'would',\n",
       " 'anyon',\n",
       " 'bother',\n",
       " 'one',\n",
       " 'report',\n",
       " 'even',\n",
       " 'interest',\n",
       " 'give',\n",
       " 'move',\n",
       " '1',\n",
       " 'dumb',\n",
       " 'keep',\n",
       " 'watch',\n",
       " 'got',\n",
       " 'dumber',\n",
       " 'real',\n",
       " 'spoiler',\n",
       " 'even',\n",
       " 'though',\n",
       " 'told',\n",
       " 'got',\n",
       " 'see',\n",
       " 'believ']"
      ]
     },
     "execution_count": 8,
     "metadata": {},
     "output_type": "execute_result"
    }
   ],
   "source": [
    "# TODO: Apply review_to_words to a review (train_X[100] or any other review)\n",
    "review_to_words(train_X[100])"
   ]
  },
  {
   "cell_type": "markdown",
   "metadata": {},
   "source": [
    "**Question:** Above we mentioned that `review_to_words` method removes html formatting and allows us to tokenize the words found in a review, for example, converting *entertained* and *entertaining* into *entertain* so that they are treated as though they are the same word. What else, if anything, does this method do to the input?"
   ]
  },
  {
   "cell_type": "markdown",
   "metadata": {},
   "source": [
    "**Answer:**\n",
    "review_to_words also does the following:\n",
    "\n",
    "- converts all the words to lower case\n",
    "- removing english stop words like `i`, `me`, `myself`, etc found in nltk.corpus\n",
    "- uses PorterStemmer to remove morphological affixes from words, leaving only the word stem\n",
    "- returns all the words in an array"
   ]
  },
  {
   "cell_type": "markdown",
   "metadata": {},
   "source": [
    "The method below applies the `review_to_words` method to each of the reviews in the training and testing datasets. In addition it caches the results. This is because performing this processing step can take a long time. This way if you are unable to complete the notebook in the current session, you can come back without needing to process the data a second time."
   ]
  },
  {
   "cell_type": "code",
   "execution_count": 9,
   "metadata": {},
   "outputs": [],
   "source": [
    "import pickle\n",
    "\n",
    "cache_dir = os.path.join(\"../cache\", \"sentiment_analysis\")  # where to store cache files\n",
    "os.makedirs(cache_dir, exist_ok=True)  # ensure cache directory exists\n",
    "\n",
    "def preprocess_data(data_train, data_test, labels_train, labels_test,\n",
    "                    cache_dir=cache_dir, cache_file=\"preprocessed_data.pkl\"):\n",
    "    \"\"\"Convert each review to words; read from cache if available.\"\"\"\n",
    "\n",
    "    # If cache_file is not None, try to read from it first\n",
    "    cache_data = None\n",
    "    if cache_file is not None:\n",
    "        try:\n",
    "            with open(os.path.join(cache_dir, cache_file), \"rb\") as f:\n",
    "                cache_data = pickle.load(f)\n",
    "            print(\"Read preprocessed data from cache file:\", cache_file)\n",
    "        except:\n",
    "            pass  # unable to read from cache, but that's okay\n",
    "    \n",
    "    # If cache is missing, then do the heavy lifting\n",
    "    if cache_data is None:\n",
    "        # Preprocess training and test data to obtain words for each review\n",
    "        #words_train = list(map(review_to_words, data_train))\n",
    "        #words_test = list(map(review_to_words, data_test))\n",
    "        words_train = [review_to_words(review) for review in data_train]\n",
    "        words_test = [review_to_words(review) for review in data_test]\n",
    "        \n",
    "        # Write to cache file for future runs\n",
    "        if cache_file is not None:\n",
    "            cache_data = dict(words_train=words_train, words_test=words_test,\n",
    "                              labels_train=labels_train, labels_test=labels_test)\n",
    "            with open(os.path.join(cache_dir, cache_file), \"wb\") as f:\n",
    "                pickle.dump(cache_data, f)\n",
    "            print(\"Wrote preprocessed data to cache file:\", cache_file)\n",
    "    else:\n",
    "        # Unpack data loaded from cache file\n",
    "        words_train, words_test, labels_train, labels_test = (cache_data['words_train'],\n",
    "                cache_data['words_test'], cache_data['labels_train'], cache_data['labels_test'])\n",
    "    \n",
    "    return words_train, words_test, labels_train, labels_test"
   ]
  },
  {
   "cell_type": "code",
   "execution_count": 10,
   "metadata": {},
   "outputs": [
    {
     "name": "stdout",
     "output_type": "stream",
     "text": [
      "Read preprocessed data from cache file: preprocessed_data.pkl\n"
     ]
    }
   ],
   "source": [
    "# Preprocess data\n",
    "train_X, test_X, train_y, test_y = preprocess_data(train_X, test_X, train_y, test_y)"
   ]
  },
  {
   "cell_type": "markdown",
   "metadata": {},
   "source": [
    "## Transform the data\n",
    "\n",
    "In the XGBoost notebook we transformed the data from its word representation to a bag-of-words feature representation. For the model we are going to construct in this notebook we will construct a feature representation which is very similar. To start, we will represent each word as an integer. Of course, some of the words that appear in the reviews occur very infrequently and so likely don't contain much information for the purposes of sentiment analysis. The way we will deal with this problem is that we will fix the size of our working vocabulary and we will only include the words that appear most frequently. We will then combine all of the infrequent words into a single category and, in our case, we will label it as `1`.\n",
    "\n",
    "Since we will be using a recurrent neural network, it will be convenient if the length of each review is the same. To do this, we will fix a size for our reviews and then pad short reviews with the category 'no word' (which we will label `0`) and truncate long reviews."
   ]
  },
  {
   "cell_type": "markdown",
   "metadata": {},
   "source": [
    "### (TODO) Create a word dictionary\n",
    "\n",
    "To begin with, we need to construct a way to map words that appear in the reviews to integers. Here we fix the size of our vocabulary (including the 'no word' and 'infrequent' categories) to be `5000` but you may wish to change this to see how it affects the model.\n",
    "\n",
    "> **TODO:** Complete the implementation for the `build_dict()` method below. Note that even though the vocab_size is set to `5000`, we only want to construct a mapping for the most frequently appearing `4998` words. This is because we want to reserve the special labels `0` for 'no word' and `1` for 'infrequent word'."
   ]
  },
  {
   "cell_type": "code",
   "execution_count": 11,
   "metadata": {},
   "outputs": [],
   "source": [
    "import numpy as np\n",
    "\n",
    "def build_dict(data, vocab_size = 5000):\n",
    "    \"\"\"Construct and return a dictionary mapping each of the most frequently appearing words to a unique integer.\"\"\"\n",
    "    # TODO: Determine how often each word appears in `data`. Note that `data` is a list of sentences and that a\n",
    "    #       sentence is a list of words.\n",
    "    \n",
    "    word_count = {} # A dict storing the words that appear in the reviews along with how often they occur\n",
    "    for words in data:\n",
    "        for word in words:\n",
    "            if word in word_count:\n",
    "                word_count[word] += 1\n",
    "            else:\n",
    "                word_count[word] = 0\n",
    "    # TODO: Sort the words found in `data` so that sorted_words[0] is the most frequently appearing word and\n",
    "    #       sorted_words[-1] is the least frequently appearing word.\n",
    "    \n",
    "    sorted_words = sorted(word_count, key=word_count.__getitem__, reverse=True)\n",
    "    word_dict = {} # This is what we are building, a dictionary that translates words into integers\n",
    "    for idx, word in enumerate(sorted_words[:vocab_size - 2]): # The -2 is so that we save room for the 'no word'\n",
    "        word_dict[word] = idx + 2                              # 'infrequent' labels\n",
    "        \n",
    "    return word_dict"
   ]
  },
  {
   "cell_type": "code",
   "execution_count": 12,
   "metadata": {},
   "outputs": [],
   "source": [
    "word_dict = build_dict(train_X)"
   ]
  },
  {
   "cell_type": "markdown",
   "metadata": {},
   "source": [
    "**Question:** What are the five most frequently appearing (tokenized) words in the training set? Does it makes sense that these words appear frequently in the training set?"
   ]
  },
  {
   "cell_type": "markdown",
   "metadata": {},
   "source": [
    "**Answer:**\n",
    "\n",
    "Yes it makes sense since the content are movie reviews, and the words `movi`, `film`, `one`, `like` and `time` are related to words used to describe a movie review"
   ]
  },
  {
   "cell_type": "code",
   "execution_count": 13,
   "metadata": {},
   "outputs": [
    {
     "name": "stdout",
     "output_type": "stream",
     "text": [
      "{'movi': 2, 'film': 3, 'one': 4, 'like': 5, 'time': 6}\n"
     ]
    }
   ],
   "source": [
    "# TODO: Use this space to determine the five most frequently appearing words in the training set.\n",
    "print({ k: word_dict[k] for k in list(word_dict)[:5] })"
   ]
  },
  {
   "cell_type": "markdown",
   "metadata": {},
   "source": [
    "### Save `word_dict`\n",
    "\n",
    "Later on when we construct an endpoint which processes a submitted review we will need to make use of the `word_dict` which we have created. As such, we will save it to a file now for future use."
   ]
  },
  {
   "cell_type": "code",
   "execution_count": 14,
   "metadata": {},
   "outputs": [],
   "source": [
    "data_dir = '../data/pytorch' # The folder we will use for storing data\n",
    "if not os.path.exists(data_dir): # Make sure that the folder exists\n",
    "    os.makedirs(data_dir)"
   ]
  },
  {
   "cell_type": "code",
   "execution_count": 15,
   "metadata": {},
   "outputs": [],
   "source": [
    "with open(os.path.join(data_dir, 'word_dict.pkl'), \"wb\") as f:\n",
    "    pickle.dump(word_dict, f)"
   ]
  },
  {
   "cell_type": "markdown",
   "metadata": {},
   "source": [
    "### Transform the reviews\n",
    "\n",
    "Now that we have our word dictionary which allows us to transform the words appearing in the reviews into integers, it is time to make use of it and convert our reviews to their integer sequence representation, making sure to pad or truncate to a fixed length, which in our case is `500`."
   ]
  },
  {
   "cell_type": "code",
   "execution_count": 16,
   "metadata": {},
   "outputs": [],
   "source": [
    "def convert_and_pad(word_dict, sentence, pad=500):\n",
    "    NOWORD = 0 # We will use 0 to represent the 'no word' category\n",
    "    INFREQ = 1 # and we use 1 to represent the infrequent words, i.e., words not appearing in word_dict\n",
    "    \n",
    "    working_sentence = [NOWORD] * pad\n",
    "    \n",
    "    for word_index, word in enumerate(sentence[:pad]):\n",
    "        if word in word_dict:\n",
    "            working_sentence[word_index] = word_dict[word]\n",
    "        else:\n",
    "            working_sentence[word_index] = INFREQ\n",
    "            \n",
    "    return working_sentence, min(len(sentence), pad)\n",
    "\n",
    "def convert_and_pad_data(word_dict, data, pad=500):\n",
    "    result = []\n",
    "    lengths = []\n",
    "    \n",
    "    for sentence in data:\n",
    "        converted, leng = convert_and_pad(word_dict, sentence, pad)\n",
    "        result.append(converted)\n",
    "        lengths.append(leng)\n",
    "        \n",
    "    return np.array(result), np.array(lengths)"
   ]
  },
  {
   "cell_type": "code",
   "execution_count": 17,
   "metadata": {},
   "outputs": [],
   "source": [
    "train_X, train_X_len = convert_and_pad_data(word_dict, train_X)\n",
    "test_X, test_X_len = convert_and_pad_data(word_dict, test_X)"
   ]
  },
  {
   "cell_type": "markdown",
   "metadata": {},
   "source": [
    "As a quick check to make sure that things are working as intended, check to see what one of the reviews in the training set looks like after having been processeed. Does this look reasonable? What is the length of a review in the training set?"
   ]
  },
  {
   "cell_type": "code",
   "execution_count": 18,
   "metadata": {},
   "outputs": [
    {
     "data": {
      "text/plain": [
       "array([1063, 1148,   44,   72, 1974, 1000, 1444,    1, 1148,   44,   72,\n",
       "       1974,  173,  946, 1094, 3871,  373,    4,  409,    1,  105,  128,\n",
       "          1,  306,  351,  939,    9, 1148,   44,   72, 1974,  516,  678,\n",
       "         73,  626, 4403,  125,   65, 1333, 2744,   22, 2368,  336, 1444,\n",
       "         59, 1974, 2632,   44,   72,   21,  336,  100, 3085, 3871, 1865,\n",
       "        599,    1,    1, 1125, 2502,   20,    1,   65,  879,    3, 3816,\n",
       "          9,   10,  244, 1444,   31,   52,   35,    8,    3,   40, 1444,\n",
       "        863, 1643, 4725,  920,  381, 2075, 1444,  773,  376,  527, 1891,\n",
       "       1444,  876, 3906,   40, 4860,   95,    1,  271,  104,  461,  987,\n",
       "        241,  746,   16,   72,    4, 1685,  158, 1402, 2534,  105,   14,\n",
       "        159, 1047,   35,   41,  927, 3507, 1444,  863, 1643, 3028,   61,\n",
       "         51,  321,    8,  127, 2315,   10, 1256,  162, 3166,  180,    3,\n",
       "          8,  277,    1, 3237, 1444,  132,    1, 4633,  369,  541,  631,\n",
       "          1, 1723,  823,   42,   44,  536,   59, 1087, 2580,    1,    1,\n",
       "        162,  480,   55,    1,    1,    1,    1,    1,  277,   10, 1444,\n",
       "          1,    1, 1747,    6,    6,  219, 1444,   62,  264,  264, 4964,\n",
       "        137, 1444,  345,  588, 1338,    1,   33, 2811,    1,   21,    1,\n",
       "       1500, 1386,  921,  349,  218,  263,   29,  159,  419,  718,  140,\n",
       "        321, 1501,   91,    1, 3991, 1444,   59, 1974, 1148,   44,   72,\n",
       "       1974,   97, 4861,    1,   55,  295,    1, 1692,   78, 1543,  260,\n",
       "         75, 1062,  168,   20, 1693, 4095,    1,    1,  820,  196,  351,\n",
       "        125,  863,  343, 3871,  516,  857,  115,   22,   69,  780,  259,\n",
       "        660, 1148,   44,   72, 1974, 1858,  161,   17, 1519,    3, 1017,\n",
       "       3086,  236,  507,   14,  259, 1392,    1,   11,    3,  696,  244,\n",
       "          5, 1444,  246, 2951,    1,  321,  105,  528,   71,   75, 1606,\n",
       "        127, 4633, 4172,  878,   53, 1933, 1272, 3166,    1,  132,  601,\n",
       "       2295,  737,    1,    1, 1282,    1,  179,  188,  151,  313,    2,\n",
       "        300,  734,  173, 2148,    1,  556,  351, 2068, 2462,  409, 2286,\n",
       "        156, 1214,   23,  166,   53,  321,  105,   40,   31,    1,  698,\n",
       "        183, 2662,  463,  148,   66,    5, 1148,   44,   72, 1974, 1148,\n",
       "         91, 1148,  212,    0,    0,    0,    0,    0,    0,    0,    0,\n",
       "          0,    0,    0,    0,    0,    0,    0,    0,    0,    0,    0,\n",
       "          0,    0,    0,    0,    0,    0,    0,    0,    0,    0,    0,\n",
       "          0,    0,    0,    0,    0,    0,    0,    0,    0,    0,    0,\n",
       "          0,    0,    0,    0,    0,    0,    0,    0,    0,    0,    0,\n",
       "          0,    0,    0,    0,    0,    0,    0,    0,    0,    0,    0,\n",
       "          0,    0,    0,    0,    0,    0,    0,    0,    0,    0,    0,\n",
       "          0,    0,    0,    0,    0,    0,    0,    0,    0,    0,    0,\n",
       "          0,    0,    0,    0,    0,    0,    0,    0,    0,    0,    0,\n",
       "          0,    0,    0,    0,    0,    0,    0,    0,    0,    0,    0,\n",
       "          0,    0,    0,    0,    0,    0,    0,    0,    0,    0,    0,\n",
       "          0,    0,    0,    0,    0,    0,    0,    0,    0,    0,    0,\n",
       "          0,    0,    0,    0,    0,    0,    0,    0,    0,    0,    0,\n",
       "          0,    0,    0,    0,    0,    0,    0,    0,    0,    0,    0,\n",
       "          0,    0,    0,    0,    0,    0,    0,    0,    0,    0,    0,\n",
       "          0,    0,    0,    0,    0])"
      ]
     },
     "execution_count": 18,
     "metadata": {},
     "output_type": "execute_result"
    }
   ],
   "source": [
    "# Use this cell to examine one of the processed reviews to make sure everything is working as intended.\n",
    "train_X[0]"
   ]
  },
  {
   "cell_type": "markdown",
   "metadata": {},
   "source": [
    "**Question:** In the cells above we use the `preprocess_data` and `convert_and_pad_data` methods to process both the training and testing set. Why or why not might this be a problem?"
   ]
  },
  {
   "cell_type": "markdown",
   "metadata": {},
   "source": [
    "**Answer:**\n",
    "\n",
    "This could potentially impact the accuracy of the model since the word_dict was constructed based on the most common words that can occurred in the data in the training set. But the testing set might contain a different set of most common words."
   ]
  },
  {
   "cell_type": "markdown",
   "metadata": {},
   "source": [
    "## Step 3: Upload the data to S3\n",
    "\n",
    "As in the XGBoost notebook, we will need to upload the training dataset to S3 in order for our training code to access it. For now we will save it locally and we will upload to S3 later on.\n",
    "\n",
    "### Save the processed training dataset locally\n",
    "\n",
    "It is important to note the format of the data that we are saving as we will need to know it when we write the training code. In our case, each row of the dataset has the form `label`, `length`, `review[500]` where `review[500]` is a sequence of `500` integers representing the words in the review."
   ]
  },
  {
   "cell_type": "code",
   "execution_count": 19,
   "metadata": {},
   "outputs": [],
   "source": [
    "import pandas as pd\n",
    "    \n",
    "pd.concat([pd.DataFrame(train_y), pd.DataFrame(train_X_len), pd.DataFrame(train_X)], axis=1) \\\n",
    "        .to_csv(os.path.join(data_dir, 'train.csv'), header=False, index=False)"
   ]
  },
  {
   "cell_type": "markdown",
   "metadata": {},
   "source": [
    "### Uploading the training data\n",
    "\n",
    "\n",
    "Next, we need to upload the training data to the SageMaker default S3 bucket so that we can provide access to it while training our model."
   ]
  },
  {
   "cell_type": "code",
   "execution_count": 20,
   "metadata": {},
   "outputs": [
    {
     "name": "stderr",
     "output_type": "stream",
     "text": [
      "INFO:sagemaker:Created S3 bucket: sagemaker-us-east-1-291097545587\n"
     ]
    }
   ],
   "source": [
    "import sagemaker\n",
    "\n",
    "sagemaker_session = sagemaker.Session()\n",
    "\n",
    "bucket = sagemaker_session.default_bucket()\n",
    "prefix = 'sagemaker/sentiment_rnn'\n",
    "\n",
    "role = sagemaker.get_execution_role()"
   ]
  },
  {
   "cell_type": "code",
   "execution_count": 21,
   "metadata": {},
   "outputs": [],
   "source": [
    "input_data = sagemaker_session.upload_data(path=data_dir, bucket=bucket, key_prefix=prefix)"
   ]
  },
  {
   "cell_type": "markdown",
   "metadata": {},
   "source": [
    "**NOTE:** The cell above uploads the entire contents of our data directory. This includes the `word_dict.pkl` file. This is fortunate as we will need this later on when we create an endpoint that accepts an arbitrary review. For now, we will just take note of the fact that it resides in the data directory (and so also in the S3 training bucket) and that we will need to make sure it gets saved in the model directory."
   ]
  },
  {
   "cell_type": "markdown",
   "metadata": {},
   "source": [
    "## Step 4: Build and Train the PyTorch Model\n",
    "\n",
    "In the XGBoost notebook we discussed what a model is in the SageMaker framework. In particular, a model comprises three objects\n",
    "\n",
    " - Model Artifacts,\n",
    " - Training Code, and\n",
    " - Inference Code,\n",
    " \n",
    "each of which interact with one another. In the XGBoost example we used training and inference code that was provided by Amazon. Here we will still be using containers provided by Amazon with the added benefit of being able to include our own custom code.\n",
    "\n",
    "We will start by implementing our own neural network in PyTorch along with a training script. For the purposes of this project we have provided the necessary model object in the `model.py` file, inside of the `train` folder. You can see the provided implementation by running the cell below."
   ]
  },
  {
   "cell_type": "code",
   "execution_count": 22,
   "metadata": {},
   "outputs": [
    {
     "name": "stdout",
     "output_type": "stream",
     "text": [
      "\u001b[34mimport\u001b[39;49;00m \u001b[04m\u001b[36mtorch.nn\u001b[39;49;00m \u001b[34mas\u001b[39;49;00m \u001b[04m\u001b[36mnn\u001b[39;49;00m\r\n",
      "\r\n",
      "\u001b[34mclass\u001b[39;49;00m \u001b[04m\u001b[32mLSTMClassifier\u001b[39;49;00m(nn.Module):\r\n",
      "    \u001b[33m\"\"\"\u001b[39;49;00m\r\n",
      "\u001b[33m    This is the simple RNN model we will be using to perform Sentiment Analysis.\u001b[39;49;00m\r\n",
      "\u001b[33m    \"\"\"\u001b[39;49;00m\r\n",
      "\r\n",
      "    \u001b[34mdef\u001b[39;49;00m \u001b[32m__init__\u001b[39;49;00m(\u001b[36mself\u001b[39;49;00m, embedding_dim, hidden_dim, vocab_size):\r\n",
      "        \u001b[33m\"\"\"\u001b[39;49;00m\r\n",
      "\u001b[33m        Initialize the model by settingg up the various layers.\u001b[39;49;00m\r\n",
      "\u001b[33m        \"\"\"\u001b[39;49;00m\r\n",
      "        \u001b[36msuper\u001b[39;49;00m(LSTMClassifier, \u001b[36mself\u001b[39;49;00m).\u001b[32m__init__\u001b[39;49;00m()\r\n",
      "\r\n",
      "        \u001b[36mself\u001b[39;49;00m.embedding = nn.Embedding(vocab_size, embedding_dim, padding_idx=\u001b[34m0\u001b[39;49;00m)\r\n",
      "        \u001b[36mself\u001b[39;49;00m.lstm = nn.LSTM(embedding_dim, hidden_dim)\r\n",
      "        \u001b[36mself\u001b[39;49;00m.dense = nn.Linear(in_features=hidden_dim, out_features=\u001b[34m1\u001b[39;49;00m)\r\n",
      "        \u001b[36mself\u001b[39;49;00m.sig = nn.Sigmoid()\r\n",
      "        \r\n",
      "        \u001b[36mself\u001b[39;49;00m.word_dict = \u001b[36mNone\u001b[39;49;00m\r\n",
      "\r\n",
      "    \u001b[34mdef\u001b[39;49;00m \u001b[32mforward\u001b[39;49;00m(\u001b[36mself\u001b[39;49;00m, x):\r\n",
      "        \u001b[33m\"\"\"\u001b[39;49;00m\r\n",
      "\u001b[33m        Perform a forward pass of our model on some input.\u001b[39;49;00m\r\n",
      "\u001b[33m        \"\"\"\u001b[39;49;00m\r\n",
      "        x = x.t()\r\n",
      "        lengths = x[\u001b[34m0\u001b[39;49;00m,:]\r\n",
      "        reviews = x[\u001b[34m1\u001b[39;49;00m:,:]\r\n",
      "        embeds = \u001b[36mself\u001b[39;49;00m.embedding(reviews)\r\n",
      "        lstm_out, _ = \u001b[36mself\u001b[39;49;00m.lstm(embeds)\r\n",
      "        out = \u001b[36mself\u001b[39;49;00m.dense(lstm_out)\r\n",
      "        out = out[lengths - \u001b[34m1\u001b[39;49;00m, \u001b[36mrange\u001b[39;49;00m(\u001b[36mlen\u001b[39;49;00m(lengths))]\r\n",
      "        \u001b[34mreturn\u001b[39;49;00m \u001b[36mself\u001b[39;49;00m.sig(out.squeeze())\r\n"
     ]
    }
   ],
   "source": [
    "!pygmentize train/model.py"
   ]
  },
  {
   "cell_type": "markdown",
   "metadata": {},
   "source": [
    "The important takeaway from the implementation provided is that there are three parameters that we may wish to tweak to improve the performance of our model. These are the embedding dimension, the hidden dimension and the size of the vocabulary. We will likely want to make these parameters configurable in the training script so that if we wish to modify them we do not need to modify the script itself. We will see how to do this later on. To start we will write some of the training code in the notebook so that we can more easily diagnose any issues that arise.\n",
    "\n",
    "First we will load a small portion of the training data set to use as a sample. It would be very time consuming to try and train the model completely in the notebook as we do not have access to a gpu and the compute instance that we are using is not particularly powerful. However, we can work on a small bit of the data to get a feel for how our training script is behaving."
   ]
  },
  {
   "cell_type": "code",
   "execution_count": 23,
   "metadata": {},
   "outputs": [],
   "source": [
    "import torch\n",
    "import torch.utils.data\n",
    "\n",
    "# Read in only the first 250 rows\n",
    "train_sample = pd.read_csv(os.path.join(data_dir, 'train.csv'), header=None, names=None, nrows=250)\n",
    "\n",
    "# Turn the input pandas dataframe into tensors\n",
    "train_sample_y = torch.from_numpy(train_sample[[0]].values).float().squeeze()\n",
    "train_sample_X = torch.from_numpy(train_sample.drop([0], axis=1).values).long()\n",
    "\n",
    "# Build the dataset\n",
    "train_sample_ds = torch.utils.data.TensorDataset(train_sample_X, train_sample_y)\n",
    "# Build the dataloader\n",
    "train_sample_dl = torch.utils.data.DataLoader(train_sample_ds, batch_size=50)"
   ]
  },
  {
   "cell_type": "markdown",
   "metadata": {},
   "source": [
    "### (TODO) Writing the training method\n",
    "\n",
    "Next we need to write the training code itself. This should be very similar to training methods that you have written before to train PyTorch models. We will leave any difficult aspects such as model saving / loading and parameter loading until a little later."
   ]
  },
  {
   "cell_type": "code",
   "execution_count": 24,
   "metadata": {},
   "outputs": [],
   "source": [
    "import torch.nn as nn\n",
    "\n",
    "def train(model, train_loader, epochs, optimizer, loss_fn, device):\n",
    "    counter = 0\n",
    "    print_every = 100\n",
    "    clip=5 # gradient clipping\n",
    "    \n",
    "    for epoch in range(1, epochs + 1):\n",
    "        model.train()\n",
    "        total_loss = 0\n",
    "        for batch in train_loader:         \n",
    "            batch_X, batch_y = batch\n",
    "            \n",
    "            batch_X = batch_X.to(device)\n",
    "            batch_y = batch_y.to(device)\n",
    "            \n",
    "            # TODO: Complete this train method to train the model provided.\n",
    "            model.zero_grad()\n",
    "            \n",
    "            output = model(batch_X)\n",
    "            loss = loss_fn(output.squeeze(), batch_y.float())\n",
    "            loss.backward()\n",
    "            \n",
    "            nn.utils.clip_grad_norm_(model.parameters(), clip)\n",
    "            optimizer.step()\n",
    "            \n",
    "            print(\"Epoch: {}/{}...\".format(epoch, epochs),\n",
    "                  \"Step: {}...\".format(counter),\n",
    "                  \"Loss: {:.6f}...\".format(loss.data.item()))\n",
    "            \n",
    "            total_loss += loss.data.item()\n",
    "        print(\"Epoch: {}, BCELoss: {}\".format(epoch, total_loss / len(train_loader)))"
   ]
  },
  {
   "cell_type": "markdown",
   "metadata": {},
   "source": [
    "Supposing we have the training method above, we will test that it is working by writing a bit of code in the notebook that executes our training method on the small sample training set that we loaded earlier. The reason for doing this in the notebook is so that we have an opportunity to fix any errors that arise early when they are easier to diagnose."
   ]
  },
  {
   "cell_type": "code",
   "execution_count": 25,
   "metadata": {},
   "outputs": [
    {
     "name": "stdout",
     "output_type": "stream",
     "text": [
      "Epoch: 1/5... Step: 0... Loss: 0.687835...\n",
      "Epoch: 1/5... Step: 0... Loss: 0.689362...\n",
      "Epoch: 1/5... Step: 0... Loss: 0.695262...\n",
      "Epoch: 1/5... Step: 0... Loss: 0.688549...\n",
      "Epoch: 1/5... Step: 0... Loss: 0.692689...\n",
      "Epoch: 1, BCELoss: 0.6907395482063293\n",
      "Epoch: 2/5... Step: 0... Loss: 0.676161...\n",
      "Epoch: 2/5... Step: 0... Loss: 0.680609...\n",
      "Epoch: 2/5... Step: 0... Loss: 0.688300...\n",
      "Epoch: 2/5... Step: 0... Loss: 0.683721...\n",
      "Epoch: 2/5... Step: 0... Loss: 0.686652...\n",
      "Epoch: 2, BCELoss: 0.6830886840820313\n",
      "Epoch: 3/5... Step: 0... Loss: 0.668770...\n",
      "Epoch: 3/5... Step: 0... Loss: 0.673421...\n",
      "Epoch: 3/5... Step: 0... Loss: 0.681521...\n",
      "Epoch: 3/5... Step: 0... Loss: 0.678329...\n",
      "Epoch: 3/5... Step: 0... Loss: 0.679802...\n",
      "Epoch: 3, BCELoss: 0.6763685345649719\n",
      "Epoch: 4/5... Step: 0... Loss: 0.660932...\n",
      "Epoch: 4/5... Step: 0... Loss: 0.665505...\n",
      "Epoch: 4/5... Step: 0... Loss: 0.673837...\n",
      "Epoch: 4/5... Step: 0... Loss: 0.671555...\n",
      "Epoch: 4/5... Step: 0... Loss: 0.671640...\n",
      "Epoch: 4, BCELoss: 0.6686937808990479\n",
      "Epoch: 5/5... Step: 0... Loss: 0.651512...\n",
      "Epoch: 5/5... Step: 0... Loss: 0.655856...\n",
      "Epoch: 5/5... Step: 0... Loss: 0.664313...\n",
      "Epoch: 5/5... Step: 0... Loss: 0.662470...\n",
      "Epoch: 5/5... Step: 0... Loss: 0.661165...\n",
      "Epoch: 5, BCELoss: 0.659062922000885\n"
     ]
    }
   ],
   "source": [
    "import torch.optim as optim\n",
    "from train.model import LSTMClassifier\n",
    "\n",
    "device = torch.device(\"cuda\" if torch.cuda.is_available() else \"cpu\")\n",
    "model = LSTMClassifier(32, 100, 5000).to(device)\n",
    "optimizer = optim.Adam(model.parameters())\n",
    "loss_fn = torch.nn.BCELoss()\n",
    "\n",
    "train(model, train_sample_dl, 5, optimizer, loss_fn, device)"
   ]
  },
  {
   "cell_type": "markdown",
   "metadata": {},
   "source": [
    "In order to construct a PyTorch model using SageMaker we must provide SageMaker with a training script. We may optionally include a directory which will be copied to the container and from which our training code will be run. When the training container is executed it will check the uploaded directory (if there is one) for a `requirements.txt` file and install any required Python libraries, after which the training script will be run."
   ]
  },
  {
   "cell_type": "markdown",
   "metadata": {},
   "source": [
    "### (TODO) Training the model\n",
    "\n",
    "When a PyTorch model is constructed in SageMaker, an entry point must be specified. This is the Python file which will be executed when the model is trained. Inside of the `train` directory is a file called `train.py` which has been provided and which contains most of the necessary code to train our model. The only thing that is missing is the implementation of the `train()` method which you wrote earlier in this notebook.\n",
    "\n",
    "**TODO**: Copy the `train()` method written above and paste it into the `train/train.py` file where required.\n",
    "\n",
    "The way that SageMaker passes hyperparameters to the training script is by way of arguments. These arguments can then be parsed and used in the training script. To see how this is done take a look at the provided `train/train.py` file."
   ]
  },
  {
   "cell_type": "code",
   "execution_count": 26,
   "metadata": {},
   "outputs": [],
   "source": [
    "from sagemaker.pytorch import PyTorch\n",
    "\n",
    "estimator = PyTorch(entry_point=\"train.py\",\n",
    "                    source_dir=\"train\",\n",
    "                    role=role,\n",
    "                    framework_version='0.4.0',\n",
    "                    train_instance_count=1,\n",
    "                    train_instance_type='ml.p2.xlarge',\n",
    "                    hyperparameters={\n",
    "                        'epochs': 10,\n",
    "                        'hidden_dim': 200,\n",
    "                    })"
   ]
  },
  {
   "cell_type": "code",
   "execution_count": 27,
   "metadata": {},
   "outputs": [
    {
     "name": "stderr",
     "output_type": "stream",
     "text": [
      "INFO:sagemaker:Created S3 bucket: sagemaker-us-east-1-291097545587\n",
      "INFO:sagemaker:Creating training-job with name: sagemaker-pytorch-2019-04-29-19-25-58-023\n"
     ]
    },
    {
     "name": "stdout",
     "output_type": "stream",
     "text": [
      "2019-04-29 19:25:58 Starting - Starting the training job...\n",
      "2019-04-29 19:25:59 Starting - Launching requested ML instances......\n",
      "2019-04-29 19:27:08 Starting - Preparing the instances for training............\n",
      "2019-04-29 19:29:26 Downloading - Downloading input data\n",
      "2019-04-29 19:29:26 Training - Downloading the training image...\n",
      "2019-04-29 19:29:52 Training - Training image download completed. Training in progress..\n",
      "\u001b[31mbash: cannot set terminal process group (-1): Inappropriate ioctl for device\u001b[0m\n",
      "\u001b[31mbash: no job control in this shell\u001b[0m\n",
      "\u001b[31m2019-04-29 19:29:53,737 sagemaker-containers INFO     Imported framework sagemaker_pytorch_container.training\u001b[0m\n",
      "\u001b[31m2019-04-29 19:29:53,764 sagemaker_pytorch_container.training INFO     Block until all host DNS lookups succeed.\u001b[0m\n",
      "\u001b[31m2019-04-29 19:29:53,772 sagemaker_pytorch_container.training INFO     Invoking user training script.\u001b[0m\n",
      "\u001b[31m2019-04-29 19:29:54,056 sagemaker-containers INFO     Module train does not provide a setup.py. \u001b[0m\n",
      "\u001b[31mGenerating setup.py\u001b[0m\n",
      "\u001b[31m2019-04-29 19:29:54,056 sagemaker-containers INFO     Generating setup.cfg\u001b[0m\n",
      "\u001b[31m2019-04-29 19:29:54,057 sagemaker-containers INFO     Generating MANIFEST.in\u001b[0m\n",
      "\u001b[31m2019-04-29 19:29:54,057 sagemaker-containers INFO     Installing module with the following command:\u001b[0m\n",
      "\u001b[31m/usr/bin/python -m pip install -U . -r requirements.txt\u001b[0m\n",
      "\u001b[31mProcessing /opt/ml/code\u001b[0m\n",
      "\u001b[31mCollecting pandas (from -r requirements.txt (line 1))\n",
      "  Downloading https://files.pythonhosted.org/packages/74/24/0cdbf8907e1e3bc5a8da03345c23cbed7044330bb8f73bb12e711a640a00/pandas-0.24.2-cp35-cp35m-manylinux1_x86_64.whl (10.0MB)\u001b[0m\n",
      "\u001b[31mCollecting numpy (from -r requirements.txt (line 2))\u001b[0m\n",
      "\u001b[31m  Downloading https://files.pythonhosted.org/packages/f6/f3/cc6c6745347c1e997cc3e58390584a250b8e22b6dfc45414a7d69a3df016/numpy-1.16.3-cp35-cp35m-manylinux1_x86_64.whl (17.2MB)\u001b[0m\n",
      "\u001b[31mCollecting nltk (from -r requirements.txt (line 3))\n",
      "  Downloading https://files.pythonhosted.org/packages/73/56/90178929712ce427ebad179f8dc46c8deef4e89d4c853092bee1efd57d05/nltk-3.4.1.zip (3.1MB)\u001b[0m\n",
      "\u001b[31mCollecting beautifulsoup4 (from -r requirements.txt (line 4))\n",
      "  Downloading https://files.pythonhosted.org/packages/1d/5d/3260694a59df0ec52f8b4883f5d23b130bc237602a1411fa670eae12351e/beautifulsoup4-4.7.1-py3-none-any.whl (94kB)\u001b[0m\n",
      "\u001b[31mCollecting html5lib (from -r requirements.txt (line 5))\n",
      "  Downloading https://files.pythonhosted.org/packages/a5/62/bbd2be0e7943ec8504b517e62bab011b4946e1258842bc159e5dfde15b96/html5lib-1.0.1-py2.py3-none-any.whl (117kB)\u001b[0m\n",
      "\u001b[31mRequirement already satisfied, skipping upgrade: python-dateutil>=2.5.0 in /usr/local/lib/python3.5/dist-packages (from pandas->-r requirements.txt (line 1)) (2.7.5)\u001b[0m\n",
      "\u001b[31mCollecting pytz>=2011k (from pandas->-r requirements.txt (line 1))\n",
      "  Downloading https://files.pythonhosted.org/packages/3d/73/fe30c2daaaa0713420d0382b16fbb761409f532c56bdcc514bf7b6262bb6/pytz-2019.1-py2.py3-none-any.whl (510kB)\u001b[0m\n",
      "\u001b[31mRequirement already satisfied, skipping upgrade: six in /usr/local/lib/python3.5/dist-packages (from nltk->-r requirements.txt (line 3)) (1.11.0)\u001b[0m\n",
      "\u001b[31mCollecting soupsieve>=1.2 (from beautifulsoup4->-r requirements.txt (line 4))\n",
      "  Downloading https://files.pythonhosted.org/packages/b9/a5/7ea40d0f8676bde6e464a6435a48bc5db09b1a8f4f06d41dd997b8f3c616/soupsieve-1.9.1-py2.py3-none-any.whl\u001b[0m\n",
      "\u001b[31mCollecting webencodings (from html5lib->-r requirements.txt (line 5))\n",
      "  Downloading https://files.pythonhosted.org/packages/f4/24/2a3e3df732393fed8b3ebf2ec078f05546de641fe1b667ee316ec1dcf3b7/webencodings-0.5.1-py2.py3-none-any.whl\u001b[0m\n",
      "\u001b[31mBuilding wheels for collected packages: nltk, train\n",
      "  Running setup.py bdist_wheel for nltk: started\n",
      "  Running setup.py bdist_wheel for nltk: finished with status 'done'\n",
      "  Stored in directory: /root/.cache/pip/wheels/97/8a/10/d646015f33c525688e91986c4544c68019b19a473cb33d3b55\n",
      "  Running setup.py bdist_wheel for train: started\u001b[0m\n",
      "\u001b[31m  Running setup.py bdist_wheel for train: finished with status 'done'\n",
      "  Stored in directory: /tmp/pip-ephem-wheel-cache-as9hx0d9/wheels/35/24/16/37574d11bf9bde50616c67372a334f94fa8356bc7164af8ca3\u001b[0m\n",
      "\u001b[31mSuccessfully built nltk train\u001b[0m\n",
      "\u001b[31mInstalling collected packages: numpy, pytz, pandas, nltk, soupsieve, beautifulsoup4, webencodings, html5lib, train\n",
      "  Found existing installation: numpy 1.15.4\n",
      "    Uninstalling numpy-1.15.4:\u001b[0m\n",
      "\u001b[31m      Successfully uninstalled numpy-1.15.4\u001b[0m\n",
      "\u001b[31mSuccessfully installed beautifulsoup4-4.7.1 html5lib-1.0.1 nltk-3.4.1 numpy-1.16.3 pandas-0.24.2 pytz-2019.1 soupsieve-1.9.1 train-1.0.0 webencodings-0.5.1\u001b[0m\n",
      "\u001b[31mYou are using pip version 18.1, however version 19.1 is available.\u001b[0m\n",
      "\u001b[31mYou should consider upgrading via the 'pip install --upgrade pip' command.\u001b[0m\n",
      "\u001b[31m2019-04-29 19:30:05,879 sagemaker-containers INFO     Invoking user script\n",
      "\u001b[0m\n",
      "\u001b[31mTraining Env:\n",
      "\u001b[0m\n",
      "\u001b[31m{\n",
      "    \"module_name\": \"train\",\n",
      "    \"num_gpus\": 1,\n",
      "    \"input_dir\": \"/opt/ml/input\",\n",
      "    \"output_intermediate_dir\": \"/opt/ml/output/intermediate\",\n",
      "    \"network_interface_name\": \"ethwe\",\n",
      "    \"framework_module\": \"sagemaker_pytorch_container.training:main\",\n",
      "    \"job_name\": \"sagemaker-pytorch-2019-04-29-19-25-58-023\",\n",
      "    \"model_dir\": \"/opt/ml/model\",\n",
      "    \"module_dir\": \"s3://sagemaker-us-east-1-291097545587/sagemaker-pytorch-2019-04-29-19-25-58-023/source/sourcedir.tar.gz\",\n",
      "    \"log_level\": 20,\n",
      "    \"input_config_dir\": \"/opt/ml/input/config\",\n",
      "    \"channel_input_dirs\": {\n",
      "        \"training\": \"/opt/ml/input/data/training\"\n",
      "    },\n",
      "    \"output_dir\": \"/opt/ml/output\",\n",
      "    \"input_data_config\": {\n",
      "        \"training\": {\n",
      "            \"TrainingInputMode\": \"File\",\n",
      "            \"S3DistributionType\": \"FullyReplicated\",\n",
      "            \"RecordWrapperType\": \"None\"\n",
      "        }\n",
      "    },\n",
      "    \"output_data_dir\": \"/opt/ml/output/data\",\n",
      "    \"resource_config\": {\n",
      "        \"hosts\": [\n",
      "            \"algo-1\"\n",
      "        ],\n",
      "        \"network_interface_name\": \"ethwe\",\n",
      "        \"current_host\": \"algo-1\"\n",
      "    },\n",
      "    \"hosts\": [\n",
      "        \"algo-1\"\n",
      "    ],\n",
      "    \"additional_framework_parameters\": {},\n",
      "    \"hyperparameters\": {\n",
      "        \"epochs\": 10,\n",
      "        \"hidden_dim\": 200\n",
      "    },\n",
      "    \"num_cpus\": 4,\n",
      "    \"current_host\": \"algo-1\",\n",
      "    \"user_entry_point\": \"train.py\"\u001b[0m\n",
      "\u001b[31m}\n",
      "\u001b[0m\n",
      "\u001b[31mEnvironment variables:\n",
      "\u001b[0m\n",
      "\u001b[31mSM_INPUT_DIR=/opt/ml/input\u001b[0m\n",
      "\u001b[31mSM_NUM_GPUS=1\u001b[0m\n",
      "\u001b[31mSM_INPUT_DATA_CONFIG={\"training\":{\"RecordWrapperType\":\"None\",\"S3DistributionType\":\"FullyReplicated\",\"TrainingInputMode\":\"File\"}}\u001b[0m\n",
      "\u001b[31mSM_CHANNEL_TRAINING=/opt/ml/input/data/training\u001b[0m\n",
      "\u001b[31mSM_USER_ARGS=[\"--epochs\",\"10\",\"--hidden_dim\",\"200\"]\u001b[0m\n",
      "\u001b[31mSM_MODULE_DIR=s3://sagemaker-us-east-1-291097545587/sagemaker-pytorch-2019-04-29-19-25-58-023/source/sourcedir.tar.gz\u001b[0m\n",
      "\u001b[31mSM_FRAMEWORK_PARAMS={}\u001b[0m\n",
      "\u001b[31mSM_OUTPUT_DATA_DIR=/opt/ml/output/data\u001b[0m\n",
      "\u001b[31mSM_INPUT_CONFIG_DIR=/opt/ml/input/config\u001b[0m\n",
      "\u001b[31mSM_OUTPUT_INTERMEDIATE_DIR=/opt/ml/output/intermediate\u001b[0m\n",
      "\u001b[31mPYTHONPATH=/usr/local/bin:/usr/lib/python35.zip:/usr/lib/python3.5:/usr/lib/python3.5/plat-x86_64-linux-gnu:/usr/lib/python3.5/lib-dynload:/usr/local/lib/python3.5/dist-packages:/usr/lib/python3/dist-packages\u001b[0m\n",
      "\u001b[31mSM_LOG_LEVEL=20\u001b[0m\n",
      "\u001b[31mSM_TRAINING_ENV={\"additional_framework_parameters\":{},\"channel_input_dirs\":{\"training\":\"/opt/ml/input/data/training\"},\"current_host\":\"algo-1\",\"framework_module\":\"sagemaker_pytorch_container.training:main\",\"hosts\":[\"algo-1\"],\"hyperparameters\":{\"epochs\":10,\"hidden_dim\":200},\"input_config_dir\":\"/opt/ml/input/config\",\"input_data_config\":{\"training\":{\"RecordWrapperType\":\"None\",\"S3DistributionType\":\"FullyReplicated\",\"TrainingInputMode\":\"File\"}},\"input_dir\":\"/opt/ml/input\",\"job_name\":\"sagemaker-pytorch-2019-04-29-19-25-58-023\",\"log_level\":20,\"model_dir\":\"/opt/ml/model\",\"module_dir\":\"s3://sagemaker-us-east-1-291097545587/sagemaker-pytorch-2019-04-29-19-25-58-023/source/sourcedir.tar.gz\",\"module_name\":\"train\",\"network_interface_name\":\"ethwe\",\"num_cpus\":4,\"num_gpus\":1,\"output_data_dir\":\"/opt/ml/output/data\",\"output_dir\":\"/opt/ml/output\",\"output_intermediate_dir\":\"/opt/ml/output/intermediate\",\"resource_config\":{\"current_host\":\"algo-1\",\"hosts\":[\"algo-1\"],\"network_interface_name\":\"ethwe\"},\"user_entry_point\":\"train.py\"}\u001b[0m\n",
      "\u001b[31mSM_NETWORK_INTERFACE_NAME=ethwe\u001b[0m\n",
      "\u001b[31mSM_MODEL_DIR=/opt/ml/model\u001b[0m\n",
      "\u001b[31mSM_NUM_CPUS=4\u001b[0m\n",
      "\u001b[31mSM_OUTPUT_DIR=/opt/ml/output\u001b[0m\n",
      "\u001b[31mSM_HOSTS=[\"algo-1\"]\u001b[0m\n",
      "\u001b[31mSM_MODULE_NAME=train\u001b[0m\n",
      "\u001b[31mSM_HP_HIDDEN_DIM=200\u001b[0m\n",
      "\u001b[31mSM_HPS={\"epochs\":10,\"hidden_dim\":200}\u001b[0m\n",
      "\u001b[31mSM_RESOURCE_CONFIG={\"current_host\":\"algo-1\",\"hosts\":[\"algo-1\"],\"network_interface_name\":\"ethwe\"}\u001b[0m\n",
      "\u001b[31mSM_CURRENT_HOST=algo-1\u001b[0m\n",
      "\u001b[31mSM_USER_ENTRY_POINT=train.py\u001b[0m\n",
      "\u001b[31mSM_FRAMEWORK_MODULE=sagemaker_pytorch_container.training:main\u001b[0m\n",
      "\u001b[31mSM_CHANNELS=[\"training\"]\u001b[0m\n",
      "\u001b[31mSM_HP_EPOCHS=10\n",
      "\u001b[0m\n",
      "\u001b[31mInvoking script with the following command:\n",
      "\u001b[0m\n",
      "\u001b[31m/usr/bin/python -m train --epochs 10 --hidden_dim 200\n",
      "\n",
      "\u001b[0m\n",
      "\u001b[31mUsing device cuda.\u001b[0m\n",
      "\u001b[31mGet train data loader.\u001b[0m\n"
     ]
    },
    {
     "name": "stdout",
     "output_type": "stream",
     "text": [
      "\u001b[31mModel loaded with embedding_dim 32, hidden_dim 200, vocab_size 5000.\u001b[0m\n",
      "\u001b[31mEpoch: 1/10... Step: 0... Loss: 0.692389...\u001b[0m\n",
      "\u001b[31mEpoch: 1/10... Step: 0... Loss: 0.691512...\u001b[0m\n",
      "\u001b[31mEpoch: 1/10... Step: 0... Loss: 0.692158...\u001b[0m\n",
      "\u001b[31mEpoch: 1/10... Step: 0... Loss: 0.691231...\u001b[0m\n",
      "\u001b[31mEpoch: 1/10... Step: 0... Loss: 0.691061...\u001b[0m\n",
      "\u001b[31mEpoch: 1/10... Step: 0... Loss: 0.690602...\u001b[0m\n",
      "\u001b[31mEpoch: 1/10... Step: 0... Loss: 0.689956...\u001b[0m\n",
      "\u001b[31mEpoch: 1/10... Step: 0... Loss: 0.691483...\u001b[0m\n",
      "\u001b[31mEpoch: 1/10... Step: 0... Loss: 0.690644...\u001b[0m\n",
      "\u001b[31mEpoch: 1/10... Step: 0... Loss: 0.687817...\u001b[0m\n",
      "\u001b[31mEpoch: 1/10... Step: 0... Loss: 0.685384...\u001b[0m\n",
      "\u001b[31mEpoch: 1/10... Step: 0... Loss: 0.686634...\u001b[0m\n",
      "\u001b[31mEpoch: 1/10... Step: 0... Loss: 0.685328...\u001b[0m\n",
      "\u001b[31mEpoch: 1/10... Step: 0... Loss: 0.692225...\u001b[0m\n",
      "\u001b[31mEpoch: 1/10... Step: 0... Loss: 0.683879...\u001b[0m\n",
      "\u001b[31mEpoch: 1/10... Step: 0... Loss: 0.688066...\u001b[0m\n",
      "\u001b[31mEpoch: 1/10... Step: 0... Loss: 0.680524...\u001b[0m\n",
      "\u001b[31mEpoch: 1/10... Step: 0... Loss: 0.678530...\u001b[0m\n",
      "\u001b[31mEpoch: 1/10... Step: 0... Loss: 0.678802...\u001b[0m\n",
      "\u001b[31mEpoch: 1/10... Step: 0... Loss: 0.684291...\u001b[0m\n",
      "\u001b[31mEpoch: 1/10... Step: 0... Loss: 0.685003...\u001b[0m\n",
      "\u001b[31mEpoch: 1/10... Step: 0... Loss: 0.667898...\u001b[0m\n",
      "\u001b[31mEpoch: 1/10... Step: 0... Loss: 0.669711...\u001b[0m\n",
      "\u001b[31mEpoch: 1/10... Step: 0... Loss: 0.676177...\u001b[0m\n",
      "\u001b[31mEpoch: 1/10... Step: 0... Loss: 0.674237...\u001b[0m\n",
      "\u001b[31mEpoch: 1/10... Step: 0... Loss: 0.681795...\u001b[0m\n",
      "\u001b[31mEpoch: 1/10... Step: 0... Loss: 0.666073...\u001b[0m\n",
      "\u001b[31mEpoch: 1/10... Step: 0... Loss: 0.656556...\u001b[0m\n",
      "\u001b[31mEpoch: 1/10... Step: 0... Loss: 0.662752...\u001b[0m\n",
      "\u001b[31mEpoch: 1/10... Step: 0... Loss: 0.685664...\u001b[0m\n",
      "\u001b[31mEpoch: 1/10... Step: 0... Loss: 0.670258...\u001b[0m\n",
      "\u001b[31mEpoch: 1/10... Step: 0... Loss: 0.645161...\u001b[0m\n",
      "\u001b[31mEpoch: 1/10... Step: 0... Loss: 0.665706...\u001b[0m\n",
      "\u001b[31mEpoch: 1/10... Step: 0... Loss: 0.668856...\u001b[0m\n",
      "\u001b[31mEpoch: 1/10... Step: 0... Loss: 0.640591...\u001b[0m\n",
      "\u001b[31mEpoch: 1/10... Step: 0... Loss: 0.651139...\u001b[0m\n",
      "\u001b[31mEpoch: 1/10... Step: 0... Loss: 0.638327...\u001b[0m\n",
      "\u001b[31mEpoch: 1/10... Step: 0... Loss: 0.631998...\u001b[0m\n",
      "\u001b[31mEpoch: 1/10... Step: 0... Loss: 0.636705...\u001b[0m\n",
      "\u001b[31mEpoch: 1/10... Step: 0... Loss: 0.684444...\u001b[0m\n",
      "\u001b[31mEpoch: 1/10... Step: 0... Loss: 0.641218...\u001b[0m\n",
      "\u001b[31mEpoch: 1/10... Step: 0... Loss: 0.641281...\u001b[0m\n",
      "\u001b[31mEpoch: 1/10... Step: 0... Loss: 0.632805...\u001b[0m\n",
      "\u001b[31mEpoch: 1/10... Step: 0... Loss: 0.668296...\u001b[0m\n",
      "\u001b[31mEpoch: 1/10... Step: 0... Loss: 0.651489...\u001b[0m\n",
      "\u001b[31mEpoch: 1/10... Step: 0... Loss: 0.641394...\u001b[0m\n",
      "\u001b[31mEpoch: 1/10... Step: 0... Loss: 0.631214...\u001b[0m\n",
      "\u001b[31mEpoch: 1/10... Step: 0... Loss: 0.648149...\u001b[0m\n",
      "\u001b[31mEpoch: 1/10... Step: 0... Loss: 0.640068...\u001b[0m\n",
      "\u001b[31mEpoch: 1, BCELoss: 0.6695404004077522\u001b[0m\n",
      "\u001b[31mEpoch: 2/10... Step: 0... Loss: 0.629016...\u001b[0m\n",
      "\u001b[31mEpoch: 2/10... Step: 0... Loss: 0.632673...\u001b[0m\n",
      "\u001b[31mEpoch: 2/10... Step: 0... Loss: 0.633605...\u001b[0m\n",
      "\u001b[31mEpoch: 2/10... Step: 0... Loss: 0.601523...\u001b[0m\n",
      "\u001b[31mEpoch: 2/10... Step: 0... Loss: 0.605577...\u001b[0m\n",
      "\u001b[31mEpoch: 2/10... Step: 0... Loss: 0.665437...\u001b[0m\n",
      "\u001b[31mEpoch: 2/10... Step: 0... Loss: 0.614434...\u001b[0m\n",
      "\u001b[31mEpoch: 2/10... Step: 0... Loss: 0.618470...\u001b[0m\n",
      "\u001b[31mEpoch: 2/10... Step: 0... Loss: 0.617340...\u001b[0m\n",
      "\u001b[31mEpoch: 2/10... Step: 0... Loss: 0.627037...\u001b[0m\n",
      "\u001b[31mEpoch: 2/10... Step: 0... Loss: 0.645230...\u001b[0m\n",
      "\u001b[31mEpoch: 2/10... Step: 0... Loss: 0.611034...\u001b[0m\n",
      "\u001b[31mEpoch: 2/10... Step: 0... Loss: 0.627766...\u001b[0m\n",
      "\u001b[31mEpoch: 2/10... Step: 0... Loss: 0.637429...\u001b[0m\n",
      "\u001b[31mEpoch: 2/10... Step: 0... Loss: 0.629337...\u001b[0m\n",
      "\u001b[31mEpoch: 2/10... Step: 0... Loss: 0.600093...\u001b[0m\n",
      "\u001b[31mEpoch: 2/10... Step: 0... Loss: 0.573998...\u001b[0m\n",
      "\u001b[31mEpoch: 2/10... Step: 0... Loss: 0.617619...\u001b[0m\n",
      "\u001b[31mEpoch: 2/10... Step: 0... Loss: 0.628707...\u001b[0m\n",
      "\u001b[31mEpoch: 2/10... Step: 0... Loss: 0.596792...\u001b[0m\n",
      "\u001b[31mEpoch: 2/10... Step: 0... Loss: 0.628526...\u001b[0m\n",
      "\u001b[31mEpoch: 2/10... Step: 0... Loss: 0.565465...\u001b[0m\n",
      "\u001b[31mEpoch: 2/10... Step: 0... Loss: 0.590756...\u001b[0m\n",
      "\u001b[31mEpoch: 2/10... Step: 0... Loss: 0.599405...\u001b[0m\n",
      "\u001b[31mEpoch: 2/10... Step: 0... Loss: 0.590401...\u001b[0m\n",
      "\u001b[31mEpoch: 2/10... Step: 0... Loss: 0.615412...\u001b[0m\n",
      "\u001b[31mEpoch: 2/10... Step: 0... Loss: 0.600080...\u001b[0m\n",
      "\u001b[31mEpoch: 2/10... Step: 0... Loss: 0.556254...\u001b[0m\n",
      "\u001b[31mEpoch: 2/10... Step: 0... Loss: 0.576698...\u001b[0m\n",
      "\u001b[31mEpoch: 2/10... Step: 0... Loss: 0.619459...\u001b[0m\n",
      "\u001b[31mEpoch: 2/10... Step: 0... Loss: 0.588652...\u001b[0m\n",
      "\u001b[31mEpoch: 2/10... Step: 0... Loss: 0.561769...\u001b[0m\n",
      "\u001b[31mEpoch: 2/10... Step: 0... Loss: 0.596893...\u001b[0m\n",
      "\u001b[31mEpoch: 2/10... Step: 0... Loss: 0.549111...\u001b[0m\n",
      "\u001b[31mEpoch: 2/10... Step: 0... Loss: 0.535392...\u001b[0m\n",
      "\u001b[31mEpoch: 2/10... Step: 0... Loss: 0.548568...\u001b[0m\n",
      "\u001b[31mEpoch: 2/10... Step: 0... Loss: 0.533911...\u001b[0m\n",
      "\u001b[31mEpoch: 2/10... Step: 0... Loss: 0.544245...\u001b[0m\n",
      "\u001b[31mEpoch: 2/10... Step: 0... Loss: 0.543080...\u001b[0m\n",
      "\u001b[31mEpoch: 2/10... Step: 0... Loss: 0.554679...\u001b[0m\n",
      "\u001b[31mEpoch: 2/10... Step: 0... Loss: 0.545180...\u001b[0m\n",
      "\u001b[31mEpoch: 2/10... Step: 0... Loss: 0.536154...\u001b[0m\n",
      "\u001b[31mEpoch: 2/10... Step: 0... Loss: 0.554791...\u001b[0m\n",
      "\u001b[31mEpoch: 2/10... Step: 0... Loss: 0.551483...\u001b[0m\n",
      "\u001b[31mEpoch: 2/10... Step: 0... Loss: 0.539169...\u001b[0m\n",
      "\u001b[31mEpoch: 2/10... Step: 0... Loss: 0.534013...\u001b[0m\n",
      "\u001b[31mEpoch: 2/10... Step: 0... Loss: 0.502857...\u001b[0m\n",
      "\u001b[31mEpoch: 2/10... Step: 0... Loss: 0.543813...\u001b[0m\n",
      "\u001b[31mEpoch: 2/10... Step: 0... Loss: 0.545276...\u001b[0m\n",
      "\u001b[31mEpoch: 2, BCELoss: 0.5870328776690424\u001b[0m\n",
      "\u001b[31mEpoch: 3/10... Step: 0... Loss: 0.508293...\u001b[0m\n",
      "\u001b[31mEpoch: 3/10... Step: 0... Loss: 0.496282...\u001b[0m\n",
      "\u001b[31mEpoch: 3/10... Step: 0... Loss: 0.524086...\u001b[0m\n",
      "\u001b[31mEpoch: 3/10... Step: 0... Loss: 0.544571...\u001b[0m\n",
      "\u001b[31mEpoch: 3/10... Step: 0... Loss: 0.517975...\u001b[0m\n",
      "\u001b[31mEpoch: 3/10... Step: 0... Loss: 0.536526...\u001b[0m\n",
      "\u001b[31mEpoch: 3/10... Step: 0... Loss: 0.530823...\u001b[0m\n",
      "\u001b[31mEpoch: 3/10... Step: 0... Loss: 0.528796...\u001b[0m\n",
      "\u001b[31mEpoch: 3/10... Step: 0... Loss: 0.494288...\u001b[0m\n",
      "\u001b[31mEpoch: 3/10... Step: 0... Loss: 0.493351...\u001b[0m\n",
      "\u001b[31mEpoch: 3/10... Step: 0... Loss: 0.566131...\u001b[0m\n",
      "\u001b[31mEpoch: 3/10... Step: 0... Loss: 0.534213...\u001b[0m\n",
      "\u001b[31mEpoch: 3/10... Step: 0... Loss: 0.541438...\u001b[0m\n",
      "\u001b[31mEpoch: 3/10... Step: 0... Loss: 0.539895...\u001b[0m\n",
      "\u001b[31mEpoch: 3/10... Step: 0... Loss: 0.539130...\u001b[0m\n",
      "\u001b[31mEpoch: 3/10... Step: 0... Loss: 0.521676...\u001b[0m\n",
      "\u001b[31mEpoch: 3/10... Step: 0... Loss: 0.474900...\u001b[0m\n",
      "\u001b[31mEpoch: 3/10... Step: 0... Loss: 0.534537...\u001b[0m\n",
      "\u001b[31mEpoch: 3/10... Step: 0... Loss: 0.534625...\u001b[0m\n",
      "\u001b[31mEpoch: 3/10... Step: 0... Loss: 0.502978...\u001b[0m\n",
      "\u001b[31mEpoch: 3/10... Step: 0... Loss: 0.476564...\u001b[0m\n",
      "\u001b[31mEpoch: 3/10... Step: 0... Loss: 0.459695...\u001b[0m\n",
      "\u001b[31mEpoch: 3/10... Step: 0... Loss: 0.482249...\u001b[0m\n",
      "\u001b[31mEpoch: 3/10... Step: 0... Loss: 0.462458...\u001b[0m\n",
      "\u001b[31mEpoch: 3/10... Step: 0... Loss: 0.481023...\u001b[0m\n",
      "\u001b[31mEpoch: 3/10... Step: 0... Loss: 0.518289...\u001b[0m\n",
      "\u001b[31mEpoch: 3/10... Step: 0... Loss: 0.512744...\u001b[0m\n",
      "\u001b[31mEpoch: 3/10... Step: 0... Loss: 0.454891...\u001b[0m\n",
      "\u001b[31mEpoch: 3/10... Step: 0... Loss: 0.479710...\u001b[0m\n",
      "\u001b[31mEpoch: 3/10... Step: 0... Loss: 0.504252...\u001b[0m\n",
      "\u001b[31mEpoch: 3/10... Step: 0... Loss: 0.478566...\u001b[0m\n",
      "\u001b[31mEpoch: 3/10... Step: 0... Loss: 0.465299...\u001b[0m\n",
      "\u001b[31mEpoch: 3/10... Step: 0... Loss: 0.511989...\u001b[0m\n",
      "\u001b[31mEpoch: 3/10... Step: 0... Loss: 0.459972...\u001b[0m\n",
      "\u001b[31mEpoch: 3/10... Step: 0... Loss: 0.453801...\u001b[0m\n",
      "\u001b[31mEpoch: 3/10... Step: 0... Loss: 0.450623...\u001b[0m\n",
      "\u001b[31mEpoch: 3/10... Step: 0... Loss: 0.456935...\u001b[0m\n",
      "\u001b[31mEpoch: 3/10... Step: 0... Loss: 0.453754...\u001b[0m\n",
      "\u001b[31mEpoch: 3/10... Step: 0... Loss: 0.438954...\u001b[0m\n",
      "\u001b[31mEpoch: 3/10... Step: 0... Loss: 0.444324...\u001b[0m\n",
      "\u001b[31mEpoch: 3/10... Step: 0... Loss: 0.441517...\u001b[0m\n",
      "\u001b[31mEpoch: 3/10... Step: 0... Loss: 0.426878...\u001b[0m\n",
      "\u001b[31mEpoch: 3/10... Step: 0... Loss: 0.458600...\u001b[0m\n",
      "\u001b[31mEpoch: 3/10... Step: 0... Loss: 0.448082...\u001b[0m\n",
      "\u001b[31mEpoch: 3/10... Step: 0... Loss: 0.428552...\u001b[0m\n",
      "\u001b[31mEpoch: 3/10... Step: 0... Loss: 0.435516...\u001b[0m\n",
      "\u001b[31mEpoch: 3/10... Step: 0... Loss: 0.389370...\u001b[0m\n",
      "\u001b[31mEpoch: 3/10... Step: 0... Loss: 0.437135...\u001b[0m\n",
      "\u001b[31mEpoch: 3/10... Step: 0... Loss: 0.445621...\u001b[0m\n",
      "\u001b[31mEpoch: 3, BCELoss: 0.48616075150820676\u001b[0m\n",
      "\u001b[31mEpoch: 4/10... Step: 0... Loss: 0.451867...\u001b[0m\n",
      "\u001b[31mEpoch: 4/10... Step: 0... Loss: 0.409263...\u001b[0m\n",
      "\u001b[31mEpoch: 4/10... Step: 0... Loss: 0.440203...\u001b[0m\n",
      "\u001b[31mEpoch: 4/10... Step: 0... Loss: 0.450335...\u001b[0m\n",
      "\u001b[31mEpoch: 4/10... Step: 0... Loss: 0.425667...\u001b[0m\n",
      "\u001b[31mEpoch: 4/10... Step: 0... Loss: 0.465282...\u001b[0m\n",
      "\u001b[31mEpoch: 4/10... Step: 0... Loss: 0.454283...\u001b[0m\n",
      "\u001b[31mEpoch: 4/10... Step: 0... Loss: 0.424130...\u001b[0m\n",
      "\u001b[31mEpoch: 4/10... Step: 0... Loss: 0.404507...\u001b[0m\n",
      "\u001b[31mEpoch: 4/10... Step: 0... Loss: 0.426986...\u001b[0m\n",
      "\u001b[31mEpoch: 4/10... Step: 0... Loss: 0.474936...\u001b[0m\n",
      "\u001b[31mEpoch: 4/10... Step: 0... Loss: 0.424519...\u001b[0m\n",
      "\u001b[31mEpoch: 4/10... Step: 0... Loss: 0.449535...\u001b[0m\n",
      "\u001b[31mEpoch: 4/10... Step: 0... Loss: 0.445674...\u001b[0m\n",
      "\u001b[31mEpoch: 4/10... Step: 0... Loss: 0.446230...\u001b[0m\n",
      "\u001b[31mEpoch: 4/10... Step: 0... Loss: 0.431951...\u001b[0m\n",
      "\u001b[31mEpoch: 4/10... Step: 0... Loss: 0.346557...\u001b[0m\n",
      "\u001b[31mEpoch: 4/10... Step: 0... Loss: 0.501107...\u001b[0m\n",
      "\u001b[31mEpoch: 4/10... Step: 0... Loss: 0.452170...\u001b[0m\n",
      "\u001b[31mEpoch: 4/10... Step: 0... Loss: 0.435416...\u001b[0m\n",
      "\u001b[31mEpoch: 4/10... Step: 0... Loss: 0.435008...\u001b[0m\n",
      "\u001b[31mEpoch: 4/10... Step: 0... Loss: 0.377288...\u001b[0m\n",
      "\u001b[31mEpoch: 4/10... Step: 0... Loss: 0.389200...\u001b[0m\n",
      "\u001b[31mEpoch: 4/10... Step: 0... Loss: 0.379154...\u001b[0m\n",
      "\u001b[31mEpoch: 4/10... Step: 0... Loss: 0.444241...\u001b[0m\n"
     ]
    },
    {
     "name": "stdout",
     "output_type": "stream",
     "text": [
      "\u001b[31mEpoch: 4/10... Step: 0... Loss: 0.452748...\u001b[0m\n",
      "\u001b[31mEpoch: 4/10... Step: 0... Loss: 0.465192...\u001b[0m\n",
      "\u001b[31mEpoch: 4/10... Step: 0... Loss: 0.424335...\u001b[0m\n",
      "\u001b[31mEpoch: 4/10... Step: 0... Loss: 0.456424...\u001b[0m\n",
      "\u001b[31mEpoch: 4/10... Step: 0... Loss: 0.467605...\u001b[0m\n",
      "\u001b[31mEpoch: 4/10... Step: 0... Loss: 0.413999...\u001b[0m\n",
      "\u001b[31mEpoch: 4/10... Step: 0... Loss: 0.415813...\u001b[0m\n",
      "\u001b[31mEpoch: 4/10... Step: 0... Loss: 0.435961...\u001b[0m\n",
      "\u001b[31mEpoch: 4/10... Step: 0... Loss: 0.386065...\u001b[0m\n",
      "\u001b[31mEpoch: 4/10... Step: 0... Loss: 0.376363...\u001b[0m\n",
      "\u001b[31mEpoch: 4/10... Step: 0... Loss: 0.410821...\u001b[0m\n",
      "\u001b[31mEpoch: 4/10... Step: 0... Loss: 0.411171...\u001b[0m\n",
      "\u001b[31mEpoch: 4/10... Step: 0... Loss: 0.389152...\u001b[0m\n",
      "\u001b[31mEpoch: 4/10... Step: 0... Loss: 0.386908...\u001b[0m\n",
      "\u001b[31mEpoch: 4/10... Step: 0... Loss: 0.394269...\u001b[0m\n",
      "\u001b[31mEpoch: 4/10... Step: 0... Loss: 0.393745...\u001b[0m\n",
      "\u001b[31mEpoch: 4/10... Step: 0... Loss: 0.366934...\u001b[0m\n",
      "\u001b[31mEpoch: 4/10... Step: 0... Loss: 0.398238...\u001b[0m\n",
      "\u001b[31mEpoch: 4/10... Step: 0... Loss: 0.413582...\u001b[0m\n",
      "\u001b[31mEpoch: 4/10... Step: 0... Loss: 0.396731...\u001b[0m\n",
      "\u001b[31mEpoch: 4/10... Step: 0... Loss: 0.386271...\u001b[0m\n",
      "\u001b[31mEpoch: 4/10... Step: 0... Loss: 0.341199...\u001b[0m\n",
      "\u001b[31mEpoch: 4/10... Step: 0... Loss: 0.398743...\u001b[0m\n",
      "\u001b[31mEpoch: 4/10... Step: 0... Loss: 0.402525...\u001b[0m\n",
      "\u001b[31mEpoch: 4, BCELoss: 0.4198020660147375\u001b[0m\n",
      "\u001b[31mEpoch: 5/10... Step: 0... Loss: 0.379667...\u001b[0m\n",
      "\u001b[31mEpoch: 5/10... Step: 0... Loss: 0.355419...\u001b[0m\n",
      "\u001b[31mEpoch: 5/10... Step: 0... Loss: 0.373570...\u001b[0m\n",
      "\u001b[31mEpoch: 5/10... Step: 0... Loss: 0.439122...\u001b[0m\n",
      "\u001b[31mEpoch: 5/10... Step: 0... Loss: 0.354774...\u001b[0m\n",
      "\u001b[31mEpoch: 5/10... Step: 0... Loss: 0.382371...\u001b[0m\n",
      "\u001b[31mEpoch: 5/10... Step: 0... Loss: 0.410325...\u001b[0m\n",
      "\u001b[31mEpoch: 5/10... Step: 0... Loss: 0.372976...\u001b[0m\n",
      "\u001b[31mEpoch: 5/10... Step: 0... Loss: 0.353339...\u001b[0m\n",
      "\u001b[31mEpoch: 5/10... Step: 0... Loss: 0.385056...\u001b[0m\n",
      "\u001b[31mEpoch: 5/10... Step: 0... Loss: 0.434848...\u001b[0m\n",
      "\u001b[31mEpoch: 5/10... Step: 0... Loss: 0.343871...\u001b[0m\n",
      "\u001b[31mEpoch: 5/10... Step: 0... Loss: 0.404249...\u001b[0m\n",
      "\u001b[31mEpoch: 5/10... Step: 0... Loss: 0.386072...\u001b[0m\n",
      "\u001b[31mEpoch: 5/10... Step: 0... Loss: 0.384761...\u001b[0m\n",
      "\u001b[31mEpoch: 5/10... Step: 0... Loss: 0.386463...\u001b[0m\n",
      "\u001b[31mEpoch: 5/10... Step: 0... Loss: 0.314137...\u001b[0m\n",
      "\u001b[31mEpoch: 5/10... Step: 0... Loss: 0.383057...\u001b[0m\n",
      "\u001b[31mEpoch: 5/10... Step: 0... Loss: 0.414726...\u001b[0m\n",
      "\u001b[31mEpoch: 5/10... Step: 0... Loss: 0.380189...\u001b[0m\n",
      "\u001b[31mEpoch: 5/10... Step: 0... Loss: 0.358173...\u001b[0m\n",
      "\u001b[31mEpoch: 5/10... Step: 0... Loss: 0.329203...\u001b[0m\n",
      "\u001b[31mEpoch: 5/10... Step: 0... Loss: 0.337437...\u001b[0m\n",
      "\u001b[31mEpoch: 5/10... Step: 0... Loss: 0.299676...\u001b[0m\n",
      "\u001b[31mEpoch: 5/10... Step: 0... Loss: 0.389933...\u001b[0m\n",
      "\u001b[31mEpoch: 5/10... Step: 0... Loss: 0.398588...\u001b[0m\n",
      "\u001b[31mEpoch: 5/10... Step: 0... Loss: 0.387717...\u001b[0m\n",
      "\u001b[31mEpoch: 5/10... Step: 0... Loss: 0.349206...\u001b[0m\n",
      "\u001b[31mEpoch: 5/10... Step: 0... Loss: 0.395891...\u001b[0m\n",
      "\u001b[31mEpoch: 5/10... Step: 0... Loss: 0.427129...\u001b[0m\n",
      "\u001b[31mEpoch: 5/10... Step: 0... Loss: 0.377713...\u001b[0m\n",
      "\u001b[31mEpoch: 5/10... Step: 0... Loss: 0.345014...\u001b[0m\n",
      "\u001b[31mEpoch: 5/10... Step: 0... Loss: 0.400408...\u001b[0m\n",
      "\u001b[31mEpoch: 5/10... Step: 0... Loss: 0.352684...\u001b[0m\n",
      "\u001b[31mEpoch: 5/10... Step: 0... Loss: 0.341927...\u001b[0m\n",
      "\u001b[31mEpoch: 5/10... Step: 0... Loss: 0.371380...\u001b[0m\n",
      "\u001b[31mEpoch: 5/10... Step: 0... Loss: 0.366977...\u001b[0m\n",
      "\u001b[31mEpoch: 5/10... Step: 0... Loss: 0.355278...\u001b[0m\n",
      "\u001b[31mEpoch: 5/10... Step: 0... Loss: 0.350871...\u001b[0m\n",
      "\u001b[31mEpoch: 5/10... Step: 0... Loss: 0.362176...\u001b[0m\n",
      "\u001b[31mEpoch: 5/10... Step: 0... Loss: 0.337197...\u001b[0m\n",
      "\u001b[31mEpoch: 5/10... Step: 0... Loss: 0.316570...\u001b[0m\n",
      "\u001b[31mEpoch: 5/10... Step: 0... Loss: 0.365577...\u001b[0m\n",
      "\u001b[31mEpoch: 5/10... Step: 0... Loss: 0.375111...\u001b[0m\n",
      "\u001b[31mEpoch: 5/10... Step: 0... Loss: 0.348886...\u001b[0m\n",
      "\u001b[31mEpoch: 5/10... Step: 0... Loss: 0.350954...\u001b[0m\n",
      "\u001b[31mEpoch: 5/10... Step: 0... Loss: 0.309091...\u001b[0m\n",
      "\u001b[31mEpoch: 5/10... Step: 0... Loss: 0.347280...\u001b[0m\n",
      "\u001b[31mEpoch: 5/10... Step: 0... Loss: 0.379102...\u001b[0m\n",
      "\u001b[31mEpoch: 5, BCELoss: 0.36869668413181694\u001b[0m\n",
      "\u001b[31mEpoch: 6/10... Step: 0... Loss: 0.367880...\u001b[0m\n",
      "\u001b[31mEpoch: 6/10... Step: 0... Loss: 0.328005...\u001b[0m\n",
      "\u001b[31mEpoch: 6/10... Step: 0... Loss: 0.357304...\u001b[0m\n",
      "\u001b[31mEpoch: 6/10... Step: 0... Loss: 0.398477...\u001b[0m\n",
      "\u001b[31mEpoch: 6/10... Step: 0... Loss: 0.340066...\u001b[0m\n",
      "\u001b[31mEpoch: 6/10... Step: 0... Loss: 0.339196...\u001b[0m\n",
      "\u001b[31mEpoch: 6/10... Step: 0... Loss: 0.412685...\u001b[0m\n",
      "\u001b[31mEpoch: 6/10... Step: 0... Loss: 0.362533...\u001b[0m\n",
      "\u001b[31mEpoch: 6/10... Step: 0... Loss: 0.339608...\u001b[0m\n",
      "\u001b[31mEpoch: 6/10... Step: 0... Loss: 0.381578...\u001b[0m\n",
      "\u001b[31mEpoch: 6/10... Step: 0... Loss: 0.416204...\u001b[0m\n",
      "\u001b[31mEpoch: 6/10... Step: 0... Loss: 0.352031...\u001b[0m\n",
      "\u001b[31mEpoch: 6/10... Step: 0... Loss: 0.382344...\u001b[0m\n",
      "\u001b[31mEpoch: 6/10... Step: 0... Loss: 0.394360...\u001b[0m\n",
      "\u001b[31mEpoch: 6/10... Step: 0... Loss: 0.379069...\u001b[0m\n",
      "\u001b[31mEpoch: 6/10... Step: 0... Loss: 0.396184...\u001b[0m\n",
      "\u001b[31mEpoch: 6/10... Step: 0... Loss: 0.291842...\u001b[0m\n",
      "\u001b[31mEpoch: 6/10... Step: 0... Loss: 0.378961...\u001b[0m\n",
      "\u001b[31mEpoch: 6/10... Step: 0... Loss: 0.360579...\u001b[0m\n",
      "\u001b[31mEpoch: 6/10... Step: 0... Loss: 0.350995...\u001b[0m\n",
      "\u001b[31mEpoch: 6/10... Step: 0... Loss: 0.315024...\u001b[0m\n",
      "\u001b[31mEpoch: 6/10... Step: 0... Loss: 0.313591...\u001b[0m\n",
      "\u001b[31mEpoch: 6/10... Step: 0... Loss: 0.323248...\u001b[0m\n",
      "\u001b[31mEpoch: 6/10... Step: 0... Loss: 0.276006...\u001b[0m\n",
      "\u001b[31mEpoch: 6/10... Step: 0... Loss: 0.334254...\u001b[0m\n",
      "\u001b[31mEpoch: 6/10... Step: 0... Loss: 0.363416...\u001b[0m\n",
      "\u001b[31mEpoch: 6/10... Step: 0... Loss: 0.370436...\u001b[0m\n",
      "\u001b[31mEpoch: 6/10... Step: 0... Loss: 0.313036...\u001b[0m\n",
      "\u001b[31mEpoch: 6/10... Step: 0... Loss: 0.362077...\u001b[0m\n",
      "\u001b[31mEpoch: 6/10... Step: 0... Loss: 0.381004...\u001b[0m\n",
      "\u001b[31mEpoch: 6/10... Step: 0... Loss: 0.343670...\u001b[0m\n",
      "\u001b[31mEpoch: 6/10... Step: 0... Loss: 0.320757...\u001b[0m\n",
      "\u001b[31mEpoch: 6/10... Step: 0... Loss: 0.370755...\u001b[0m\n",
      "\u001b[31mEpoch: 6/10... Step: 0... Loss: 0.335070...\u001b[0m\n",
      "\u001b[31mEpoch: 6/10... Step: 0... Loss: 0.304571...\u001b[0m\n",
      "\u001b[31mEpoch: 6/10... Step: 0... Loss: 0.342057...\u001b[0m\n",
      "\u001b[31mEpoch: 6/10... Step: 0... Loss: 0.332658...\u001b[0m\n",
      "\u001b[31mEpoch: 6/10... Step: 0... Loss: 0.307760...\u001b[0m\n",
      "\u001b[31mEpoch: 6/10... Step: 0... Loss: 0.315278...\u001b[0m\n",
      "\u001b[31mEpoch: 6/10... Step: 0... Loss: 0.324818...\u001b[0m\n",
      "\u001b[31mEpoch: 6/10... Step: 0... Loss: 0.319501...\u001b[0m\n",
      "\u001b[31mEpoch: 6/10... Step: 0... Loss: 0.283674...\u001b[0m\n",
      "\u001b[31mEpoch: 6/10... Step: 0... Loss: 0.340916...\u001b[0m\n",
      "\u001b[31mEpoch: 6/10... Step: 0... Loss: 0.347982...\u001b[0m\n",
      "\u001b[31mEpoch: 6/10... Step: 0... Loss: 0.324260...\u001b[0m\n",
      "\u001b[31mEpoch: 6/10... Step: 0... Loss: 0.329857...\u001b[0m\n",
      "\u001b[31mEpoch: 6/10... Step: 0... Loss: 0.268947...\u001b[0m\n",
      "\u001b[31mEpoch: 6/10... Step: 0... Loss: 0.332376...\u001b[0m\n",
      "\u001b[31mEpoch: 6/10... Step: 0... Loss: 0.294439...\u001b[0m\n",
      "\u001b[31mEpoch: 6, BCELoss: 0.3432926073366282\u001b[0m\n",
      "\u001b[31mEpoch: 7/10... Step: 0... Loss: 0.327536...\u001b[0m\n",
      "\u001b[31mEpoch: 7/10... Step: 0... Loss: 0.341959...\u001b[0m\n",
      "\u001b[31mEpoch: 7/10... Step: 0... Loss: 0.315672...\u001b[0m\n",
      "\u001b[31mEpoch: 7/10... Step: 0... Loss: 0.379961...\u001b[0m\n",
      "\u001b[31mEpoch: 7/10... Step: 0... Loss: 0.336929...\u001b[0m\n",
      "\u001b[31mEpoch: 7/10... Step: 0... Loss: 0.370807...\u001b[0m\n",
      "\u001b[31mEpoch: 7/10... Step: 0... Loss: 0.350648...\u001b[0m\n",
      "\u001b[31mEpoch: 7/10... Step: 0... Loss: 0.312810...\u001b[0m\n",
      "\u001b[31mEpoch: 7/10... Step: 0... Loss: 0.339173...\u001b[0m\n",
      "\u001b[31mEpoch: 7/10... Step: 0... Loss: 0.341428...\u001b[0m\n",
      "\u001b[31mEpoch: 7/10... Step: 0... Loss: 0.354384...\u001b[0m\n",
      "\u001b[31mEpoch: 7/10... Step: 0... Loss: 0.306774...\u001b[0m\n",
      "\u001b[31mEpoch: 7/10... Step: 0... Loss: 0.368312...\u001b[0m\n",
      "\u001b[31mEpoch: 7/10... Step: 0... Loss: 0.351273...\u001b[0m\n",
      "\u001b[31mEpoch: 7/10... Step: 0... Loss: 0.363770...\u001b[0m\n",
      "\u001b[31mEpoch: 7/10... Step: 0... Loss: 0.348939...\u001b[0m\n",
      "\u001b[31mEpoch: 7/10... Step: 0... Loss: 0.257940...\u001b[0m\n",
      "\u001b[31mEpoch: 7/10... Step: 0... Loss: 0.362775...\u001b[0m\n",
      "\u001b[31mEpoch: 7/10... Step: 0... Loss: 0.487214...\u001b[0m\n",
      "\u001b[31mEpoch: 7/10... Step: 0... Loss: 0.355525...\u001b[0m\n",
      "\u001b[31mEpoch: 7/10... Step: 0... Loss: 0.274259...\u001b[0m\n",
      "\u001b[31mEpoch: 7/10... Step: 0... Loss: 0.315324...\u001b[0m\n",
      "\u001b[31mEpoch: 7/10... Step: 0... Loss: 0.344021...\u001b[0m\n",
      "\u001b[31mEpoch: 7/10... Step: 0... Loss: 0.339974...\u001b[0m\n",
      "\u001b[31mEpoch: 7/10... Step: 0... Loss: 0.360860...\u001b[0m\n",
      "\u001b[31mEpoch: 7/10... Step: 0... Loss: 0.398806...\u001b[0m\n",
      "\u001b[31mEpoch: 7/10... Step: 0... Loss: 0.364787...\u001b[0m\n",
      "\u001b[31mEpoch: 7/10... Step: 0... Loss: 0.324849...\u001b[0m\n",
      "\u001b[31mEpoch: 7/10... Step: 0... Loss: 0.366709...\u001b[0m\n",
      "\u001b[31mEpoch: 7/10... Step: 0... Loss: 0.385310...\u001b[0m\n",
      "\u001b[31mEpoch: 7/10... Step: 0... Loss: 0.357715...\u001b[0m\n",
      "\u001b[31mEpoch: 7/10... Step: 0... Loss: 0.305675...\u001b[0m\n",
      "\u001b[31mEpoch: 7/10... Step: 0... Loss: 0.356927...\u001b[0m\n",
      "\u001b[31mEpoch: 7/10... Step: 0... Loss: 0.329961...\u001b[0m\n",
      "\u001b[31mEpoch: 7/10... Step: 0... Loss: 0.295764...\u001b[0m\n",
      "\u001b[31mEpoch: 7/10... Step: 0... Loss: 0.349570...\u001b[0m\n"
     ]
    },
    {
     "name": "stdout",
     "output_type": "stream",
     "text": [
      "\u001b[31mEpoch: 7/10... Step: 0... Loss: 0.320047...\u001b[0m\n",
      "\u001b[31mEpoch: 7/10... Step: 0... Loss: 0.313599...\u001b[0m\n",
      "\u001b[31mEpoch: 7/10... Step: 0... Loss: 0.329119...\u001b[0m\n",
      "\u001b[31mEpoch: 7/10... Step: 0... Loss: 0.297158...\u001b[0m\n",
      "\u001b[31mEpoch: 7/10... Step: 0... Loss: 0.325690...\u001b[0m\n",
      "\u001b[31mEpoch: 7/10... Step: 0... Loss: 0.283339...\u001b[0m\n",
      "\u001b[31mEpoch: 7/10... Step: 0... Loss: 0.314163...\u001b[0m\n",
      "\u001b[31mEpoch: 7/10... Step: 0... Loss: 0.327797...\u001b[0m\n",
      "\u001b[31mEpoch: 7/10... Step: 0... Loss: 0.288020...\u001b[0m\n",
      "\u001b[31mEpoch: 7/10... Step: 0... Loss: 0.289939...\u001b[0m\n",
      "\u001b[31mEpoch: 7/10... Step: 0... Loss: 0.266282...\u001b[0m\n",
      "\u001b[31mEpoch: 7/10... Step: 0... Loss: 0.324136...\u001b[0m\n",
      "\u001b[31mEpoch: 7/10... Step: 0... Loss: 0.271449...\u001b[0m\n",
      "\u001b[31mEpoch: 7, BCELoss: 0.33459341647673624\u001b[0m\n",
      "\u001b[31mEpoch: 8/10... Step: 0... Loss: 0.321244...\u001b[0m\n",
      "\u001b[31mEpoch: 8/10... Step: 0... Loss: 0.294195...\u001b[0m\n",
      "\u001b[31mEpoch: 8/10... Step: 0... Loss: 0.286235...\u001b[0m\n",
      "\u001b[31mEpoch: 8/10... Step: 0... Loss: 0.324284...\u001b[0m\n",
      "\u001b[31mEpoch: 8/10... Step: 0... Loss: 0.307927...\u001b[0m\n",
      "\u001b[31mEpoch: 8/10... Step: 0... Loss: 0.302803...\u001b[0m\n",
      "\u001b[31mEpoch: 8/10... Step: 0... Loss: 0.327473...\u001b[0m\n",
      "\u001b[31mEpoch: 8/10... Step: 0... Loss: 0.294666...\u001b[0m\n",
      "\u001b[31mEpoch: 8/10... Step: 0... Loss: 0.302034...\u001b[0m\n",
      "\u001b[31mEpoch: 8/10... Step: 0... Loss: 0.308037...\u001b[0m\n",
      "\u001b[31mEpoch: 8/10... Step: 0... Loss: 0.337129...\u001b[0m\n",
      "\u001b[31mEpoch: 8/10... Step: 0... Loss: 0.256137...\u001b[0m\n",
      "\u001b[31mEpoch: 8/10... Step: 0... Loss: 0.338651...\u001b[0m\n",
      "\u001b[31mEpoch: 8/10... Step: 0... Loss: 0.310044...\u001b[0m\n",
      "\u001b[31mEpoch: 8/10... Step: 0... Loss: 0.298952...\u001b[0m\n",
      "\u001b[31mEpoch: 8/10... Step: 0... Loss: 0.348315...\u001b[0m\n",
      "\u001b[31mEpoch: 8/10... Step: 0... Loss: 0.255682...\u001b[0m\n",
      "\u001b[31mEpoch: 8/10... Step: 0... Loss: 0.309570...\u001b[0m\n",
      "\u001b[31mEpoch: 8/10... Step: 0... Loss: 0.352819...\u001b[0m\n",
      "\u001b[31mEpoch: 8/10... Step: 0... Loss: 0.284831...\u001b[0m\n",
      "\u001b[31mEpoch: 8/10... Step: 0... Loss: 0.253074...\u001b[0m\n",
      "\u001b[31mEpoch: 8/10... Step: 0... Loss: 0.236772...\u001b[0m\n",
      "\u001b[31mEpoch: 8/10... Step: 0... Loss: 0.274879...\u001b[0m\n",
      "\u001b[31mEpoch: 8/10... Step: 0... Loss: 0.233743...\u001b[0m\n",
      "\u001b[31mEpoch: 8/10... Step: 0... Loss: 0.306287...\u001b[0m\n",
      "\u001b[31mEpoch: 8/10... Step: 0... Loss: 0.325957...\u001b[0m\n",
      "\u001b[31mEpoch: 8/10... Step: 0... Loss: 0.315847...\u001b[0m\n",
      "\u001b[31mEpoch: 8/10... Step: 0... Loss: 0.266569...\u001b[0m\n",
      "\u001b[31mEpoch: 8/10... Step: 0... Loss: 0.315954...\u001b[0m\n",
      "\u001b[31mEpoch: 8/10... Step: 0... Loss: 0.332051...\u001b[0m\n",
      "\u001b[31mEpoch: 8/10... Step: 0... Loss: 0.287278...\u001b[0m\n",
      "\u001b[31mEpoch: 8/10... Step: 0... Loss: 0.269882...\u001b[0m\n",
      "\u001b[31mEpoch: 8/10... Step: 0... Loss: 0.321744...\u001b[0m\n",
      "\u001b[31mEpoch: 8/10... Step: 0... Loss: 0.271601...\u001b[0m\n",
      "\u001b[31mEpoch: 8/10... Step: 0... Loss: 0.270888...\u001b[0m\n",
      "\u001b[31mEpoch: 8/10... Step: 0... Loss: 0.319162...\u001b[0m\n",
      "\u001b[31mEpoch: 8/10... Step: 0... Loss: 0.282418...\u001b[0m\n",
      "\u001b[31mEpoch: 8/10... Step: 0... Loss: 0.269960...\u001b[0m\n",
      "\u001b[31mEpoch: 8/10... Step: 0... Loss: 0.287438...\u001b[0m\n",
      "\u001b[31mEpoch: 8/10... Step: 0... Loss: 0.277802...\u001b[0m\n",
      "\u001b[31mEpoch: 8/10... Step: 0... Loss: 0.285098...\u001b[0m\n",
      "\u001b[31mEpoch: 8/10... Step: 0... Loss: 0.245837...\u001b[0m\n",
      "\u001b[31mEpoch: 8/10... Step: 0... Loss: 0.293284...\u001b[0m\n",
      "\u001b[31mEpoch: 8/10... Step: 0... Loss: 0.280508...\u001b[0m\n",
      "\u001b[31mEpoch: 8/10... Step: 0... Loss: 0.248182...\u001b[0m\n",
      "\u001b[31mEpoch: 8/10... Step: 0... Loss: 0.261147...\u001b[0m\n",
      "\u001b[31mEpoch: 8/10... Step: 0... Loss: 0.234251...\u001b[0m\n",
      "\u001b[31mEpoch: 8/10... Step: 0... Loss: 0.294421...\u001b[0m\n",
      "\u001b[31mEpoch: 8/10... Step: 0... Loss: 0.238024...\u001b[0m\n",
      "\u001b[31mEpoch: 8, BCELoss: 0.2910426432380871\u001b[0m\n",
      "\u001b[31mEpoch: 9/10... Step: 0... Loss: 0.294364...\u001b[0m\n",
      "\u001b[31mEpoch: 9/10... Step: 0... Loss: 0.273919...\u001b[0m\n",
      "\u001b[31mEpoch: 9/10... Step: 0... Loss: 0.273008...\u001b[0m\n",
      "\u001b[31mEpoch: 9/10... Step: 0... Loss: 0.303144...\u001b[0m\n",
      "\u001b[31mEpoch: 9/10... Step: 0... Loss: 0.289622...\u001b[0m\n",
      "\u001b[31mEpoch: 9/10... Step: 0... Loss: 0.292292...\u001b[0m\n",
      "\u001b[31mEpoch: 9/10... Step: 0... Loss: 0.310647...\u001b[0m\n",
      "\u001b[31mEpoch: 9/10... Step: 0... Loss: 0.288868...\u001b[0m\n",
      "\u001b[31mEpoch: 9/10... Step: 0... Loss: 0.287095...\u001b[0m\n",
      "\u001b[31mEpoch: 9/10... Step: 0... Loss: 0.302701...\u001b[0m\n",
      "\u001b[31mEpoch: 9/10... Step: 0... Loss: 0.310269...\u001b[0m\n",
      "\u001b[31mEpoch: 9/10... Step: 0... Loss: 0.240962...\u001b[0m\n",
      "\u001b[31mEpoch: 9/10... Step: 0... Loss: 0.310797...\u001b[0m\n",
      "\u001b[31mEpoch: 9/10... Step: 0... Loss: 0.289177...\u001b[0m\n",
      "\u001b[31mEpoch: 9/10... Step: 0... Loss: 0.274909...\u001b[0m\n",
      "\u001b[31mEpoch: 9/10... Step: 0... Loss: 0.296617...\u001b[0m\n",
      "\u001b[31mEpoch: 9/10... Step: 0... Loss: 0.236305...\u001b[0m\n",
      "\u001b[31mEpoch: 9/10... Step: 0... Loss: 0.291446...\u001b[0m\n",
      "\u001b[31mEpoch: 9/10... Step: 0... Loss: 0.301864...\u001b[0m\n",
      "\u001b[31mEpoch: 9/10... Step: 0... Loss: 0.258133...\u001b[0m\n",
      "\u001b[31mEpoch: 9/10... Step: 0... Loss: 0.257507...\u001b[0m\n",
      "\u001b[31mEpoch: 9/10... Step: 0... Loss: 0.219360...\u001b[0m\n",
      "\u001b[31mEpoch: 9/10... Step: 0... Loss: 0.243123...\u001b[0m\n",
      "\u001b[31mEpoch: 9/10... Step: 0... Loss: 0.231402...\u001b[0m\n",
      "\u001b[31mEpoch: 9/10... Step: 0... Loss: 0.281922...\u001b[0m\n",
      "\u001b[31mEpoch: 9/10... Step: 0... Loss: 0.314128...\u001b[0m\n",
      "\u001b[31mEpoch: 9/10... Step: 0... Loss: 0.293340...\u001b[0m\n",
      "\u001b[31mEpoch: 9/10... Step: 0... Loss: 0.251248...\u001b[0m\n",
      "\u001b[31mEpoch: 9/10... Step: 0... Loss: 0.291806...\u001b[0m\n",
      "\u001b[31mEpoch: 9/10... Step: 0... Loss: 0.305414...\u001b[0m\n",
      "\u001b[31mEpoch: 9/10... Step: 0... Loss: 0.278835...\u001b[0m\n",
      "\u001b[31mEpoch: 9/10... Step: 0... Loss: 0.248214...\u001b[0m\n",
      "\u001b[31mEpoch: 9/10... Step: 0... Loss: 0.306609...\u001b[0m\n",
      "\u001b[31mEpoch: 9/10... Step: 0... Loss: 0.259748...\u001b[0m\n",
      "\u001b[31mEpoch: 9/10... Step: 0... Loss: 0.246842...\u001b[0m\n",
      "\u001b[31mEpoch: 9/10... Step: 0... Loss: 0.311670...\u001b[0m\n",
      "\u001b[31mEpoch: 9/10... Step: 0... Loss: 0.261325...\u001b[0m\n",
      "\u001b[31mEpoch: 9/10... Step: 0... Loss: 0.248084...\u001b[0m\n",
      "\u001b[31mEpoch: 9/10... Step: 0... Loss: 0.268689...\u001b[0m\n",
      "\u001b[31mEpoch: 9/10... Step: 0... Loss: 0.269810...\u001b[0m\n",
      "\u001b[31mEpoch: 9/10... Step: 0... Loss: 0.259931...\u001b[0m\n",
      "\u001b[31mEpoch: 9/10... Step: 0... Loss: 0.237749...\u001b[0m\n",
      "\u001b[31mEpoch: 9/10... Step: 0... Loss: 0.277518...\u001b[0m\n",
      "\u001b[31mEpoch: 9/10... Step: 0... Loss: 0.302239...\u001b[0m\n",
      "\u001b[31mEpoch: 9/10... Step: 0... Loss: 0.246800...\u001b[0m\n",
      "\u001b[31mEpoch: 9/10... Step: 0... Loss: 0.267917...\u001b[0m\n",
      "\u001b[31mEpoch: 9/10... Step: 0... Loss: 0.248249...\u001b[0m\n",
      "\u001b[31mEpoch: 9/10... Step: 0... Loss: 0.287440...\u001b[0m\n",
      "\u001b[31mEpoch: 9/10... Step: 0... Loss: 0.216159...\u001b[0m\n",
      "\u001b[31mEpoch: 9, BCELoss: 0.2746778918164117\u001b[0m\n",
      "\u001b[31mEpoch: 10/10... Step: 0... Loss: 0.307655...\u001b[0m\n",
      "\u001b[31mEpoch: 10/10... Step: 0... Loss: 0.258987...\u001b[0m\n",
      "\u001b[31mEpoch: 10/10... Step: 0... Loss: 0.268182...\u001b[0m\n",
      "\u001b[31mEpoch: 10/10... Step: 0... Loss: 0.302297...\u001b[0m\n",
      "\u001b[31mEpoch: 10/10... Step: 0... Loss: 0.288923...\u001b[0m\n",
      "\u001b[31mEpoch: 10/10... Step: 0... Loss: 0.296542...\u001b[0m\n",
      "\u001b[31mEpoch: 10/10... Step: 0... Loss: 0.298690...\u001b[0m\n",
      "\u001b[31mEpoch: 10/10... Step: 0... Loss: 0.273556...\u001b[0m\n",
      "\u001b[31mEpoch: 10/10... Step: 0... Loss: 0.333431...\u001b[0m\n",
      "\u001b[31mEpoch: 10/10... Step: 0... Loss: 0.306478...\u001b[0m\n",
      "\u001b[31mEpoch: 10/10... Step: 0... Loss: 0.319543...\u001b[0m\n",
      "\u001b[31mEpoch: 10/10... Step: 0... Loss: 0.263992...\u001b[0m\n",
      "\u001b[31mEpoch: 10/10... Step: 0... Loss: 0.307040...\u001b[0m\n",
      "\u001b[31mEpoch: 10/10... Step: 0... Loss: 0.274309...\u001b[0m\n",
      "\u001b[31mEpoch: 10/10... Step: 0... Loss: 0.280141...\u001b[0m\n",
      "\u001b[31mEpoch: 10/10... Step: 0... Loss: 0.304078...\u001b[0m\n",
      "\u001b[31mEpoch: 10/10... Step: 0... Loss: 0.249104...\u001b[0m\n",
      "\u001b[31mEpoch: 10/10... Step: 0... Loss: 0.290700...\u001b[0m\n",
      "\u001b[31mEpoch: 10/10... Step: 0... Loss: 0.294563...\u001b[0m\n",
      "\u001b[31mEpoch: 10/10... Step: 0... Loss: 0.297673...\u001b[0m\n",
      "\u001b[31mEpoch: 10/10... Step: 0... Loss: 0.248725...\u001b[0m\n",
      "\u001b[31mEpoch: 10/10... Step: 0... Loss: 0.228839...\u001b[0m\n",
      "\u001b[31mEpoch: 10/10... Step: 0... Loss: 0.204723...\u001b[0m\n",
      "\u001b[31mEpoch: 10/10... Step: 0... Loss: 0.229600...\u001b[0m\n",
      "\u001b[31mEpoch: 10/10... Step: 0... Loss: 0.305362...\u001b[0m\n",
      "\u001b[31mEpoch: 10/10... Step: 0... Loss: 0.298290...\u001b[0m\n",
      "\u001b[31mEpoch: 10/10... Step: 0... Loss: 0.285523...\u001b[0m\n",
      "\u001b[31mEpoch: 10/10... Step: 0... Loss: 0.267734...\u001b[0m\n",
      "\u001b[31mEpoch: 10/10... Step: 0... Loss: 0.309538...\u001b[0m\n",
      "\u001b[31mEpoch: 10/10... Step: 0... Loss: 0.328518...\u001b[0m\n",
      "\u001b[31mEpoch: 10/10... Step: 0... Loss: 0.283941...\u001b[0m\n",
      "\u001b[31mEpoch: 10/10... Step: 0... Loss: 0.245946...\u001b[0m\n",
      "\u001b[31mEpoch: 10/10... Step: 0... Loss: 0.294688...\u001b[0m\n",
      "\u001b[31mEpoch: 10/10... Step: 0... Loss: 0.241061...\u001b[0m\n",
      "\u001b[31mEpoch: 10/10... Step: 0... Loss: 0.297323...\u001b[0m\n",
      "\u001b[31mEpoch: 10/10... Step: 0... Loss: 0.277636...\u001b[0m\n",
      "\u001b[31mEpoch: 10/10... Step: 0... Loss: 0.265511...\u001b[0m\n",
      "\u001b[31mEpoch: 10/10... Step: 0... Loss: 0.266385...\u001b[0m\n",
      "\u001b[31mEpoch: 10/10... Step: 0... Loss: 0.258808...\u001b[0m\n",
      "\u001b[31mEpoch: 10/10... Step: 0... Loss: 0.273081...\u001b[0m\n",
      "\u001b[31mEpoch: 10/10... Step: 0... Loss: 0.239399...\u001b[0m\n",
      "\u001b[31mEpoch: 10/10... Step: 0... Loss: 0.230962...\u001b[0m\n",
      "\u001b[31mEpoch: 10/10... Step: 0... Loss: 0.272832...\u001b[0m\n",
      "\u001b[31mEpoch: 10/10... Step: 0... Loss: 0.257901...\u001b[0m\n",
      "\u001b[31mEpoch: 10/10... Step: 0... Loss: 0.234028...\u001b[0m\n",
      "\u001b[31mEpoch: 10/10... Step: 0... Loss: 0.241515...\u001b[0m\n",
      "\u001b[31mEpoch: 10/10... Step: 0... Loss: 0.211988...\u001b[0m\n",
      "\u001b[31mEpoch: 10/10... Step: 0... Loss: 0.260856...\u001b[0m\n",
      "\u001b[31mEpoch: 10/10... Step: 0... Loss: 0.216606...\u001b[0m\n",
      "\u001b[31mEpoch: 10, BCELoss: 0.273330777275319\u001b[0m\n",
      "\u001b[31m2019-04-29 19:33:05,541 sagemaker-containers INFO     Reporting training SUCCESS\u001b[0m\n"
     ]
    },
    {
     "name": "stdout",
     "output_type": "stream",
     "text": [
      "\n",
      "2019-04-29 19:33:16 Uploading - Uploading generated training model\n",
      "2019-04-29 19:33:16 Completed - Training job completed\n",
      "Billable seconds: 248\n"
     ]
    }
   ],
   "source": [
    "estimator.fit({'training': input_data})"
   ]
  },
  {
   "cell_type": "markdown",
   "metadata": {},
   "source": [
    "## Step 5: Testing the model\n",
    "\n",
    "As mentioned at the top of this notebook, we will be testing this model by first deploying it and then sending the testing data to the deployed endpoint. We will do this so that we can make sure that the deployed model is working correctly.\n",
    "\n",
    "## Step 6: Deploy the model for testing\n",
    "\n",
    "Now that we have trained our model, we would like to test it to see how it performs. Currently our model takes input of the form `review_length, review[500]` where `review[500]` is a sequence of `500` integers which describe the words present in the review, encoded using `word_dict`. Fortunately for us, SageMaker provides built-in inference code for models with simple inputs such as this.\n",
    "\n",
    "There is one thing that we need to provide, however, and that is a function which loads the saved model. This function must be called `model_fn()` and takes as its only parameter a path to the directory where the model artifacts are stored. This function must also be present in the python file which we specified as the entry point. In our case the model loading function has been provided and so no changes need to be made.\n",
    "\n",
    "**NOTE**: When the built-in inference code is run it must import the `model_fn()` method from the `train.py` file. This is why the training code is wrapped in a main guard ( ie, `if __name__ == '__main__':` )\n",
    "\n",
    "Since we don't need to change anything in the code that was uploaded during training, we can simply deploy the current model as-is.\n",
    "\n",
    "**NOTE:** When deploying a model you are asking SageMaker to launch an compute instance that will wait for data to be sent to it. As a result, this compute instance will continue to run until *you* shut it down. This is important to know since the cost of a deployed endpoint depends on how long it has been running for.\n",
    "\n",
    "In other words **If you are no longer using a deployed endpoint, shut it down!**\n",
    "\n",
    "**TODO:** Deploy the trained model."
   ]
  },
  {
   "cell_type": "code",
   "execution_count": 28,
   "metadata": {},
   "outputs": [
    {
     "name": "stderr",
     "output_type": "stream",
     "text": [
      "INFO:sagemaker:Creating model with name: sagemaker-pytorch-2019-04-29-19-25-58-023\n",
      "INFO:sagemaker:Creating endpoint with name sagemaker-pytorch-2019-04-29-19-25-58-023\n"
     ]
    },
    {
     "name": "stdout",
     "output_type": "stream",
     "text": [
      "----------------------------------------------------------------------------------------!"
     ]
    }
   ],
   "source": [
    "# TODO: Deploy the trained model\n",
    "predictor = estimator.deploy(initial_instance_count=1, instance_type='ml.m4.xlarge')"
   ]
  },
  {
   "cell_type": "markdown",
   "metadata": {},
   "source": [
    "## Step 7 - Use the model for testing\n",
    "\n",
    "Once deployed, we can read in the test data and send it off to our deployed model to get some results. Once we collect all of the results we can determine how accurate our model is."
   ]
  },
  {
   "cell_type": "code",
   "execution_count": 29,
   "metadata": {},
   "outputs": [],
   "source": [
    "test_X = pd.concat([pd.DataFrame(test_X_len), pd.DataFrame(test_X)], axis=1)"
   ]
  },
  {
   "cell_type": "code",
   "execution_count": 30,
   "metadata": {},
   "outputs": [],
   "source": [
    "# We split the data into chunks and send each chunk seperately, accumulating the results.\n",
    "\n",
    "def predict(data, rows=512):\n",
    "    split_array = np.array_split(data, int(data.shape[0] / float(rows) + 1))\n",
    "    predictions = np.array([])\n",
    "    for array in split_array:\n",
    "        predictions = np.append(predictions, predictor.predict(array))\n",
    "    \n",
    "    return predictions"
   ]
  },
  {
   "cell_type": "code",
   "execution_count": 31,
   "metadata": {},
   "outputs": [],
   "source": [
    "predictions = predict(test_X.values)\n",
    "predictions = [round(num) for num in predictions]"
   ]
  },
  {
   "cell_type": "code",
   "execution_count": 32,
   "metadata": {},
   "outputs": [
    {
     "data": {
      "text/plain": [
       "0.85964"
      ]
     },
     "execution_count": 32,
     "metadata": {},
     "output_type": "execute_result"
    }
   ],
   "source": [
    "from sklearn.metrics import accuracy_score\n",
    "accuracy_score(test_y, predictions)"
   ]
  },
  {
   "cell_type": "markdown",
   "metadata": {},
   "source": [
    "**Question:** How does this model compare to the XGBoost model you created earlier? Why might these two models perform differently on this dataset? Which do *you* think is better for sentiment analysis?"
   ]
  },
  {
   "cell_type": "markdown",
   "metadata": {},
   "source": [
    "**Answer:**\n",
    "The accuracy is similar or equivalent with XGBoost. The reason is the model is a simple RNN and a more complex model with more parameters might improve the accurracy. For this current project with about 25,000 reviews for training and the reviews converted into 500 tokens with the result being a postive or negative prediction. XGBoost might be better for it since high accurracy is not required. And to use a more accurate model we need more reviews for training to prevent overfitting."
   ]
  },
  {
   "cell_type": "markdown",
   "metadata": {},
   "source": [
    "### (TODO) More testing\n",
    "\n",
    "We now have a trained model which has been deployed and which we can send processed reviews to and which returns the predicted sentiment. However, ultimately we would like to be able to send our model an unprocessed review. That is, we would like to send the review itself as a string. For example, suppose we wish to send the following review to our model."
   ]
  },
  {
   "cell_type": "code",
   "execution_count": 33,
   "metadata": {},
   "outputs": [],
   "source": [
    "test_review = 'The simplest pleasures in life are the best, and this film is one of them. Combining a rather basic storyline of love and adventure this movie transcends the usual weekend fair with wit and unmitigated charm.'"
   ]
  },
  {
   "cell_type": "markdown",
   "metadata": {},
   "source": [
    "The question we now need to answer is, how do we send this review to our model?\n",
    "\n",
    "Recall in the first section of this notebook we did a bunch of data processing to the IMDb dataset. In particular, we did two specific things to the provided reviews.\n",
    " - Removed any html tags and stemmed the input\n",
    " - Encoded the review as a sequence of integers using `word_dict`\n",
    " \n",
    "In order process the review we will need to repeat these two steps.\n",
    "\n",
    "**TODO**: Using the `review_to_words` and `convert_and_pad` methods from section one, convert `test_review` into a numpy array `test_data` suitable to send to our model. Remember that our model expects input of the form `review_length, review[500]`."
   ]
  },
  {
   "cell_type": "code",
   "execution_count": 34,
   "metadata": {
    "scrolled": true
   },
   "outputs": [],
   "source": [
    "# TODO: Convert test_review into a form usable by the model and save the results in test_data\n",
    "words_test_review = review_to_words(test_review)\n",
    "test_data_X, test_data_len = convert_and_pad(word_dict, words_test_review)\n",
    "#test_data = [np.insert(test_data, 0, test_data_length)]\n",
    "test_data_pack = np.hstack((test_data_len, test_data_X))\n",
    "test_data_pack = test_data_pack.reshape(1, -1)\n",
    "test_data = torch.from_numpy(test_data_pack)"
   ]
  },
  {
   "cell_type": "markdown",
   "metadata": {},
   "source": [
    "Now that we have processed the review, we can send the resulting array to our model to predict the sentiment of the review."
   ]
  },
  {
   "cell_type": "code",
   "execution_count": 35,
   "metadata": {},
   "outputs": [
    {
     "data": {
      "text/plain": [
       "0.8804157972335815"
      ]
     },
     "execution_count": 35,
     "metadata": {},
     "output_type": "execute_result"
    }
   ],
   "source": [
    "float(predictor.predict(test_data))"
   ]
  },
  {
   "cell_type": "markdown",
   "metadata": {},
   "source": [
    "Since the return value of our model is close to `1`, we can be certain that the review we submitted is positive."
   ]
  },
  {
   "cell_type": "markdown",
   "metadata": {},
   "source": [
    "### Delete the endpoint\n",
    "\n",
    "Of course, just like in the XGBoost notebook, once we've deployed an endpoint it continues to run until we tell it to shut down. Since we are done using our endpoint for now, we can delete it."
   ]
  },
  {
   "cell_type": "code",
   "execution_count": 36,
   "metadata": {},
   "outputs": [
    {
     "name": "stderr",
     "output_type": "stream",
     "text": [
      "INFO:sagemaker:Deleting endpoint with name: sagemaker-pytorch-2019-04-29-19-25-58-023\n"
     ]
    }
   ],
   "source": [
    "estimator.delete_endpoint()"
   ]
  },
  {
   "cell_type": "markdown",
   "metadata": {},
   "source": [
    "## Step 6 (again) - Deploy the model for the web app\n",
    "\n",
    "Now that we know that our model is working, it's time to create some custom inference code so that we can send the model a review which has not been processed and have it determine the sentiment of the review.\n",
    "\n",
    "As we saw above, by default the estimator which we created, when deployed, will use the entry script and directory which we provided when creating the model. However, since we now wish to accept a string as input and our model expects a processed review, we need to write some custom inference code.\n",
    "\n",
    "We will store the code that we write in the `serve` directory. Provided in this directory is the `model.py` file that we used to construct our model, a `utils.py` file which contains the `review_to_words` and `convert_and_pad` pre-processing functions which we used during the initial data processing, and `predict.py`, the file which will contain our custom inference code. Note also that `requirements.txt` is present which will tell SageMaker what Python libraries are required by our custom inference code.\n",
    "\n",
    "When deploying a PyTorch model in SageMaker, you are expected to provide four functions which the SageMaker inference container will use.\n",
    " - `model_fn`: This function is the same function that we used in the training script and it tells SageMaker how to load our model.\n",
    " - `input_fn`: This function receives the raw serialized input that has been sent to the model's endpoint and its job is to de-serialize and make the input available for the inference code.\n",
    " - `output_fn`: This function takes the output of the inference code and its job is to serialize this output and return it to the caller of the model's endpoint.\n",
    " - `predict_fn`: The heart of the inference script, this is where the actual prediction is done and is the function which you will need to complete.\n",
    "\n",
    "For the simple website that we are constructing during this project, the `input_fn` and `output_fn` methods are relatively straightforward. We only require being able to accept a string as input and we expect to return a single value as output. You might imagine though that in a more complex application the input or output may be image data or some other binary data which would require some effort to serialize.\n",
    "\n",
    "### (TODO) Writing inference code\n",
    "\n",
    "Before writing our custom inference code, we will begin by taking a look at the code which has been provided."
   ]
  },
  {
   "cell_type": "code",
   "execution_count": 37,
   "metadata": {},
   "outputs": [
    {
     "name": "stdout",
     "output_type": "stream",
     "text": [
      "\u001b[34mimport\u001b[39;49;00m \u001b[04m\u001b[36margparse\u001b[39;49;00m\r\n",
      "\u001b[34mimport\u001b[39;49;00m \u001b[04m\u001b[36mjson\u001b[39;49;00m\r\n",
      "\u001b[34mimport\u001b[39;49;00m \u001b[04m\u001b[36mos\u001b[39;49;00m\r\n",
      "\u001b[34mimport\u001b[39;49;00m \u001b[04m\u001b[36mpickle\u001b[39;49;00m\r\n",
      "\u001b[34mimport\u001b[39;49;00m \u001b[04m\u001b[36msys\u001b[39;49;00m\r\n",
      "\u001b[34mimport\u001b[39;49;00m \u001b[04m\u001b[36msagemaker_containers\u001b[39;49;00m\r\n",
      "\u001b[34mimport\u001b[39;49;00m \u001b[04m\u001b[36mpandas\u001b[39;49;00m \u001b[34mas\u001b[39;49;00m \u001b[04m\u001b[36mpd\u001b[39;49;00m\r\n",
      "\u001b[34mimport\u001b[39;49;00m \u001b[04m\u001b[36mnumpy\u001b[39;49;00m \u001b[34mas\u001b[39;49;00m \u001b[04m\u001b[36mnp\u001b[39;49;00m\r\n",
      "\u001b[34mimport\u001b[39;49;00m \u001b[04m\u001b[36mtorch\u001b[39;49;00m\r\n",
      "\u001b[34mimport\u001b[39;49;00m \u001b[04m\u001b[36mtorch.nn\u001b[39;49;00m \u001b[34mas\u001b[39;49;00m \u001b[04m\u001b[36mnn\u001b[39;49;00m\r\n",
      "\u001b[34mimport\u001b[39;49;00m \u001b[04m\u001b[36mtorch.optim\u001b[39;49;00m \u001b[34mas\u001b[39;49;00m \u001b[04m\u001b[36moptim\u001b[39;49;00m\r\n",
      "\u001b[34mimport\u001b[39;49;00m \u001b[04m\u001b[36mtorch.utils.data\u001b[39;49;00m\r\n",
      "\r\n",
      "\u001b[34mfrom\u001b[39;49;00m \u001b[04m\u001b[36mmodel\u001b[39;49;00m \u001b[34mimport\u001b[39;49;00m LSTMClassifier\r\n",
      "\r\n",
      "\u001b[34mfrom\u001b[39;49;00m \u001b[04m\u001b[36mutils\u001b[39;49;00m \u001b[34mimport\u001b[39;49;00m review_to_words, convert_and_pad\r\n",
      "\r\n",
      "\u001b[34mdef\u001b[39;49;00m \u001b[32mmodel_fn\u001b[39;49;00m(model_dir):\r\n",
      "    \u001b[33m\"\"\"Load the PyTorch model from the `model_dir` directory.\"\"\"\u001b[39;49;00m\r\n",
      "    \u001b[34mprint\u001b[39;49;00m(\u001b[33m\"\u001b[39;49;00m\u001b[33mLoading model.\u001b[39;49;00m\u001b[33m\"\u001b[39;49;00m)\r\n",
      "\r\n",
      "    \u001b[37m# First, load the parameters used to create the model.\u001b[39;49;00m\r\n",
      "    model_info = {}\r\n",
      "    model_info_path = os.path.join(model_dir, \u001b[33m'\u001b[39;49;00m\u001b[33mmodel_info.pth\u001b[39;49;00m\u001b[33m'\u001b[39;49;00m)\r\n",
      "    \u001b[34mwith\u001b[39;49;00m \u001b[36mopen\u001b[39;49;00m(model_info_path, \u001b[33m'\u001b[39;49;00m\u001b[33mrb\u001b[39;49;00m\u001b[33m'\u001b[39;49;00m) \u001b[34mas\u001b[39;49;00m f:\r\n",
      "        model_info = torch.load(f)\r\n",
      "\r\n",
      "    \u001b[34mprint\u001b[39;49;00m(\u001b[33m\"\u001b[39;49;00m\u001b[33mmodel_info: {}\u001b[39;49;00m\u001b[33m\"\u001b[39;49;00m.format(model_info))\r\n",
      "\r\n",
      "    \u001b[37m# Determine the device and construct the model.\u001b[39;49;00m\r\n",
      "    device = torch.device(\u001b[33m\"\u001b[39;49;00m\u001b[33mcuda\u001b[39;49;00m\u001b[33m\"\u001b[39;49;00m \u001b[34mif\u001b[39;49;00m torch.cuda.is_available() \u001b[34melse\u001b[39;49;00m \u001b[33m\"\u001b[39;49;00m\u001b[33mcpu\u001b[39;49;00m\u001b[33m\"\u001b[39;49;00m)\r\n",
      "    model = LSTMClassifier(model_info[\u001b[33m'\u001b[39;49;00m\u001b[33membedding_dim\u001b[39;49;00m\u001b[33m'\u001b[39;49;00m], model_info[\u001b[33m'\u001b[39;49;00m\u001b[33mhidden_dim\u001b[39;49;00m\u001b[33m'\u001b[39;49;00m], model_info[\u001b[33m'\u001b[39;49;00m\u001b[33mvocab_size\u001b[39;49;00m\u001b[33m'\u001b[39;49;00m])\r\n",
      "\r\n",
      "    \u001b[37m# Load the store model parameters.\u001b[39;49;00m\r\n",
      "    model_path = os.path.join(model_dir, \u001b[33m'\u001b[39;49;00m\u001b[33mmodel.pth\u001b[39;49;00m\u001b[33m'\u001b[39;49;00m)\r\n",
      "    \u001b[34mwith\u001b[39;49;00m \u001b[36mopen\u001b[39;49;00m(model_path, \u001b[33m'\u001b[39;49;00m\u001b[33mrb\u001b[39;49;00m\u001b[33m'\u001b[39;49;00m) \u001b[34mas\u001b[39;49;00m f:\r\n",
      "        model.load_state_dict(torch.load(f))\r\n",
      "\r\n",
      "    \u001b[37m# Load the saved word_dict.\u001b[39;49;00m\r\n",
      "    word_dict_path = os.path.join(model_dir, \u001b[33m'\u001b[39;49;00m\u001b[33mword_dict.pkl\u001b[39;49;00m\u001b[33m'\u001b[39;49;00m)\r\n",
      "    \u001b[34mwith\u001b[39;49;00m \u001b[36mopen\u001b[39;49;00m(word_dict_path, \u001b[33m'\u001b[39;49;00m\u001b[33mrb\u001b[39;49;00m\u001b[33m'\u001b[39;49;00m) \u001b[34mas\u001b[39;49;00m f:\r\n",
      "        model.word_dict = pickle.load(f)\r\n",
      "\r\n",
      "    model.to(device).eval()\r\n",
      "\r\n",
      "    \u001b[34mprint\u001b[39;49;00m(\u001b[33m\"\u001b[39;49;00m\u001b[33mDone loading model.\u001b[39;49;00m\u001b[33m\"\u001b[39;49;00m)\r\n",
      "    \u001b[34mreturn\u001b[39;49;00m model\r\n",
      "\r\n",
      "\u001b[34mdef\u001b[39;49;00m \u001b[32minput_fn\u001b[39;49;00m(serialized_input_data, content_type):\r\n",
      "    \u001b[34mprint\u001b[39;49;00m(\u001b[33m'\u001b[39;49;00m\u001b[33mDeserializing the input data.\u001b[39;49;00m\u001b[33m'\u001b[39;49;00m)\r\n",
      "    \u001b[34mif\u001b[39;49;00m content_type == \u001b[33m'\u001b[39;49;00m\u001b[33mtext/plain\u001b[39;49;00m\u001b[33m'\u001b[39;49;00m:\r\n",
      "        data = serialized_input_data.decode(\u001b[33m'\u001b[39;49;00m\u001b[33mutf-8\u001b[39;49;00m\u001b[33m'\u001b[39;49;00m)\r\n",
      "        \u001b[34mreturn\u001b[39;49;00m data\r\n",
      "    \u001b[34mraise\u001b[39;49;00m \u001b[36mException\u001b[39;49;00m(\u001b[33m'\u001b[39;49;00m\u001b[33mRequested unsupported ContentType in content_type: \u001b[39;49;00m\u001b[33m'\u001b[39;49;00m + content_type)\r\n",
      "\r\n",
      "\u001b[34mdef\u001b[39;49;00m \u001b[32moutput_fn\u001b[39;49;00m(prediction_output, accept):\r\n",
      "    \u001b[34mprint\u001b[39;49;00m(\u001b[33m'\u001b[39;49;00m\u001b[33mSerializing the generated output.\u001b[39;49;00m\u001b[33m'\u001b[39;49;00m)\r\n",
      "    \u001b[34mreturn\u001b[39;49;00m \u001b[36mstr\u001b[39;49;00m(prediction_output)\r\n",
      "\r\n",
      "\u001b[34mdef\u001b[39;49;00m \u001b[32mpredict_fn\u001b[39;49;00m(input_data, model):\r\n",
      "    \u001b[34mprint\u001b[39;49;00m(\u001b[33m'\u001b[39;49;00m\u001b[33mInferring sentiment of input data.\u001b[39;49;00m\u001b[33m'\u001b[39;49;00m)\r\n",
      "\r\n",
      "    device = torch.device(\u001b[33m\"\u001b[39;49;00m\u001b[33mcuda\u001b[39;49;00m\u001b[33m\"\u001b[39;49;00m \u001b[34mif\u001b[39;49;00m torch.cuda.is_available() \u001b[34melse\u001b[39;49;00m \u001b[33m\"\u001b[39;49;00m\u001b[33mcpu\u001b[39;49;00m\u001b[33m\"\u001b[39;49;00m)\r\n",
      "    \r\n",
      "    \u001b[34mif\u001b[39;49;00m model.word_dict \u001b[35mis\u001b[39;49;00m \u001b[36mNone\u001b[39;49;00m:\r\n",
      "        \u001b[34mraise\u001b[39;49;00m \u001b[36mException\u001b[39;49;00m(\u001b[33m'\u001b[39;49;00m\u001b[33mModel has not been loaded properly, no word_dict.\u001b[39;49;00m\u001b[33m'\u001b[39;49;00m)\r\n",
      "    \r\n",
      "    \u001b[37m# TODO: Process input_data so that it is ready to be sent to our model.\u001b[39;49;00m\r\n",
      "    \u001b[37m#       You should produce two variables:\u001b[39;49;00m\r\n",
      "    \u001b[37m#         data_X   - A sequence of length 500 which represents the converted review\u001b[39;49;00m\r\n",
      "    \u001b[37m#         data_len - The length of the review\u001b[39;49;00m\r\n",
      "\r\n",
      "    words = review_to_words(input_data)\r\n",
      "    data_X, data_len = convert_and_pad(model.word_dict, words)\r\n",
      "\r\n",
      "    \u001b[37m# Using data_X and data_len we construct an appropriate input tensor. Remember\u001b[39;49;00m\r\n",
      "    \u001b[37m# that our model expects input data of the form 'len, review[500]'.\u001b[39;49;00m\r\n",
      "    data_pack = np.hstack((data_len, data_X))\r\n",
      "    data_pack = data_pack.reshape(\u001b[34m1\u001b[39;49;00m, -\u001b[34m1\u001b[39;49;00m)\r\n",
      "    \r\n",
      "    data = torch.from_numpy(data_pack)\r\n",
      "    data = data.to(device)\r\n",
      "\r\n",
      "    \u001b[37m# Make sure to put the model into evaluation mode\u001b[39;49;00m\r\n",
      "    model.eval()\r\n",
      "\r\n",
      "    \u001b[37m# TODO: Compute the result of applying the model to the input data. The variable `result` should\u001b[39;49;00m\r\n",
      "    \u001b[37m#       be a numpy array which contains a single integer which is either 1 or 0\u001b[39;49;00m\r\n",
      "\r\n",
      "    result = model(data).detach().numpy()\r\n",
      "    result = np.rint(result).astype(\u001b[36mint\u001b[39;49;00m)\r\n",
      "    \u001b[34mreturn\u001b[39;49;00m result\r\n"
     ]
    }
   ],
   "source": [
    "!pygmentize serve/predict.py"
   ]
  },
  {
   "cell_type": "markdown",
   "metadata": {},
   "source": [
    "As mentioned earlier, the `model_fn` method is the same as the one provided in the training code and the `input_fn` and `output_fn` methods are very simple and your task will be to complete the `predict_fn` method. Make sure that you save the completed file as `predict.py` in the `serve` directory.\n",
    "\n",
    "**TODO**: Complete the `predict_fn()` method in the `serve/predict.py` file."
   ]
  },
  {
   "cell_type": "markdown",
   "metadata": {},
   "source": [
    "### Deploying the model\n",
    "\n",
    "Now that the custom inference code has been written, we will create and deploy our model. To begin with, we need to construct a new PyTorchModel object which points to the model artifacts created during training and also points to the inference code that we wish to use. Then we can call the deploy method to launch the deployment container.\n",
    "\n",
    "**NOTE**: The default behaviour for a deployed PyTorch model is to assume that any input passed to the predictor is a `numpy` array. In our case we want to send a string so we need to construct a simple wrapper around the `RealTimePredictor` class to accomodate simple strings. In a more complicated situation you may want to provide a serialization object, for example if you wanted to sent image data."
   ]
  },
  {
   "cell_type": "code",
   "execution_count": 38,
   "metadata": {},
   "outputs": [
    {
     "name": "stderr",
     "output_type": "stream",
     "text": [
      "INFO:sagemaker:Created S3 bucket: sagemaker-us-east-1-291097545587\n",
      "INFO:sagemaker:Creating model with name: sagemaker-pytorch-2019-04-29-19-45-03-531\n",
      "INFO:sagemaker:Creating endpoint with name sagemaker-pytorch-2019-04-29-19-45-03-531\n"
     ]
    },
    {
     "name": "stdout",
     "output_type": "stream",
     "text": [
      "-----------------------------------------------------------------------------------------!"
     ]
    }
   ],
   "source": [
    "from sagemaker.predictor import RealTimePredictor\n",
    "from sagemaker.pytorch import PyTorchModel\n",
    "\n",
    "class StringPredictor(RealTimePredictor):\n",
    "    def __init__(self, endpoint_name, sagemaker_session):\n",
    "        super(StringPredictor, self).__init__(endpoint_name, sagemaker_session, content_type='text/plain')\n",
    "\n",
    "model = PyTorchModel(model_data=estimator.model_data,\n",
    "                     role = role,\n",
    "                     framework_version='0.4.0',\n",
    "                     entry_point='predict.py',\n",
    "                     source_dir='serve',\n",
    "                     predictor_cls=StringPredictor)\n",
    "predictor = model.deploy(initial_instance_count=1, instance_type='ml.m4.xlarge')"
   ]
  },
  {
   "cell_type": "markdown",
   "metadata": {},
   "source": [
    "### Testing the model\n",
    "\n",
    "Now that we have deployed our model with the custom inference code, we should test to see if everything is working. Here we test our model by loading the first `250` positive and negative reviews and send them to the endpoint, then collect the results. The reason for only sending some of the data is that the amount of time it takes for our model to process the input and then perform inference is quite long and so testing the entire data set would be prohibitive."
   ]
  },
  {
   "cell_type": "code",
   "execution_count": 39,
   "metadata": {},
   "outputs": [],
   "source": [
    "import glob\n",
    "\n",
    "def test_reviews(data_dir='../data/aclImdb', stop=250):\n",
    "    \n",
    "    results = []\n",
    "    ground = []\n",
    "    \n",
    "    # We make sure to test both positive and negative reviews    \n",
    "    for sentiment in ['pos', 'neg']:\n",
    "        \n",
    "        path = os.path.join(data_dir, 'test', sentiment, '*.txt')\n",
    "        files = glob.glob(path)\n",
    "        \n",
    "        files_read = 0\n",
    "        \n",
    "        print('Starting ', sentiment, ' files')\n",
    "        \n",
    "        # Iterate through the files and send them to the predictor\n",
    "        for f in files:\n",
    "            with open(f) as review:\n",
    "                # First, we store the ground truth (was the review positive or negative)\n",
    "                if sentiment == 'pos':\n",
    "                    ground.append(1)\n",
    "                else:\n",
    "                    ground.append(0)\n",
    "                # Read in the review and convert to 'utf-8' for transmission via HTTP\n",
    "                review_input = review.read().encode('utf-8')\n",
    "                # Send the review to the predictor and store the results\n",
    "                results.append(int(float(predictor.predict(review_input))))\n",
    "                \n",
    "            # Sending reviews to our endpoint one at a time takes a while so we\n",
    "            # only send a small number of reviews\n",
    "            files_read += 1\n",
    "            if files_read == stop:\n",
    "                break\n",
    "            \n",
    "    return ground, results"
   ]
  },
  {
   "cell_type": "code",
   "execution_count": 40,
   "metadata": {},
   "outputs": [
    {
     "name": "stdout",
     "output_type": "stream",
     "text": [
      "Starting  pos  files\n",
      "Starting  neg  files\n"
     ]
    }
   ],
   "source": [
    "ground, results = test_reviews()"
   ]
  },
  {
   "cell_type": "code",
   "execution_count": 41,
   "metadata": {},
   "outputs": [
    {
     "data": {
      "text/plain": [
       "0.852"
      ]
     },
     "execution_count": 41,
     "metadata": {},
     "output_type": "execute_result"
    }
   ],
   "source": [
    "from sklearn.metrics import accuracy_score\n",
    "accuracy_score(ground, results)"
   ]
  },
  {
   "cell_type": "markdown",
   "metadata": {},
   "source": [
    "As an additional test, we can try sending the `test_review` that we looked at earlier."
   ]
  },
  {
   "cell_type": "code",
   "execution_count": 42,
   "metadata": {},
   "outputs": [
    {
     "data": {
      "text/plain": [
       "b'1'"
      ]
     },
     "execution_count": 42,
     "metadata": {},
     "output_type": "execute_result"
    }
   ],
   "source": [
    "predictor.predict(test_review)"
   ]
  },
  {
   "cell_type": "markdown",
   "metadata": {},
   "source": [
    "Now that we know our endpoint is working as expected, we can set up the web page that will interact with it. If you don't have time to finish the project now, make sure to skip down to the end of this notebook and shut down your endpoint. You can deploy it again when you come back."
   ]
  },
  {
   "cell_type": "markdown",
   "metadata": {},
   "source": [
    "## Step 7 (again): Use the model for the web app\n",
    "\n",
    "> **TODO:** This entire section and the next contain tasks for you to complete, mostly using the AWS console.\n",
    "\n",
    "So far we have been accessing our model endpoint by constructing a predictor object which uses the endpoint and then just using the predictor object to perform inference. What if we wanted to create a web app which accessed our model? The way things are set up currently makes that not possible since in order to access a SageMaker endpoint the app would first have to authenticate with AWS using an IAM role which included access to SageMaker endpoints. However, there is an easier way! We just need to use some additional AWS services.\n",
    "\n",
    "<img src=\"Web App Diagram.svg\">\n",
    "\n",
    "The diagram above gives an overview of how the various services will work together. On the far right is the model which we trained above and which is deployed using SageMaker. On the far left is our web app that collects a user's movie review, sends it off and expects a positive or negative sentiment in return.\n",
    "\n",
    "In the middle is where some of the magic happens. We will construct a Lambda function, which you can think of as a straightforward Python function that can be executed whenever a specified event occurs. We will give this function permission to send and recieve data from a SageMaker endpoint.\n",
    "\n",
    "Lastly, the method we will use to execute the Lambda function is a new endpoint that we will create using API Gateway. This endpoint will be a url that listens for data to be sent to it. Once it gets some data it will pass that data on to the Lambda function and then return whatever the Lambda function returns. Essentially it will act as an interface that lets our web app communicate with the Lambda function.\n",
    "\n",
    "### Setting up a Lambda function\n",
    "\n",
    "The first thing we are going to do is set up a Lambda function. This Lambda function will be executed whenever our public API has data sent to it. When it is executed it will receive the data, perform any sort of processing that is required, send the data (the review) to the SageMaker endpoint we've created and then return the result.\n",
    "\n",
    "#### Part A: Create an IAM Role for the Lambda function\n",
    "\n",
    "Since we want the Lambda function to call a SageMaker endpoint, we need to make sure that it has permission to do so. To do this, we will construct a role that we can later give the Lambda function.\n",
    "\n",
    "Using the AWS Console, navigate to the **IAM** page and click on **Roles**. Then, click on **Create role**. Make sure that the **AWS service** is the type of trusted entity selected and choose **Lambda** as the service that will use this role, then click **Next: Permissions**.\n",
    "\n",
    "In the search box type `sagemaker` and select the check box next to the **AmazonSageMakerFullAccess** policy. Then, click on **Next: Review**.\n",
    "\n",
    "Lastly, give this role a name. Make sure you use a name that you will remember later on, for example `LambdaSageMakerRole`. Then, click on **Create role**.\n",
    "\n",
    "#### Part B: Create a Lambda function\n",
    "\n",
    "Now it is time to actually create the Lambda function.\n",
    "\n",
    "Using the AWS Console, navigate to the AWS Lambda page and click on **Create a function**. When you get to the next page, make sure that **Author from scratch** is selected. Now, name your Lambda function, using a name that you will remember later on, for example `sentiment_analysis_func`. Make sure that the **Python 3.6** runtime is selected and then choose the role that you created in the previous part. Then, click on **Create Function**.\n",
    "\n",
    "On the next page you will see some information about the Lambda function you've just created. If you scroll down you should see an editor in which you can write the code that will be executed when your Lambda function is triggered. In our example, we will use the code below. \n",
    "\n",
    "```python\n",
    "# We need to use the low-level library to interact with SageMaker since the SageMaker API\n",
    "# is not available natively through Lambda.\n",
    "import boto3\n",
    "\n",
    "def lambda_handler(event, context):\n",
    "\n",
    "    # The SageMaker runtime is what allows us to invoke the endpoint that we've created.\n",
    "    runtime = boto3.Session().client('sagemaker-runtime')\n",
    "\n",
    "    # Now we use the SageMaker runtime to invoke our endpoint, sending the review we were given\n",
    "    response = runtime.invoke_endpoint(EndpointName = '**ENDPOINT NAME HERE**',    # The name of the endpoint we created\n",
    "                                       ContentType = 'text/plain',                 # The data format that is expected\n",
    "                                       Body = event['body'])                       # The actual review\n",
    "\n",
    "    # The response is an HTTP response whose body contains the result of our inference\n",
    "    result = response['Body'].read().decode('utf-8')\n",
    "\n",
    "    return {\n",
    "        'statusCode' : 200,\n",
    "        'headers' : { 'Content-Type' : 'text/plain', 'Access-Control-Allow-Origin' : '*' },\n",
    "        'body' : result\n",
    "    }\n",
    "```\n",
    "\n",
    "Once you have copy and pasted the code above into the Lambda code editor, replace the `**ENDPOINT NAME HERE**` portion with the name of the endpoint that we deployed earlier. You can determine the name of the endpoint using the code cell below."
   ]
  },
  {
   "cell_type": "code",
   "execution_count": 43,
   "metadata": {},
   "outputs": [
    {
     "data": {
      "text/plain": [
       "'sagemaker-pytorch-2019-04-29-19-45-03-531'"
      ]
     },
     "execution_count": 43,
     "metadata": {},
     "output_type": "execute_result"
    }
   ],
   "source": [
    "predictor.endpoint"
   ]
  },
  {
   "cell_type": "markdown",
   "metadata": {},
   "source": [
    "Once you have added the endpoint name to the Lambda function, click on **Save**. Your Lambda function is now up and running. Next we need to create a way for our web app to execute the Lambda function.\n",
    "\n",
    "### Setting up API Gateway\n",
    "\n",
    "Now that our Lambda function is set up, it is time to create a new API using API Gateway that will trigger the Lambda function we have just created.\n",
    "\n",
    "Using AWS Console, navigate to **Amazon API Gateway** and then click on **Get started**.\n",
    "\n",
    "On the next page, make sure that **New API** is selected and give the new api a name, for example, `sentiment_analysis_api`. Then, click on **Create API**.\n",
    "\n",
    "Now we have created an API, however it doesn't currently do anything. What we want it to do is to trigger the Lambda function that we created earlier.\n",
    "\n",
    "Select the **Actions** dropdown menu and click **Create Method**. A new blank method will be created, select its dropdown menu and select **POST**, then click on the check mark beside it.\n",
    "\n",
    "For the integration point, make sure that **Lambda Function** is selected and click on the **Use Lambda Proxy integration**. This option makes sure that the data that is sent to the API is then sent directly to the Lambda function with no processing. It also means that the return value must be a proper response object as it will also not be processed by API Gateway.\n",
    "\n",
    "Type the name of the Lambda function you created earlier into the **Lambda Function** text entry box and then click on **Save**. Click on **OK** in the pop-up box that then appears, giving permission to API Gateway to invoke the Lambda function you created.\n",
    "\n",
    "The last step in creating the API Gateway is to select the **Actions** dropdown and click on **Deploy API**. You will need to create a new Deployment stage and name it anything you like, for example `prod`.\n",
    "\n",
    "You have now successfully set up a public API to access your SageMaker model. Make sure to copy or write down the URL provided to invoke your newly created public API as this will be needed in the next step. This URL can be found at the top of the page, highlighted in blue next to the text **Invoke URL**."
   ]
  },
  {
   "cell_type": "markdown",
   "metadata": {},
   "source": [
    "## Step 4: Deploying our web app\n",
    "\n",
    "Now that we have a publicly available API, we can start using it in a web app. For our purposes, we have provided a simple static html file which can make use of the public api you created earlier.\n",
    "\n",
    "In the `website` folder there should be a file called `index.html`. Download the file to your computer and open that file up in a text editor of your choice. There should be a line which contains **\\*\\*REPLACE WITH PUBLIC API URL\\*\\***. Replace this string with the url that you wrote down in the last step and then save the file.\n",
    "\n",
    "Now, if you open `index.html` on your local computer, your browser will behave as a local web server and you can use the provided site to interact with your SageMaker model.\n",
    "\n",
    "If you'd like to go further, you can host this html file anywhere you'd like, for example using github or hosting a static site on Amazon's S3. Once you have done this you can share the link with anyone you'd like and have them play with it too!\n",
    "\n",
    "> **Important Note** In order for the web app to communicate with the SageMaker endpoint, the endpoint has to actually be deployed and running. This means that you are paying for it. Make sure that the endpoint is running when you want to use the web app but that you shut it down when you don't need it, otherwise you will end up with a surprisingly large AWS bill.\n",
    "\n",
    "**TODO:** Make sure that you include the edited `index.html` file in your project submission."
   ]
  },
  {
   "cell_type": "markdown",
   "metadata": {},
   "source": [
    "Now that your web app is working, trying playing around with it and see how well it works.\n",
    "\n",
    "**Question**: Give an example of a review that you entered into your web app. What was the predicted sentiment of your example review?"
   ]
  },
  {
   "cell_type": "markdown",
   "metadata": {},
   "source": [
    "**Answer:**\n",
    "1. Positive Review - `This monumental first film is not only a significant debut for world cinema, but also a tragic farewell.`\n",
    "2. Negative Review - `It just feels like another half-sketched idea, the end result of a screenplay which bites off a little more than it can chew.`"
   ]
  },
  {
   "cell_type": "markdown",
   "metadata": {},
   "source": [
    "### Delete the endpoint\n",
    "\n",
    "Remember to always shut down your endpoint if you are no longer using it. You are charged for the length of time that the endpoint is running so if you forget and leave it on you could end up with an unexpectedly large bill."
   ]
  },
  {
   "cell_type": "code",
   "execution_count": 44,
   "metadata": {},
   "outputs": [
    {
     "name": "stderr",
     "output_type": "stream",
     "text": [
      "INFO:sagemaker:Deleting endpoint configuration with name: sagemaker-pytorch-2019-04-29-19-45-03-531\n",
      "INFO:sagemaker:Deleting endpoint with name: sagemaker-pytorch-2019-04-29-19-45-03-531\n"
     ]
    }
   ],
   "source": [
    "predictor.delete_endpoint()"
   ]
  },
  {
   "cell_type": "code",
   "execution_count": null,
   "metadata": {},
   "outputs": [],
   "source": []
  }
 ],
 "metadata": {
  "kernelspec": {
   "display_name": "conda_pytorch_p36",
   "language": "python",
   "name": "conda_pytorch_p36"
  },
  "language_info": {
   "codemirror_mode": {
    "name": "ipython",
    "version": 3
   },
   "file_extension": ".py",
   "mimetype": "text/x-python",
   "name": "python",
   "nbconvert_exporter": "python",
   "pygments_lexer": "ipython3",
   "version": "3.6.5"
  }
 },
 "nbformat": 4,
 "nbformat_minor": 2
}
