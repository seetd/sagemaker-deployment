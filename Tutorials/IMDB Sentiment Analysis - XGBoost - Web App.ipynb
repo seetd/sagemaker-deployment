{
 "cells": [
  {
   "cell_type": "markdown",
   "metadata": {},
   "source": [
    "# Sentiment Analysis Web App\n",
    "\n",
    "_Deep Learning Nanodegree Program | Deployment_\n",
    "\n",
    "---\n",
    "\n",
    "In this notebook we will use Amazon's SageMaker service to construct a random tree model to predict the sentiment of a movie review. In addition, we will deploy this model to an endpoint and construct a very simple web app which will interact with our model's deployed endpoint.\n",
    "\n",
    "## General Outline\n",
    "\n",
    "Typically, when using a notebook instance with SageMaker, you will proceed through the following steps. Of course, not every step will need to be done with each project. Also, there is quite a lot of room for variation in many of the steps, as you will see throughout these lessons.\n",
    "\n",
    "1. Download or otherwise retrieve the data.\n",
    "2. Process / Prepare the data.\n",
    "3. Upload the processed data to S3.\n",
    "4. Train a chosen model.\n",
    "5. Test the trained model (typically using a batch transform job).\n",
    "6. Deploy the trained model.\n",
    "7. Use the deployed model.\n",
    "\n",
    "In this notebook we will progress through each of the steps above. We will also see that the final step, using the deployed model, can be quite challenging."
   ]
  },
  {
   "cell_type": "markdown",
   "metadata": {},
   "source": [
    "## Step 1: Downloading the data\n",
    "\n",
    "The dataset we are going to use is very popular among researchers in Natural Language Processing, usually referred to as the [IMDb dataset](http://ai.stanford.edu/~amaas/data/sentiment/). It consists of movie reviews from the website [imdb.com](http://www.imdb.com/), each labeled as either '**pos**itive', if the reviewer enjoyed the film, or '**neg**ative' otherwise.\n",
    "\n",
    "> Maas, Andrew L., et al. [Learning Word Vectors for Sentiment Analysis](http://ai.stanford.edu/~amaas/data/sentiment/). In _Proceedings of the 49th Annual Meeting of the Association for Computational Linguistics: Human Language Technologies_. Association for Computational Linguistics, 2011.\n",
    "\n",
    "We begin by using some Jupyter Notebook magic to download and extract the dataset."
   ]
  },
  {
   "cell_type": "code",
   "execution_count": 1,
   "metadata": {},
   "outputs": [
    {
     "name": "stdout",
     "output_type": "stream",
     "text": [
      "mkdir: cannot create directory ‘../data’: File exists\n",
      "--2019-04-20 11:31:47--  http://ai.stanford.edu/~amaas/data/sentiment/aclImdb_v1.tar.gz\n",
      "Resolving ai.stanford.edu (ai.stanford.edu)... 171.64.68.10\n",
      "Connecting to ai.stanford.edu (ai.stanford.edu)|171.64.68.10|:80... connected.\n",
      "HTTP request sent, awaiting response... 200 OK\n",
      "Length: 84125825 (80M) [application/x-gzip]\n",
      "Saving to: ‘../data/aclImdb_v1.tar.gz’\n",
      "\n",
      "../data/aclImdb_v1. 100%[===================>]  80.23M  24.5MB/s    in 3.8s    \n",
      "\n",
      "2019-04-20 11:31:51 (21.3 MB/s) - ‘../data/aclImdb_v1.tar.gz’ saved [84125825/84125825]\n",
      "\n"
     ]
    }
   ],
   "source": [
    "%mkdir ../data\n",
    "!wget -O ../data/aclImdb_v1.tar.gz http://ai.stanford.edu/~amaas/data/sentiment/aclImdb_v1.tar.gz\n",
    "!tar -zxf ../data/aclImdb_v1.tar.gz -C ../data"
   ]
  },
  {
   "cell_type": "markdown",
   "metadata": {},
   "source": [
    "## Step 2: Preparing and Processing the data\n",
    "\n",
    "The data we have downloaded is split into various files, each of which contains a single review. It will be much easier going forward if we combine these individual files into two large files, one for training and one for testing."
   ]
  },
  {
   "cell_type": "code",
   "execution_count": 2,
   "metadata": {},
   "outputs": [],
   "source": [
    "import os\n",
    "import glob\n",
    "\n",
    "def read_imdb_data(data_dir='../data/aclImdb'):\n",
    "    data = {}\n",
    "    labels = {}\n",
    "    \n",
    "    for data_type in ['train', 'test']:\n",
    "        data[data_type] = {}\n",
    "        labels[data_type] = {}\n",
    "        \n",
    "        for sentiment in ['pos', 'neg']:\n",
    "            data[data_type][sentiment] = []\n",
    "            labels[data_type][sentiment] = []\n",
    "            \n",
    "            path = os.path.join(data_dir, data_type, sentiment, '*.txt')\n",
    "            files = glob.glob(path)\n",
    "            \n",
    "            for f in files:\n",
    "                with open(f) as review:\n",
    "                    data[data_type][sentiment].append(review.read())\n",
    "                    # Here we represent a positive review by '1' and a negative review by '0'\n",
    "                    labels[data_type][sentiment].append(1 if sentiment == 'pos' else 0)\n",
    "                    \n",
    "            assert len(data[data_type][sentiment]) == len(labels[data_type][sentiment]), \\\n",
    "                    \"{}/{} data size does not match labels size\".format(data_type, sentiment)\n",
    "                \n",
    "    return data, labels"
   ]
  },
  {
   "cell_type": "code",
   "execution_count": 3,
   "metadata": {},
   "outputs": [
    {
     "name": "stdout",
     "output_type": "stream",
     "text": [
      "IMDB reviews: train = 12500 pos / 12500 neg, test = 12500 pos / 12500 neg\n"
     ]
    }
   ],
   "source": [
    "data, labels = read_imdb_data()\n",
    "print(\"IMDB reviews: train = {} pos / {} neg, test = {} pos / {} neg\".format(\n",
    "            len(data['train']['pos']), len(data['train']['neg']),\n",
    "            len(data['test']['pos']), len(data['test']['neg'])))"
   ]
  },
  {
   "cell_type": "code",
   "execution_count": 4,
   "metadata": {},
   "outputs": [],
   "source": [
    "from sklearn.utils import shuffle\n",
    "\n",
    "def prepare_imdb_data(data, labels):\n",
    "    \"\"\"Prepare training and test sets from IMDb movie reviews.\"\"\"\n",
    "    \n",
    "    #Combine positive and negative reviews and labels\n",
    "    data_train = data['train']['pos'] + data['train']['neg']\n",
    "    data_test = data['test']['pos'] + data['test']['neg']\n",
    "    labels_train = labels['train']['pos'] + labels['train']['neg']\n",
    "    labels_test = labels['test']['pos'] + labels['test']['neg']\n",
    "    \n",
    "    #Shuffle reviews and corresponding labels within training and test sets\n",
    "    data_train, labels_train = shuffle(data_train, labels_train)\n",
    "    data_test, labels_test = shuffle(data_test, labels_test)\n",
    "    \n",
    "    # Return a unified training data, test data, training labels, test labets\n",
    "    return data_train, data_test, labels_train, labels_test"
   ]
  },
  {
   "cell_type": "code",
   "execution_count": 5,
   "metadata": {},
   "outputs": [
    {
     "name": "stdout",
     "output_type": "stream",
     "text": [
      "IMDb reviews (combined): train = 25000, test = 25000\n"
     ]
    }
   ],
   "source": [
    "train_X, test_X, train_y, test_y = prepare_imdb_data(data, labels)\n",
    "print(\"IMDb reviews (combined): train = {}, test = {}\".format(len(train_X), len(test_X)))"
   ]
  },
  {
   "cell_type": "code",
   "execution_count": 6,
   "metadata": {},
   "outputs": [
    {
     "data": {
      "text/plain": [
       "'At a time in our culture where reality exposed as narrative is overpowering fiction as we know it on the small and big screen, \"Apart From That\" is a film that exposes real life moments that feel more honest, fresh and innovative in there presentation than I have ever seen before. The usual spoon feeding conventions are non existent in this film, leaving a content audience to sit and watch these real life moments trickle one after the other on the screen. While watching the movie, and even upon post contemplation, it is hard to believe that these amazing performances where actually that, performances. Every moment with the large cast of actors felt like the truth being exposed in their daily usual lives. Even so, \"Apart From That\" does not feel like a documentary or reality television, but instead transcends into a category of its own, with its unique cinematography and direction. I look forward to watching this new category of storytelling continue with other films by directors Jennifer Shainin and Randy Walker.<br /><br />This movie must be seen.'"
      ]
     },
     "execution_count": 6,
     "metadata": {},
     "output_type": "execute_result"
    }
   ],
   "source": [
    "train_X[100]"
   ]
  },
  {
   "cell_type": "markdown",
   "metadata": {},
   "source": [
    "## Processing the data\n",
    "\n",
    "Now that we have our training and testing datasets merged and ready to use, we need to start processing the raw data into something that will be useable by our machine learning algorithm. To begin with, we remove any html formatting and any non-alpha numeric characters that may appear in the reviews. We will do this in a very simplistic way using Python's regular expression module. We will discuss the reason for this rather simplistic pre-processing later on."
   ]
  },
  {
   "cell_type": "code",
   "execution_count": 7,
   "metadata": {},
   "outputs": [],
   "source": [
    "import re\n",
    "\n",
    "REPLACE_NO_SPACE = re.compile(\"(\\.)|(\\;)|(\\:)|(\\!)|(\\')|(\\?)|(\\,)|(\\\")|(\\()|(\\))|(\\[)|(\\])\")\n",
    "REPLACE_WITH_SPACE = re.compile(\"(<br\\s*/><br\\s*/>)|(\\-)|(\\/)\")\n",
    "\n",
    "def review_to_words(review):\n",
    "    words = REPLACE_NO_SPACE.sub(\"\", review.lower())\n",
    "    words = REPLACE_WITH_SPACE.sub(\" \", words)\n",
    "    return words"
   ]
  },
  {
   "cell_type": "code",
   "execution_count": 8,
   "metadata": {},
   "outputs": [
    {
     "data": {
      "text/plain": [
       "'at a time in our culture where reality exposed as narrative is overpowering fiction as we know it on the small and big screen apart from that is a film that exposes real life moments that feel more honest fresh and innovative in there presentation than i have ever seen before the usual spoon feeding conventions are non existent in this film leaving a content audience to sit and watch these real life moments trickle one after the other on the screen while watching the movie and even upon post contemplation it is hard to believe that these amazing performances where actually that performances every moment with the large cast of actors felt like the truth being exposed in their daily usual lives even so apart from that does not feel like a documentary or reality television but instead transcends into a category of its own with its unique cinematography and direction i look forward to watching this new category of storytelling continue with other films by directors jennifer shainin and randy walker this movie must be seen'"
      ]
     },
     "execution_count": 8,
     "metadata": {},
     "output_type": "execute_result"
    }
   ],
   "source": [
    "review_to_words(train_X[100])"
   ]
  },
  {
   "cell_type": "code",
   "execution_count": 9,
   "metadata": {},
   "outputs": [],
   "source": [
    "import pickle\n",
    "\n",
    "cache_dir = os.path.join(\"../cache\", \"sentiment_web_app\")  # where to store cache files\n",
    "os.makedirs(cache_dir, exist_ok=True)  # ensure cache directory exists\n",
    "\n",
    "def preprocess_data(data_train, data_test, labels_train, labels_test,\n",
    "                    cache_dir=cache_dir, cache_file=\"preprocessed_data.pkl\"):\n",
    "    \"\"\"Convert each review to words; read from cache if available.\"\"\"\n",
    "\n",
    "    # If cache_file is not None, try to read from it first\n",
    "    cache_data = None\n",
    "    if cache_file is not None:\n",
    "        try:\n",
    "            with open(os.path.join(cache_dir, cache_file), \"rb\") as f:\n",
    "                cache_data = pickle.load(f)\n",
    "            print(\"Read preprocessed data from cache file:\", cache_file)\n",
    "        except:\n",
    "            pass  # unable to read from cache, but that's okay\n",
    "    \n",
    "    # If cache is missing, then do the heavy lifting\n",
    "    if cache_data is None:\n",
    "        # Preprocess training and test data to obtain words for each review\n",
    "        #words_train = list(map(review_to_words, data_train))\n",
    "        #words_test = list(map(review_to_words, data_test))\n",
    "        words_train = [review_to_words(review) for review in data_train]\n",
    "        words_test = [review_to_words(review) for review in data_test]\n",
    "        \n",
    "        # Write to cache file for future runs\n",
    "        if cache_file is not None:\n",
    "            cache_data = dict(words_train=words_train, words_test=words_test,\n",
    "                              labels_train=labels_train, labels_test=labels_test)\n",
    "            with open(os.path.join(cache_dir, cache_file), \"wb\") as f:\n",
    "                pickle.dump(cache_data, f)\n",
    "            print(\"Wrote preprocessed data to cache file:\", cache_file)\n",
    "    else:\n",
    "        # Unpack data loaded from cache file\n",
    "        words_train, words_test, labels_train, labels_test = (cache_data['words_train'],\n",
    "                cache_data['words_test'], cache_data['labels_train'], cache_data['labels_test'])\n",
    "    \n",
    "    return words_train, words_test, labels_train, labels_test"
   ]
  },
  {
   "cell_type": "code",
   "execution_count": 10,
   "metadata": {},
   "outputs": [
    {
     "name": "stdout",
     "output_type": "stream",
     "text": [
      "Wrote preprocessed data to cache file: preprocessed_data.pkl\n"
     ]
    }
   ],
   "source": [
    "# Preprocess data\n",
    "train_X, test_X, train_y, test_y = preprocess_data(train_X, test_X, train_y, test_y)"
   ]
  },
  {
   "cell_type": "markdown",
   "metadata": {},
   "source": [
    "### Extract Bag-of-Words features\n",
    "\n",
    "For the model we will be implementing, rather than using the reviews directly, we are going to transform each review into a Bag-of-Words feature representation. Keep in mind that 'in the wild' we will only have access to the training set so our transformer can only use the training set to construct a representation."
   ]
  },
  {
   "cell_type": "code",
   "execution_count": 11,
   "metadata": {},
   "outputs": [],
   "source": [
    "import numpy as np\n",
    "from sklearn.feature_extraction.text import CountVectorizer\n",
    "from sklearn.externals import joblib\n",
    "# joblib is an enhanced version of pickle that is more efficient for storing NumPy arrays\n",
    "\n",
    "def extract_BoW_features(words_train, words_test, vocabulary_size=5000,\n",
    "                         cache_dir=cache_dir, cache_file=\"bow_features.pkl\"):\n",
    "    \"\"\"Extract Bag-of-Words for a given set of documents, already preprocessed into words.\"\"\"\n",
    "    \n",
    "    # If cache_file is not None, try to read from it first\n",
    "    cache_data = None\n",
    "    if cache_file is not None:\n",
    "        try:\n",
    "            with open(os.path.join(cache_dir, cache_file), \"rb\") as f:\n",
    "                cache_data = joblib.load(f)\n",
    "            print(\"Read features from cache file:\", cache_file)\n",
    "        except:\n",
    "            pass  # unable to read from cache, but that's okay\n",
    "    \n",
    "    # If cache is missing, then do the heavy lifting\n",
    "    if cache_data is None:\n",
    "        # Fit a vectorizer to training documents and use it to transform them\n",
    "        # NOTE: Training documents have already been preprocessed and tokenized into words;\n",
    "        #       pass in dummy functions to skip those steps, e.g. preprocessor=lambda x: x\n",
    "        vectorizer = CountVectorizer(max_features=vocabulary_size)\n",
    "        features_train = vectorizer.fit_transform(words_train).toarray()\n",
    "\n",
    "        # Apply the same vectorizer to transform the test documents (ignore unknown words)\n",
    "        features_test = vectorizer.transform(words_test).toarray()\n",
    "        \n",
    "        # NOTE: Remember to convert the features using .toarray() for a compact representation\n",
    "        \n",
    "        # Write to cache file for future runs (store vocabulary as well)\n",
    "        if cache_file is not None:\n",
    "            vocabulary = vectorizer.vocabulary_\n",
    "            cache_data = dict(features_train=features_train, features_test=features_test,\n",
    "                             vocabulary=vocabulary)\n",
    "            with open(os.path.join(cache_dir, cache_file), \"wb\") as f:\n",
    "                joblib.dump(cache_data, f)\n",
    "            print(\"Wrote features to cache file:\", cache_file)\n",
    "    else:\n",
    "        # Unpack data loaded from cache file\n",
    "        features_train, features_test, vocabulary = (cache_data['features_train'],\n",
    "                cache_data['features_test'], cache_data['vocabulary'])\n",
    "    \n",
    "    # Return both the extracted features as well as the vocabulary\n",
    "    return features_train, features_test, vocabulary"
   ]
  },
  {
   "cell_type": "code",
   "execution_count": 12,
   "metadata": {},
   "outputs": [
    {
     "name": "stdout",
     "output_type": "stream",
     "text": [
      "Wrote features to cache file: bow_features.pkl\n"
     ]
    }
   ],
   "source": [
    "# Extract Bag of Words features for both training and test datasets\n",
    "train_X, test_X, vocabulary = extract_BoW_features(train_X, test_X)"
   ]
  },
  {
   "cell_type": "code",
   "execution_count": 13,
   "metadata": {},
   "outputs": [
    {
     "data": {
      "text/plain": [
       "5000"
      ]
     },
     "execution_count": 13,
     "metadata": {},
     "output_type": "execute_result"
    }
   ],
   "source": [
    "len(train_X[100])"
   ]
  },
  {
   "cell_type": "markdown",
   "metadata": {},
   "source": [
    "## Step 3: Upload data to S3\n",
    "\n",
    "Now that we have created the feature representation of our training (and testing) data, it is time to start setting up and using the XGBoost classifier provided by SageMaker.\n",
    "\n",
    "### Writing the datasets\n",
    "\n",
    "The XGBoost classifier that we will be using requires the dataset to be written to a file and stored using Amazon S3. To do this, we will start by splitting the training dataset into two parts, the data we will train the model with and a validation set. Then, we will write those datasets to a file locally and then upload the files to S3. In addition, we will write the test set to a file and upload that file to S3. This is so that we can use SageMakers Batch Transform functionality to test our model once we've fit it."
   ]
  },
  {
   "cell_type": "code",
   "execution_count": 14,
   "metadata": {},
   "outputs": [],
   "source": [
    "import pandas as pd\n",
    "\n",
    "# Earlier we shuffled the training dataset so to make things simple we can just assign\n",
    "# the first 10 000 reviews to the validation set and use the remaining reviews for training.\n",
    "val_X = pd.DataFrame(train_X[:10000])\n",
    "train_X = pd.DataFrame(train_X[10000:])\n",
    "\n",
    "val_y = pd.DataFrame(train_y[:10000])\n",
    "train_y = pd.DataFrame(train_y[10000:])"
   ]
  },
  {
   "cell_type": "markdown",
   "metadata": {},
   "source": [
    "The documentation for the XGBoost algorithm in SageMaker requires that the training and validation datasets should contain no headers or index and that the label should occur first for each sample.\n",
    "\n",
    "For more information about this and other algorithms, the SageMaker developer documentation can be found on __[Amazon's website.](https://docs.aws.amazon.com/sagemaker/latest/dg/)__"
   ]
  },
  {
   "cell_type": "code",
   "execution_count": 15,
   "metadata": {},
   "outputs": [],
   "source": [
    "# First we make sure that the local directory in which we'd like to store the training and validation csv files exists.\n",
    "data_dir = '../data/sentiment_web_app'\n",
    "if not os.path.exists(data_dir):\n",
    "    os.makedirs(data_dir)"
   ]
  },
  {
   "cell_type": "code",
   "execution_count": 16,
   "metadata": {},
   "outputs": [],
   "source": [
    "pd.DataFrame(test_X).to_csv(os.path.join(data_dir, 'test.csv'), header=False, index=False)\n",
    "\n",
    "pd.concat([val_y, val_X], axis=1).to_csv(os.path.join(data_dir, 'validation.csv'), header=False, index=False)\n",
    "pd.concat([train_y, train_X], axis=1).to_csv(os.path.join(data_dir, 'train.csv'), header=False, index=False)"
   ]
  },
  {
   "cell_type": "code",
   "execution_count": 17,
   "metadata": {},
   "outputs": [],
   "source": [
    "# To save a bit of memory we can set text_X, train_X, val_X, train_y and val_y to None.\n",
    "\n",
    "test_X = train_X = val_X = train_y = val_y = None"
   ]
  },
  {
   "cell_type": "markdown",
   "metadata": {},
   "source": [
    "### Uploading Training / Validation files to S3\n",
    "\n",
    "Amazon's S3 service allows us to store files that can be accessed by both the built-in training models such as the XGBoost model we will be using as well as custom models such as the one we will see a little later.\n",
    "\n",
    "For this and most other tasks we will be doing using SageMaker, there are two methods we could use. The first is to use the low level functionality of SageMaker which requires knowing each of the objects involved in the SageMaker environment. The second is to use the high level functionality in which certain choices have been made on the user's behalf. The low level approach benefits from allowing the user a great deal of flexibility while the high level approach makes development much quicker. For our purposes we will opt to use the high level approach although using the low-level approach is certainly an option.\n",
    "\n",
    "Recall the method `upload_data()` which is a member of the object representing our current SageMaker session. What this method does is upload the data to the default bucket (which is created if it does not exist) into the path described by the key_prefix variable. To see this for yourself, once you have uploaded the data files, go to the S3 console and look to see where the files have been uploaded.\n",
    "\n",
    "For additional resources, see the __[SageMaker API documentation](http://sagemaker.readthedocs.io/en/latest/)__ and in addition the __[SageMaker Developer Guide.](https://docs.aws.amazon.com/sagemaker/latest/dg/)__"
   ]
  },
  {
   "cell_type": "code",
   "execution_count": 18,
   "metadata": {},
   "outputs": [
    {
     "name": "stderr",
     "output_type": "stream",
     "text": [
      "INFO:sagemaker:Created S3 bucket: sagemaker-us-east-1-291097545587\n"
     ]
    }
   ],
   "source": [
    "import sagemaker\n",
    "\n",
    "session = sagemaker.Session() # Store the current SageMaker session\n",
    "\n",
    "# S3 prefix (which folder will we use)\n",
    "prefix = 'sentiment-web-app'\n",
    "\n",
    "test_location = session.upload_data(os.path.join(data_dir, 'test.csv'), key_prefix=prefix)\n",
    "val_location = session.upload_data(os.path.join(data_dir, 'validation.csv'), key_prefix=prefix)\n",
    "train_location = session.upload_data(os.path.join(data_dir, 'train.csv'), key_prefix=prefix)"
   ]
  },
  {
   "cell_type": "markdown",
   "metadata": {},
   "source": [
    "## Step 4: Creating the XGBoost model\n",
    "\n",
    "Now that the data has been uploaded it is time to create the XGBoost model. To begin with, we need to do some setup. At this point it is worth discussing what a model is in SageMaker. It is easiest to think of a model of comprising three different objects in the SageMaker ecosystem, which interact with one another.\n",
    "\n",
    "- Model Artifacts\n",
    "- Training Code (Container)\n",
    "- Inference Code (Container)\n",
    "\n",
    "The Model Artifacts are what you might think of as the actual model itself. For example, if you were building a neural network, the model artifacts would be the weights of the various layers. In our case, for an XGBoost model, the artifacts are the actual trees that are created during training.\n",
    "\n",
    "The other two objects, the training code and the inference code are then used to manipulate the training artifacts. More precisely, the training code uses the training data that is provided and creates the model artifacts, while the inference code uses the model artifacts to make predictions on new data.\n",
    "\n",
    "The way that SageMaker runs the training and inference code is by making use of Docker containers. For now, think of a container as being a way of packaging code up so that dependencies aren't an issue."
   ]
  },
  {
   "cell_type": "code",
   "execution_count": 19,
   "metadata": {},
   "outputs": [],
   "source": [
    "from sagemaker import get_execution_role\n",
    "\n",
    "# Our current execution role is required when creating the model as the training\n",
    "# and inference code will need to access the model artifacts.\n",
    "role = get_execution_role()"
   ]
  },
  {
   "cell_type": "code",
   "execution_count": 20,
   "metadata": {},
   "outputs": [],
   "source": [
    "# We need to retrieve the location of the container which is provided by Amazon for using XGBoost.\n",
    "# As a matter of convenience, the training and inference code both use the same container.\n",
    "from sagemaker.amazon.amazon_estimator import get_image_uri\n",
    "\n",
    "container = get_image_uri(session.boto_region_name, 'xgboost')"
   ]
  },
  {
   "cell_type": "code",
   "execution_count": 21,
   "metadata": {},
   "outputs": [],
   "source": [
    "# First we create a SageMaker estimator object for our model.\n",
    "xgb = sagemaker.estimator.Estimator(container, # The location of the container we wish to use\n",
    "                                    role,                                    # What is our current IAM Role\n",
    "                                    train_instance_count=1,                  # How many compute instances\n",
    "                                    train_instance_type='ml.m4.xlarge',      # What kind of compute instances\n",
    "                                    output_path='s3://{}/{}/output'.format(session.default_bucket(), prefix),\n",
    "                                    sagemaker_session=session)\n",
    "\n",
    "# And then set the algorithm specific parameters.\n",
    "xgb.set_hyperparameters(max_depth=5,\n",
    "                        eta=0.2,\n",
    "                        gamma=4,\n",
    "                        min_child_weight=6,\n",
    "                        subsample=0.8,\n",
    "                        silent=0,\n",
    "                        objective='binary:logistic',\n",
    "                        early_stopping_rounds=10,\n",
    "                        num_round=500)"
   ]
  },
  {
   "cell_type": "markdown",
   "metadata": {},
   "source": [
    "### Fit the XGBoost model\n",
    "\n",
    "Now that our model has been set up we simply need to attach the training and validation datasets and then ask SageMaker to set up the computation."
   ]
  },
  {
   "cell_type": "code",
   "execution_count": 22,
   "metadata": {},
   "outputs": [],
   "source": [
    "s3_input_train = sagemaker.s3_input(s3_data=train_location, content_type='csv')\n",
    "s3_input_validation = sagemaker.s3_input(s3_data=val_location, content_type='csv')"
   ]
  },
  {
   "cell_type": "code",
   "execution_count": 23,
   "metadata": {},
   "outputs": [
    {
     "name": "stderr",
     "output_type": "stream",
     "text": [
      "INFO:sagemaker:Creating training-job with name: xgboost-2019-04-20-11-38-00-344\n"
     ]
    },
    {
     "name": "stdout",
     "output_type": "stream",
     "text": [
      "2019-04-20 11:38:00 Starting - Starting the training job...\n",
      "2019-04-20 11:38:03 Starting - Launching requested ML instances.........\n",
      "2019-04-20 11:39:37 Starting - Preparing the instances for training...\n",
      "2019-04-20 11:40:23 Downloading - Downloading input data...\n",
      "2019-04-20 11:41:02 Training - Training image download completed. Training in progress..\n",
      "\u001b[31mArguments: train\u001b[0m\n",
      "\u001b[31m[2019-04-20:11:41:03:INFO] Running standalone xgboost training.\u001b[0m\n",
      "\u001b[31m[2019-04-20:11:41:03:INFO] File size need to be processed in the node: 238.5mb. Available memory size in the node: 8400.64mb\u001b[0m\n",
      "\u001b[31m[2019-04-20:11:41:03:INFO] Determined delimiter of CSV input is ','\u001b[0m\n",
      "\u001b[31m[11:41:03] S3DistributionType set as FullyReplicated\u001b[0m\n",
      "\u001b[31m[11:41:05] 15000x5000 matrix with 75000000 entries loaded from /opt/ml/input/data/train?format=csv&label_column=0&delimiter=,\u001b[0m\n",
      "\u001b[31m[2019-04-20:11:41:05:INFO] Determined delimiter of CSV input is ','\u001b[0m\n",
      "\u001b[31m[11:41:05] S3DistributionType set as FullyReplicated\u001b[0m\n",
      "\u001b[31m[11:41:06] 10000x5000 matrix with 50000000 entries loaded from /opt/ml/input/data/validation?format=csv&label_column=0&delimiter=,\u001b[0m\n",
      "\u001b[31m[11:41:09] src/tree/updater_prune.cc:74: tree pruning end, 1 roots, 36 extra nodes, 8 pruned nodes, max_depth=5\u001b[0m\n",
      "\u001b[31m[0]#011train-error:0.3084#011validation-error:0.3059\u001b[0m\n",
      "\u001b[31mMultiple eval metrics have been passed: 'validation-error' will be used for early stopping.\n",
      "\u001b[0m\n",
      "\u001b[31mWill train until validation-error hasn't improved in 10 rounds.\u001b[0m\n",
      "\u001b[31m[11:41:11] src/tree/updater_prune.cc:74: tree pruning end, 1 roots, 36 extra nodes, 10 pruned nodes, max_depth=5\u001b[0m\n",
      "\u001b[31m[1]#011train-error:0.293667#011validation-error:0.2932\u001b[0m\n",
      "\u001b[31m[11:41:12] src/tree/updater_prune.cc:74: tree pruning end, 1 roots, 32 extra nodes, 12 pruned nodes, max_depth=5\u001b[0m\n",
      "\u001b[31m[2]#011train-error:0.292#011validation-error:0.2938\u001b[0m\n",
      "\u001b[31m[11:41:13] src/tree/updater_prune.cc:74: tree pruning end, 1 roots, 38 extra nodes, 10 pruned nodes, max_depth=5\u001b[0m\n",
      "\u001b[31m[3]#011train-error:0.281467#011validation-error:0.2827\u001b[0m\n",
      "\u001b[31m[11:41:15] src/tree/updater_prune.cc:74: tree pruning end, 1 roots, 34 extra nodes, 0 pruned nodes, max_depth=5\u001b[0m\n",
      "\u001b[31m[4]#011train-error:0.272333#011validation-error:0.2729\u001b[0m\n",
      "\u001b[31m[11:41:16] src/tree/updater_prune.cc:74: tree pruning end, 1 roots, 30 extra nodes, 10 pruned nodes, max_depth=5\u001b[0m\n",
      "\u001b[31m[5]#011train-error:0.257267#011validation-error:0.2605\u001b[0m\n",
      "\u001b[31m[11:41:18] src/tree/updater_prune.cc:74: tree pruning end, 1 roots, 24 extra nodes, 10 pruned nodes, max_depth=5\u001b[0m\n",
      "\u001b[31m[6]#011train-error:0.251467#011validation-error:0.2546\u001b[0m\n",
      "\u001b[31m[11:41:19] src/tree/updater_prune.cc:74: tree pruning end, 1 roots, 36 extra nodes, 6 pruned nodes, max_depth=5\u001b[0m\n",
      "\u001b[31m[7]#011train-error:0.244867#011validation-error:0.2512\u001b[0m\n",
      "\u001b[31m[11:41:20] src/tree/updater_prune.cc:74: tree pruning end, 1 roots, 34 extra nodes, 4 pruned nodes, max_depth=5\u001b[0m\n",
      "\u001b[31m[8]#011train-error:0.238267#011validation-error:0.2474\u001b[0m\n",
      "\u001b[31m[11:41:22] src/tree/updater_prune.cc:74: tree pruning end, 1 roots, 24 extra nodes, 6 pruned nodes, max_depth=5\u001b[0m\n",
      "\u001b[31m[9]#011train-error:0.233333#011validation-error:0.241\u001b[0m\n",
      "\u001b[31m[11:41:23] src/tree/updater_prune.cc:74: tree pruning end, 1 roots, 48 extra nodes, 8 pruned nodes, max_depth=5\u001b[0m\n",
      "\u001b[31m[10]#011train-error:0.2246#011validation-error:0.2377\u001b[0m\n",
      "\u001b[31m[11:41:24] src/tree/updater_prune.cc:74: tree pruning end, 1 roots, 26 extra nodes, 8 pruned nodes, max_depth=5\u001b[0m\n",
      "\u001b[31m[11]#011train-error:0.221733#011validation-error:0.2303\u001b[0m\n",
      "\u001b[31m[11:41:25] src/tree/updater_prune.cc:74: tree pruning end, 1 roots, 28 extra nodes, 10 pruned nodes, max_depth=5\u001b[0m\n",
      "\u001b[31m[12]#011train-error:0.217067#011validation-error:0.2279\u001b[0m\n",
      "\u001b[31m[11:41:27] src/tree/updater_prune.cc:74: tree pruning end, 1 roots, 22 extra nodes, 12 pruned nodes, max_depth=5\u001b[0m\n",
      "\u001b[31m[13]#011train-error:0.2136#011validation-error:0.2259\u001b[0m\n",
      "\u001b[31m[11:41:28] src/tree/updater_prune.cc:74: tree pruning end, 1 roots, 30 extra nodes, 6 pruned nodes, max_depth=5\u001b[0m\n",
      "\u001b[31m[14]#011train-error:0.208867#011validation-error:0.2224\u001b[0m\n",
      "\u001b[31m[11:41:29] src/tree/updater_prune.cc:74: tree pruning end, 1 roots, 44 extra nodes, 6 pruned nodes, max_depth=5\u001b[0m\n",
      "\u001b[31m[15]#011train-error:0.204333#011validation-error:0.2185\u001b[0m\n",
      "\u001b[31m[11:41:31] src/tree/updater_prune.cc:74: tree pruning end, 1 roots, 28 extra nodes, 12 pruned nodes, max_depth=5\u001b[0m\n",
      "\u001b[31m[16]#011train-error:0.202667#011validation-error:0.2138\u001b[0m\n",
      "\u001b[31m[11:41:32] src/tree/updater_prune.cc:74: tree pruning end, 1 roots, 28 extra nodes, 12 pruned nodes, max_depth=5\u001b[0m\n",
      "\u001b[31m[17]#011train-error:0.199467#011validation-error:0.2116\u001b[0m\n",
      "\u001b[31m[11:41:33] src/tree/updater_prune.cc:74: tree pruning end, 1 roots, 42 extra nodes, 8 pruned nodes, max_depth=5\u001b[0m\n",
      "\u001b[31m[18]#011train-error:0.195733#011validation-error:0.2097\u001b[0m\n",
      "\u001b[31m[11:41:35] src/tree/updater_prune.cc:74: tree pruning end, 1 roots, 18 extra nodes, 14 pruned nodes, max_depth=5\u001b[0m\n",
      "\u001b[31m[19]#011train-error:0.1944#011validation-error:0.2088\u001b[0m\n",
      "\u001b[31m[11:41:36] src/tree/updater_prune.cc:74: tree pruning end, 1 roots, 18 extra nodes, 12 pruned nodes, max_depth=5\u001b[0m\n",
      "\u001b[31m[20]#011train-error:0.191333#011validation-error:0.2065\u001b[0m\n",
      "\u001b[31m[11:41:37] src/tree/updater_prune.cc:74: tree pruning end, 1 roots, 26 extra nodes, 4 pruned nodes, max_depth=5\u001b[0m\n",
      "\u001b[31m[21]#011train-error:0.188133#011validation-error:0.205\u001b[0m\n",
      "\u001b[31m[11:41:39] src/tree/updater_prune.cc:74: tree pruning end, 1 roots, 40 extra nodes, 4 pruned nodes, max_depth=5\u001b[0m\n",
      "\u001b[31m[22]#011train-error:0.186133#011validation-error:0.2026\u001b[0m\n",
      "\u001b[31m[11:41:40] src/tree/updater_prune.cc:74: tree pruning end, 1 roots, 32 extra nodes, 4 pruned nodes, max_depth=5\u001b[0m\n",
      "\u001b[31m[23]#011train-error:0.182933#011validation-error:0.1996\u001b[0m\n",
      "\u001b[31m[11:41:41] src/tree/updater_prune.cc:74: tree pruning end, 1 roots, 20 extra nodes, 10 pruned nodes, max_depth=5\u001b[0m\n",
      "\u001b[31m[24]#011train-error:0.180667#011validation-error:0.1967\u001b[0m\n",
      "\u001b[31m[11:41:43] src/tree/updater_prune.cc:74: tree pruning end, 1 roots, 16 extra nodes, 14 pruned nodes, max_depth=5\u001b[0m\n",
      "\u001b[31m[25]#011train-error:0.179733#011validation-error:0.1937\u001b[0m\n",
      "\u001b[31m[11:41:44] src/tree/updater_prune.cc:74: tree pruning end, 1 roots, 12 extra nodes, 14 pruned nodes, max_depth=5\u001b[0m\n",
      "\u001b[31m[26]#011train-error:0.177067#011validation-error:0.1923\u001b[0m\n",
      "\u001b[31m[11:41:45] src/tree/updater_prune.cc:74: tree pruning end, 1 roots, 28 extra nodes, 12 pruned nodes, max_depth=5\u001b[0m\n",
      "\u001b[31m[27]#011train-error:0.1744#011validation-error:0.1918\u001b[0m\n",
      "\u001b[31m[11:41:47] src/tree/updater_prune.cc:74: tree pruning end, 1 roots, 32 extra nodes, 6 pruned nodes, max_depth=5\u001b[0m\n",
      "\u001b[31m[28]#011train-error:0.1726#011validation-error:0.1897\u001b[0m\n",
      "\u001b[31m[11:41:48] src/tree/updater_prune.cc:74: tree pruning end, 1 roots, 18 extra nodes, 6 pruned nodes, max_depth=5\u001b[0m\n",
      "\u001b[31m[29]#011train-error:0.171467#011validation-error:0.1886\u001b[0m\n",
      "\u001b[31m[11:41:49] src/tree/updater_prune.cc:74: tree pruning end, 1 roots, 26 extra nodes, 14 pruned nodes, max_depth=5\u001b[0m\n",
      "\u001b[31m[30]#011train-error:0.1698#011validation-error:0.1882\u001b[0m\n",
      "\u001b[31m[11:41:51] src/tree/updater_prune.cc:74: tree pruning end, 1 roots, 32 extra nodes, 4 pruned nodes, max_depth=5\u001b[0m\n",
      "\u001b[31m[31]#011train-error:0.1688#011validation-error:0.1884\u001b[0m\n",
      "\u001b[31m[11:41:52] src/tree/updater_prune.cc:74: tree pruning end, 1 roots, 22 extra nodes, 2 pruned nodes, max_depth=5\u001b[0m\n",
      "\u001b[31m[32]#011train-error:0.167867#011validation-error:0.186\u001b[0m\n",
      "\u001b[31m[11:41:53] src/tree/updater_prune.cc:74: tree pruning end, 1 roots, 32 extra nodes, 6 pruned nodes, max_depth=5\u001b[0m\n",
      "\u001b[31m[33]#011train-error:0.1642#011validation-error:0.1844\u001b[0m\n",
      "\u001b[31m[11:41:55] src/tree/updater_prune.cc:74: tree pruning end, 1 roots, 20 extra nodes, 8 pruned nodes, max_depth=5\u001b[0m\n",
      "\u001b[31m[34]#011train-error:0.163067#011validation-error:0.183\u001b[0m\n",
      "\u001b[31m[11:41:56] src/tree/updater_prune.cc:74: tree pruning end, 1 roots, 28 extra nodes, 14 pruned nodes, max_depth=5\u001b[0m\n",
      "\u001b[31m[35]#011train-error:0.162467#011validation-error:0.1822\u001b[0m\n",
      "\u001b[31m[11:41:57] src/tree/updater_prune.cc:74: tree pruning end, 1 roots, 28 extra nodes, 2 pruned nodes, max_depth=5\u001b[0m\n",
      "\u001b[31m[36]#011train-error:0.159467#011validation-error:0.1819\u001b[0m\n",
      "\u001b[31m[11:41:58] src/tree/updater_prune.cc:74: tree pruning end, 1 roots, 20 extra nodes, 6 pruned nodes, max_depth=5\u001b[0m\n",
      "\u001b[31m[37]#011train-error:0.1578#011validation-error:0.1821\u001b[0m\n",
      "\u001b[31m[11:42:00] src/tree/updater_prune.cc:74: tree pruning end, 1 roots, 22 extra nodes, 12 pruned nodes, max_depth=5\u001b[0m\n",
      "\u001b[31m[38]#011train-error:0.155467#011validation-error:0.1825\u001b[0m\n",
      "\u001b[31m[11:42:01] src/tree/updater_prune.cc:74: tree pruning end, 1 roots, 28 extra nodes, 6 pruned nodes, max_depth=5\u001b[0m\n",
      "\u001b[31m[39]#011train-error:0.153933#011validation-error:0.1803\u001b[0m\n",
      "\u001b[31m[11:42:02] src/tree/updater_prune.cc:74: tree pruning end, 1 roots, 16 extra nodes, 4 pruned nodes, max_depth=5\u001b[0m\n",
      "\u001b[31m[40]#011train-error:0.153333#011validation-error:0.1796\u001b[0m\n",
      "\u001b[31m[11:42:04] src/tree/updater_prune.cc:74: tree pruning end, 1 roots, 24 extra nodes, 10 pruned nodes, max_depth=5\u001b[0m\n",
      "\u001b[31m[41]#011train-error:0.150733#011validation-error:0.1791\u001b[0m\n",
      "\u001b[31m[11:42:05] src/tree/updater_prune.cc:74: tree pruning end, 1 roots, 22 extra nodes, 16 pruned nodes, max_depth=5\u001b[0m\n",
      "\u001b[31m[42]#011train-error:0.150267#011validation-error:0.1794\u001b[0m\n",
      "\u001b[31m[11:42:06] src/tree/updater_prune.cc:74: tree pruning end, 1 roots, 20 extra nodes, 6 pruned nodes, max_depth=5\u001b[0m\n",
      "\u001b[31m[43]#011train-error:0.148467#011validation-error:0.1781\u001b[0m\n"
     ]
    },
    {
     "name": "stdout",
     "output_type": "stream",
     "text": [
      "\u001b[31m[11:42:08] src/tree/updater_prune.cc:74: tree pruning end, 1 roots, 24 extra nodes, 10 pruned nodes, max_depth=5\u001b[0m\n",
      "\u001b[31m[44]#011train-error:0.148733#011validation-error:0.1768\u001b[0m\n",
      "\u001b[31m[11:42:09] src/tree/updater_prune.cc:74: tree pruning end, 1 roots, 38 extra nodes, 6 pruned nodes, max_depth=5\u001b[0m\n",
      "\u001b[31m[45]#011train-error:0.146933#011validation-error:0.1736\u001b[0m\n",
      "\u001b[31m[11:42:10] src/tree/updater_prune.cc:74: tree pruning end, 1 roots, 22 extra nodes, 6 pruned nodes, max_depth=5\u001b[0m\n",
      "\u001b[31m[46]#011train-error:0.145133#011validation-error:0.1717\u001b[0m\n",
      "\u001b[31m[11:42:12] src/tree/updater_prune.cc:74: tree pruning end, 1 roots, 20 extra nodes, 2 pruned nodes, max_depth=5\u001b[0m\n",
      "\u001b[31m[47]#011train-error:0.144133#011validation-error:0.1704\u001b[0m\n",
      "\u001b[31m[11:42:13] src/tree/updater_prune.cc:74: tree pruning end, 1 roots, 20 extra nodes, 12 pruned nodes, max_depth=5\u001b[0m\n",
      "\u001b[31m[48]#011train-error:0.143267#011validation-error:0.1688\u001b[0m\n",
      "\u001b[31m[11:42:14] src/tree/updater_prune.cc:74: tree pruning end, 1 roots, 12 extra nodes, 10 pruned nodes, max_depth=5\u001b[0m\n",
      "\u001b[31m[49]#011train-error:0.143067#011validation-error:0.1684\u001b[0m\n",
      "\u001b[31m[11:42:16] src/tree/updater_prune.cc:74: tree pruning end, 1 roots, 16 extra nodes, 8 pruned nodes, max_depth=5\u001b[0m\n",
      "\u001b[31m[50]#011train-error:0.1416#011validation-error:0.1678\u001b[0m\n",
      "\u001b[31m[11:42:17] src/tree/updater_prune.cc:74: tree pruning end, 1 roots, 20 extra nodes, 8 pruned nodes, max_depth=5\u001b[0m\n",
      "\u001b[31m[51]#011train-error:0.1398#011validation-error:0.1674\u001b[0m\n",
      "\u001b[31m[11:42:18] src/tree/updater_prune.cc:74: tree pruning end, 1 roots, 34 extra nodes, 4 pruned nodes, max_depth=5\u001b[0m\n",
      "\u001b[31m[52]#011train-error:0.139467#011validation-error:0.1685\u001b[0m\n",
      "\u001b[31m[11:42:20] src/tree/updater_prune.cc:74: tree pruning end, 1 roots, 22 extra nodes, 6 pruned nodes, max_depth=5\u001b[0m\n",
      "\u001b[31m[53]#011train-error:0.138667#011validation-error:0.1665\u001b[0m\n",
      "\u001b[31m[11:42:21] src/tree/updater_prune.cc:74: tree pruning end, 1 roots, 22 extra nodes, 12 pruned nodes, max_depth=5\u001b[0m\n",
      "\u001b[31m[54]#011train-error:0.138067#011validation-error:0.1652\u001b[0m\n",
      "\u001b[31m[11:42:22] src/tree/updater_prune.cc:74: tree pruning end, 1 roots, 14 extra nodes, 12 pruned nodes, max_depth=5\u001b[0m\n",
      "\u001b[31m[55]#011train-error:0.137267#011validation-error:0.1645\u001b[0m\n",
      "\u001b[31m[11:42:23] src/tree/updater_prune.cc:74: tree pruning end, 1 roots, 26 extra nodes, 4 pruned nodes, max_depth=5\u001b[0m\n",
      "\u001b[31m[56]#011train-error:0.135733#011validation-error:0.1639\u001b[0m\n",
      "\u001b[31m[11:42:25] src/tree/updater_prune.cc:74: tree pruning end, 1 roots, 18 extra nodes, 10 pruned nodes, max_depth=5\u001b[0m\n",
      "\u001b[31m[57]#011train-error:0.1342#011validation-error:0.163\u001b[0m\n",
      "\u001b[31m[11:42:26] src/tree/updater_prune.cc:74: tree pruning end, 1 roots, 28 extra nodes, 6 pruned nodes, max_depth=5\u001b[0m\n",
      "\u001b[31m[58]#011train-error:0.133067#011validation-error:0.1638\u001b[0m\n",
      "\u001b[31m[11:42:27] src/tree/updater_prune.cc:74: tree pruning end, 1 roots, 14 extra nodes, 8 pruned nodes, max_depth=5\u001b[0m\n",
      "\u001b[31m[59]#011train-error:0.1318#011validation-error:0.1628\u001b[0m\n",
      "\u001b[31m[11:42:29] src/tree/updater_prune.cc:74: tree pruning end, 1 roots, 20 extra nodes, 12 pruned nodes, max_depth=5\u001b[0m\n",
      "\u001b[31m[60]#011train-error:0.131667#011validation-error:0.1624\u001b[0m\n",
      "\u001b[31m[11:42:30] src/tree/updater_prune.cc:74: tree pruning end, 1 roots, 26 extra nodes, 6 pruned nodes, max_depth=5\u001b[0m\n",
      "\u001b[31m[61]#011train-error:0.1306#011validation-error:0.1614\u001b[0m\n",
      "\u001b[31m[11:42:31] src/tree/updater_prune.cc:74: tree pruning end, 1 roots, 32 extra nodes, 8 pruned nodes, max_depth=5\u001b[0m\n",
      "\u001b[31m[62]#011train-error:0.127933#011validation-error:0.1629\u001b[0m\n",
      "\u001b[31m[11:42:33] src/tree/updater_prune.cc:74: tree pruning end, 1 roots, 26 extra nodes, 10 pruned nodes, max_depth=5\u001b[0m\n",
      "\u001b[31m[63]#011train-error:0.126867#011validation-error:0.1605\u001b[0m\n",
      "\u001b[31m[11:42:34] src/tree/updater_prune.cc:74: tree pruning end, 1 roots, 36 extra nodes, 8 pruned nodes, max_depth=5\u001b[0m\n",
      "\u001b[31m[64]#011train-error:0.1256#011validation-error:0.1604\u001b[0m\n",
      "\u001b[31m[11:42:35] src/tree/updater_prune.cc:74: tree pruning end, 1 roots, 18 extra nodes, 10 pruned nodes, max_depth=5\u001b[0m\n",
      "\u001b[31m[65]#011train-error:0.1252#011validation-error:0.1602\u001b[0m\n",
      "\u001b[31m[11:42:37] src/tree/updater_prune.cc:74: tree pruning end, 1 roots, 20 extra nodes, 16 pruned nodes, max_depth=5\u001b[0m\n",
      "\u001b[31m[66]#011train-error:0.125333#011validation-error:0.1595\u001b[0m\n",
      "\u001b[31m[11:42:38] src/tree/updater_prune.cc:74: tree pruning end, 1 roots, 20 extra nodes, 8 pruned nodes, max_depth=5\u001b[0m\n",
      "\u001b[31m[67]#011train-error:0.124667#011validation-error:0.159\u001b[0m\n",
      "\u001b[31m[11:42:39] src/tree/updater_prune.cc:74: tree pruning end, 1 roots, 16 extra nodes, 12 pruned nodes, max_depth=5\u001b[0m\n",
      "\u001b[31m[68]#011train-error:0.123733#011validation-error:0.159\u001b[0m\n",
      "\u001b[31m[11:42:41] src/tree/updater_prune.cc:74: tree pruning end, 1 roots, 24 extra nodes, 8 pruned nodes, max_depth=5\u001b[0m\n",
      "\u001b[31m[69]#011train-error:0.123333#011validation-error:0.159\u001b[0m\n",
      "\u001b[31m[11:42:42] src/tree/updater_prune.cc:74: tree pruning end, 1 roots, 40 extra nodes, 14 pruned nodes, max_depth=5\u001b[0m\n",
      "\u001b[31m[70]#011train-error:0.122#011validation-error:0.1585\u001b[0m\n",
      "\u001b[31m[11:42:43] src/tree/updater_prune.cc:74: tree pruning end, 1 roots, 16 extra nodes, 10 pruned nodes, max_depth=5\u001b[0m\n",
      "\u001b[31m[71]#011train-error:0.121933#011validation-error:0.1578\u001b[0m\n",
      "\u001b[31m[11:42:45] src/tree/updater_prune.cc:74: tree pruning end, 1 roots, 20 extra nodes, 14 pruned nodes, max_depth=5\u001b[0m\n",
      "\u001b[31m[72]#011train-error:0.121667#011validation-error:0.1585\u001b[0m\n",
      "\u001b[31m[11:42:46] src/tree/updater_prune.cc:74: tree pruning end, 1 roots, 12 extra nodes, 6 pruned nodes, max_depth=5\u001b[0m\n",
      "\u001b[31m[73]#011train-error:0.1214#011validation-error:0.1579\u001b[0m\n",
      "\u001b[31m[11:42:47] src/tree/updater_prune.cc:74: tree pruning end, 1 roots, 24 extra nodes, 8 pruned nodes, max_depth=5\u001b[0m\n",
      "\u001b[31m[74]#011train-error:0.1202#011validation-error:0.1573\u001b[0m\n",
      "\u001b[31m[11:42:48] src/tree/updater_prune.cc:74: tree pruning end, 1 roots, 12 extra nodes, 4 pruned nodes, max_depth=5\u001b[0m\n",
      "\u001b[31m[75]#011train-error:0.119333#011validation-error:0.1569\u001b[0m\n",
      "\u001b[31m[11:42:50] src/tree/updater_prune.cc:74: tree pruning end, 1 roots, 14 extra nodes, 6 pruned nodes, max_depth=5\u001b[0m\n",
      "\u001b[31m[76]#011train-error:0.118133#011validation-error:0.1569\u001b[0m\n",
      "\u001b[31m[11:42:51] src/tree/updater_prune.cc:74: tree pruning end, 1 roots, 12 extra nodes, 4 pruned nodes, max_depth=5\u001b[0m\n",
      "\u001b[31m[77]#011train-error:0.117667#011validation-error:0.1563\u001b[0m\n",
      "\u001b[31m[11:42:52] src/tree/updater_prune.cc:74: tree pruning end, 1 roots, 24 extra nodes, 2 pruned nodes, max_depth=5\u001b[0m\n",
      "\u001b[31m[78]#011train-error:0.116133#011validation-error:0.1565\u001b[0m\n",
      "\u001b[31m[11:42:54] src/tree/updater_prune.cc:74: tree pruning end, 1 roots, 22 extra nodes, 4 pruned nodes, max_depth=5\u001b[0m\n",
      "\u001b[31m[79]#011train-error:0.1162#011validation-error:0.1553\u001b[0m\n",
      "\u001b[31m[11:42:55] src/tree/updater_prune.cc:74: tree pruning end, 1 roots, 16 extra nodes, 6 pruned nodes, max_depth=5\u001b[0m\n",
      "\u001b[31m[80]#011train-error:0.115933#011validation-error:0.1545\u001b[0m\n",
      "\u001b[31m[11:42:56] src/tree/updater_prune.cc:74: tree pruning end, 1 roots, 22 extra nodes, 10 pruned nodes, max_depth=5\u001b[0m\n",
      "\u001b[31m[81]#011train-error:0.1146#011validation-error:0.154\u001b[0m\n",
      "\u001b[31m[11:42:58] src/tree/updater_prune.cc:74: tree pruning end, 1 roots, 24 extra nodes, 12 pruned nodes, max_depth=5\u001b[0m\n",
      "\u001b[31m[82]#011train-error:0.112133#011validation-error:0.1528\u001b[0m\n",
      "\u001b[31m[11:42:59] src/tree/updater_prune.cc:74: tree pruning end, 1 roots, 18 extra nodes, 6 pruned nodes, max_depth=5\u001b[0m\n",
      "\u001b[31m[83]#011train-error:0.112#011validation-error:0.1525\u001b[0m\n",
      "\u001b[31m[11:43:00] src/tree/updater_prune.cc:74: tree pruning end, 1 roots, 18 extra nodes, 12 pruned nodes, max_depth=5\u001b[0m\n",
      "\u001b[31m[84]#011train-error:0.1118#011validation-error:0.1515\u001b[0m\n",
      "\u001b[31m[11:43:02] src/tree/updater_prune.cc:74: tree pruning end, 1 roots, 18 extra nodes, 6 pruned nodes, max_depth=5\u001b[0m\n",
      "\u001b[31m[85]#011train-error:0.111667#011validation-error:0.1516\u001b[0m\n",
      "\u001b[31m[11:43:03] src/tree/updater_prune.cc:74: tree pruning end, 1 roots, 18 extra nodes, 20 pruned nodes, max_depth=5\u001b[0m\n",
      "\u001b[31m[86]#011train-error:0.111067#011validation-error:0.1506\u001b[0m\n",
      "\u001b[31m[11:43:04] src/tree/updater_prune.cc:74: tree pruning end, 1 roots, 16 extra nodes, 6 pruned nodes, max_depth=5\u001b[0m\n",
      "\u001b[31m[87]#011train-error:0.1106#011validation-error:0.1504\u001b[0m\n",
      "\u001b[31m[11:43:06] src/tree/updater_prune.cc:74: tree pruning end, 1 roots, 14 extra nodes, 12 pruned nodes, max_depth=5\u001b[0m\n",
      "\u001b[31m[88]#011train-error:0.1102#011validation-error:0.1503\u001b[0m\n",
      "\u001b[31m[11:43:07] src/tree/updater_prune.cc:74: tree pruning end, 1 roots, 12 extra nodes, 14 pruned nodes, max_depth=5\u001b[0m\n",
      "\u001b[31m[89]#011train-error:0.110067#011validation-error:0.1498\u001b[0m\n",
      "\u001b[31m[11:43:08] src/tree/updater_prune.cc:74: tree pruning end, 1 roots, 28 extra nodes, 6 pruned nodes, max_depth=5\u001b[0m\n",
      "\u001b[31m[90]#011train-error:0.108867#011validation-error:0.1495\u001b[0m\n",
      "\u001b[31m[11:43:09] src/tree/updater_prune.cc:74: tree pruning end, 1 roots, 24 extra nodes, 4 pruned nodes, max_depth=5\u001b[0m\n",
      "\u001b[31m[91]#011train-error:0.1084#011validation-error:0.1496\u001b[0m\n"
     ]
    },
    {
     "name": "stdout",
     "output_type": "stream",
     "text": [
      "\u001b[31m[11:43:11] src/tree/updater_prune.cc:74: tree pruning end, 1 roots, 14 extra nodes, 16 pruned nodes, max_depth=5\u001b[0m\n",
      "\u001b[31m[92]#011train-error:0.108067#011validation-error:0.1501\u001b[0m\n",
      "\u001b[31m[11:43:12] src/tree/updater_prune.cc:74: tree pruning end, 1 roots, 14 extra nodes, 10 pruned nodes, max_depth=5\u001b[0m\n",
      "\u001b[31m[93]#011train-error:0.107933#011validation-error:0.1501\u001b[0m\n",
      "\u001b[31m[11:43:13] src/tree/updater_prune.cc:74: tree pruning end, 1 roots, 26 extra nodes, 2 pruned nodes, max_depth=5\u001b[0m\n",
      "\u001b[31m[94]#011train-error:0.107333#011validation-error:0.1505\u001b[0m\n",
      "\u001b[31m[11:43:15] src/tree/updater_prune.cc:74: tree pruning end, 1 roots, 26 extra nodes, 6 pruned nodes, max_depth=5\u001b[0m\n",
      "\u001b[31m[95]#011train-error:0.105733#011validation-error:0.1502\u001b[0m\n",
      "\u001b[31m[11:43:16] src/tree/updater_prune.cc:74: tree pruning end, 1 roots, 22 extra nodes, 4 pruned nodes, max_depth=5\u001b[0m\n",
      "\u001b[31m[96]#011train-error:0.104733#011validation-error:0.1499\u001b[0m\n",
      "\u001b[31m[11:43:17] src/tree/updater_prune.cc:74: tree pruning end, 1 roots, 34 extra nodes, 18 pruned nodes, max_depth=5\u001b[0m\n",
      "\u001b[31m[97]#011train-error:0.1038#011validation-error:0.15\u001b[0m\n",
      "\u001b[31m[11:43:19] src/tree/updater_prune.cc:74: tree pruning end, 1 roots, 22 extra nodes, 10 pruned nodes, max_depth=5\u001b[0m\n",
      "\u001b[31m[98]#011train-error:0.103467#011validation-error:0.1498\u001b[0m\n",
      "\u001b[31m[11:43:20] src/tree/updater_prune.cc:74: tree pruning end, 1 roots, 24 extra nodes, 14 pruned nodes, max_depth=5\u001b[0m\n",
      "\u001b[31m[99]#011train-error:0.102933#011validation-error:0.1504\u001b[0m\n",
      "\n",
      "2019-04-20 11:43:31 Uploading - Uploading generated training model\n",
      "2019-04-20 11:43:31 Completed - Training job completed\n",
      "\u001b[31m[11:43:21] src/tree/updater_prune.cc:74: tree pruning end, 1 roots, 16 extra nodes, 4 pruned nodes, max_depth=5\u001b[0m\n",
      "\u001b[31m[100]#011train-error:0.1026#011validation-error:0.1504\u001b[0m\n",
      "\u001b[31mStopping. Best iteration:\u001b[0m\n",
      "\u001b[31m[90]#011train-error:0.108867#011validation-error:0.1495\n",
      "\u001b[0m\n",
      "Billable seconds: 188\n"
     ]
    }
   ],
   "source": [
    "xgb.fit({'train': s3_input_train, 'validation': s3_input_validation})"
   ]
  },
  {
   "cell_type": "markdown",
   "metadata": {},
   "source": [
    "## Step 5: Testing the model\n",
    "\n",
    "Now that we've fit our XGBoost model, it's time to see how well it performs. To do this we will use SageMakers Batch Transform functionality. Batch Transform is a convenient way to perform inference on a large dataset in a way that is not realtime. That is, we don't necessarily need to use our model's results immediately and instead we can perform inference on a large number of samples. An example of this in industry might be performing an end of month report. This method of inference can also be useful to us as it means that we can perform inference on our entire test set. \n",
    "\n",
    "To perform a Batch Transformation we need to first create a transformer objects from our trained estimator object."
   ]
  },
  {
   "cell_type": "code",
   "execution_count": 24,
   "metadata": {},
   "outputs": [
    {
     "name": "stderr",
     "output_type": "stream",
     "text": [
      "INFO:sagemaker:Creating model with name: xgboost-2019-04-20-11-38-00-344\n"
     ]
    }
   ],
   "source": [
    "xgb_transformer = xgb.transformer(instance_count = 1, instance_type = 'ml.m4.xlarge')"
   ]
  },
  {
   "cell_type": "markdown",
   "metadata": {},
   "source": [
    "Next we actually perform the transform job. When doing so we need to make sure to specify the type of data we are sending so that it is serialized correctly in the background. In our case we are providing our model with csv data so we specify `text/csv`. Also, if the test data that we have provided is too large to process all at once then we need to specify how the data file should be split up. Since each line is a single entry in our data set we tell SageMaker that it can split the input on each line."
   ]
  },
  {
   "cell_type": "code",
   "execution_count": 25,
   "metadata": {},
   "outputs": [
    {
     "name": "stderr",
     "output_type": "stream",
     "text": [
      "INFO:sagemaker:Creating transform job with name: xgboost-2019-04-20-11-43-45-167\n"
     ]
    }
   ],
   "source": [
    "xgb_transformer.transform(test_location, content_type='text/csv', split_type='Line')"
   ]
  },
  {
   "cell_type": "markdown",
   "metadata": {},
   "source": [
    "Currently the transform job is running but it is doing so in the background. Since we wish to wait until the transform job is done and we would like a bit of feedback we can run the `wait()` method."
   ]
  },
  {
   "cell_type": "code",
   "execution_count": 26,
   "metadata": {},
   "outputs": [
    {
     "name": "stdout",
     "output_type": "stream",
     "text": [
      "..................................................!\n"
     ]
    }
   ],
   "source": [
    "xgb_transformer.wait()"
   ]
  },
  {
   "cell_type": "markdown",
   "metadata": {},
   "source": [
    "Now the transform job has executed and the result, the estimated sentiment of each review, has been saved on S3. Since we would rather work on this file locally we can perform a bit of notebook magic to copy the file to the `data_dir`."
   ]
  },
  {
   "cell_type": "code",
   "execution_count": 27,
   "metadata": {},
   "outputs": [
    {
     "name": "stdout",
     "output_type": "stream",
     "text": [
      "download: s3://sagemaker-us-east-1-291097545587/xgboost-2019-04-20-11-43-45-167/test.csv.out to ../data/sentiment_web_app/test.csv.out\n"
     ]
    }
   ],
   "source": [
    "!aws s3 cp --recursive $xgb_transformer.output_path $data_dir"
   ]
  },
  {
   "cell_type": "markdown",
   "metadata": {},
   "source": [
    "The last step is now to read in the output from our model, convert the output to something a little more usable, in this case we want the sentiment to be either `1` (positive) or `0` (negative), and then compare to the ground truth labels."
   ]
  },
  {
   "cell_type": "code",
   "execution_count": 28,
   "metadata": {},
   "outputs": [],
   "source": [
    "predictions = pd.read_csv(os.path.join(data_dir, 'test.csv.out'), header=None)\n",
    "predictions = [round(num) for num in predictions.squeeze().values]"
   ]
  },
  {
   "cell_type": "code",
   "execution_count": 29,
   "metadata": {},
   "outputs": [
    {
     "data": {
      "text/plain": [
       "0.85028"
      ]
     },
     "execution_count": 29,
     "metadata": {},
     "output_type": "execute_result"
    }
   ],
   "source": [
    "from sklearn.metrics import accuracy_score\n",
    "accuracy_score(test_y, predictions)"
   ]
  },
  {
   "cell_type": "markdown",
   "metadata": {},
   "source": [
    "## Step 6: Deploying the model\n",
    "\n",
    "Once we construct and fit our model, SageMaker stores the resulting model artifacts and we can use those to deploy an endpoint (inference code). To see this, look in the SageMaker console and you should see that a model has been created along with a link to the S3 location where the model artifacts have been stored.\n",
    "\n",
    "Deploying an endpoint is a lot like training the model with a few important differences. The first is that a deployed model doesn't change the model artifacts, so as you send it various testing instances the model won't change. Another difference is that since we aren't performing a fixed computation, as we were in the training step or while performing a batch transform, the compute instance that gets started stays running until we tell it to stop. This is important to note as if we forget and leave it running we will be charged the entire time.\n",
    "\n",
    "In other words **If you are no longer using a deployed endpoint, shut it down!**"
   ]
  },
  {
   "cell_type": "code",
   "execution_count": 30,
   "metadata": {},
   "outputs": [
    {
     "name": "stderr",
     "output_type": "stream",
     "text": [
      "INFO:sagemaker:Creating model with name: xgboost-2019-04-20-11-47-59-204\n",
      "INFO:sagemaker:Creating endpoint with name xgboost-2019-04-20-11-38-00-344\n"
     ]
    },
    {
     "name": "stdout",
     "output_type": "stream",
     "text": [
      "----------------------------------------------------------------------------------------!"
     ]
    }
   ],
   "source": [
    "xgb_predictor = xgb.deploy(initial_instance_count = 1, instance_type = 'ml.m4.xlarge')"
   ]
  },
  {
   "cell_type": "markdown",
   "metadata": {},
   "source": [
    "### Testing the model (again)\n",
    "\n",
    "Now that we have deployed our endpoint, we can send the testing data to it and get back the inference results. We already did this earlier using the batch transform functionality of SageMaker, however, we will test our model again using the newly deployed endpoint so that we can make sure that it works properly and to get a bit of a feel for how the endpoint works.\n",
    "\n",
    "When using the created endpoint it is important to know that we are limited in the amount of information we can send in each call so we need to break the testing data up into chunks and then send each chunk. Also, we need to serialize our data before we send it to the endpoint to ensure that our data is transmitted properly. Fortunately, SageMaker can do the serialization part for us provided we tell it the format of our data."
   ]
  },
  {
   "cell_type": "code",
   "execution_count": 31,
   "metadata": {},
   "outputs": [],
   "source": [
    "from sagemaker.predictor import csv_serializer\n",
    "\n",
    "# We need to tell the endpoint what format the data we are sending is in so that SageMaker can perform the serialization.\n",
    "xgb_predictor.content_type = 'text/csv'\n",
    "xgb_predictor.serializer = csv_serializer"
   ]
  },
  {
   "cell_type": "code",
   "execution_count": 32,
   "metadata": {},
   "outputs": [],
   "source": [
    "# We split the data into chunks and send each chunk seperately, accumulating the results.\n",
    "\n",
    "def predict(data, rows=512):\n",
    "    split_array = np.array_split(data, int(data.shape[0] / float(rows) + 1))\n",
    "    predictions = ''\n",
    "    for array in split_array:\n",
    "        predictions = ','.join([predictions, xgb_predictor.predict(array).decode('utf-8')])\n",
    "    \n",
    "    return np.fromstring(predictions[1:], sep=',')"
   ]
  },
  {
   "cell_type": "code",
   "execution_count": 33,
   "metadata": {},
   "outputs": [],
   "source": [
    "test_X = pd.read_csv(os.path.join(data_dir, 'test.csv'), header=None).values\n",
    "\n",
    "predictions = predict(test_X)\n",
    "predictions = [round(num) for num in predictions]"
   ]
  },
  {
   "cell_type": "markdown",
   "metadata": {},
   "source": [
    "Lastly, we check to see what the accuracy of our model is."
   ]
  },
  {
   "cell_type": "code",
   "execution_count": 34,
   "metadata": {},
   "outputs": [
    {
     "data": {
      "text/plain": [
       "0.85028"
      ]
     },
     "execution_count": 34,
     "metadata": {},
     "output_type": "execute_result"
    }
   ],
   "source": [
    "from sklearn.metrics import accuracy_score\n",
    "accuracy_score(test_y, predictions)"
   ]
  },
  {
   "cell_type": "markdown",
   "metadata": {},
   "source": [
    "And the results here should agree with the model testing that we did earlier using the batch transform job.\n",
    "\n",
    "### Cleaning up\n",
    "\n",
    "Now that we've determined that deploying our model works as expected, we are going to shut it down. Remember that the longer the endpoint is left running, the greater the cost and since we have a bit more work to do before we are able to use our endpoint with our simple web app, we should shut everything down."
   ]
  },
  {
   "cell_type": "code",
   "execution_count": 35,
   "metadata": {},
   "outputs": [
    {
     "name": "stderr",
     "output_type": "stream",
     "text": [
      "INFO:sagemaker:Deleting endpoint configuration with name: xgboost-2019-04-20-11-38-00-344\n",
      "INFO:sagemaker:Deleting endpoint with name: xgboost-2019-04-20-11-38-00-344\n"
     ]
    }
   ],
   "source": [
    "xgb_predictor.delete_endpoint()"
   ]
  },
  {
   "cell_type": "markdown",
   "metadata": {},
   "source": [
    "## Step 7: Putting our model to work\n",
    "\n",
    "As we've mentioned a few times now, our goal is to have our model deployed and then access it using a very simple web app. The intent is for this web app to take some user submitted data (a review), send it off to our endpoint (the model) and then display the result.\n",
    "\n",
    "However, there is a small catch. Currently the only way we can access the endpoint to send it data is using the SageMaker API. We can, if we wish, expose the actual URL that our model's endpoint is receiving data from, however, if we just send it data ourselves we will not get anything in return. This is because the endpoint created by SageMaker requires the entity accessing it have the correct permissions. So, we would need to somehow authenticate our web app with AWS.\n",
    "\n",
    "Having a website that authenticates to AWS seems a bit beyond the scope of this lesson so we will opt for an alternative approach. Namely, we will create a new endpoint which does not require authentication and which acts as a proxy for the SageMaker endpoint.\n",
    "\n",
    "As an additional constraint, we will try to avoid doing any data processing in the web app itself. Remember that when we constructed and tested our model we started with a movie review, then we simplified it by removing any html formatting and punctuation, then we constructed a bag of words embedding and the resulting vector is what we sent to our model. All of this needs to be done to our user input as well.\n",
    "\n",
    "Fortunately we can do all of this data processing in the backend, using Amazon's Lambda service.\n",
    "\n",
    "<img src=\"Web App Diagram.svg\">\n",
    "\n",
    "The diagram above gives an overview of how the various services will work together. On the far right is the model which we trained above and which will be deployed using SageMaker. On the far left is our web app that collects a user's movie review, sends it off and expects a positive or negative sentiment in return.\n",
    "\n",
    "In the middle is where some of the magic happens. We will construct a Lambda function, which you can think of as a straightforward Python function that can be executed whenever a specified event occurs. This Python function will do the data processing we need to perform on a user submitted review. In addition, we will give this function permission to send and recieve data from a SageMaker endpoint.\n",
    "\n",
    "Lastly, the method we will use to execute the Lambda function is a new endpoint that we will create using API Gateway. This endpoint will be a url that listens for data to be sent to it. Once it gets some data it will pass that data on to the Lambda function and then return whatever the Lambda function returns. Essentially it will act as an interface that lets our web app communicate with the Lambda function.\n",
    "\n",
    "### Processing a single review\n",
    "\n",
    "For now, suppose we are given a movie review by our user in the form of a string, like so:"
   ]
  },
  {
   "cell_type": "code",
   "execution_count": 36,
   "metadata": {},
   "outputs": [],
   "source": [
    "test_review = \"Nothing but a disgusting materialistic pageant of glistening abed remote control greed zombies, totally devoid of any heart or heat. A romantic comedy that has zero romantic chemestry and zero laughs!\""
   ]
  },
  {
   "cell_type": "markdown",
   "metadata": {},
   "source": [
    "How do we go from this string to the bag of words feature vector that is expected by our model?\n",
    "\n",
    "If we recall at the beginning of this notebook, the first step is to remove any unnecessary characters using the `review_to_words` method. Remember that we intentionally did this in a very simplistic way. This is because we are going to have to copy this method to our (eventual) Lambda function (we will go into more detail later) and this means it needs to be rather simplistic."
   ]
  },
  {
   "cell_type": "code",
   "execution_count": 37,
   "metadata": {},
   "outputs": [
    {
     "name": "stdout",
     "output_type": "stream",
     "text": [
      "nothing but a disgusting materialistic pageant of glistening abed remote control greed zombies totally devoid of any heart or heat a romantic comedy that has zero romantic chemestry and zero laughs\n"
     ]
    }
   ],
   "source": [
    "test_words = review_to_words(test_review)\n",
    "print(test_words)"
   ]
  },
  {
   "cell_type": "markdown",
   "metadata": {},
   "source": [
    "Next, we need to construct a bag of words embedding of the `test_words` string. To do this, remember that a bag of words embedding uses a `vocabulary` consisting of the most frequently appearing words in a set of documents. Then, for each word in the vocabulary we record the number of times that word appears in `test_words`. We constructed the `vocabulary` earlier using the training set for our problem so encoding `test_words` is relatively straightforward."
   ]
  },
  {
   "cell_type": "code",
   "execution_count": 38,
   "metadata": {},
   "outputs": [],
   "source": [
    "def bow_encoding(words, vocabulary):\n",
    "    bow = [0] * len(vocabulary) # Start by setting the count for each word in the vocabulary to zero.\n",
    "    for word in words.split():  # For each word in the string\n",
    "        if word in vocabulary:  # If the word is one that occurs in the vocabulary, increase its count.\n",
    "            bow[vocabulary[word]] += 1\n",
    "    return bow"
   ]
  },
  {
   "cell_type": "code",
   "execution_count": 39,
   "metadata": {},
   "outputs": [
    {
     "name": "stdout",
     "output_type": "stream",
     "text": [
      "[0, 0, 0, 0, 0, 0, 0, 0, 0, 0, 0, 0, 0, 0, 0, 0, 0, 0, 0, 0, 0, 0, 0, 0, 0, 0, 0, 0, 0, 0, 0, 0, 0, 0, 0, 0, 0, 0, 0, 0, 0, 0, 0, 0, 0, 0, 0, 0, 0, 0, 0, 0, 0, 0, 0, 0, 0, 0, 0, 0, 0, 0, 0, 0, 0, 0, 0, 0, 0, 0, 0, 0, 0, 0, 0, 0, 0, 0, 0, 0, 0, 0, 0, 0, 0, 0, 0, 0, 0, 0, 0, 0, 0, 0, 0, 0, 0, 0, 0, 0, 0, 0, 0, 0, 0, 0, 0, 0, 0, 0, 0, 0, 0, 0, 0, 0, 0, 0, 0, 0, 0, 0, 0, 0, 0, 0, 0, 0, 0, 0, 0, 0, 0, 0, 0, 0, 0, 0, 0, 0, 0, 0, 0, 0, 0, 0, 0, 0, 0, 0, 0, 0, 0, 0, 0, 0, 0, 0, 0, 0, 0, 0, 0, 0, 0, 0, 0, 0, 0, 0, 0, 0, 0, 0, 0, 0, 0, 0, 0, 0, 0, 0, 0, 0, 0, 0, 0, 0, 0, 0, 0, 0, 0, 0, 0, 0, 0, 0, 0, 0, 0, 0, 0, 0, 0, 0, 0, 0, 0, 0, 0, 0, 0, 0, 0, 0, 0, 0, 0, 0, 0, 0, 0, 0, 0, 0, 1, 0, 0, 0, 0, 0, 0, 0, 0, 0, 0, 0, 0, 0, 0, 0, 0, 0, 0, 0, 0, 0, 0, 0, 0, 0, 0, 0, 0, 0, 1, 0, 0, 0, 0, 0, 0, 0, 0, 0, 0, 0, 0, 0, 0, 0, 0, 0, 0, 0, 0, 0, 0, 0, 0, 0, 0, 0, 0, 0, 0, 0, 0, 0, 0, 0, 0, 0, 0, 0, 0, 0, 0, 0, 0, 0, 0, 0, 0, 0, 0, 0, 0, 0, 0, 0, 0, 0, 0, 0, 0, 0, 0, 0, 0, 0, 0, 0, 0, 0, 0, 0, 0, 0, 0, 0, 0, 0, 0, 0, 0, 0, 0, 0, 0, 0, 0, 0, 0, 0, 0, 0, 0, 0, 0, 0, 0, 0, 0, 0, 0, 0, 0, 0, 0, 0, 0, 0, 0, 0, 0, 0, 0, 0, 0, 0, 0, 0, 0, 0, 0, 0, 0, 0, 0, 0, 0, 0, 0, 0, 0, 0, 0, 0, 0, 0, 0, 0, 0, 0, 0, 0, 0, 0, 0, 0, 0, 0, 0, 0, 0, 0, 0, 0, 0, 0, 0, 0, 0, 0, 0, 0, 0, 0, 0, 0, 0, 0, 0, 0, 0, 0, 0, 0, 0, 0, 0, 0, 0, 0, 0, 0, 0, 0, 0, 0, 0, 0, 0, 0, 0, 0, 0, 0, 0, 0, 0, 0, 0, 0, 0, 0, 0, 0, 0, 0, 0, 0, 0, 0, 0, 0, 0, 0, 0, 0, 0, 0, 0, 0, 0, 0, 0, 0, 0, 0, 0, 0, 0, 0, 0, 0, 0, 0, 0, 0, 0, 0, 0, 0, 0, 0, 0, 0, 0, 0, 0, 0, 0, 0, 0, 0, 0, 0, 0, 0, 0, 0, 0, 0, 0, 0, 0, 0, 0, 0, 0, 0, 0, 0, 0, 0, 0, 0, 0, 0, 0, 0, 0, 0, 0, 0, 0, 0, 0, 0, 0, 0, 0, 0, 0, 0, 0, 0, 0, 0, 0, 0, 0, 0, 0, 0, 0, 0, 0, 0, 0, 0, 0, 0, 0, 0, 0, 0, 0, 0, 0, 0, 0, 0, 0, 0, 0, 0, 0, 0, 0, 0, 0, 0, 0, 0, 0, 0, 0, 0, 0, 0, 0, 0, 0, 0, 0, 0, 0, 0, 0, 0, 0, 0, 0, 0, 0, 0, 0, 0, 0, 0, 0, 0, 0, 0, 0, 0, 0, 0, 0, 0, 0, 0, 0, 0, 0, 0, 0, 0, 0, 0, 0, 0, 1, 0, 0, 0, 0, 0, 0, 0, 0, 0, 0, 0, 0, 0, 0, 0, 0, 0, 0, 0, 0, 0, 0, 0, 0, 0, 0, 0, 0, 0, 0, 0, 0, 0, 0, 0, 0, 0, 0, 0, 0, 0, 0, 0, 0, 0, 0, 0, 0, 0, 0, 0, 0, 0, 0, 0, 0, 0, 0, 0, 0, 0, 0, 0, 0, 0, 0, 0, 0, 0, 0, 0, 0, 0, 0, 0, 0, 0, 0, 0, 0, 0, 0, 0, 0, 0, 0, 0, 0, 0, 0, 0, 0, 0, 0, 0, 0, 0, 0, 0, 0, 0, 0, 0, 0, 0, 0, 0, 0, 0, 0, 0, 0, 0, 0, 0, 0, 0, 0, 0, 0, 0, 0, 0, 0, 0, 0, 0, 0, 0, 0, 0, 0, 0, 0, 0, 0, 0, 0, 0, 0, 0, 0, 0, 0, 0, 0, 0, 0, 0, 0, 0, 0, 0, 0, 0, 0, 0, 0, 0, 0, 0, 0, 0, 0, 0, 0, 0, 0, 0, 0, 0, 0, 0, 0, 0, 0, 0, 0, 0, 0, 0, 0, 0, 0, 0, 0, 0, 0, 0, 0, 0, 0, 0, 0, 0, 0, 0, 0, 0, 0, 0, 0, 0, 0, 0, 0, 0, 0, 0, 0, 0, 0, 0, 0, 0, 0, 0, 0, 0, 0, 0, 0, 0, 0, 0, 0, 0, 0, 0, 0, 0, 0, 0, 0, 0, 0, 0, 0, 0, 0, 0, 0, 0, 0, 0, 0, 0, 0, 0, 0, 0, 0, 0, 1, 0, 0, 0, 0, 0, 0, 0, 0, 0, 0, 0, 0, 0, 0, 0, 0, 0, 0, 0, 0, 0, 0, 0, 0, 0, 0, 0, 0, 0, 0, 0, 0, 0, 0, 0, 0, 0, 0, 0, 0, 0, 0, 0, 0, 0, 0, 0, 0, 0, 0, 0, 0, 0, 0, 0, 0, 0, 0, 0, 0, 0, 0, 0, 0, 0, 0, 0, 0, 0, 0, 0, 0, 0, 0, 0, 0, 0, 0, 0, 0, 0, 0, 0, 0, 0, 0, 1, 0, 0, 0, 0, 0, 0, 0, 0, 0, 0, 0, 0, 0, 0, 0, 0, 0, 0, 0, 0, 0, 0, 0, 0, 0, 0, 0, 0, 0, 0, 0, 0, 0, 0, 0, 0, 0, 0, 0, 0, 0, 0, 0, 0, 0, 0, 0, 0, 0, 0, 0, 0, 0, 0, 0, 0, 0, 0, 0, 0, 0, 0, 0, 0, 0, 0, 0, 0, 0, 0, 0, 0, 0, 0, 0, 0, 0, 0, 0, 0, 0, 0, 0, 0, 0, 0, 0, 0, 0, 0, 0, 0, 0, 0, 0, 0, 0, 0, 0, 0, 0, 0, 0, 0, 0, 0, 0, 0, 0, 0, 0, 0, 0, 0, 0, 0, 0, 0, 0, 0, 0, 0, 0, 0, 0, 0, 0, 0, 0, 0, 0, 0, 0, 0, 0, 0, 0, 0, 0, 0, 0, 0, 0, 0, 0, 0, 0, 0, 0, 0, 0, 0, 0, 0, 0, 0, 0, 0, 0, 0, 0, 0, 0, 0, 0, 0, 0, 0, 0, 0, 0, 0, 0, 0, 0, 0, 0, 0, 0, 0, 0, 0, 0, 0, 0, 0, 0, 0, 0, 0, 0, 0, 0, 0, 0, 0, 0, 0, 0, 0, 0, 0, 0, 0, 0, 0, 0, 0, 0, 0, 0, 0, 0, 0, 0, 0, 0, 0, 0, 0, 0, 0, 0, 0, 0, 0, 0, 0, 0, 0, 0, 0, 0, 0, 0, 0, 0, 0, 0, 0, 0, 0, 0, 0, 0, 0, 0, 0, 0, 0, 0, 0, 1, 0, 0, 0, 0, 0, 0, 0, 0, 0, 0, 0, 0, 0, 0, 0, 0, 0, 0, 0, 0, 0, 0, 0, 0, 0, 0, 0, 0, 0, 0, 0, 0, 0, 0, 0, 0, 0, 0, 0, 0, 0, 0, 0, 0, 0, 0, 0, 0, 0, 0, 0, 0, 0, 0, 0, 1, 0, 0, 0, 0, 0, 0, 0, 0, 0, 0, 0, 0, 0, 0, 0, 0, 0, 0, 0, 0, 0, 0, 0, 0, 0, 0, 0, 0, 0, 0, 0, 0, 0, 0, 0, 0, 0, 0, 0, 0, 0, 0, 0, 0, 0, 0, 0, 0, 0, 0, 0, 0, 0, 0, 0, 0, 0, 0, 0, 0, 0, 0, 0, 0, 0, 0, 0, 0, 0, 0, 0, 0, 0, 0, 0, 0, 0, 0, 0, 0, 0, 0, 0, 0, 0, 0, 0, 0, 0, 0, 0, 0, 0, 0, 0, 0, 0, 0, 0, 0, 0, 0, 0, 0, 0, 0, 0, 0, 0, 0, 0, 0, 0, 0, 0, 0, 0, 0, 0, 0, 0, 0, 0, 0, 0, 0, 0, 0, 0, 0, 0, 0, 0, 0, 0, 0, 0, 0, 0, 0, 0, 0, 0, 0, 0, 0, 0, 0, 0, 0, 0, 0, 0, 0, 0, 0, 0, 0, 0, 0, 0, 0, 0, 0, 0, 0, 0, 0, 0, 0, 0, 0, 0, 0, 0, 0, 0, 0, 0, 0, 0, 0, 0, 0, 0, 0, 0, 0, 0, 0, 0, 0, 0, 0, 0, 0, 0, 0, 0, 0, 0, 0, 0, 0, 0, 0, 0, 0, 0, 0, 0, 0, 0, 0, 0, 0, 0, 0, 0, 0, 0, 0, 0, 0, 0, 0, 0, 0, 0, 0, 0, 0, 0, 0, 0, 0, 0, 0, 0, 0, 0, 0, 0, 0, 0, 0, 0, 0, 0, 0, 0, 0, 0, 0, 0, 0, 0, 0, 0, 0, 0, 0, 0, 0, 0, 0, 0, 0, 0, 0, 0, 0, 0, 0, 0, 0, 0, 0, 0, 0, 0, 0, 0, 0, 0, 0, 0, 0, 0, 0, 0, 0, 0, 0, 0, 0, 0, 0, 0, 0, 0, 0, 0, 0, 0, 0, 0, 0, 0, 0, 0, 0, 0, 0, 0, 0, 0, 0, 0, 0, 0, 0, 0, 0, 0, 0, 0, 0, 0, 0, 0, 0, 0, 0, 0, 0, 0, 0, 0, 0, 0, 0, 0, 0, 0, 0, 0, 0, 0, 0, 0, 0, 0, 0, 0, 0, 0, 0, 0, 0, 0, 0, 0, 0, 0, 0, 0, 0, 0, 0, 0, 0, 0, 0, 0, 0, 0, 0, 0, 0, 0, 0, 0, 0, 0, 0, 0, 0, 0, 0, 0, 0, 0, 0, 0, 0, 0, 0, 0, 0, 0, 0, 0, 0, 0, 0, 0, 0, 0, 0, 0, 0, 0, 0, 0, 0, 0, 0, 0, 0, 0, 0, 0, 0, 0, 0, 0, 0, 0, 0, 0, 0, 0, 0, 0, 0, 0, 0, 0, 0, 0, 0, 0, 0, 0, 0, 0, 0, 0, 0, 0, 0, 0, 0, 0, 0, 0, 0, 0, 0, 0, 0, 0, 0, 0, 0, 0, 0, 0, 0, 0, 0, 0, 0, 0, 0, 0, 0, 0, 0, 0, 0, 0, 0, 0, 0, 0, 0, 0, 0, 0, 0, 0, 0, 0, 0, 0, 0, 0, 0, 0, 0, 0, 0, 0, 0, 0, 0, 0, 0, 0, 0, 0, 0, 0, 0, 0, 0, 0, 0, 0, 0, 0, 0, 0, 0, 0, 0, 0, 0, 0, 0, 0, 0, 0, 0, 0, 0, 0, 0, 0, 0, 0, 0, 0, 0, 0, 0, 0, 0, 0, 0, 0, 0, 0, 0, 0, 0, 0, 0, 0, 0, 0, 0, 0, 0, 0, 0, 0, 0, 0, 0, 0, 0, 0, 0, 0, 0, 0, 0, 0, 0, 0, 0, 0, 0, 0, 0, 0, 0, 0, 0, 0, 0, 0, 0, 0, 0, 0, 0, 0, 0, 0, 0, 0, 0, 0, 0, 0, 0, 0, 0, 0, 0, 0, 0, 0, 0, 0, 0, 0, 0, 0, 0, 0, 0, 0, 0, 0, 0, 0, 0, 0, 0, 0, 0, 0, 0, 0, 0, 0, 0, 0, 0, 0, 0, 0, 0, 0, 0, 0, 0, 0, 0, 0, 0, 0, 0, 0, 0, 0, 0, 0, 0, 0, 0, 0, 0, 0, 0, 0, 0, 0, 0, 0, 0, 0, 0, 0, 0, 0, 1, 0, 0, 0, 0, 0, 0, 0, 0, 0, 0, 0, 0, 0, 0, 0, 0, 0, 0, 0, 0, 0, 0, 0, 0, 0, 0, 0, 0, 0, 0, 0, 0, 0, 0, 0, 0, 0, 0, 0, 0, 0, 0, 0, 0, 0, 0, 0, 0, 0, 0, 0, 0, 0, 0, 0, 0, 0, 0, 0, 0, 0, 0, 0, 0, 0, 0, 0, 0, 0, 0, 0, 0, 0, 0, 1, 0, 0, 0, 0, 0, 0, 0, 0, 0, 0, 0, 0, 0, 0, 0, 0, 0, 0, 0, 0, 1, 0, 0, 1, 0, 0, 0, 0, 0, 0, 0, 0, 0, 0, 0, 0, 0, 0, 0, 0, 0, 0, 0, 0, 0, 0, 0, 0, 0, 0, 0, 0, 0, 0, 0, 0, 0, 0, 0, 0, 0, 0, 0, 0, 0, 0, 0, 0, 0, 0, 0, 0, 0, 0, 0, 0, 0, 0, 0, 0, 0, 0, 0, 0, 0, 0, 0, 0, 0, 0, 0, 0, 0, 0, 0, 0, 0, 0, 0, 0, 0, 0, 0, 0, 0, 0, 0, 0, 0, 0, 0, 0, 0, 0, 0, 0, 0, 0, 0, 0, 0, 0, 0, 0, 0, 0, 0, 0, 0, 0, 0, 0, 0, 0, 0, 0, 0, 0, 0, 0, 0, 0, 0, 0, 0, 0, 0, 0, 0, 0, 0, 0, 0, 0, 0, 0, 0, 0, 0, 0, 0, 0, 0, 0, 0, 0, 0, 0, 0, 0, 0, 0, 0, 0, 0, 0, 0, 0, 0, 0, 0, 0, 0, 0, 0, 0, 0, 0, 0, 0, 0, 0, 0, 0, 0, 0, 0, 0, 0, 0, 0, 0, 0, 0, 0, 0, 0, 0, 0, 0, 0, 0, 0, 0, 0, 0, 0, 0, 0, 0, 0, 0, 0, 0, 0, 0, 0, 0, 0, 0, 0, 0, 0, 0, 0, 0, 0, 0, 0, 0, 0, 0, 0, 0, 0, 0, 0, 0, 0, 0, 0, 0, 0, 0, 0, 0, 0, 0, 0, 0, 0, 0, 0, 0, 0, 0, 0, 0, 0, 0, 0, 0, 0, 0, 0, 0, 0, 0, 0, 0, 0, 0, 0, 0, 0, 0, 0, 0, 0, 0, 0, 0, 0, 0, 0, 0, 0, 0, 0, 0, 0, 0, 0, 0, 0, 0, 0, 0, 0, 0, 0, 0, 0, 0, 0, 0, 0, 0, 0, 0, 0, 0, 0, 0, 0, 0, 0, 0, 0, 0, 0, 0, 0, 0, 0, 0, 0, 0, 0, 0, 0, 0, 0, 0, 0, 0, 0, 0, 0, 0, 0, 0, 0, 0, 0, 0, 0, 0, 0, 0, 0, 0, 0, 0, 0, 0, 0, 0, 0, 0, 0, 0, 0, 0, 0, 0, 0, 0, 0, 0, 0, 0, 0, 0, 0, 0, 0, 0, 0, 0, 0, 0, 0, 0, 0, 0, 0, 0, 0, 0, 0, 0, 0, 0, 0, 0, 0, 0, 0, 0, 0, 0, 0, 0, 0, 0, 0, 0, 0, 0, 0, 0, 0, 0, 0, 0, 0, 0, 0, 0, 0, 0, 0, 0, 0, 0, 0, 0, 0, 0, 0, 0, 0, 0, 0, 0, 0, 0, 0, 0, 0, 0, 0, 0, 0, 0, 0, 0, 0, 0, 0, 0, 0, 0, 0, 0, 0, 0, 0, 0, 0, 0, 0, 0, 0, 0, 0, 0, 0, 0, 0, 0, 0, 0, 0, 0, 0, 0, 0, 0, 1, 0, 0, 0, 0, 0, 0, 0, 0, 0, 0, 0, 0, 0, 0, 0, 0, 0, 0, 0, 0, 0, 0, 0, 0, 0, 0, 0, 0, 0, 0, 0, 0, 0, 0, 0, 0, 0, 0, 0, 0, 0, 0, 0, 0, 0, 0, 0, 0, 0, 0, 0, 0, 0, 0, 0, 0, 0, 0, 0, 0, 0, 0, 0, 0, 0, 0, 0, 0, 0, 0, 0, 0, 0, 0, 0, 0, 0, 0, 0, 0, 0, 0, 0, 0, 0, 0, 0, 0, 0, 0, 0, 0, 0, 0, 0, 0, 0, 0, 0, 0, 0, 0, 0, 0, 0, 0, 0, 0, 0, 0, 0, 0, 0, 0, 0, 0, 0, 0, 0, 0, 0, 0, 0, 0, 0, 0, 0, 0, 0, 0, 0, 0, 0, 0, 0, 0, 0, 0, 0, 0, 0, 0, 0, 0, 0, 0, 0, 0, 0, 0, 0, 0, 0, 0, 0, 0, 0, 0, 0, 0, 0, 0, 0, 0, 0, 0, 0, 0, 0, 0, 0, 0, 0, 0, 0, 0, 0, 0, 0, 0, 0, 0, 0, 0, 0, 0, 0, 0, 0, 0, 0, 0, 0, 0, 0, 0, 0, 0, 0, 0, 0, 0, 0, 0, 0, 0, 0, 0, 0, 0, 0, 0, 0, 0, 0, 0, 0, 0, 0, 0, 0, 0, 0, 0, 0, 0, 0, 0, 0, 0, 0, 0, 0, 0, 0, 0, 0, 0, 0, 0, 0, 0, 0, 0, 0, 0, 0, 0, 0, 0, 0, 0, 0, 0, 0, 0, 0, 0, 0, 0, 0, 0, 0, 0, 0, 0, 0, 0, 0, 0, 0, 0, 0, 0, 0, 0, 0, 0, 0, 0, 0, 0, 0, 0, 0, 0, 0, 0, 0, 0, 0, 0, 0, 0, 0, 0, 0, 0, 0, 0, 0, 0, 0, 0, 0, 0, 0, 0, 0, 0, 0, 0, 0, 0, 0, 0, 0, 0, 0, 0, 0, 0, 0, 0, 0, 0, 0, 0, 0, 0, 0, 0, 0, 0, 0, 0, 0, 0, 0, 0, 0, 0, 0, 0, 0, 0, 0, 0, 0, 0, 0, 0, 0, 0, 0, 0, 0, 0, 0, 0, 0, 0, 0, 0, 0, 0, 0, 0, 0, 0, 0, 0, 0, 0, 0, 0, 0, 0, 0, 0, 0, 0, 0, 0, 0, 0, 0, 0, 0, 0, 0, 0, 0, 0, 0, 0, 0, 0, 0, 0, 0, 0, 0, 0, 0, 0, 0, 0, 0, 0, 0, 0, 0, 0, 0, 0, 0, 0, 0, 0, 0, 0, 0, 0, 0, 0, 0, 0, 0, 0, 0, 0, 0, 0, 0, 0, 0, 0, 0, 0, 0, 0, 0, 0, 0, 0, 0, 0, 0, 0, 0, 0, 0, 0, 0, 0, 0, 0, 0, 0, 0, 0, 0, 0, 0, 0, 0, 0, 0, 0, 0, 0, 0, 0, 0, 0, 0, 0, 0, 0, 0, 0, 0, 0, 0, 0, 0, 0, 0, 0, 0, 0, 0, 0, 0, 0, 0, 0, 0, 0, 0, 0, 0, 0, 0, 0, 0, 0, 0, 0, 0, 0, 1, 0, 0, 0, 0, 0, 0, 0, 0, 0, 0, 0, 0, 0, 0, 0, 0, 0, 0, 0, 0, 0, 0, 0, 0, 0, 0, 0, 0, 0, 0, 0, 0, 0, 0, 0, 2, 0, 0, 0, 0, 0, 0, 0, 0, 0, 0, 0, 0, 0, 0, 0, 0, 0, 0, 0, 0, 0, 0, 0, 0, 0, 0, 0, 0, 0, 0, 0, 0, 0, 0, 0, 0, 0, 0, 0, 0, 1, 0, 0, 0, 0, 0, 0, 0, 0, 0, 0, 0, 0, 0, 0, 0, 0, 0, 0, 0, 0, 0, 0, 0, 0, 0, 0, 0, 0, 0, 0, 0, 0, 0, 0, 0, 0, 0, 0, 0, 0, 0, 0, 0, 0, 0, 0, 0, 0, 0, 0, 0, 0, 0, 0, 0, 0, 0, 0, 0, 0, 0, 0, 0, 0, 0, 0, 0, 0, 0, 0, 0, 0, 0, 0, 0, 0, 0, 0, 0, 0, 0, 0, 0, 0, 0, 0, 0, 0, 0, 0, 0, 0, 0, 0, 0, 0, 0, 0, 0, 0, 0, 0, 0, 0, 0, 0, 0, 0, 0, 0, 0, 0, 0, 0, 0, 0, 0, 0, 0, 0, 0, 0, 0, 0, 0, 0, 0, 0, 0, 0, 0, 0, 0, 0, 0, 0, 0, 0, 0, 0, 0, 0, 0, 0, 0, 0, 0, 0, 0, 0, 0, 0, 0, 0, 0, 0, 0, 0, 0, 0, 0, 0, 0, 0, 0, 0, 0, 0, 0, 0, 0, 0, 0, 0, 0, 0, 0, 0, 0, 0, 0, 0, 0, 0, 0, 0, 0, 0, 0, 0, 0, 0, 0, 0, 0, 0, 0, 0, 0, 0, 0, 0, 0, 0, 0, 0, 0, 0, 0, 0, 0, 0, 0, 0, 0, 0, 0, 0, 0, 0, 0, 0, 0, 0, 0, 0, 0, 0, 0, 0, 0, 0, 0, 0, 0, 0, 0, 0, 0, 0, 0, 0, 0, 0, 0, 0, 0, 0, 0, 0, 0, 0, 0, 0, 0, 0, 0, 0, 0, 0, 0, 0, 0, 0, 0, 0, 0, 0, 0, 0, 0, 0, 0, 0, 0, 0, 0, 0, 0, 0, 0, 0, 0, 0, 0, 0, 0, 0, 0, 0, 0, 0, 0, 0, 0, 0, 0, 0, 0, 0, 0, 0, 0, 0, 0, 0, 0, 0, 0, 0, 0, 0, 0, 0, 0, 0, 0, 0, 0, 0, 0, 0, 0, 0, 0, 0, 0, 0, 0, 0, 0, 0, 0, 0, 0, 0, 0, 0, 0, 0, 0, 0, 0, 0, 0, 0, 0, 0, 0, 0, 0, 0, 0, 0, 0, 0, 0, 0, 0, 0, 0, 0, 0, 0, 0, 0, 0, 0, 0, 0, 0, 0, 0, 0, 0, 0, 0, 0, 0, 0, 0, 0, 0, 0, 0, 0, 0, 0, 0, 0, 0, 0, 0, 0, 0, 0, 0, 0, 0, 0, 0, 0, 0, 0, 0, 0, 0, 0, 0, 0, 0, 0, 0, 0, 0, 0, 0, 0, 0, 0, 0, 0, 0, 0, 0, 0, 0, 0, 0, 0, 0, 0, 0, 0, 0, 0, 0, 0, 0, 0, 0, 0, 0, 0, 0, 0, 0, 0, 0, 0, 0, 0, 0, 0, 0, 0, 0, 0, 0, 0, 0, 0, 0, 0, 0, 0, 0, 0, 0, 0, 0, 0, 0, 0, 0, 0, 0, 0, 0, 0, 0, 0, 0, 0, 0, 0, 0, 0, 0, 0, 0, 0, 0, 0, 0, 0, 0, 1, 0, 0, 0, 0, 0, 0, 0, 0, 0, 0, 0, 0, 0, 0, 0, 0, 0, 0, 0, 0, 0, 0, 0, 0, 0, 0, 0, 0, 0, 0, 0, 0, 0, 0, 0, 0, 0, 0, 0, 0, 0, 0, 0, 0, 0, 0, 0, 0, 0, 0, 0, 0, 0, 0, 0, 0, 0, 0, 0, 0, 0, 0, 0, 0, 0, 0, 0, 0, 0, 0, 0, 0, 0, 0, 0, 0, 0, 0, 0, 0, 0, 0, 0, 0, 0, 0, 0, 0, 0, 0, 0, 0, 0, 0, 0, 0, 0, 0, 0, 0, 0, 0, 0, 0, 0, 0, 0, 0, 0, 0, 2, 0, 0, 0, 0, 0, 0, 0, 0, 0, 0, 0, 0, 0, 0, 0, 0, 0, 0, 0, 0, 0, 0, 0, 0, 0, 0, 0, 0, 0, 0, 0, 0, 0, 0, 0, 0, 0, 0, 0, 0, 0, 0, 0, 0, 0, 0, 0, 0, 0, 0, 0, 0, 0, 0, 0, 0, 0, 0, 0, 0, 0, 0, 0, 0, 0, 0, 0, 0, 0, 0, 0, 0, 0, 0, 0, 0, 0, 0, 0, 0, 0, 0, 0, 0, 0, 0, 0, 0, 0, 0, 0, 0, 0, 0, 0, 0, 0, 0, 0, 0, 0, 0, 0, 0, 0, 0, 0, 0, 0, 0, 0, 0, 0, 0, 0, 0, 0, 0, 0, 0, 0, 0, 0, 0, 0, 0, 0, 0, 0, 0, 0, 0, 0, 0, 0, 0, 0, 0, 0, 0, 0, 0, 0, 0, 0, 0, 0, 0, 0, 0, 0, 0, 0, 0, 0, 0, 0, 0, 0, 0, 0, 0, 0, 0, 0, 0, 0, 0, 0, 0, 0, 0, 0, 0, 0, 0, 0, 0, 0, 0, 0, 0, 0, 0, 0, 0, 0, 0, 0, 0, 0, 0, 0, 0, 0, 0, 0, 0, 0, 0, 0, 0, 0, 0, 0, 0, 0, 0, 0, 0, 0, 0, 0, 0, 0, 0, 0, 0, 0, 0, 0, 0, 0, 0, 0, 0, 0, 0, 0, 0, 0, 0, 0, 0, 0, 0, 0, 0, 0, 0, 0, 0, 0, 0, 0, 0, 0, 0, 0, 0, 0, 0, 0, 0, 0, 0, 0, 0, 0, 0, 0, 0, 0, 0, 0, 0, 0, 0, 0, 0, 0, 0, 0, 0, 0, 0, 0, 0, 0, 0, 0, 0, 0, 0, 0, 0, 0, 0, 0, 0, 0, 0, 0, 0, 0, 0, 0, 0, 0, 0, 0, 0, 0, 0, 0, 0, 0, 0, 0, 0, 0, 0, 0, 0, 0, 0, 0, 0, 0, 0, 0, 0, 0, 0, 0, 0, 0, 0, 0, 0, 0, 0, 0, 0, 0, 0, 0, 0, 0, 0, 0, 0, 0, 0, 0, 0, 0, 0, 0, 0, 0, 0, 0, 0, 0, 0, 0, 0, 0, 0, 0, 0, 0, 0, 0, 0, 0, 0, 0, 0, 0, 0, 0, 0, 0, 0, 0, 0, 0, 0, 0, 0, 0, 0, 0, 0, 0, 0, 0, 0, 0, 0, 0, 0, 0, 0, 0, 0, 0, 0, 0, 0, 0, 0, 0, 0, 0, 0, 0, 0, 0, 0, 0, 0, 0, 0, 0, 0, 0, 0, 0, 0, 0, 0, 0, 0, 0, 0, 0, 0, 0, 0, 0, 0, 0, 0, 0, 0, 0, 0, 0, 0, 0, 0, 0, 0, 0, 0, 0, 0, 0, 0, 0, 0, 0, 0, 0, 0, 0, 0, 0, 0, 0, 0, 0, 0, 0, 0, 0, 0, 0, 0, 0, 0, 0, 0, 0, 0, 0, 0, 0, 0, 0, 0, 0, 0, 0, 0, 0, 0, 0, 0, 0, 0, 0, 0, 0, 0, 0, 0, 0, 0, 0, 0, 0, 0, 0, 0, 0, 0, 0, 0, 0, 0, 0, 0, 0, 0, 0, 0, 0, 0, 0, 0, 0, 0, 0, 0, 0, 0, 0, 0, 0, 0, 0, 0, 0, 0, 0, 0, 0, 0, 0, 0, 0, 0, 0, 0, 0, 0, 0, 0, 0, 0, 0, 0, 0, 0, 0, 0, 0, 0, 0, 0, 0, 0, 0, 0, 0, 0, 0, 0, 0, 0, 0, 0, 0, 0, 0, 0, 0, 0, 0, 0, 0, 0, 0, 0, 0, 0, 0, 0, 0, 0, 0, 0, 0, 0, 0, 0, 0, 0, 0, 0, 0, 0, 0, 0, 0, 0, 0, 0, 0, 0, 0, 0, 0, 0, 0, 0, 0, 0, 0, 0, 0, 0, 0, 0, 0, 0, 0, 0, 0, 0, 0, 0, 0, 0, 0, 0, 0, 0, 0, 0, 0, 0, 0, 0, 0, 0, 0, 0, 0, 0, 0, 0, 0, 0, 0, 0, 0, 0, 0, 0, 0, 0, 0, 0, 0, 0, 0, 0, 0, 0, 0, 0, 0, 0, 0, 0, 0, 0, 0, 0, 0, 0, 0, 0, 0, 0, 1, 0, 0, 0, 0, 0, 0, 0, 0, 0, 0, 0, 0, 0, 0, 0, 0, 0, 0, 0, 0, 0, 0, 0, 0, 0, 0, 0, 0, 0, 0, 0, 0, 0, 0, 0, 0, 0, 0, 0, 0, 0, 0, 0, 0, 0, 0, 0, 0, 0, 0, 0, 0, 0, 0, 0, 0, 0, 0, 0, 0, 0, 0, 0, 0, 0, 0, 0, 0, 0, 0, 0, 0, 0, 0, 0, 0, 0, 0, 0, 0, 0, 0, 0, 0, 0, 0, 0, 0, 0, 0, 0, 0, 0, 0, 0, 0, 0, 0, 0, 0, 0, 0, 0, 0, 0, 0, 0, 1, 0, 0, 0, 0, 0, 0, 0, 0, 0, 0, 0, 0, 0, 0, 0, 0, 0, 0, 0, 0, 0, 0, 0, 0, 0, 0, 0, 0, 0, 0, 0, 0, 0, 0, 0, 0, 0, 0, 0, 0, 0, 0, 0, 0, 0, 0, 0, 0, 0, 0, 0, 0, 0, 0, 0, 0, 0, 0, 0, 0, 0, 0, 0, 0, 0, 0, 0, 0, 0, 0, 0, 0, 0, 0, 0, 0, 0, 0, 0, 0, 0, 0, 0, 0, 0, 0, 0, 0, 0, 0, 0, 0, 0, 0, 0, 0, 0, 0, 0, 0, 0, 0, 0, 0, 0, 0, 0, 0, 0, 0, 0, 0, 0, 0, 0, 0, 0, 0, 0, 0, 0, 0, 0, 0, 0, 0, 0, 0, 0, 0, 0, 0, 0, 0, 0, 0, 0, 0, 0, 0, 0, 0, 0, 0, 0, 0, 0, 0, 0, 0, 0, 0, 0, 0, 0, 0, 0, 0, 0, 0, 0, 0, 0, 0, 0, 0, 0, 0, 0, 0, 0, 0, 0, 0, 0, 0, 0, 0, 0, 0, 0, 0, 0, 0, 0, 0, 0, 0, 0, 0, 0, 0, 0, 0, 0, 0, 0, 0, 0, 0, 0, 0, 0, 0, 0, 0, 0, 0, 0, 0, 0, 0, 0, 0, 0, 0, 0, 0, 0, 0, 0, 0, 0, 0, 0, 0, 0, 0, 0, 0, 0, 0, 0, 0, 0, 0, 0, 0, 0, 0, 0, 0, 0, 0, 0, 0, 0, 0, 0, 0, 0, 0, 0, 0, 0, 0, 0, 0, 0, 0, 0, 0, 0, 0, 0, 0, 0, 0, 0, 0, 0, 0, 0, 0, 0, 0, 0, 0, 0, 0, 0, 0, 0, 0, 0, 0, 0, 0, 0, 0, 0, 0, 0, 0, 0, 0, 0, 0, 0, 0, 0, 0, 0, 0, 0, 0, 0, 0, 0, 0, 0, 0, 0, 0, 0, 0, 0, 0, 0, 0, 0, 0, 0, 0, 0, 0, 0, 0, 0, 0, 0, 0, 0, 0, 0, 0, 0, 0, 0, 0, 0, 0, 0, 0, 0, 0, 0, 0, 0, 0, 0, 0, 0, 0, 0, 0, 0, 0, 0, 0, 0, 0, 0, 0, 0, 0, 0, 0, 0, 0, 0, 0, 0, 0, 0, 0, 0, 0, 0, 0, 0, 0, 0, 0, 0, 0, 0, 0, 0, 0, 0, 0, 0, 0, 0, 0, 0, 0, 0, 0, 0, 0, 0, 0, 0, 0, 0, 0, 0, 0, 0, 0, 0, 0, 0, 0, 0, 0, 0, 0, 0, 0, 0, 0, 0, 0, 0, 0, 0, 0, 0, 0, 0, 0, 0, 0, 0, 0, 0, 0, 0, 0, 0, 0, 0, 0, 0, 0, 0, 0, 0, 0, 0, 0, 0, 0, 0, 0, 0, 0, 0, 0, 0, 2, 0, 1, 0]\n"
     ]
    }
   ],
   "source": [
    "test_bow = bow_encoding(test_words, vocabulary)\n",
    "print(test_bow)"
   ]
  },
  {
   "cell_type": "code",
   "execution_count": 40,
   "metadata": {},
   "outputs": [
    {
     "data": {
      "text/plain": [
       "5000"
      ]
     },
     "execution_count": 40,
     "metadata": {},
     "output_type": "execute_result"
    }
   ],
   "source": [
    "len(test_bow)"
   ]
  },
  {
   "cell_type": "markdown",
   "metadata": {},
   "source": [
    "So now we know how to construct a bag of words encoding of a user provided review, how to we send it to our endpoint? First, we need to start the endpoint back up."
   ]
  },
  {
   "cell_type": "code",
   "execution_count": 46,
   "metadata": {},
   "outputs": [
    {
     "name": "stderr",
     "output_type": "stream",
     "text": [
      "INFO:sagemaker:Creating model with name: xgboost-2019-04-20-12-00-38-426\n",
      "INFO:sagemaker:Creating endpoint with name xgboost-2019-04-20-11-38-00-344\n"
     ]
    },
    {
     "name": "stdout",
     "output_type": "stream",
     "text": [
      "---------------------------------------------------------------------------------------!"
     ]
    }
   ],
   "source": [
    "xgb_predictor = xgb.deploy(initial_instance_count = 1, instance_type = 'ml.m4.xlarge')"
   ]
  },
  {
   "cell_type": "markdown",
   "metadata": {},
   "source": [
    "At this point we could just do the same thing that we did earlier when we tested our deployed model and send `test_bow` to our endpoint using the `xgb_predictor` object. However, when we eventually construct our Lambda function we won't have access to this object, so how do we call a SageMaker endpoint?\n",
    "\n",
    "It turns out that Python functions that are used in Lambda have access to another Amazon library called `boto3`. This library provides an API for working with Amazon services, including SageMaker. To start with, we need to get a handle to the SageMaker runtime."
   ]
  },
  {
   "cell_type": "code",
   "execution_count": 42,
   "metadata": {},
   "outputs": [],
   "source": [
    "import boto3\n",
    "\n",
    "runtime = boto3.Session().client('sagemaker-runtime')"
   ]
  },
  {
   "cell_type": "markdown",
   "metadata": {},
   "source": [
    "And now that we have access to the SageMaker runtime, we can ask it to make use of (invoke) an endpoint that has already been created. However, we need to provide SageMaker with the name of the deployed endpoint. To find this out we can print it out using the `xgb_predictor` object."
   ]
  },
  {
   "cell_type": "code",
   "execution_count": 47,
   "metadata": {},
   "outputs": [
    {
     "data": {
      "text/plain": [
       "'xgboost-2019-04-20-11-38-00-344'"
      ]
     },
     "execution_count": 47,
     "metadata": {},
     "output_type": "execute_result"
    }
   ],
   "source": [
    "xgb_predictor.endpoint"
   ]
  },
  {
   "cell_type": "markdown",
   "metadata": {},
   "source": [
    "Using the SageMaker runtime and the name of our endpoint, we can invoke the endpoint and send it the `test_bow` data."
   ]
  },
  {
   "cell_type": "code",
   "execution_count": 48,
   "metadata": {},
   "outputs": [
    {
     "ename": "ParamValidationError",
     "evalue": "Parameter validation failed:\nInvalid type for parameter Body, value: [0, 0, 0, 0, 0, 0, 0, 0, 0, 0, 0, 0, 0, 0, 0, 0, 0, 0, 0, 0, 0, 0, 0, 0, 0, 0, 0, 0, 0, 0, 0, 0, 0, 0, 0, 0, 0, 0, 0, 0, 0, 0, 0, 0, 0, 0, 0, 0, 0, 0, 0, 0, 0, 0, 0, 0, 0, 0, 0, 0, 0, 0, 0, 0, 0, 0, 0, 0, 0, 0, 0, 0, 0, 0, 0, 0, 0, 0, 0, 0, 0, 0, 0, 0, 0, 0, 0, 0, 0, 0, 0, 0, 0, 0, 0, 0, 0, 0, 0, 0, 0, 0, 0, 0, 0, 0, 0, 0, 0, 0, 0, 0, 0, 0, 0, 0, 0, 0, 0, 0, 0, 0, 0, 0, 0, 0, 0, 0, 0, 0, 0, 0, 0, 0, 0, 0, 0, 0, 0, 0, 0, 0, 0, 0, 0, 0, 0, 0, 0, 0, 0, 0, 0, 0, 0, 0, 0, 0, 0, 0, 0, 0, 0, 0, 0, 0, 0, 0, 0, 0, 0, 0, 0, 0, 0, 0, 0, 0, 0, 0, 0, 0, 0, 0, 0, 0, 0, 0, 0, 0, 0, 0, 0, 0, 0, 0, 0, 0, 0, 0, 0, 0, 0, 0, 0, 0, 0, 0, 0, 0, 0, 0, 0, 0, 0, 0, 0, 0, 0, 0, 0, 0, 0, 0, 0, 0, 1, 0, 0, 0, 0, 0, 0, 0, 0, 0, 0, 0, 0, 0, 0, 0, 0, 0, 0, 0, 0, 0, 0, 0, 0, 0, 0, 0, 0, 0, 1, 0, 0, 0, 0, 0, 0, 0, 0, 0, 0, 0, 0, 0, 0, 0, 0, 0, 0, 0, 0, 0, 0, 0, 0, 0, 0, 0, 0, 0, 0, 0, 0, 0, 0, 0, 0, 0, 0, 0, 0, 0, 0, 0, 0, 0, 0, 0, 0, 0, 0, 0, 0, 0, 0, 0, 0, 0, 0, 0, 0, 0, 0, 0, 0, 0, 0, 0, 0, 0, 0, 0, 0, 0, 0, 0, 0, 0, 0, 0, 0, 0, 0, 0, 0, 0, 0, 0, 0, 0, 0, 0, 0, 0, 0, 0, 0, 0, 0, 0, 0, 0, 0, 0, 0, 0, 0, 0, 0, 0, 0, 0, 0, 0, 0, 0, 0, 0, 0, 0, 0, 0, 0, 0, 0, 0, 0, 0, 0, 0, 0, 0, 0, 0, 0, 0, 0, 0, 0, 0, 0, 0, 0, 0, 0, 0, 0, 0, 0, 0, 0, 0, 0, 0, 0, 0, 0, 0, 0, 0, 0, 0, 0, 0, 0, 0, 0, 0, 0, 0, 0, 0, 0, 0, 0, 0, 0, 0, 0, 0, 0, 0, 0, 0, 0, 0, 0, 0, 0, 0, 0, 0, 0, 0, 0, 0, 0, 0, 0, 0, 0, 0, 0, 0, 0, 0, 0, 0, 0, 0, 0, 0, 0, 0, 0, 0, 0, 0, 0, 0, 0, 0, 0, 0, 0, 0, 0, 0, 0, 0, 0, 0, 0, 0, 0, 0, 0, 0, 0, 0, 0, 0, 0, 0, 0, 0, 0, 0, 0, 0, 0, 0, 0, 0, 0, 0, 0, 0, 0, 0, 0, 0, 0, 0, 0, 0, 0, 0, 0, 0, 0, 0, 0, 0, 0, 0, 0, 0, 0, 0, 0, 0, 0, 0, 0, 0, 0, 0, 0, 0, 0, 0, 0, 0, 0, 0, 0, 0, 0, 0, 0, 0, 0, 0, 0, 0, 0, 0, 0, 0, 0, 0, 0, 0, 0, 0, 0, 0, 0, 0, 0, 0, 0, 0, 0, 0, 0, 0, 0, 0, 0, 0, 0, 0, 0, 0, 0, 0, 0, 0, 0, 0, 0, 0, 0, 0, 0, 0, 0, 0, 0, 0, 0, 0, 0, 0, 0, 0, 0, 0, 0, 0, 0, 0, 0, 0, 0, 0, 0, 0, 0, 0, 0, 0, 0, 0, 0, 0, 0, 0, 1, 0, 0, 0, 0, 0, 0, 0, 0, 0, 0, 0, 0, 0, 0, 0, 0, 0, 0, 0, 0, 0, 0, 0, 0, 0, 0, 0, 0, 0, 0, 0, 0, 0, 0, 0, 0, 0, 0, 0, 0, 0, 0, 0, 0, 0, 0, 0, 0, 0, 0, 0, 0, 0, 0, 0, 0, 0, 0, 0, 0, 0, 0, 0, 0, 0, 0, 0, 0, 0, 0, 0, 0, 0, 0, 0, 0, 0, 0, 0, 0, 0, 0, 0, 0, 0, 0, 0, 0, 0, 0, 0, 0, 0, 0, 0, 0, 0, 0, 0, 0, 0, 0, 0, 0, 0, 0, 0, 0, 0, 0, 0, 0, 0, 0, 0, 0, 0, 0, 0, 0, 0, 0, 0, 0, 0, 0, 0, 0, 0, 0, 0, 0, 0, 0, 0, 0, 0, 0, 0, 0, 0, 0, 0, 0, 0, 0, 0, 0, 0, 0, 0, 0, 0, 0, 0, 0, 0, 0, 0, 0, 0, 0, 0, 0, 0, 0, 0, 0, 0, 0, 0, 0, 0, 0, 0, 0, 0, 0, 0, 0, 0, 0, 0, 0, 0, 0, 0, 0, 0, 0, 0, 0, 0, 0, 0, 0, 0, 0, 0, 0, 0, 0, 0, 0, 0, 0, 0, 0, 0, 0, 0, 0, 0, 0, 0, 0, 0, 0, 0, 0, 0, 0, 0, 0, 0, 0, 0, 0, 0, 0, 0, 0, 0, 0, 0, 0, 0, 0, 0, 0, 0, 0, 0, 0, 0, 0, 0, 0, 0, 0, 0, 0, 0, 1, 0, 0, 0, 0, 0, 0, 0, 0, 0, 0, 0, 0, 0, 0, 0, 0, 0, 0, 0, 0, 0, 0, 0, 0, 0, 0, 0, 0, 0, 0, 0, 0, 0, 0, 0, 0, 0, 0, 0, 0, 0, 0, 0, 0, 0, 0, 0, 0, 0, 0, 0, 0, 0, 0, 0, 0, 0, 0, 0, 0, 0, 0, 0, 0, 0, 0, 0, 0, 0, 0, 0, 0, 0, 0, 0, 0, 0, 0, 0, 0, 0, 0, 0, 0, 0, 0, 1, 0, 0, 0, 0, 0, 0, 0, 0, 0, 0, 0, 0, 0, 0, 0, 0, 0, 0, 0, 0, 0, 0, 0, 0, 0, 0, 0, 0, 0, 0, 0, 0, 0, 0, 0, 0, 0, 0, 0, 0, 0, 0, 0, 0, 0, 0, 0, 0, 0, 0, 0, 0, 0, 0, 0, 0, 0, 0, 0, 0, 0, 0, 0, 0, 0, 0, 0, 0, 0, 0, 0, 0, 0, 0, 0, 0, 0, 0, 0, 0, 0, 0, 0, 0, 0, 0, 0, 0, 0, 0, 0, 0, 0, 0, 0, 0, 0, 0, 0, 0, 0, 0, 0, 0, 0, 0, 0, 0, 0, 0, 0, 0, 0, 0, 0, 0, 0, 0, 0, 0, 0, 0, 0, 0, 0, 0, 0, 0, 0, 0, 0, 0, 0, 0, 0, 0, 0, 0, 0, 0, 0, 0, 0, 0, 0, 0, 0, 0, 0, 0, 0, 0, 0, 0, 0, 0, 0, 0, 0, 0, 0, 0, 0, 0, 0, 0, 0, 0, 0, 0, 0, 0, 0, 0, 0, 0, 0, 0, 0, 0, 0, 0, 0, 0, 0, 0, 0, 0, 0, 0, 0, 0, 0, 0, 0, 0, 0, 0, 0, 0, 0, 0, 0, 0, 0, 0, 0, 0, 0, 0, 0, 0, 0, 0, 0, 0, 0, 0, 0, 0, 0, 0, 0, 0, 0, 0, 0, 0, 0, 0, 0, 0, 0, 0, 0, 0, 0, 0, 0, 0, 0, 0, 0, 0, 0, 0, 0, 0, 0, 0, 0, 0, 1, 0, 0, 0, 0, 0, 0, 0, 0, 0, 0, 0, 0, 0, 0, 0, 0, 0, 0, 0, 0, 0, 0, 0, 0, 0, 0, 0, 0, 0, 0, 0, 0, 0, 0, 0, 0, 0, 0, 0, 0, 0, 0, 0, 0, 0, 0, 0, 0, 0, 0, 0, 0, 0, 0, 0, 1, 0, 0, 0, 0, 0, 0, 0, 0, 0, 0, 0, 0, 0, 0, 0, 0, 0, 0, 0, 0, 0, 0, 0, 0, 0, 0, 0, 0, 0, 0, 0, 0, 0, 0, 0, 0, 0, 0, 0, 0, 0, 0, 0, 0, 0, 0, 0, 0, 0, 0, 0, 0, 0, 0, 0, 0, 0, 0, 0, 0, 0, 0, 0, 0, 0, 0, 0, 0, 0, 0, 0, 0, 0, 0, 0, 0, 0, 0, 0, 0, 0, 0, 0, 0, 0, 0, 0, 0, 0, 0, 0, 0, 0, 0, 0, 0, 0, 0, 0, 0, 0, 0, 0, 0, 0, 0, 0, 0, 0, 0, 0, 0, 0, 0, 0, 0, 0, 0, 0, 0, 0, 0, 0, 0, 0, 0, 0, 0, 0, 0, 0, 0, 0, 0, 0, 0, 0, 0, 0, 0, 0, 0, 0, 0, 0, 0, 0, 0, 0, 0, 0, 0, 0, 0, 0, 0, 0, 0, 0, 0, 0, 0, 0, 0, 0, 0, 0, 0, 0, 0, 0, 0, 0, 0, 0, 0, 0, 0, 0, 0, 0, 0, 0, 0, 0, 0, 0, 0, 0, 0, 0, 0, 0, 0, 0, 0, 0, 0, 0, 0, 0, 0, 0, 0, 0, 0, 0, 0, 0, 0, 0, 0, 0, 0, 0, 0, 0, 0, 0, 0, 0, 0, 0, 0, 0, 0, 0, 0, 0, 0, 0, 0, 0, 0, 0, 0, 0, 0, 0, 0, 0, 0, 0, 0, 0, 0, 0, 0, 0, 0, 0, 0, 0, 0, 0, 0, 0, 0, 0, 0, 0, 0, 0, 0, 0, 0, 0, 0, 0, 0, 0, 0, 0, 0, 0, 0, 0, 0, 0, 0, 0, 0, 0, 0, 0, 0, 0, 0, 0, 0, 0, 0, 0, 0, 0, 0, 0, 0, 0, 0, 0, 0, 0, 0, 0, 0, 0, 0, 0, 0, 0, 0, 0, 0, 0, 0, 0, 0, 0, 0, 0, 0, 0, 0, 0, 0, 0, 0, 0, 0, 0, 0, 0, 0, 0, 0, 0, 0, 0, 0, 0, 0, 0, 0, 0, 0, 0, 0, 0, 0, 0, 0, 0, 0, 0, 0, 0, 0, 0, 0, 0, 0, 0, 0, 0, 0, 0, 0, 0, 0, 0, 0, 0, 0, 0, 0, 0, 0, 0, 0, 0, 0, 0, 0, 0, 0, 0, 0, 0, 0, 0, 0, 0, 0, 0, 0, 0, 0, 0, 0, 0, 0, 0, 0, 0, 0, 0, 0, 0, 0, 0, 0, 0, 0, 0, 0, 0, 0, 0, 0, 0, 0, 0, 0, 0, 0, 0, 0, 0, 0, 0, 0, 0, 0, 0, 0, 0, 0, 0, 0, 0, 0, 0, 0, 0, 0, 0, 0, 0, 0, 0, 0, 0, 0, 0, 0, 0, 0, 0, 0, 0, 0, 0, 0, 0, 0, 0, 0, 0, 0, 0, 0, 0, 0, 0, 0, 0, 0, 0, 0, 0, 0, 0, 0, 0, 0, 0, 0, 0, 0, 0, 0, 0, 0, 0, 0, 0, 0, 0, 0, 0, 0, 0, 0, 0, 0, 0, 0, 0, 0, 0, 0, 0, 0, 0, 0, 0, 0, 0, 0, 0, 0, 0, 0, 0, 0, 0, 0, 0, 0, 0, 0, 0, 0, 0, 0, 0, 0, 0, 0, 0, 0, 0, 0, 0, 0, 0, 0, 0, 0, 0, 0, 0, 0, 0, 0, 0, 0, 0, 0, 0, 0, 0, 0, 0, 0, 0, 0, 0, 0, 0, 0, 0, 0, 0, 0, 0, 0, 0, 0, 0, 0, 0, 0, 0, 0, 0, 0, 0, 0, 0, 0, 0, 0, 0, 0, 0, 0, 0, 0, 0, 0, 0, 0, 0, 0, 0, 0, 0, 0, 0, 0, 0, 0, 0, 0, 0, 0, 0, 0, 0, 0, 0, 0, 0, 0, 0, 0, 0, 0, 0, 0, 0, 0, 0, 0, 0, 0, 0, 0, 0, 0, 0, 0, 0, 0, 0, 0, 0, 0, 0, 0, 0, 0, 0, 0, 0, 0, 0, 0, 0, 0, 0, 0, 0, 0, 0, 0, 0, 0, 0, 0, 0, 0, 0, 0, 0, 0, 0, 0, 0, 1, 0, 0, 0, 0, 0, 0, 0, 0, 0, 0, 0, 0, 0, 0, 0, 0, 0, 0, 0, 0, 0, 0, 0, 0, 0, 0, 0, 0, 0, 0, 0, 0, 0, 0, 0, 0, 0, 0, 0, 0, 0, 0, 0, 0, 0, 0, 0, 0, 0, 0, 0, 0, 0, 0, 0, 0, 0, 0, 0, 0, 0, 0, 0, 0, 0, 0, 0, 0, 0, 0, 0, 0, 0, 0, 1, 0, 0, 0, 0, 0, 0, 0, 0, 0, 0, 0, 0, 0, 0, 0, 0, 0, 0, 0, 0, 1, 0, 0, 1, 0, 0, 0, 0, 0, 0, 0, 0, 0, 0, 0, 0, 0, 0, 0, 0, 0, 0, 0, 0, 0, 0, 0, 0, 0, 0, 0, 0, 0, 0, 0, 0, 0, 0, 0, 0, 0, 0, 0, 0, 0, 0, 0, 0, 0, 0, 0, 0, 0, 0, 0, 0, 0, 0, 0, 0, 0, 0, 0, 0, 0, 0, 0, 0, 0, 0, 0, 0, 0, 0, 0, 0, 0, 0, 0, 0, 0, 0, 0, 0, 0, 0, 0, 0, 0, 0, 0, 0, 0, 0, 0, 0, 0, 0, 0, 0, 0, 0, 0, 0, 0, 0, 0, 0, 0, 0, 0, 0, 0, 0, 0, 0, 0, 0, 0, 0, 0, 0, 0, 0, 0, 0, 0, 0, 0, 0, 0, 0, 0, 0, 0, 0, 0, 0, 0, 0, 0, 0, 0, 0, 0, 0, 0, 0, 0, 0, 0, 0, 0, 0, 0, 0, 0, 0, 0, 0, 0, 0, 0, 0, 0, 0, 0, 0, 0, 0, 0, 0, 0, 0, 0, 0, 0, 0, 0, 0, 0, 0, 0, 0, 0, 0, 0, 0, 0, 0, 0, 0, 0, 0, 0, 0, 0, 0, 0, 0, 0, 0, 0, 0, 0, 0, 0, 0, 0, 0, 0, 0, 0, 0, 0, 0, 0, 0, 0, 0, 0, 0, 0, 0, 0, 0, 0, 0, 0, 0, 0, 0, 0, 0, 0, 0, 0, 0, 0, 0, 0, 0, 0, 0, 0, 0, 0, 0, 0, 0, 0, 0, 0, 0, 0, 0, 0, 0, 0, 0, 0, 0, 0, 0, 0, 0, 0, 0, 0, 0, 0, 0, 0, 0, 0, 0, 0, 0, 0, 0, 0, 0, 0, 0, 0, 0, 0, 0, 0, 0, 0, 0, 0, 0, 0, 0, 0, 0, 0, 0, 0, 0, 0, 0, 0, 0, 0, 0, 0, 0, 0, 0, 0, 0, 0, 0, 0, 0, 0, 0, 0, 0, 0, 0, 0, 0, 0, 0, 0, 0, 0, 0, 0, 0, 0, 0, 0, 0, 0, 0, 0, 0, 0, 0, 0, 0, 0, 0, 0, 0, 0, 0, 0, 0, 0, 0, 0, 0, 0, 0, 0, 0, 0, 0, 0, 0, 0, 0, 0, 0, 0, 0, 0, 0, 0, 0, 0, 0, 0, 0, 0, 0, 0, 0, 0, 0, 0, 0, 0, 0, 0, 0, 0, 0, 0, 0, 0, 0, 0, 0, 0, 0, 0, 0, 0, 0, 0, 0, 0, 0, 0, 0, 0, 0, 0, 0, 0, 0, 0, 0, 0, 0, 0, 0, 0, 0, 0, 0, 0, 0, 0, 0, 0, 0, 0, 0, 0, 0, 0, 0, 0, 0, 0, 0, 0, 0, 0, 0, 0, 0, 0, 0, 0, 0, 0, 0, 0, 0, 0, 0, 0, 0, 0, 0, 0, 0, 0, 0, 0, 0, 1, 0, 0, 0, 0, 0, 0, 0, 0, 0, 0, 0, 0, 0, 0, 0, 0, 0, 0, 0, 0, 0, 0, 0, 0, 0, 0, 0, 0, 0, 0, 0, 0, 0, 0, 0, 0, 0, 0, 0, 0, 0, 0, 0, 0, 0, 0, 0, 0, 0, 0, 0, 0, 0, 0, 0, 0, 0, 0, 0, 0, 0, 0, 0, 0, 0, 0, 0, 0, 0, 0, 0, 0, 0, 0, 0, 0, 0, 0, 0, 0, 0, 0, 0, 0, 0, 0, 0, 0, 0, 0, 0, 0, 0, 0, 0, 0, 0, 0, 0, 0, 0, 0, 0, 0, 0, 0, 0, 0, 0, 0, 0, 0, 0, 0, 0, 0, 0, 0, 0, 0, 0, 0, 0, 0, 0, 0, 0, 0, 0, 0, 0, 0, 0, 0, 0, 0, 0, 0, 0, 0, 0, 0, 0, 0, 0, 0, 0, 0, 0, 0, 0, 0, 0, 0, 0, 0, 0, 0, 0, 0, 0, 0, 0, 0, 0, 0, 0, 0, 0, 0, 0, 0, 0, 0, 0, 0, 0, 0, 0, 0, 0, 0, 0, 0, 0, 0, 0, 0, 0, 0, 0, 0, 0, 0, 0, 0, 0, 0, 0, 0, 0, 0, 0, 0, 0, 0, 0, 0, 0, 0, 0, 0, 0, 0, 0, 0, 0, 0, 0, 0, 0, 0, 0, 0, 0, 0, 0, 0, 0, 0, 0, 0, 0, 0, 0, 0, 0, 0, 0, 0, 0, 0, 0, 0, 0, 0, 0, 0, 0, 0, 0, 0, 0, 0, 0, 0, 0, 0, 0, 0, 0, 0, 0, 0, 0, 0, 0, 0, 0, 0, 0, 0, 0, 0, 0, 0, 0, 0, 0, 0, 0, 0, 0, 0, 0, 0, 0, 0, 0, 0, 0, 0, 0, 0, 0, 0, 0, 0, 0, 0, 0, 0, 0, 0, 0, 0, 0, 0, 0, 0, 0, 0, 0, 0, 0, 0, 0, 0, 0, 0, 0, 0, 0, 0, 0, 0, 0, 0, 0, 0, 0, 0, 0, 0, 0, 0, 0, 0, 0, 0, 0, 0, 0, 0, 0, 0, 0, 0, 0, 0, 0, 0, 0, 0, 0, 0, 0, 0, 0, 0, 0, 0, 0, 0, 0, 0, 0, 0, 0, 0, 0, 0, 0, 0, 0, 0, 0, 0, 0, 0, 0, 0, 0, 0, 0, 0, 0, 0, 0, 0, 0, 0, 0, 0, 0, 0, 0, 0, 0, 0, 0, 0, 0, 0, 0, 0, 0, 0, 0, 0, 0, 0, 0, 0, 0, 0, 0, 0, 0, 0, 0, 0, 0, 0, 0, 0, 0, 0, 0, 0, 0, 0, 0, 0, 0, 0, 0, 0, 0, 0, 0, 0, 0, 0, 0, 0, 0, 0, 0, 0, 0, 0, 0, 0, 0, 0, 0, 0, 0, 0, 0, 0, 0, 0, 0, 0, 0, 0, 0, 0, 0, 0, 0, 0, 0, 0, 0, 0, 0, 0, 0, 0, 0, 0, 0, 0, 0, 0, 0, 0, 0, 0, 0, 0, 0, 0, 0, 0, 0, 0, 0, 0, 0, 0, 0, 0, 0, 0, 0, 0, 0, 0, 1, 0, 0, 0, 0, 0, 0, 0, 0, 0, 0, 0, 0, 0, 0, 0, 0, 0, 0, 0, 0, 0, 0, 0, 0, 0, 0, 0, 0, 0, 0, 0, 0, 0, 0, 0, 2, 0, 0, 0, 0, 0, 0, 0, 0, 0, 0, 0, 0, 0, 0, 0, 0, 0, 0, 0, 0, 0, 0, 0, 0, 0, 0, 0, 0, 0, 0, 0, 0, 0, 0, 0, 0, 0, 0, 0, 0, 1, 0, 0, 0, 0, 0, 0, 0, 0, 0, 0, 0, 0, 0, 0, 0, 0, 0, 0, 0, 0, 0, 0, 0, 0, 0, 0, 0, 0, 0, 0, 0, 0, 0, 0, 0, 0, 0, 0, 0, 0, 0, 0, 0, 0, 0, 0, 0, 0, 0, 0, 0, 0, 0, 0, 0, 0, 0, 0, 0, 0, 0, 0, 0, 0, 0, 0, 0, 0, 0, 0, 0, 0, 0, 0, 0, 0, 0, 0, 0, 0, 0, 0, 0, 0, 0, 0, 0, 0, 0, 0, 0, 0, 0, 0, 0, 0, 0, 0, 0, 0, 0, 0, 0, 0, 0, 0, 0, 0, 0, 0, 0, 0, 0, 0, 0, 0, 0, 0, 0, 0, 0, 0, 0, 0, 0, 0, 0, 0, 0, 0, 0, 0, 0, 0, 0, 0, 0, 0, 0, 0, 0, 0, 0, 0, 0, 0, 0, 0, 0, 0, 0, 0, 0, 0, 0, 0, 0, 0, 0, 0, 0, 0, 0, 0, 0, 0, 0, 0, 0, 0, 0, 0, 0, 0, 0, 0, 0, 0, 0, 0, 0, 0, 0, 0, 0, 0, 0, 0, 0, 0, 0, 0, 0, 0, 0, 0, 0, 0, 0, 0, 0, 0, 0, 0, 0, 0, 0, 0, 0, 0, 0, 0, 0, 0, 0, 0, 0, 0, 0, 0, 0, 0, 0, 0, 0, 0, 0, 0, 0, 0, 0, 0, 0, 0, 0, 0, 0, 0, 0, 0, 0, 0, 0, 0, 0, 0, 0, 0, 0, 0, 0, 0, 0, 0, 0, 0, 0, 0, 0, 0, 0, 0, 0, 0, 0, 0, 0, 0, 0, 0, 0, 0, 0, 0, 0, 0, 0, 0, 0, 0, 0, 0, 0, 0, 0, 0, 0, 0, 0, 0, 0, 0, 0, 0, 0, 0, 0, 0, 0, 0, 0, 0, 0, 0, 0, 0, 0, 0, 0, 0, 0, 0, 0, 0, 0, 0, 0, 0, 0, 0, 0, 0, 0, 0, 0, 0, 0, 0, 0, 0, 0, 0, 0, 0, 0, 0, 0, 0, 0, 0, 0, 0, 0, 0, 0, 0, 0, 0, 0, 0, 0, 0, 0, 0, 0, 0, 0, 0, 0, 0, 0, 0, 0, 0, 0, 0, 0, 0, 0, 0, 0, 0, 0, 0, 0, 0, 0, 0, 0, 0, 0, 0, 0, 0, 0, 0, 0, 0, 0, 0, 0, 0, 0, 0, 0, 0, 0, 0, 0, 0, 0, 0, 0, 0, 0, 0, 0, 0, 0, 0, 0, 0, 0, 0, 0, 0, 0, 0, 0, 0, 0, 0, 0, 0, 0, 0, 0, 0, 0, 0, 0, 0, 0, 0, 0, 0, 0, 0, 0, 0, 0, 0, 0, 0, 0, 0, 0, 0, 0, 0, 0, 0, 0, 0, 0, 0, 0, 0, 0, 0, 0, 0, 0, 0, 0, 0, 0, 0, 0, 0, 0, 0, 0, 0, 0, 0, 0, 0, 0, 0, 0, 0, 0, 0, 0, 0, 0, 0, 0, 0, 0, 0, 0, 0, 0, 0, 0, 1, 0, 0, 0, 0, 0, 0, 0, 0, 0, 0, 0, 0, 0, 0, 0, 0, 0, 0, 0, 0, 0, 0, 0, 0, 0, 0, 0, 0, 0, 0, 0, 0, 0, 0, 0, 0, 0, 0, 0, 0, 0, 0, 0, 0, 0, 0, 0, 0, 0, 0, 0, 0, 0, 0, 0, 0, 0, 0, 0, 0, 0, 0, 0, 0, 0, 0, 0, 0, 0, 0, 0, 0, 0, 0, 0, 0, 0, 0, 0, 0, 0, 0, 0, 0, 0, 0, 0, 0, 0, 0, 0, 0, 0, 0, 0, 0, 0, 0, 0, 0, 0, 0, 0, 0, 0, 0, 0, 0, 0, 0, 2, 0, 0, 0, 0, 0, 0, 0, 0, 0, 0, 0, 0, 0, 0, 0, 0, 0, 0, 0, 0, 0, 0, 0, 0, 0, 0, 0, 0, 0, 0, 0, 0, 0, 0, 0, 0, 0, 0, 0, 0, 0, 0, 0, 0, 0, 0, 0, 0, 0, 0, 0, 0, 0, 0, 0, 0, 0, 0, 0, 0, 0, 0, 0, 0, 0, 0, 0, 0, 0, 0, 0, 0, 0, 0, 0, 0, 0, 0, 0, 0, 0, 0, 0, 0, 0, 0, 0, 0, 0, 0, 0, 0, 0, 0, 0, 0, 0, 0, 0, 0, 0, 0, 0, 0, 0, 0, 0, 0, 0, 0, 0, 0, 0, 0, 0, 0, 0, 0, 0, 0, 0, 0, 0, 0, 0, 0, 0, 0, 0, 0, 0, 0, 0, 0, 0, 0, 0, 0, 0, 0, 0, 0, 0, 0, 0, 0, 0, 0, 0, 0, 0, 0, 0, 0, 0, 0, 0, 0, 0, 0, 0, 0, 0, 0, 0, 0, 0, 0, 0, 0, 0, 0, 0, 0, 0, 0, 0, 0, 0, 0, 0, 0, 0, 0, 0, 0, 0, 0, 0, 0, 0, 0, 0, 0, 0, 0, 0, 0, 0, 0, 0, 0, 0, 0, 0, 0, 0, 0, 0, 0, 0, 0, 0, 0, 0, 0, 0, 0, 0, 0, 0, 0, 0, 0, 0, 0, 0, 0, 0, 0, 0, 0, 0, 0, 0, 0, 0, 0, 0, 0, 0, 0, 0, 0, 0, 0, 0, 0, 0, 0, 0, 0, 0, 0, 0, 0, 0, 0, 0, 0, 0, 0, 0, 0, 0, 0, 0, 0, 0, 0, 0, 0, 0, 0, 0, 0, 0, 0, 0, 0, 0, 0, 0, 0, 0, 0, 0, 0, 0, 0, 0, 0, 0, 0, 0, 0, 0, 0, 0, 0, 0, 0, 0, 0, 0, 0, 0, 0, 0, 0, 0, 0, 0, 0, 0, 0, 0, 0, 0, 0, 0, 0, 0, 0, 0, 0, 0, 0, 0, 0, 0, 0, 0, 0, 0, 0, 0, 0, 0, 0, 0, 0, 0, 0, 0, 0, 0, 0, 0, 0, 0, 0, 0, 0, 0, 0, 0, 0, 0, 0, 0, 0, 0, 0, 0, 0, 0, 0, 0, 0, 0, 0, 0, 0, 0, 0, 0, 0, 0, 0, 0, 0, 0, 0, 0, 0, 0, 0, 0, 0, 0, 0, 0, 0, 0, 0, 0, 0, 0, 0, 0, 0, 0, 0, 0, 0, 0, 0, 0, 0, 0, 0, 0, 0, 0, 0, 0, 0, 0, 0, 0, 0, 0, 0, 0, 0, 0, 0, 0, 0, 0, 0, 0, 0, 0, 0, 0, 0, 0, 0, 0, 0, 0, 0, 0, 0, 0, 0, 0, 0, 0, 0, 0, 0, 0, 0, 0, 0, 0, 0, 0, 0, 0, 0, 0, 0, 0, 0, 0, 0, 0, 0, 0, 0, 0, 0, 0, 0, 0, 0, 0, 0, 0, 0, 0, 0, 0, 0, 0, 0, 0, 0, 0, 0, 0, 0, 0, 0, 0, 0, 0, 0, 0, 0, 0, 0, 0, 0, 0, 0, 0, 0, 0, 0, 0, 0, 0, 0, 0, 0, 0, 0, 0, 0, 0, 0, 0, 0, 0, 0, 0, 0, 0, 0, 0, 0, 0, 0, 0, 0, 0, 0, 0, 0, 0, 0, 0, 0, 0, 0, 0, 0, 0, 0, 0, 0, 0, 0, 0, 0, 0, 0, 0, 0, 0, 0, 0, 0, 0, 0, 0, 0, 0, 0, 0, 0, 0, 0, 0, 0, 0, 0, 0, 0, 0, 0, 0, 0, 0, 0, 0, 0, 0, 0, 0, 0, 0, 0, 0, 0, 0, 0, 0, 0, 0, 0, 0, 0, 0, 0, 0, 0, 0, 0, 0, 0, 0, 0, 0, 0, 0, 0, 0, 0, 0, 0, 0, 0, 0, 0, 0, 0, 0, 0, 0, 0, 0, 0, 0, 0, 0, 0, 0, 0, 0, 0, 0, 0, 0, 0, 0, 0, 0, 0, 0, 0, 0, 0, 0, 0, 0, 0, 0, 0, 0, 0, 0, 0, 0, 0, 0, 0, 0, 0, 0, 0, 0, 0, 0, 0, 0, 0, 0, 0, 0, 0, 0, 0, 0, 0, 1, 0, 0, 0, 0, 0, 0, 0, 0, 0, 0, 0, 0, 0, 0, 0, 0, 0, 0, 0, 0, 0, 0, 0, 0, 0, 0, 0, 0, 0, 0, 0, 0, 0, 0, 0, 0, 0, 0, 0, 0, 0, 0, 0, 0, 0, 0, 0, 0, 0, 0, 0, 0, 0, 0, 0, 0, 0, 0, 0, 0, 0, 0, 0, 0, 0, 0, 0, 0, 0, 0, 0, 0, 0, 0, 0, 0, 0, 0, 0, 0, 0, 0, 0, 0, 0, 0, 0, 0, 0, 0, 0, 0, 0, 0, 0, 0, 0, 0, 0, 0, 0, 0, 0, 0, 0, 0, 0, 1, 0, 0, 0, 0, 0, 0, 0, 0, 0, 0, 0, 0, 0, 0, 0, 0, 0, 0, 0, 0, 0, 0, 0, 0, 0, 0, 0, 0, 0, 0, 0, 0, 0, 0, 0, 0, 0, 0, 0, 0, 0, 0, 0, 0, 0, 0, 0, 0, 0, 0, 0, 0, 0, 0, 0, 0, 0, 0, 0, 0, 0, 0, 0, 0, 0, 0, 0, 0, 0, 0, 0, 0, 0, 0, 0, 0, 0, 0, 0, 0, 0, 0, 0, 0, 0, 0, 0, 0, 0, 0, 0, 0, 0, 0, 0, 0, 0, 0, 0, 0, 0, 0, 0, 0, 0, 0, 0, 0, 0, 0, 0, 0, 0, 0, 0, 0, 0, 0, 0, 0, 0, 0, 0, 0, 0, 0, 0, 0, 0, 0, 0, 0, 0, 0, 0, 0, 0, 0, 0, 0, 0, 0, 0, 0, 0, 0, 0, 0, 0, 0, 0, 0, 0, 0, 0, 0, 0, 0, 0, 0, 0, 0, 0, 0, 0, 0, 0, 0, 0, 0, 0, 0, 0, 0, 0, 0, 0, 0, 0, 0, 0, 0, 0, 0, 0, 0, 0, 0, 0, 0, 0, 0, 0, 0, 0, 0, 0, 0, 0, 0, 0, 0, 0, 0, 0, 0, 0, 0, 0, 0, 0, 0, 0, 0, 0, 0, 0, 0, 0, 0, 0, 0, 0, 0, 0, 0, 0, 0, 0, 0, 0, 0, 0, 0, 0, 0, 0, 0, 0, 0, 0, 0, 0, 0, 0, 0, 0, 0, 0, 0, 0, 0, 0, 0, 0, 0, 0, 0, 0, 0, 0, 0, 0, 0, 0, 0, 0, 0, 0, 0, 0, 0, 0, 0, 0, 0, 0, 0, 0, 0, 0, 0, 0, 0, 0, 0, 0, 0, 0, 0, 0, 0, 0, 0, 0, 0, 0, 0, 0, 0, 0, 0, 0, 0, 0, 0, 0, 0, 0, 0, 0, 0, 0, 0, 0, 0, 0, 0, 0, 0, 0, 0, 0, 0, 0, 0, 0, 0, 0, 0, 0, 0, 0, 0, 0, 0, 0, 0, 0, 0, 0, 0, 0, 0, 0, 0, 0, 0, 0, 0, 0, 0, 0, 0, 0, 0, 0, 0, 0, 0, 0, 0, 0, 0, 0, 0, 0, 0, 0, 0, 0, 0, 0, 0, 0, 0, 0, 0, 0, 0, 0, 0, 0, 0, 0, 0, 0, 0, 0, 0, 0, 0, 0, 0, 0, 0, 0, 0, 0, 0, 0, 0, 0, 0, 0, 0, 0, 0, 0, 0, 0, 0, 0, 0, 0, 0, 0, 0, 0, 0, 0, 0, 0, 0, 0, 0, 0, 0, 0, 0, 0, 0, 0, 0, 0, 0, 0, 0, 0, 0, 0, 0, 0, 0, 0, 0, 0, 0, 0, 0, 0, 0, 0, 0, 0, 0, 0, 0, 0, 0, 0, 0, 0, 2, 0, 1, 0], type: <class 'list'>, valid types: <class 'bytes'>, <class 'bytearray'>, file-like object",
     "output_type": "error",
     "traceback": [
      "\u001b[0;31m---------------------------------------------------------------------------\u001b[0m",
      "\u001b[0;31mParamValidationError\u001b[0m                      Traceback (most recent call last)",
      "\u001b[0;32m<ipython-input-48-c9ab54ae3a48>\u001b[0m in \u001b[0;36m<module>\u001b[0;34m()\u001b[0m\n\u001b[1;32m      1\u001b[0m response = runtime.invoke_endpoint(EndpointName = xgb_predictor.endpoint, # The name of the endpoint we created\n\u001b[1;32m      2\u001b[0m                                        \u001b[0mContentType\u001b[0m \u001b[0;34m=\u001b[0m \u001b[0;34m'text/csv'\u001b[0m\u001b[0;34m,\u001b[0m                     \u001b[0;31m# The data format that is expected\u001b[0m\u001b[0;34m\u001b[0m\u001b[0m\n\u001b[0;32m----> 3\u001b[0;31m                                        Body = test_bow)\n\u001b[0m",
      "\u001b[0;32m~/anaconda3/envs/python3/lib/python3.6/site-packages/botocore/client.py\u001b[0m in \u001b[0;36m_api_call\u001b[0;34m(self, *args, **kwargs)\u001b[0m\n\u001b[1;32m    355\u001b[0m                     \"%s() only accepts keyword arguments.\" % py_operation_name)\n\u001b[1;32m    356\u001b[0m             \u001b[0;31m# The \"self\" in this scope is referring to the BaseClient.\u001b[0m\u001b[0;34m\u001b[0m\u001b[0;34m\u001b[0m\u001b[0m\n\u001b[0;32m--> 357\u001b[0;31m             \u001b[0;32mreturn\u001b[0m \u001b[0mself\u001b[0m\u001b[0;34m.\u001b[0m\u001b[0m_make_api_call\u001b[0m\u001b[0;34m(\u001b[0m\u001b[0moperation_name\u001b[0m\u001b[0;34m,\u001b[0m \u001b[0mkwargs\u001b[0m\u001b[0;34m)\u001b[0m\u001b[0;34m\u001b[0m\u001b[0m\n\u001b[0m\u001b[1;32m    358\u001b[0m \u001b[0;34m\u001b[0m\u001b[0m\n\u001b[1;32m    359\u001b[0m         \u001b[0m_api_call\u001b[0m\u001b[0;34m.\u001b[0m\u001b[0m__name__\u001b[0m \u001b[0;34m=\u001b[0m \u001b[0mstr\u001b[0m\u001b[0;34m(\u001b[0m\u001b[0mpy_operation_name\u001b[0m\u001b[0;34m)\u001b[0m\u001b[0;34m\u001b[0m\u001b[0m\n",
      "\u001b[0;32m~/anaconda3/envs/python3/lib/python3.6/site-packages/botocore/client.py\u001b[0m in \u001b[0;36m_make_api_call\u001b[0;34m(self, operation_name, api_params)\u001b[0m\n\u001b[1;32m    632\u001b[0m         }\n\u001b[1;32m    633\u001b[0m         request_dict = self._convert_to_request_dict(\n\u001b[0;32m--> 634\u001b[0;31m             api_params, operation_model, context=request_context)\n\u001b[0m\u001b[1;32m    635\u001b[0m \u001b[0;34m\u001b[0m\u001b[0m\n\u001b[1;32m    636\u001b[0m         \u001b[0mservice_id\u001b[0m \u001b[0;34m=\u001b[0m \u001b[0mself\u001b[0m\u001b[0;34m.\u001b[0m\u001b[0m_service_model\u001b[0m\u001b[0;34m.\u001b[0m\u001b[0mservice_id\u001b[0m\u001b[0;34m.\u001b[0m\u001b[0mhyphenize\u001b[0m\u001b[0;34m(\u001b[0m\u001b[0;34m)\u001b[0m\u001b[0;34m\u001b[0m\u001b[0m\n",
      "\u001b[0;32m~/anaconda3/envs/python3/lib/python3.6/site-packages/botocore/client.py\u001b[0m in \u001b[0;36m_convert_to_request_dict\u001b[0;34m(self, api_params, operation_model, context)\u001b[0m\n\u001b[1;32m    680\u001b[0m             api_params, operation_model, context)\n\u001b[1;32m    681\u001b[0m         request_dict = self._serializer.serialize_to_request(\n\u001b[0;32m--> 682\u001b[0;31m             api_params, operation_model)\n\u001b[0m\u001b[1;32m    683\u001b[0m         \u001b[0;32mif\u001b[0m \u001b[0;32mnot\u001b[0m \u001b[0mself\u001b[0m\u001b[0;34m.\u001b[0m\u001b[0m_client_config\u001b[0m\u001b[0;34m.\u001b[0m\u001b[0minject_host_prefix\u001b[0m\u001b[0;34m:\u001b[0m\u001b[0;34m\u001b[0m\u001b[0m\n\u001b[1;32m    684\u001b[0m             \u001b[0mrequest_dict\u001b[0m\u001b[0;34m.\u001b[0m\u001b[0mpop\u001b[0m\u001b[0;34m(\u001b[0m\u001b[0;34m'host_prefix'\u001b[0m\u001b[0;34m,\u001b[0m \u001b[0;32mNone\u001b[0m\u001b[0;34m)\u001b[0m\u001b[0;34m\u001b[0m\u001b[0m\n",
      "\u001b[0;32m~/anaconda3/envs/python3/lib/python3.6/site-packages/botocore/validate.py\u001b[0m in \u001b[0;36mserialize_to_request\u001b[0;34m(self, parameters, operation_model)\u001b[0m\n\u001b[1;32m    295\u001b[0m                                                     operation_model.input_shape)\n\u001b[1;32m    296\u001b[0m             \u001b[0;32mif\u001b[0m \u001b[0mreport\u001b[0m\u001b[0;34m.\u001b[0m\u001b[0mhas_errors\u001b[0m\u001b[0;34m(\u001b[0m\u001b[0;34m)\u001b[0m\u001b[0;34m:\u001b[0m\u001b[0;34m\u001b[0m\u001b[0m\n\u001b[0;32m--> 297\u001b[0;31m                 \u001b[0;32mraise\u001b[0m \u001b[0mParamValidationError\u001b[0m\u001b[0;34m(\u001b[0m\u001b[0mreport\u001b[0m\u001b[0;34m=\u001b[0m\u001b[0mreport\u001b[0m\u001b[0;34m.\u001b[0m\u001b[0mgenerate_report\u001b[0m\u001b[0;34m(\u001b[0m\u001b[0;34m)\u001b[0m\u001b[0;34m)\u001b[0m\u001b[0;34m\u001b[0m\u001b[0m\n\u001b[0m\u001b[1;32m    298\u001b[0m         return self._serializer.serialize_to_request(parameters,\n\u001b[1;32m    299\u001b[0m                                                      operation_model)\n",
      "\u001b[0;31mParamValidationError\u001b[0m: Parameter validation failed:\nInvalid type for parameter Body, value: [0, 0, 0, 0, 0, 0, 0, 0, 0, 0, 0, 0, 0, 0, 0, 0, 0, 0, 0, 0, 0, 0, 0, 0, 0, 0, 0, 0, 0, 0, 0, 0, 0, 0, 0, 0, 0, 0, 0, 0, 0, 0, 0, 0, 0, 0, 0, 0, 0, 0, 0, 0, 0, 0, 0, 0, 0, 0, 0, 0, 0, 0, 0, 0, 0, 0, 0, 0, 0, 0, 0, 0, 0, 0, 0, 0, 0, 0, 0, 0, 0, 0, 0, 0, 0, 0, 0, 0, 0, 0, 0, 0, 0, 0, 0, 0, 0, 0, 0, 0, 0, 0, 0, 0, 0, 0, 0, 0, 0, 0, 0, 0, 0, 0, 0, 0, 0, 0, 0, 0, 0, 0, 0, 0, 0, 0, 0, 0, 0, 0, 0, 0, 0, 0, 0, 0, 0, 0, 0, 0, 0, 0, 0, 0, 0, 0, 0, 0, 0, 0, 0, 0, 0, 0, 0, 0, 0, 0, 0, 0, 0, 0, 0, 0, 0, 0, 0, 0, 0, 0, 0, 0, 0, 0, 0, 0, 0, 0, 0, 0, 0, 0, 0, 0, 0, 0, 0, 0, 0, 0, 0, 0, 0, 0, 0, 0, 0, 0, 0, 0, 0, 0, 0, 0, 0, 0, 0, 0, 0, 0, 0, 0, 0, 0, 0, 0, 0, 0, 0, 0, 0, 0, 0, 0, 0, 0, 1, 0, 0, 0, 0, 0, 0, 0, 0, 0, 0, 0, 0, 0, 0, 0, 0, 0, 0, 0, 0, 0, 0, 0, 0, 0, 0, 0, 0, 0, 1, 0, 0, 0, 0, 0, 0, 0, 0, 0, 0, 0, 0, 0, 0, 0, 0, 0, 0, 0, 0, 0, 0, 0, 0, 0, 0, 0, 0, 0, 0, 0, 0, 0, 0, 0, 0, 0, 0, 0, 0, 0, 0, 0, 0, 0, 0, 0, 0, 0, 0, 0, 0, 0, 0, 0, 0, 0, 0, 0, 0, 0, 0, 0, 0, 0, 0, 0, 0, 0, 0, 0, 0, 0, 0, 0, 0, 0, 0, 0, 0, 0, 0, 0, 0, 0, 0, 0, 0, 0, 0, 0, 0, 0, 0, 0, 0, 0, 0, 0, 0, 0, 0, 0, 0, 0, 0, 0, 0, 0, 0, 0, 0, 0, 0, 0, 0, 0, 0, 0, 0, 0, 0, 0, 0, 0, 0, 0, 0, 0, 0, 0, 0, 0, 0, 0, 0, 0, 0, 0, 0, 0, 0, 0, 0, 0, 0, 0, 0, 0, 0, 0, 0, 0, 0, 0, 0, 0, 0, 0, 0, 0, 0, 0, 0, 0, 0, 0, 0, 0, 0, 0, 0, 0, 0, 0, 0, 0, 0, 0, 0, 0, 0, 0, 0, 0, 0, 0, 0, 0, 0, 0, 0, 0, 0, 0, 0, 0, 0, 0, 0, 0, 0, 0, 0, 0, 0, 0, 0, 0, 0, 0, 0, 0, 0, 0, 0, 0, 0, 0, 0, 0, 0, 0, 0, 0, 0, 0, 0, 0, 0, 0, 0, 0, 0, 0, 0, 0, 0, 0, 0, 0, 0, 0, 0, 0, 0, 0, 0, 0, 0, 0, 0, 0, 0, 0, 0, 0, 0, 0, 0, 0, 0, 0, 0, 0, 0, 0, 0, 0, 0, 0, 0, 0, 0, 0, 0, 0, 0, 0, 0, 0, 0, 0, 0, 0, 0, 0, 0, 0, 0, 0, 0, 0, 0, 0, 0, 0, 0, 0, 0, 0, 0, 0, 0, 0, 0, 0, 0, 0, 0, 0, 0, 0, 0, 0, 0, 0, 0, 0, 0, 0, 0, 0, 0, 0, 0, 0, 0, 0, 0, 0, 0, 0, 0, 0, 0, 0, 0, 0, 0, 0, 0, 0, 0, 0, 0, 0, 0, 0, 0, 0, 0, 0, 0, 0, 0, 0, 0, 0, 0, 0, 0, 0, 0, 0, 0, 0, 0, 0, 0, 0, 0, 0, 0, 0, 0, 0, 0, 0, 1, 0, 0, 0, 0, 0, 0, 0, 0, 0, 0, 0, 0, 0, 0, 0, 0, 0, 0, 0, 0, 0, 0, 0, 0, 0, 0, 0, 0, 0, 0, 0, 0, 0, 0, 0, 0, 0, 0, 0, 0, 0, 0, 0, 0, 0, 0, 0, 0, 0, 0, 0, 0, 0, 0, 0, 0, 0, 0, 0, 0, 0, 0, 0, 0, 0, 0, 0, 0, 0, 0, 0, 0, 0, 0, 0, 0, 0, 0, 0, 0, 0, 0, 0, 0, 0, 0, 0, 0, 0, 0, 0, 0, 0, 0, 0, 0, 0, 0, 0, 0, 0, 0, 0, 0, 0, 0, 0, 0, 0, 0, 0, 0, 0, 0, 0, 0, 0, 0, 0, 0, 0, 0, 0, 0, 0, 0, 0, 0, 0, 0, 0, 0, 0, 0, 0, 0, 0, 0, 0, 0, 0, 0, 0, 0, 0, 0, 0, 0, 0, 0, 0, 0, 0, 0, 0, 0, 0, 0, 0, 0, 0, 0, 0, 0, 0, 0, 0, 0, 0, 0, 0, 0, 0, 0, 0, 0, 0, 0, 0, 0, 0, 0, 0, 0, 0, 0, 0, 0, 0, 0, 0, 0, 0, 0, 0, 0, 0, 0, 0, 0, 0, 0, 0, 0, 0, 0, 0, 0, 0, 0, 0, 0, 0, 0, 0, 0, 0, 0, 0, 0, 0, 0, 0, 0, 0, 0, 0, 0, 0, 0, 0, 0, 0, 0, 0, 0, 0, 0, 0, 0, 0, 0, 0, 0, 0, 0, 0, 0, 0, 0, 0, 0, 0, 1, 0, 0, 0, 0, 0, 0, 0, 0, 0, 0, 0, 0, 0, 0, 0, 0, 0, 0, 0, 0, 0, 0, 0, 0, 0, 0, 0, 0, 0, 0, 0, 0, 0, 0, 0, 0, 0, 0, 0, 0, 0, 0, 0, 0, 0, 0, 0, 0, 0, 0, 0, 0, 0, 0, 0, 0, 0, 0, 0, 0, 0, 0, 0, 0, 0, 0, 0, 0, 0, 0, 0, 0, 0, 0, 0, 0, 0, 0, 0, 0, 0, 0, 0, 0, 0, 0, 1, 0, 0, 0, 0, 0, 0, 0, 0, 0, 0, 0, 0, 0, 0, 0, 0, 0, 0, 0, 0, 0, 0, 0, 0, 0, 0, 0, 0, 0, 0, 0, 0, 0, 0, 0, 0, 0, 0, 0, 0, 0, 0, 0, 0, 0, 0, 0, 0, 0, 0, 0, 0, 0, 0, 0, 0, 0, 0, 0, 0, 0, 0, 0, 0, 0, 0, 0, 0, 0, 0, 0, 0, 0, 0, 0, 0, 0, 0, 0, 0, 0, 0, 0, 0, 0, 0, 0, 0, 0, 0, 0, 0, 0, 0, 0, 0, 0, 0, 0, 0, 0, 0, 0, 0, 0, 0, 0, 0, 0, 0, 0, 0, 0, 0, 0, 0, 0, 0, 0, 0, 0, 0, 0, 0, 0, 0, 0, 0, 0, 0, 0, 0, 0, 0, 0, 0, 0, 0, 0, 0, 0, 0, 0, 0, 0, 0, 0, 0, 0, 0, 0, 0, 0, 0, 0, 0, 0, 0, 0, 0, 0, 0, 0, 0, 0, 0, 0, 0, 0, 0, 0, 0, 0, 0, 0, 0, 0, 0, 0, 0, 0, 0, 0, 0, 0, 0, 0, 0, 0, 0, 0, 0, 0, 0, 0, 0, 0, 0, 0, 0, 0, 0, 0, 0, 0, 0, 0, 0, 0, 0, 0, 0, 0, 0, 0, 0, 0, 0, 0, 0, 0, 0, 0, 0, 0, 0, 0, 0, 0, 0, 0, 0, 0, 0, 0, 0, 0, 0, 0, 0, 0, 0, 0, 0, 0, 0, 0, 0, 0, 0, 0, 0, 1, 0, 0, 0, 0, 0, 0, 0, 0, 0, 0, 0, 0, 0, 0, 0, 0, 0, 0, 0, 0, 0, 0, 0, 0, 0, 0, 0, 0, 0, 0, 0, 0, 0, 0, 0, 0, 0, 0, 0, 0, 0, 0, 0, 0, 0, 0, 0, 0, 0, 0, 0, 0, 0, 0, 0, 1, 0, 0, 0, 0, 0, 0, 0, 0, 0, 0, 0, 0, 0, 0, 0, 0, 0, 0, 0, 0, 0, 0, 0, 0, 0, 0, 0, 0, 0, 0, 0, 0, 0, 0, 0, 0, 0, 0, 0, 0, 0, 0, 0, 0, 0, 0, 0, 0, 0, 0, 0, 0, 0, 0, 0, 0, 0, 0, 0, 0, 0, 0, 0, 0, 0, 0, 0, 0, 0, 0, 0, 0, 0, 0, 0, 0, 0, 0, 0, 0, 0, 0, 0, 0, 0, 0, 0, 0, 0, 0, 0, 0, 0, 0, 0, 0, 0, 0, 0, 0, 0, 0, 0, 0, 0, 0, 0, 0, 0, 0, 0, 0, 0, 0, 0, 0, 0, 0, 0, 0, 0, 0, 0, 0, 0, 0, 0, 0, 0, 0, 0, 0, 0, 0, 0, 0, 0, 0, 0, 0, 0, 0, 0, 0, 0, 0, 0, 0, 0, 0, 0, 0, 0, 0, 0, 0, 0, 0, 0, 0, 0, 0, 0, 0, 0, 0, 0, 0, 0, 0, 0, 0, 0, 0, 0, 0, 0, 0, 0, 0, 0, 0, 0, 0, 0, 0, 0, 0, 0, 0, 0, 0, 0, 0, 0, 0, 0, 0, 0, 0, 0, 0, 0, 0, 0, 0, 0, 0, 0, 0, 0, 0, 0, 0, 0, 0, 0, 0, 0, 0, 0, 0, 0, 0, 0, 0, 0, 0, 0, 0, 0, 0, 0, 0, 0, 0, 0, 0, 0, 0, 0, 0, 0, 0, 0, 0, 0, 0, 0, 0, 0, 0, 0, 0, 0, 0, 0, 0, 0, 0, 0, 0, 0, 0, 0, 0, 0, 0, 0, 0, 0, 0, 0, 0, 0, 0, 0, 0, 0, 0, 0, 0, 0, 0, 0, 0, 0, 0, 0, 0, 0, 0, 0, 0, 0, 0, 0, 0, 0, 0, 0, 0, 0, 0, 0, 0, 0, 0, 0, 0, 0, 0, 0, 0, 0, 0, 0, 0, 0, 0, 0, 0, 0, 0, 0, 0, 0, 0, 0, 0, 0, 0, 0, 0, 0, 0, 0, 0, 0, 0, 0, 0, 0, 0, 0, 0, 0, 0, 0, 0, 0, 0, 0, 0, 0, 0, 0, 0, 0, 0, 0, 0, 0, 0, 0, 0, 0, 0, 0, 0, 0, 0, 0, 0, 0, 0, 0, 0, 0, 0, 0, 0, 0, 0, 0, 0, 0, 0, 0, 0, 0, 0, 0, 0, 0, 0, 0, 0, 0, 0, 0, 0, 0, 0, 0, 0, 0, 0, 0, 0, 0, 0, 0, 0, 0, 0, 0, 0, 0, 0, 0, 0, 0, 0, 0, 0, 0, 0, 0, 0, 0, 0, 0, 0, 0, 0, 0, 0, 0, 0, 0, 0, 0, 0, 0, 0, 0, 0, 0, 0, 0, 0, 0, 0, 0, 0, 0, 0, 0, 0, 0, 0, 0, 0, 0, 0, 0, 0, 0, 0, 0, 0, 0, 0, 0, 0, 0, 0, 0, 0, 0, 0, 0, 0, 0, 0, 0, 0, 0, 0, 0, 0, 0, 0, 0, 0, 0, 0, 0, 0, 0, 0, 0, 0, 0, 0, 0, 0, 0, 0, 0, 0, 0, 0, 0, 0, 0, 0, 0, 0, 0, 0, 0, 0, 0, 0, 0, 0, 0, 0, 0, 0, 0, 0, 0, 0, 0, 0, 0, 0, 0, 0, 0, 0, 0, 0, 0, 0, 0, 0, 0, 0, 0, 0, 0, 0, 0, 0, 0, 0, 0, 0, 0, 0, 0, 0, 0, 0, 0, 0, 0, 0, 0, 0, 0, 0, 0, 0, 0, 0, 0, 0, 0, 0, 0, 0, 0, 0, 0, 0, 0, 0, 0, 0, 0, 0, 0, 0, 0, 0, 0, 0, 0, 0, 0, 0, 0, 0, 0, 0, 0, 0, 0, 0, 0, 0, 0, 0, 0, 0, 0, 0, 0, 0, 0, 0, 0, 0, 0, 0, 0, 0, 0, 0, 0, 0, 0, 0, 0, 0, 0, 0, 0, 0, 0, 0, 0, 0, 0, 0, 0, 0, 0, 0, 0, 0, 0, 0, 0, 0, 0, 0, 0, 0, 0, 0, 0, 0, 0, 0, 0, 0, 0, 0, 0, 0, 0, 0, 0, 0, 0, 1, 0, 0, 0, 0, 0, 0, 0, 0, 0, 0, 0, 0, 0, 0, 0, 0, 0, 0, 0, 0, 0, 0, 0, 0, 0, 0, 0, 0, 0, 0, 0, 0, 0, 0, 0, 0, 0, 0, 0, 0, 0, 0, 0, 0, 0, 0, 0, 0, 0, 0, 0, 0, 0, 0, 0, 0, 0, 0, 0, 0, 0, 0, 0, 0, 0, 0, 0, 0, 0, 0, 0, 0, 0, 0, 1, 0, 0, 0, 0, 0, 0, 0, 0, 0, 0, 0, 0, 0, 0, 0, 0, 0, 0, 0, 0, 1, 0, 0, 1, 0, 0, 0, 0, 0, 0, 0, 0, 0, 0, 0, 0, 0, 0, 0, 0, 0, 0, 0, 0, 0, 0, 0, 0, 0, 0, 0, 0, 0, 0, 0, 0, 0, 0, 0, 0, 0, 0, 0, 0, 0, 0, 0, 0, 0, 0, 0, 0, 0, 0, 0, 0, 0, 0, 0, 0, 0, 0, 0, 0, 0, 0, 0, 0, 0, 0, 0, 0, 0, 0, 0, 0, 0, 0, 0, 0, 0, 0, 0, 0, 0, 0, 0, 0, 0, 0, 0, 0, 0, 0, 0, 0, 0, 0, 0, 0, 0, 0, 0, 0, 0, 0, 0, 0, 0, 0, 0, 0, 0, 0, 0, 0, 0, 0, 0, 0, 0, 0, 0, 0, 0, 0, 0, 0, 0, 0, 0, 0, 0, 0, 0, 0, 0, 0, 0, 0, 0, 0, 0, 0, 0, 0, 0, 0, 0, 0, 0, 0, 0, 0, 0, 0, 0, 0, 0, 0, 0, 0, 0, 0, 0, 0, 0, 0, 0, 0, 0, 0, 0, 0, 0, 0, 0, 0, 0, 0, 0, 0, 0, 0, 0, 0, 0, 0, 0, 0, 0, 0, 0, 0, 0, 0, 0, 0, 0, 0, 0, 0, 0, 0, 0, 0, 0, 0, 0, 0, 0, 0, 0, 0, 0, 0, 0, 0, 0, 0, 0, 0, 0, 0, 0, 0, 0, 0, 0, 0, 0, 0, 0, 0, 0, 0, 0, 0, 0, 0, 0, 0, 0, 0, 0, 0, 0, 0, 0, 0, 0, 0, 0, 0, 0, 0, 0, 0, 0, 0, 0, 0, 0, 0, 0, 0, 0, 0, 0, 0, 0, 0, 0, 0, 0, 0, 0, 0, 0, 0, 0, 0, 0, 0, 0, 0, 0, 0, 0, 0, 0, 0, 0, 0, 0, 0, 0, 0, 0, 0, 0, 0, 0, 0, 0, 0, 0, 0, 0, 0, 0, 0, 0, 0, 0, 0, 0, 0, 0, 0, 0, 0, 0, 0, 0, 0, 0, 0, 0, 0, 0, 0, 0, 0, 0, 0, 0, 0, 0, 0, 0, 0, 0, 0, 0, 0, 0, 0, 0, 0, 0, 0, 0, 0, 0, 0, 0, 0, 0, 0, 0, 0, 0, 0, 0, 0, 0, 0, 0, 0, 0, 0, 0, 0, 0, 0, 0, 0, 0, 0, 0, 0, 0, 0, 0, 0, 0, 0, 0, 0, 0, 0, 0, 0, 0, 0, 0, 0, 0, 0, 0, 0, 0, 0, 0, 0, 0, 0, 0, 0, 0, 0, 0, 0, 0, 0, 0, 0, 0, 0, 0, 0, 0, 0, 0, 0, 0, 0, 0, 0, 0, 0, 0, 0, 0, 0, 0, 0, 0, 0, 0, 0, 0, 0, 0, 0, 0, 0, 0, 0, 0, 0, 0, 0, 0, 0, 0, 0, 0, 0, 0, 0, 0, 0, 0, 0, 0, 0, 0, 0, 1, 0, 0, 0, 0, 0, 0, 0, 0, 0, 0, 0, 0, 0, 0, 0, 0, 0, 0, 0, 0, 0, 0, 0, 0, 0, 0, 0, 0, 0, 0, 0, 0, 0, 0, 0, 0, 0, 0, 0, 0, 0, 0, 0, 0, 0, 0, 0, 0, 0, 0, 0, 0, 0, 0, 0, 0, 0, 0, 0, 0, 0, 0, 0, 0, 0, 0, 0, 0, 0, 0, 0, 0, 0, 0, 0, 0, 0, 0, 0, 0, 0, 0, 0, 0, 0, 0, 0, 0, 0, 0, 0, 0, 0, 0, 0, 0, 0, 0, 0, 0, 0, 0, 0, 0, 0, 0, 0, 0, 0, 0, 0, 0, 0, 0, 0, 0, 0, 0, 0, 0, 0, 0, 0, 0, 0, 0, 0, 0, 0, 0, 0, 0, 0, 0, 0, 0, 0, 0, 0, 0, 0, 0, 0, 0, 0, 0, 0, 0, 0, 0, 0, 0, 0, 0, 0, 0, 0, 0, 0, 0, 0, 0, 0, 0, 0, 0, 0, 0, 0, 0, 0, 0, 0, 0, 0, 0, 0, 0, 0, 0, 0, 0, 0, 0, 0, 0, 0, 0, 0, 0, 0, 0, 0, 0, 0, 0, 0, 0, 0, 0, 0, 0, 0, 0, 0, 0, 0, 0, 0, 0, 0, 0, 0, 0, 0, 0, 0, 0, 0, 0, 0, 0, 0, 0, 0, 0, 0, 0, 0, 0, 0, 0, 0, 0, 0, 0, 0, 0, 0, 0, 0, 0, 0, 0, 0, 0, 0, 0, 0, 0, 0, 0, 0, 0, 0, 0, 0, 0, 0, 0, 0, 0, 0, 0, 0, 0, 0, 0, 0, 0, 0, 0, 0, 0, 0, 0, 0, 0, 0, 0, 0, 0, 0, 0, 0, 0, 0, 0, 0, 0, 0, 0, 0, 0, 0, 0, 0, 0, 0, 0, 0, 0, 0, 0, 0, 0, 0, 0, 0, 0, 0, 0, 0, 0, 0, 0, 0, 0, 0, 0, 0, 0, 0, 0, 0, 0, 0, 0, 0, 0, 0, 0, 0, 0, 0, 0, 0, 0, 0, 0, 0, 0, 0, 0, 0, 0, 0, 0, 0, 0, 0, 0, 0, 0, 0, 0, 0, 0, 0, 0, 0, 0, 0, 0, 0, 0, 0, 0, 0, 0, 0, 0, 0, 0, 0, 0, 0, 0, 0, 0, 0, 0, 0, 0, 0, 0, 0, 0, 0, 0, 0, 0, 0, 0, 0, 0, 0, 0, 0, 0, 0, 0, 0, 0, 0, 0, 0, 0, 0, 0, 0, 0, 0, 0, 0, 0, 0, 0, 0, 0, 0, 0, 0, 0, 0, 0, 0, 0, 0, 0, 0, 0, 0, 0, 0, 0, 0, 0, 0, 0, 0, 0, 0, 0, 0, 0, 0, 0, 0, 0, 0, 0, 0, 0, 0, 0, 0, 0, 0, 0, 0, 0, 0, 0, 0, 0, 0, 0, 0, 0, 0, 0, 0, 0, 0, 0, 0, 0, 0, 0, 0, 0, 0, 0, 0, 0, 0, 0, 0, 0, 0, 0, 0, 0, 0, 0, 0, 0, 0, 0, 0, 0, 0, 0, 0, 0, 0, 0, 0, 0, 0, 0, 1, 0, 0, 0, 0, 0, 0, 0, 0, 0, 0, 0, 0, 0, 0, 0, 0, 0, 0, 0, 0, 0, 0, 0, 0, 0, 0, 0, 0, 0, 0, 0, 0, 0, 0, 0, 2, 0, 0, 0, 0, 0, 0, 0, 0, 0, 0, 0, 0, 0, 0, 0, 0, 0, 0, 0, 0, 0, 0, 0, 0, 0, 0, 0, 0, 0, 0, 0, 0, 0, 0, 0, 0, 0, 0, 0, 0, 1, 0, 0, 0, 0, 0, 0, 0, 0, 0, 0, 0, 0, 0, 0, 0, 0, 0, 0, 0, 0, 0, 0, 0, 0, 0, 0, 0, 0, 0, 0, 0, 0, 0, 0, 0, 0, 0, 0, 0, 0, 0, 0, 0, 0, 0, 0, 0, 0, 0, 0, 0, 0, 0, 0, 0, 0, 0, 0, 0, 0, 0, 0, 0, 0, 0, 0, 0, 0, 0, 0, 0, 0, 0, 0, 0, 0, 0, 0, 0, 0, 0, 0, 0, 0, 0, 0, 0, 0, 0, 0, 0, 0, 0, 0, 0, 0, 0, 0, 0, 0, 0, 0, 0, 0, 0, 0, 0, 0, 0, 0, 0, 0, 0, 0, 0, 0, 0, 0, 0, 0, 0, 0, 0, 0, 0, 0, 0, 0, 0, 0, 0, 0, 0, 0, 0, 0, 0, 0, 0, 0, 0, 0, 0, 0, 0, 0, 0, 0, 0, 0, 0, 0, 0, 0, 0, 0, 0, 0, 0, 0, 0, 0, 0, 0, 0, 0, 0, 0, 0, 0, 0, 0, 0, 0, 0, 0, 0, 0, 0, 0, 0, 0, 0, 0, 0, 0, 0, 0, 0, 0, 0, 0, 0, 0, 0, 0, 0, 0, 0, 0, 0, 0, 0, 0, 0, 0, 0, 0, 0, 0, 0, 0, 0, 0, 0, 0, 0, 0, 0, 0, 0, 0, 0, 0, 0, 0, 0, 0, 0, 0, 0, 0, 0, 0, 0, 0, 0, 0, 0, 0, 0, 0, 0, 0, 0, 0, 0, 0, 0, 0, 0, 0, 0, 0, 0, 0, 0, 0, 0, 0, 0, 0, 0, 0, 0, 0, 0, 0, 0, 0, 0, 0, 0, 0, 0, 0, 0, 0, 0, 0, 0, 0, 0, 0, 0, 0, 0, 0, 0, 0, 0, 0, 0, 0, 0, 0, 0, 0, 0, 0, 0, 0, 0, 0, 0, 0, 0, 0, 0, 0, 0, 0, 0, 0, 0, 0, 0, 0, 0, 0, 0, 0, 0, 0, 0, 0, 0, 0, 0, 0, 0, 0, 0, 0, 0, 0, 0, 0, 0, 0, 0, 0, 0, 0, 0, 0, 0, 0, 0, 0, 0, 0, 0, 0, 0, 0, 0, 0, 0, 0, 0, 0, 0, 0, 0, 0, 0, 0, 0, 0, 0, 0, 0, 0, 0, 0, 0, 0, 0, 0, 0, 0, 0, 0, 0, 0, 0, 0, 0, 0, 0, 0, 0, 0, 0, 0, 0, 0, 0, 0, 0, 0, 0, 0, 0, 0, 0, 0, 0, 0, 0, 0, 0, 0, 0, 0, 0, 0, 0, 0, 0, 0, 0, 0, 0, 0, 0, 0, 0, 0, 0, 0, 0, 0, 0, 0, 0, 0, 0, 0, 0, 0, 0, 0, 0, 0, 0, 0, 0, 0, 0, 0, 0, 0, 0, 0, 0, 0, 0, 0, 0, 0, 0, 0, 0, 0, 0, 0, 0, 0, 0, 0, 0, 0, 0, 0, 0, 0, 0, 0, 0, 0, 0, 0, 0, 0, 0, 0, 0, 0, 0, 0, 0, 0, 0, 0, 0, 1, 0, 0, 0, 0, 0, 0, 0, 0, 0, 0, 0, 0, 0, 0, 0, 0, 0, 0, 0, 0, 0, 0, 0, 0, 0, 0, 0, 0, 0, 0, 0, 0, 0, 0, 0, 0, 0, 0, 0, 0, 0, 0, 0, 0, 0, 0, 0, 0, 0, 0, 0, 0, 0, 0, 0, 0, 0, 0, 0, 0, 0, 0, 0, 0, 0, 0, 0, 0, 0, 0, 0, 0, 0, 0, 0, 0, 0, 0, 0, 0, 0, 0, 0, 0, 0, 0, 0, 0, 0, 0, 0, 0, 0, 0, 0, 0, 0, 0, 0, 0, 0, 0, 0, 0, 0, 0, 0, 0, 0, 0, 2, 0, 0, 0, 0, 0, 0, 0, 0, 0, 0, 0, 0, 0, 0, 0, 0, 0, 0, 0, 0, 0, 0, 0, 0, 0, 0, 0, 0, 0, 0, 0, 0, 0, 0, 0, 0, 0, 0, 0, 0, 0, 0, 0, 0, 0, 0, 0, 0, 0, 0, 0, 0, 0, 0, 0, 0, 0, 0, 0, 0, 0, 0, 0, 0, 0, 0, 0, 0, 0, 0, 0, 0, 0, 0, 0, 0, 0, 0, 0, 0, 0, 0, 0, 0, 0, 0, 0, 0, 0, 0, 0, 0, 0, 0, 0, 0, 0, 0, 0, 0, 0, 0, 0, 0, 0, 0, 0, 0, 0, 0, 0, 0, 0, 0, 0, 0, 0, 0, 0, 0, 0, 0, 0, 0, 0, 0, 0, 0, 0, 0, 0, 0, 0, 0, 0, 0, 0, 0, 0, 0, 0, 0, 0, 0, 0, 0, 0, 0, 0, 0, 0, 0, 0, 0, 0, 0, 0, 0, 0, 0, 0, 0, 0, 0, 0, 0, 0, 0, 0, 0, 0, 0, 0, 0, 0, 0, 0, 0, 0, 0, 0, 0, 0, 0, 0, 0, 0, 0, 0, 0, 0, 0, 0, 0, 0, 0, 0, 0, 0, 0, 0, 0, 0, 0, 0, 0, 0, 0, 0, 0, 0, 0, 0, 0, 0, 0, 0, 0, 0, 0, 0, 0, 0, 0, 0, 0, 0, 0, 0, 0, 0, 0, 0, 0, 0, 0, 0, 0, 0, 0, 0, 0, 0, 0, 0, 0, 0, 0, 0, 0, 0, 0, 0, 0, 0, 0, 0, 0, 0, 0, 0, 0, 0, 0, 0, 0, 0, 0, 0, 0, 0, 0, 0, 0, 0, 0, 0, 0, 0, 0, 0, 0, 0, 0, 0, 0, 0, 0, 0, 0, 0, 0, 0, 0, 0, 0, 0, 0, 0, 0, 0, 0, 0, 0, 0, 0, 0, 0, 0, 0, 0, 0, 0, 0, 0, 0, 0, 0, 0, 0, 0, 0, 0, 0, 0, 0, 0, 0, 0, 0, 0, 0, 0, 0, 0, 0, 0, 0, 0, 0, 0, 0, 0, 0, 0, 0, 0, 0, 0, 0, 0, 0, 0, 0, 0, 0, 0, 0, 0, 0, 0, 0, 0, 0, 0, 0, 0, 0, 0, 0, 0, 0, 0, 0, 0, 0, 0, 0, 0, 0, 0, 0, 0, 0, 0, 0, 0, 0, 0, 0, 0, 0, 0, 0, 0, 0, 0, 0, 0, 0, 0, 0, 0, 0, 0, 0, 0, 0, 0, 0, 0, 0, 0, 0, 0, 0, 0, 0, 0, 0, 0, 0, 0, 0, 0, 0, 0, 0, 0, 0, 0, 0, 0, 0, 0, 0, 0, 0, 0, 0, 0, 0, 0, 0, 0, 0, 0, 0, 0, 0, 0, 0, 0, 0, 0, 0, 0, 0, 0, 0, 0, 0, 0, 0, 0, 0, 0, 0, 0, 0, 0, 0, 0, 0, 0, 0, 0, 0, 0, 0, 0, 0, 0, 0, 0, 0, 0, 0, 0, 0, 0, 0, 0, 0, 0, 0, 0, 0, 0, 0, 0, 0, 0, 0, 0, 0, 0, 0, 0, 0, 0, 0, 0, 0, 0, 0, 0, 0, 0, 0, 0, 0, 0, 0, 0, 0, 0, 0, 0, 0, 0, 0, 0, 0, 0, 0, 0, 0, 0, 0, 0, 0, 0, 0, 0, 0, 0, 0, 0, 0, 0, 0, 0, 0, 0, 0, 0, 0, 0, 0, 0, 0, 0, 0, 0, 0, 0, 0, 0, 0, 0, 0, 0, 0, 0, 0, 0, 0, 0, 0, 0, 0, 0, 0, 0, 0, 0, 0, 0, 0, 0, 0, 0, 0, 0, 0, 0, 0, 0, 0, 0, 0, 0, 0, 0, 0, 0, 0, 0, 0, 0, 0, 0, 0, 0, 0, 0, 0, 0, 0, 0, 0, 0, 0, 0, 0, 0, 0, 0, 0, 0, 0, 0, 0, 0, 0, 0, 0, 0, 0, 0, 0, 0, 0, 0, 0, 0, 0, 0, 0, 0, 0, 0, 0, 0, 0, 0, 0, 0, 0, 0, 0, 0, 0, 0, 0, 0, 0, 0, 0, 0, 0, 0, 0, 0, 0, 0, 0, 0, 0, 0, 0, 0, 0, 0, 0, 0, 0, 0, 0, 1, 0, 0, 0, 0, 0, 0, 0, 0, 0, 0, 0, 0, 0, 0, 0, 0, 0, 0, 0, 0, 0, 0, 0, 0, 0, 0, 0, 0, 0, 0, 0, 0, 0, 0, 0, 0, 0, 0, 0, 0, 0, 0, 0, 0, 0, 0, 0, 0, 0, 0, 0, 0, 0, 0, 0, 0, 0, 0, 0, 0, 0, 0, 0, 0, 0, 0, 0, 0, 0, 0, 0, 0, 0, 0, 0, 0, 0, 0, 0, 0, 0, 0, 0, 0, 0, 0, 0, 0, 0, 0, 0, 0, 0, 0, 0, 0, 0, 0, 0, 0, 0, 0, 0, 0, 0, 0, 0, 1, 0, 0, 0, 0, 0, 0, 0, 0, 0, 0, 0, 0, 0, 0, 0, 0, 0, 0, 0, 0, 0, 0, 0, 0, 0, 0, 0, 0, 0, 0, 0, 0, 0, 0, 0, 0, 0, 0, 0, 0, 0, 0, 0, 0, 0, 0, 0, 0, 0, 0, 0, 0, 0, 0, 0, 0, 0, 0, 0, 0, 0, 0, 0, 0, 0, 0, 0, 0, 0, 0, 0, 0, 0, 0, 0, 0, 0, 0, 0, 0, 0, 0, 0, 0, 0, 0, 0, 0, 0, 0, 0, 0, 0, 0, 0, 0, 0, 0, 0, 0, 0, 0, 0, 0, 0, 0, 0, 0, 0, 0, 0, 0, 0, 0, 0, 0, 0, 0, 0, 0, 0, 0, 0, 0, 0, 0, 0, 0, 0, 0, 0, 0, 0, 0, 0, 0, 0, 0, 0, 0, 0, 0, 0, 0, 0, 0, 0, 0, 0, 0, 0, 0, 0, 0, 0, 0, 0, 0, 0, 0, 0, 0, 0, 0, 0, 0, 0, 0, 0, 0, 0, 0, 0, 0, 0, 0, 0, 0, 0, 0, 0, 0, 0, 0, 0, 0, 0, 0, 0, 0, 0, 0, 0, 0, 0, 0, 0, 0, 0, 0, 0, 0, 0, 0, 0, 0, 0, 0, 0, 0, 0, 0, 0, 0, 0, 0, 0, 0, 0, 0, 0, 0, 0, 0, 0, 0, 0, 0, 0, 0, 0, 0, 0, 0, 0, 0, 0, 0, 0, 0, 0, 0, 0, 0, 0, 0, 0, 0, 0, 0, 0, 0, 0, 0, 0, 0, 0, 0, 0, 0, 0, 0, 0, 0, 0, 0, 0, 0, 0, 0, 0, 0, 0, 0, 0, 0, 0, 0, 0, 0, 0, 0, 0, 0, 0, 0, 0, 0, 0, 0, 0, 0, 0, 0, 0, 0, 0, 0, 0, 0, 0, 0, 0, 0, 0, 0, 0, 0, 0, 0, 0, 0, 0, 0, 0, 0, 0, 0, 0, 0, 0, 0, 0, 0, 0, 0, 0, 0, 0, 0, 0, 0, 0, 0, 0, 0, 0, 0, 0, 0, 0, 0, 0, 0, 0, 0, 0, 0, 0, 0, 0, 0, 0, 0, 0, 0, 0, 0, 0, 0, 0, 0, 0, 0, 0, 0, 0, 0, 0, 0, 0, 0, 0, 0, 0, 0, 0, 0, 0, 0, 0, 0, 0, 0, 0, 0, 0, 0, 0, 0, 0, 0, 0, 0, 0, 0, 0, 0, 0, 0, 0, 0, 0, 0, 0, 0, 0, 0, 0, 0, 0, 0, 0, 0, 0, 0, 0, 0, 0, 0, 0, 0, 0, 0, 0, 0, 0, 0, 0, 0, 0, 0, 0, 0, 0, 0, 0, 0, 0, 0, 0, 0, 0, 0, 0, 0, 0, 0, 0, 0, 0, 0, 0, 0, 0, 0, 0, 0, 0, 0, 0, 0, 0, 2, 0, 1, 0], type: <class 'list'>, valid types: <class 'bytes'>, <class 'bytearray'>, file-like object"
     ]
    }
   ],
   "source": [
    "response = runtime.invoke_endpoint(EndpointName = xgb_predictor.endpoint, # The name of the endpoint we created\n",
    "                                       ContentType = 'text/csv',                     # The data format that is expected\n",
    "                                       Body = test_bow)"
   ]
  },
  {
   "cell_type": "markdown",
   "metadata": {},
   "source": [
    "So why did we get an error?\n",
    "\n",
    "Because we tried to send the endpoint a list of integers but it expected us to send data of type `text/csv`. So, we need to convert it."
   ]
  },
  {
   "cell_type": "code",
   "execution_count": 49,
   "metadata": {},
   "outputs": [],
   "source": [
    "response = runtime.invoke_endpoint(EndpointName = xgb_predictor.endpoint, # The name of the endpoint we created\n",
    "                                       ContentType = 'text/csv',                     # The data format that is expected\n",
    "                                       Body = ','.join([str(val) for val in test_bow]).encode('utf-8'))"
   ]
  },
  {
   "cell_type": "code",
   "execution_count": 50,
   "metadata": {},
   "outputs": [
    {
     "name": "stdout",
     "output_type": "stream",
     "text": [
      "{'ResponseMetadata': {'RequestId': '881e660f-ac78-43f2-9218-2c2f7907ff85', 'HTTPStatusCode': 200, 'HTTPHeaders': {'x-amzn-requestid': '881e660f-ac78-43f2-9218-2c2f7907ff85', 'x-amzn-invoked-production-variant': 'AllTraffic', 'date': 'Sat, 20 Apr 2019 12:08:29 GMT', 'content-type': 'text/csv; charset=utf-8', 'content-length': '14'}, 'RetryAttempts': 0}, 'ContentType': 'text/csv; charset=utf-8', 'InvokedProductionVariant': 'AllTraffic', 'Body': <botocore.response.StreamingBody object at 0x7f606184c320>}\n"
     ]
    }
   ],
   "source": [
    "print(response)"
   ]
  },
  {
   "cell_type": "markdown",
   "metadata": {},
   "source": [
    "As we can see, the response from our model is a somewhat complicated looking dict that contains a bunch of information. The bit that we are most interested in is `'Body'` object which is a streaming object that we need to `read` in order to make use of."
   ]
  },
  {
   "cell_type": "code",
   "execution_count": 51,
   "metadata": {},
   "outputs": [
    {
     "name": "stdout",
     "output_type": "stream",
     "text": [
      "0.529997587204\n"
     ]
    }
   ],
   "source": [
    "response = response['Body'].read().decode('utf-8')\n",
    "print(response)"
   ]
  },
  {
   "cell_type": "markdown",
   "metadata": {},
   "source": [
    "Now that we know how to process the incoming user data we can start setting up the infrastructure to make our simple web app work. To do this we will make use of two different services. Amazon's Lambda and API Gateway services.\n",
    "\n",
    "Lambda is a service which allows someone to write some relatively simple code and have it executed whenever a chosen trigger occurs. For example, you may want to update a database whenever new data is uploaded to a folder stored on S3.\n",
    "\n",
    "API Gateway is a service that allows you to create HTTP endpoints (url addresses) which are connected to other AWS services. One of the benefits to this is that you get to decide what credentials, if any, are required to access these endpoints.\n",
    "\n",
    "In our case we are going to set up an HTTP endpoint through API Gateway which is open to the public. Then, whenever anyone sends data to our public endpoint we will trigger a Lambda function which will send the input (in our case a review) to our model's endpoint and then return the result."
   ]
  },
  {
   "cell_type": "markdown",
   "metadata": {},
   "source": [
    "### Setting up a Lambda function\n",
    "\n",
    "The first thing we are going to do is set up a Lambda function. This Lambda function will be executed whenever our public API has data sent to it. When it is executed it will receive the data, perform any sort of processing that is required, send the data (the review) to the SageMaker endpoint we've created and then return the result.\n",
    "\n",
    "#### Part A: Create an IAM Role for the Lambda function\n",
    "\n",
    "Since we want the Lambda function to call a SageMaker endpoint, we need to make sure that it has permission to do so. To do this, we will construct a role that we can later give the Lambda function.\n",
    "\n",
    "Using the AWS Console, navigate to the **IAM** page and click on **Roles**. Then, click on **Create role**. Make sure that the **AWS service** is the type of trusted entity selected and choose **Lambda** as the service that will use this role, then click **Next: Permissions**.\n",
    "\n",
    "In the search box type `sagemaker` and select the check box next to the **AmazonSageMakerFullAccess** policy. Then, click on **Next: Review**.\n",
    "\n",
    "Lastly, give this role a name. Make sure you use a name that you will remember later on, for example `LambdaSageMakerRole`. Then, click on **Create role**."
   ]
  },
  {
   "cell_type": "markdown",
   "metadata": {},
   "source": [
    "#### Part B: Create a Lambda function\n",
    "\n",
    "Now it is time to actually create the Lambda function. Remember from earlier that in order to process the user provided input and send it to our endpoint we need to gather two pieces of information:\n",
    "\n",
    " - The name of the endpoint, and\n",
    " - the vocabulary object.\n",
    "\n",
    "We will copy these pieces of information to our Lambda function after we create it.\n",
    "\n",
    "To start, using the AWS Console, navigate to the AWS Lambda page and click on **Create a function**. When you get to the next page, make sure that **Author from scratch** is selected. Now, name your Lambda function, using a name that you will remember later on, for example `sentiment_analysis_xgboost_func`. Make sure that the **Python 3.6** runtime is selected and then choose the role that you created in the previous part. Then, click on **Create Function**.\n",
    "\n",
    "On the next page you will see some information about the Lambda function you've just created. If you scroll down you should see an editor in which you can write the code that will be executed when your Lambda function is triggered. Collecting the code we wrote above to process a single review and adding it to the provided example `lambda_handler` we arrive at the following.\n",
    "\n",
    "```python\n",
    "# We need to use the low-level library to interact with SageMaker since the SageMaker API\n",
    "# is not available natively through Lambda.\n",
    "import boto3\n",
    "\n",
    "# And we need the regular expression library to do some of the data processing\n",
    "import re\n",
    "\n",
    "REPLACE_NO_SPACE = re.compile(\"(\\.)|(\\;)|(\\:)|(\\!)|(\\')|(\\?)|(\\,)|(\\\")|(\\()|(\\))|(\\[)|(\\])\")\n",
    "REPLACE_WITH_SPACE = re.compile(\"(<br\\s*/><br\\s*/>)|(\\-)|(\\/)\")\n",
    "\n",
    "def review_to_words(review):\n",
    "    words = REPLACE_NO_SPACE.sub(\"\", review.lower())\n",
    "    words = REPLACE_WITH_SPACE.sub(\" \", words)\n",
    "    return words\n",
    "    \n",
    "def bow_encoding(words, vocabulary):\n",
    "    bow = [0] * len(vocabulary) # Start by setting the count for each word in the vocabulary to zero.\n",
    "    for word in words.split():  # For each word in the string\n",
    "        if word in vocabulary:  # If the word is one that occurs in the vocabulary, increase its count.\n",
    "            bow[vocabulary[word]] += 1\n",
    "    return bow\n",
    "\n",
    "\n",
    "def lambda_handler(event, context):\n",
    "    \n",
    "    vocab = \"*** ACTUAL VOCABULARY GOES HERE ***\"\n",
    "    \n",
    "    words = review_to_words(event['body'])\n",
    "    bow = bow_encoding(words, vocab)\n",
    "\n",
    "    # The SageMaker runtime is what allows us to invoke the endpoint that we've created.\n",
    "    runtime = boto3.Session().client('sagemaker-runtime')\n",
    "\n",
    "    # Now we use the SageMaker runtime to invoke our endpoint, sending the review we were given\n",
    "    response = runtime.invoke_endpoint(EndpointName = '***ENDPOINT NAME HERE***',# The name of the endpoint we created\n",
    "                                       ContentType = 'text/csv',                 # The data format that is expected\n",
    "                                       Body = ','.join([str(val) for val in bow]).encode('utf-8')) # The actual review\n",
    "\n",
    "    # The response is an HTTP response whose body contains the result of our inference\n",
    "    result = response['Body'].read().decode('utf-8')\n",
    "    \n",
    "    # Round the result so that our web app only gets '1' or '0' as a response.\n",
    "    result = round(float(result))\n",
    "\n",
    "    return {\n",
    "        'statusCode' : 200,\n",
    "        'headers' : { 'Content-Type' : 'text/plain', 'Access-Control-Allow-Origin' : '*' },\n",
    "        'body' : str(result)\n",
    "    }\n",
    "```"
   ]
  },
  {
   "cell_type": "markdown",
   "metadata": {},
   "source": [
    "Once you have copy and pasted the code above into the Lambda code editor, replace the `**ENDPOINT NAME HERE**` portion with the name of the endpoint that we deployed earlier. You can determine the name of the endpoint using the code cell below."
   ]
  },
  {
   "cell_type": "code",
   "execution_count": 52,
   "metadata": {},
   "outputs": [
    {
     "data": {
      "text/plain": [
       "'xgboost-2019-04-20-11-38-00-344'"
      ]
     },
     "execution_count": 52,
     "metadata": {},
     "output_type": "execute_result"
    }
   ],
   "source": [
    "xgb_predictor.endpoint"
   ]
  },
  {
   "cell_type": "markdown",
   "metadata": {},
   "source": [
    "In addition, you will need to copy the vocabulary dict to the appropriate place in the code at the beginning of the `lambda_handler` method. The cell below prints out the vocabulary dict in a way that is easy to copy and paste."
   ]
  },
  {
   "cell_type": "code",
   "execution_count": 54,
   "metadata": {},
   "outputs": [
    {
     "name": "stdout",
     "output_type": "stream",
     "text": [
      "{'spoiler': 4123, 'alert': 178, 'wish': 4904, 'could': 1007, 'discuss': 1283, 'this': 4457, 'without': 4913, 'revealing': 3672, 'specific': 4099, 'plot': 3309, 'points': 3319, 'but': 636, 'cant': 671, 'sorry': 4076, 'was': 4805, 'looking': 2648, 'for': 1784, 'an': 223, 'imdb': 2240, 'review': 3676, 'of': 3083, 'the': 4426, 'george': 1893, 'scott': 3824, 'movie': 2926, 'when': 4862, 'across': 96, 'summary': 4290, 'and': 226, 'reviews': 3679, 'version': 4720, 'it': 2366, 'had': 2003, 'so': 4046, 'many': 2732, 'positive': 3346, 'that': 4424, 'decided': 1149, 'to': 4507, 'order': 3126, 'even': 1533, 'though': 4461, 'rushed': 3760, 'thought': 4462, 'tortured': 4530, 'nature': 2975, 'physical': 3262, 'appearance': 274, 'books': 536, 'rochester': 3719, 'while': 4868, 'at': 331, 'dvds': 1392, 'cover': 1022, 'thinking': 4453, 'isnt': 2362, 'timothy': 4499, 'dalton': 1098, 'too': 4522, 'good': 1937, 'role': 3726, 'latter': 2528, 'concern': 931, 'by': 642, 'fact': 1621, 're': 3535, 'read': 3543, 'book': 535, 'dvd': 1391, 'on': 3105, 'said': 3774, 'minute': 2858, 'started': 4157, 'watching': 4815, 'first': 1736, 'hear': 2061, 'dialog': 1232, 'spoken': 4126, 'as': 311, 'written': 4972, 'with': 4911, 'little': 2624, 'or': 3124, 'no': 3020, 'attempts': 343, 'threw': 4470, 'themselves': 4435, 'into': 2332, 'thoroughly': 4459, 'actually': 109, 'enjoyed': 1486, 'audience': 352, 'follow': 1772, 'speech': 4102, 'have': 2052, 'much': 2934, 'up': 4683, 'screen': 3829, 'extra': 1606, 'bonus': 534, 'know': 2489, 'someone': 4064, 'who': 4871, 'wont': 4932, 'watch': 4811, 'any': 256, 'versions': 4721, 'jane': 2380, 'eyre': 1614, 'because': 432, 'wants': 4791, 'see': 3855, 'film': 1716, 'about': 67, 'man': 2721, 'keeps': 2451, 'poor': 3328, 'crazy': 1035, 'woman': 4921, 'in': 2257, 'frankly': 1823, 'if': 2222, 'hadnt': 2004, 'hour': 2176, 'half': 2007, 'two': 4620, 'they': 4442, 'would': 4957, 'think': 4452, 'thats': 4425, 'pretty': 3384, 'all': 187, 'story': 4207, 'secret': 3849, 'its': 2370, 'affect': 136, 'everyone': 1542, 'around': 297, 'him': 2110, 'luckily': 2682, 'is': 2360, 'whole': 4873, 'life': 2592, 'some': 4061, 'people': 3221, 'casting': 711, 'argue': 290, 'against': 147, 'point': 3316, 'he': 2056, 'moment': 2886, 'believe': 454, 'me': 2778, 'performance': 3228, 'mark': 2739, 'quiet': 3492, 'one': 3107, 'adult': 125, 'passion': 3205, 'occurs': 3078, 'during': 1387, 'her': 2085, 'private': 3404, 'struggles': 4235, 'reviewers': 3678, 'say': 3799, 'short': 3946, 'enough': 1491, 'goes': 1930, 'ad': 110, 'how': 2181, 'small': 4033, 'plain': 3286, 'ms': 2931, 'shouldnt': 3952, 'be': 418, 'tall': 4362, 'filmmakers': 1720, 'down': 1335, 'looks': 2649, 'make': 2713, 'lack': 2502, 'beauty': 430, 'credible': 1048, 'she': 3923, 'can': 665, 'help': 2079, 'there': 4438, 'chemistry': 782, 'between': 475, 'leads': 2548, 'what': 4858, 'scene': 3809, 'finally': 1724, 'comes': 891, 'out': 3141, 'room': 3735, 'after': 143, 'wedding': 4836, 'fairly': 1631, 'sadness': 3770, 'regret': 3591, 'just': 2437, 'example': 1553, 'mind': 2849, 'do': 1302, 'agree': 155, 'other': 3135, 'missed': 2867, 'more': 2904, 'scenes': 3811, 'helen': 2075, 'burns': 628, 'oddly': 3081, 'you': 4986, 'not': 3040, 'hate': 2046, 'mad': 2696, 'waited': 4771, 'rest': 3657, 'explains': 1589, 'were': 4848, 'go': 1924, 'still': 4188, 'love': 2669, 'care': 684, 'powerful': 3360, 'been': 438, 'included': 2262, 'mistake': 2871, 'bring': 585, 'part': 3193, 'where': 4864, 'own': 3158, 'might': 2835, 'done': 1322, 'sake': 3775, 'found': 1811, 'wanted': 4789, 'humor': 2192, 'will': 4886, 'cool': 989, 'hell': 2077, 'become': 433, 'again': 146, 'may': 2775, 'like': 2599, 'rare': 3523, 'library': 2589, 'saw': 3798, 'actor': 103, 'doing': 1312, 'crying': 1074, 'sets': 3899, 'anyone': 259, 'has': 2043, 'ever': 1538, 'caught': 722, 'episode': 1507, '1960s': 15, 'show': 3953, 'dark': 1115, 'shadows': 3913, 'knows': 2493, 'expect': 1575, 'very': 4723, 'sometimes': 4067, 'others': 3136, 'commented': 900, 'job': 2405, 'sports': 4130, 'end': 1468, 'bad': 382, 'conclusion': 936, 'suspense': 4330, 'off': 3084, 'ending': 1471, 'my': 2951, 'copy': 994, 'having': 2054, 'credits': 1050, 'beginning': 443, '25': 40, '30': 42, 'episodes': 1508, 'gets': 1900, 'bit': 488, 'am': 204, 'glad': 1916, 'oh': 3096, 'long': 2644, 'take': 4349, 'dog': 1310, 'watched': 4813, 'thing': 4450, 'guess': 1989, 'going': 1931, 'get': 1899, 'better': 472, 'horribly': 2164, 'disjointed': 1287, 'pathetic': 3210, 'acting': 99, 'totally': 4532, 'events': 1536, 'mom': 2885, 'hanging': 2023, 'herself': 2092, 'time': 4495, 'takes': 4351, 'walk': 4775, 'back': 378, '24': 39, 'anything': 260, 'body': 527, 'possibly': 3351, 'used': 4693, 'girl': 1909, 'played': 3297, 'daughter': 1121, 'last': 2521, 'family': 1645, 'best': 469, 'couple': 1016, 'close': 853, 'second': 3846, 'basic': 406, 'storyline': 4208, 'potential': 3355, 'script': 3834, 'director': 1264, 'seriously': 3892, 'creepy': 1052, 'flick': 1754, 'sadly': 3769, 'scared': 3805, 'open': 3112, 'bill': 481, 'every': 1539, 'month': 2896, 'warning': 4800, 'minor': 2857, 'spoilers': 4124, 'ran': 3513, 'through': 4477, 'from': 1840, 'knowing': 2490, 'certainly': 738, 'held': 2074, 'attention': 345, 'didnt': 1242, 'until': 4680, 'based': 404, 'true': 4596, 'guy': 2000, 'dirty': 1268, 'came': 656, 'nice': 3008, 'got': 1944, 'his': 2118, 'head': 2057, 'twisted': 4618, 'question': 3487, 'portrayal': 3341, 'murder': 2939, 'husband': 2204, 'wife': 4884, 'entirely': 1503, 'did': 1241, 'sympathy': 4343, 'set': 3898, 'taken': 4350, 'advantage': 129, 'made': 2697, 'clear': 839, 'main': 2707, 'complaint': 920, 'here': 2086, 'biggest': 480, 'skip': 4016, 'dont': 1324, 'want': 4788, 'learn': 2550, 'few': 1700, 'minutes': 2859, 'before': 440, 'ended': 1470, 'seemed': 3862, 'way': 4820, 'truth': 4599, 'discovered': 1280, 'operation': 3117, 'police': 3322, 'convinced': 984, 'along': 195, 'us': 4690, 'explanation': 1590, 'handled': 2019, 'dramatic': 1348, 'purposes': 3475, 'crucial': 1068, 'which': 4867, 'otherwise': 3137, 'wouldnt': 4958, 'we': 4823, 'already': 197, 'known': 2492, 'brad': 560, 'give': 1912, '10': 0, 'now': 3054, 'im': 2232, 'interested': 2324, 'find': 1726, 'facts': 1624, 'real': 3547, 'case': 707, '1996': 26, 'seem': 3861, 'recent': 3566, 'ps': 3453, 'lovely': 2671, 'seen': 3865, 'act': 97, 'always': 203, 'plus': 3311, 'line': 2610, 'work': 4940, 'lol': 2640, 'myself': 2953, 'are': 285, 'either': 1438, 'writers': 4969, 'directors': 1266, 'lots': 2662, 'producers': 3416, 'rate': 3526, 'terrible': 4407, 'fun': 1848, 'rather': 3528, 'makes': 2716, 'your': 4991, 'teeth': 4393, 'wrong': 4973, 'zero': 4996, 'most': 2909, 'probably': 3407, 'errors': 1516, 'movies': 2927, 'etc': 1527, 'them': 4432, 'aspect': 321, 'only': 3110, 'emily': 1456, 'brilliantly': 584, 'hope': 2155, 'becomes': 434, 'big': 478, 'least': 2554, 'worth': 4953, 'something': 4066, 'yourself': 4993, 'favor': 1670, 'proper': 3436, 'action': 100, 'total': 4531, 'waste': 4808, 'album': 175, 'songs': 4072, 'old': 3100, 'thinks': 4454, 'theyre': 4445, 'new': 3003, 'combination': 883, 'pace': 3161, 'mood': 2898, 'films': 1721, 'apart': 264, 'opening': 3114, 'moments': 2887, 'why': 4878, 'talent': 4354, 'widow': 4883, 'plays': 3301, 'street': 4216, 'right': 3696, 'living': 2629, 'scottish': 3825, 'castle': 712, 'ian': 2209, 'loved': 2670, 'members': 2801, 'world': 4946, 'war': 4792, 'ii': 2226, 'less': 2575, 'band': 391, 'wait': 4770, 'theres': 4440, 'add': 115, 'leslie': 2574, 'lead': 2545, 'blonde': 511, 'england': 1482, 'since': 3990, 'well': 4843, 'ok': 3098, 'really': 3556, 'winner': 4897, 'elizabeth': 1445, 'spends': 4107, 'trying': 4601, 'play': 3296, 'school': 3813, 'dance': 1103, 'roll': 3728, 'eyes': 1613, 'imagine': 2238, 'difficult': 1249, 'bunch': 623, 'women': 4923, 'step': 4175, 'front': 1841, 'generation': 1883, 'following': 1774, 'called': 652, 'wound': 4960, 'age': 148, 'actresses': 106, 'careers': 687, 'over': 3148, 'bands': 392, 'greatest': 1966, 'hits': 2125, 'music': 2946, 'than': 4420, 'almost': 193, 'chance': 747, 'great': 1964, 'come': 886, 'else': 1448, 'bbc': 417, 'ill': 2228, 'times': 4497, 'enjoy': 1484, 'each': 1395, 'money': 2888, 'decent': 1147, 'cast': 710, 'fool': 1779, 'teen': 4388, 'thriller': 4472, 'whilst': 4869, 'hardly': 2036, 'break': 569, 'entertain': 1497, '80': 58, 'laugh': 2529, 'cry': 1073, 'challenge': 743, 'leave': 2555, 'wondering': 4930, 'earth': 1403, 'finished': 1733, 'production': 3419, 'yes': 4982, 'amazingly': 210, 'ive': 2372, 'attempt': 340, 'failed': 1626, 'miserably': 2864, 'lets': 2580, 'special': 4097, 'effects': 1431, 'horrible': 2163, 'non': 3027, 'original': 3129, 'video': 4733, 'animation': 242, 'bought': 552, 'favourite': 1673, 'anime': 243, 'titles': 4506, 'sci': 3815, 'fi': 1701, 'comedy': 890, 'unlikely': 4671, 'background': 380, 'near': 2979, 'future': 1856, 'society': 4050, 'heroes': 2089, 'beat': 423, 'crime': 1055, 'bigger': 479, 'guns': 1998, 'philosophy': 3254, 'name': 2960, 'suggests': 4282, 'city': 825, 'instead': 2307, 'cars': 702, 'far': 1653, 'dangerous': 1110, 'criminals': 1058, 'catch': 714, 'these': 4441, 'cops': 993, 'giving': 1915, 'meaning': 2780, 'loose': 2650, 'equally': 1510, 'amusing': 221, 'their': 4431, 'terrorist': 4413, 'twin': 4615, 'cat': 713, 'sisters': 4002, 'whose': 4877, 'existence': 1571, 'seems': 3864, 'involve': 2345, 'hard': 2033, 'state': 4160, 'art': 304, 'look': 2646, 'characters': 760, 'fit': 1740, 'nicely': 3009, 'comedic': 888, 'atmosphere': 333, 'english': 1483, 'dubbing': 1380, 'soundtrack': 4085, 'also': 199, 'wonder': 4926, 'anyway': 261, 'japanese': 2382, 'filled': 1715, 'completely': 922, 'top': 4525, 'situations': 4009, 'making': 2718, 'sure': 4308, 'never': 3001, 'itself': 2371, 'highly': 2105, 'recommended': 3572, 'brosnan': 597, 'intelligent': 2314, 'james': 2378, 'bond': 532, 'type': 4621, 'does': 1308, 'hired': 2117, 'businessman': 634, 'works': 4945, 'riveting': 3708, 'edge': 1418, 'lines': 2612, 'davis': 1126, 'playing': 3300, 'gun': 1996, 'doesnt': 1309, 'appear': 273, 'often': 3095, 'men': 2805, 'kill': 2468, 'awesome': 371, 'moral': 2902, 'deserve': 1199, 'wide': 4880, 'chose': 804, 'festival': 1697, 'both': 547, 'leading': 2547, 'actors': 104, 'deliver': 1169, 'sensitive': 3879, 'match': 2762, 'personal': 3240, 'level': 2584, 'bringing': 586, 'skill': 4013, 'usually': 4700, 'interesting': 2325, 'york': 4985, 'brooklyn': 595, 'revolves': 3682, 'business': 633, 'cinematography': 820, 'ordinary': 3128, 'kudos': 2497, 'fine': 1729, 'choice': 797, 'gem': 1877, 'recommend': 3571, 'edward': 1426, 'stranger': 4213, 'supposed': 4306, 'noir': 3023, 'mixed': 2877, 'poorly': 3329, 'acted': 98, 'low': 2676, 'budget': 610, 'uninspired': 4657, 'absurd': 73, 'stiff': 4187, 'amateurish': 207, 'john': 2409, 'miles': 2843, 'thin': 4449, 'industry': 2280, 'throughout': 4478, 'acts': 107, 'same': 3778, 'government': 1948, 'driver': 1366, 'safety': 3772, 'shows': 3960, 'father': 1666, 'view': 4736, 'viewer': 4738, 'light': 2595, 'halfway': 2008, 'besides': 468, 'excellent': 1555, 'location': 2635, 'shots': 3950, 'william': 4887, 'treated': 4573, 'unless': 4669, 'settings': 3901, 'camera': 659, 'angles': 237, 'suggest': 4280, 'practically': 3362, 'keep': 2449, 'fast': 1661, 'sweet': 4336, 'five': 1743, 'girls': 1911, 'home': 2142, 'football': 1783, 'game': 1864, 'decide': 1148, 'cut': 1089, 'forest': 1791, 'ridden': 3691, 'road': 3709, 'course': 1019, 'nothing': 3047, 'things': 4451, 'happen': 2026, 'arrive': 300, 'alright': 198, 'soon': 4074, 'chick': 786, 'severe': 3906, 'mental': 2808, 'issues': 2365, 'ensues': 1493, '90': 60, 'sheer': 3925, 'boredom': 542, 'screaming': 3827, 'voices': 4763, 'gave': 1875, 'lot': 2661, 'repeat': 3630, 'nonsensical': 3031, 'hysterical': 2208, 'worst': 4952, 'cheap': 774, 'horror': 2168, 'flicks': 1755, 'final': 1722, 'richard': 3686, 'retired': 3664, 'die': 1243, 'year': 4978, 'competent': 917, 'machine': 2693, 'carried': 698, 'perfectly': 3226, 'missing': 2869, 'stories': 4205, 'series': 3890, 'brilliant': 583, 'atmospheric': 334, 'wasnt': 4807, 'himself': 2111, 'hung': 2197, 'together': 4511, 'young': 4989, 'urge': 4689, 'marry': 2745, 'rain': 3506, 'bride': 577, 'then': 4436, 'married': 2744, 'apparently': 270, 'put': 3480, 'dick': 1239, 'hes': 2093, 'suddenly': 4273, 'blind': 506, 'whos': 4876, 'michael': 2829, 'finest': 1730, 'next': 3007, 'meet': 2793, 'frankenstein': 1822, 'lane': 2515, 'wonderful': 4928, 'must': 2950, 'wet': 4855, 'sea': 3838, 'voice': 4761, 'happened': 2027, 'usual': 4699, 'fans': 1650, 'genre': 1888, 'radio': 3504, 'nearly': 2981, 'available': 361, 'upon': 4684, 'heard': 2062, 'listening': 2620, 'indeed': 2271, 'negative': 2991, 'souls': 4080, 'tied': 4489, 'uncomfortable': 4637, 'forced': 1787, 'okay': 3099, 'maybe': 2776, 'hands': 2020, 'fate': 1665, 'moronic': 2907, 'duo': 1386, 'relief': 3605, 'focused': 1767, 'adventures': 131, 'fair': 1630, 'international': 2326, 'destroyed': 1214, 'adding': 117, 'editing': 1421, 'honestly': 2147, 'begin': 442, 'couldnt': 1008, 'hurt': 2202, 'needs': 2990, 'bottom': 551, '100': 1, 'list': 2617, 'enemy': 1477, 'kind': 2476, 'campy': 664, 'liked': 2600, 'despite': 1211, 'star': 4150, 'rating': 3529, 'soul': 4079, 'provoking': 3452, 'century': 736, 'such': 4268, 'grandfather': 1954, 'today': 4508, 'side': 3965, 'lady': 2507, 'baby': 376, 'everything': 1544, 'served': 3894, 'clean': 838, 'demand': 1174, 'years': 4979, 'ago': 154, 'somewhere': 4069, 'bear': 420, 'those': 4460, 'lose': 2654, 'praise': 3364, 'americans': 214, 'accompanied': 86, 'tough': 4537, 'suffers': 4278, 'werewolf': 4850, 'legend': 2564, 'accused': 91, 'killed': 2469, 'being': 448, 'due': 1382, 'past': 3207, 'treatment': 4574, 'travels': 4569, 'countryside': 1015, 'killing': 2472, 'meets': 2795, 'falling': 1639, 'appears': 278, 'turn': 4605, 'raped': 3522, 'lover': 2672, 'thugs': 4484, 'latest': 2526, 'returns': 3668, 'violent': 4748, 'ways': 4822, 'seeks': 3860, 'revenge': 3675, 'according': 88, 'synopsis': 4344, 'la': 2500, 'begins': 444, 'full': 1846, 'believes': 456, 'catches': 715, 'fire': 1734, 'legs': 2566, 'flashback': 1746, 'reveals': 3673, 'creature': 1045, 'unfortunately': 4654, 'merely': 2815, 'strong': 4229, 'character': 758, 'female': 1693, 'sexual': 3908, 'characterization': 759, '1970s': 17, 'skin': 4015, 'blood': 512, 'nude': 3058, 'features': 1680, 'amount': 219, 'gratuitous': 1961, 'gore': 1941, 'howard': 2182, 'supporting': 4304, 'players': 3299, 'goldberg': 1933, 'cop': 991, 'talking': 4360, 'dinosaur': 1255, 'involving': 2349, 'start': 4156, 'another': 250, 'ice': 2210, 'straight': 4210, 'tape': 4365, 'embarrassing': 1454, 'ridiculous': 3693, 'high': 2100, 'concept': 930, 'search': 3841, 'writer': 4968, 'jonathan': 2417, 'results': 3662, 'mere': 2814, 'presence': 3373, 'laughter': 2535, 'matter': 2769, 'shes': 3930, 'unfunny': 4655, 'stars': 4155, 'mike': 2838, 'myers': 2952, 'previous': 3387, 'saturday': 3792, 'night': 3013, 'live': 2625, 'expectations': 1576, '60s': 54, 'spoof': 4127, 'became': 431, 'exercise': 1568, 'possible': 3350, 'ten': 4399, 'day': 1129, 'whether': 4866, 'twelve': 4611, 'boy': 557, 'funny': 1852, 'dialogue': 1234, 'painful': 3171, 'including': 2264, 'fat': 1663, 'matters': 2770, 'worse': 4951, 'mildly': 2840, 'title': 4504, 'design': 1202, 'personally': 3243, 'avoid': 363, 'plague': 3285, 'several': 3905, 'friends': 1837, 'mine': 2853, 'cinematic': 818, 'candy': 668, 'whereas': 4865, 'placed': 3283, 'viewers': 4739, 'impressed': 2251, 'battle': 414, 'central': 735, 'consider': 949, 'quality': 3484, 'serve': 3893, 'country': 1014, 'german': 1896, 'command': 897, 'efforts': 1433, 'seat': 3845, 'alone': 194, 'perhaps': 3235, 'yet': 4984, 'emotional': 1459, 'pain': 3170, 'presented': 3376, 'burton': 630, 'spy': 4135, 'cold': 872, 'deeper': 1155, 'realize': 3552, 'viewing': 4740, 'release': 3602, 'experienced': 1581, 'exceptional': 1558, 'motion': 2913, 'picture': 3269, 'brooks': 596, 'hunt': 2198, 'stewart': 4184, 'stand': 4143, 'mentioned': 2811, 'poster': 3353, 'later': 2525, 'run': 3755, 'understandable': 4644, 'westerns': 4854, '50s': 52, 'ahead': 159, 'attitude': 346, 'environment': 1505, 'sequel': 3885, 'anthony': 253, 'dragged': 1343, 'redemption': 3578, 'kicking': 2462, 'legendary': 2565, 'hunter': 2199, 'costs': 1004, 'poetic': 3313, 'justice': 2438, 'darkness': 1117, 'robert': 3713, 'racist': 3503, 'guilty': 1995, 'raised': 3508, 'indians': 2275, 'fully': 1847, 'aware': 368, 'damage': 1099, 'heads': 2059, 'gradually': 1952, 'self': 3869, 'taylor': 4372, 'fall': 1637, 'sole': 4055, 'survivor': 4324, 'kills': 2474, 'white': 4870, 'hide': 2097, 'priceless': 3390, 'hunters': 2200, 'different': 1248, 'reasons': 3560, 'showdown': 3955, 'inevitable': 2282, 'outcome': 3142, 'ironic': 2355, 'turning': 4608, 'epic': 1506, 'roles': 3727, 'mgm': 2828, 'developed': 1223, 'hair': 2005, 'color': 877, 'convince': 983, 'shallow': 3917, 'wear': 4830, 'wears': 4832, 'accent': 78, 'convincing': 985, 'hero': 2088, 'jimmy': 2403, 'hold': 2129, 'actions': 101, 'beliefs': 452, 'getting': 1901, 'lloyd': 2630, 'eye': 1611, 'ear': 1397, 'mention': 2810, 'stanley': 4148, 'kubrick': 2496, 'borrowed': 545, 'shining': 3933, 'historical': 2119, 'entertaining': 1499, 'drama': 1346, 'selling': 3873, 'french': 1830, 'extras': 1608, 'free': 1827, 'transfer': 4559, 'comics': 895, 'although': 201, 'problems': 3409, 'understanding': 4645, 'visual': 4757, 'style': 4249, 'unique': 4662, 'dust': 1388, 'knew': 2486, 'surprisingly': 4316, 'understood': 4647, 'extremely': 1610, 'decisions': 1152, 'mean': 2779, 'cg': 739, 'human': 2188, 'ups': 4686, 'gods': 1928, 'successfully': 4267, 'comic': 893, 'cult': 1077, 'shame': 3918, '18': 10, 'task': 4368, 'tell': 4395, 'paris': 3189, 'naturally': 2974, 'turned': 4606, 'charming': 768, 'boring': 543, 'vision': 4754, 'heres': 2087, 'rank': 3518, 'segments': 3868, 'change': 749, 'latin': 2527, 'directed': 1259, 'segment': 3867, 'featuring': 1681, 'stunning': 4244, 'ben': 463, 'witty': 4917, 'delightful': 1168, 'tour': 4538, 'cute': 1090, 'visually': 4758, 'thanks': 4423, 'parents': 3188, 'ethan': 1528, 'brothers': 599, 'steve': 4181, 'hilarious': 2106, 'children': 792, 'nick': 3012, 'place': 3282, 'oliver': 3102, 'touching': 4536, 'alexander': 180, 'present': 3374, 'underrated': 4642, 'actress': 105, 'mother': 2911, 'million': 2847, 'dollar': 1314, 'lonely': 2643, 'middle': 2833, 'aged': 149, 'american': 213, 'vacation': 4704, 'tom': 4514, 'wes': 4851, 'craven': 1034, 'curious': 1083, 'cameo': 657, 'walter': 4784, 'thomas': 4458, 'simple': 3983, 'moving': 2928, 'talented': 4355, 'olivier': 3103, 'sad': 3767, 'fantastic': 1651, 'maggie': 2702, '11': 2, 'le': 2544, 'van': 4713, 'faithful': 1634, '12': 3, 'de': 1131, 'wood': 4933, '13': 4, '14': 6, '15': 7, 'fabulous': 1615, 'richardson': 3688, '16': 8, 'bob': 524, '17': 9, 'christopher': 811, 'mostly': 2910, 'fortune': 1806, 'single': 3996, 'average': 362, 'slightly': 4029, 'masterpieces': 2760, 'ex': 1549, 'comedies': 889, 'understand': 4643, 'opportunity': 3121, 'difference': 1246, 'lively': 2627, 'spectacular': 4101, 'stunts': 4246, 'actual': 108, 'villain': 4744, 'fooled': 1780, 'broad': 590, 'hollywood': 2137, 'era': 1513, 'able': 66, 'forgive': 1795, 'british': 589, 'released': 3603, 'national': 2970, 'karloff': 2445, 'dr': 1340, 'research': 3644, 'france': 1816, 'medical': 2790, 'practice': 3363, 'rid': 3690, 'older': 3101, 'agrees': 157, 'doctor': 1304, 'town': 4541, 'local': 2634, 'kicks': 2463, 'however': 2183, 'son': 4070, 'marriage': 2743, 'arrives': 302, 'days': 1130, 'finds': 1728, 'changed': 750, 'sons': 4073, 'hand': 2015, 'meanwhile': 2785, 'nurse': 3063, 'asks': 319, 'suspects': 4328, 'analysis': 224, 'quite': 3495, 'escapes': 1519, 'manages': 2725, 'save': 3794, 'dies': 1245, 'possessed': 3347, 'devil': 1228, 'lived': 2626, 'walking': 4779, 'suspect': 4327, 'sinister': 3998, 'timing': 4498, 'badly': 383, 'manage': 2722, 'below': 462, 'vehicle': 4718, 'buy': 640, 'cinema': 816, 'vhs': 4725, 'audio': 354, 'write': 4967, 'quote': 3496, 'hitting': 2126, 'dialogs': 1233, 'guessing': 1991, 'predictable': 3367, 'talk': 4358, 'cartoons': 705, 'perfect': 3224, 'attempting': 342, 'suicide': 4283, 'promise': 3430, 'itll': 2369, 'push': 3477, 'effective': 1429, 'da': 1094, 'code': 869, 'wore': 4939, 'spread': 4133, 'swear': 4334, 'leaving': 2557, 'hall': 2009, 'power': 3359, 'deserves': 1201, 'spending': 4106, 'types': 4622, 'green': 1971, 'factor': 1622, 'somewhat': 4068, 'greater': 1965, 'offers': 3090, 'obviously': 3072, 'species': 4098, 'god': 1926, 'screenplay': 3831, 'stunt': 4245, 'mentally': 2809, 'kapoor': 2443, 'health': 2060, 'obvious': 3071, 'sub': 4252, 'heart': 2064, 'turns': 4609, 'opposite': 3123, 'cube': 1076, 'player': 3298, 'promises': 3432, 'lower': 2677, 'hours': 2177, 'youve': 4995, 'warned': 4798, 'anyways': 262, 'needed': 2988, 'car': 680, 'truly': 4597, 'awful': 372, 'jean': 2389, 'gone': 1935, 'wind': 4893, 'sue': 4274, 'produced': 3414, 'fell': 1690, 'asleep': 320, 'caliber': 649, 'create': 1036, 'spend': 4105, 'grow': 1982, 'fish': 1738, 'wholly': 4874, 'use': 4692, 'coffee': 870, 'table': 4346, 'till': 4493, 'throw': 4479, 'frustrated': 1842, 'sell': 3871, 'please': 3304, 'let': 2579, 'opinion': 3118, 'barbara': 397, 'performances': 3229, 'handful': 2017, 'entire': 1502, 'page': 3167, 'lucky': 2683, 'footage': 1782, 'lily': 2605, 'barely': 399, 'holding': 2130, 'working': 4944, 'illegal': 2229, 'link': 2613, 'friend': 1835, 'wonderfully': 4929, 'harris': 2038, 'african': 142, 'black': 493, '30s': 44, 'controversial': 978, 'subject': 4253, 'stuck': 4237, 'situation': 4008, 'beyond': 476, 'control': 977, 'told': 4513, 'ruin': 3750, 'superb': 4296, 'lesson': 2577, 'note': 3044, 'began': 441, 'manhattan': 2726, 'presentation': 3375, 'surprise': 4312, '1984': 23, 'jim': 2402, 'spin': 4112, 'sequence': 3887, 'absolute': 71, 'attracted': 349, 'mr': 2929, 'massive': 2756, 'drop': 1369, 'third': 4455, 'aliens': 184, 'evil': 1548, 'dead': 1132, 'lies': 2591, 'debut': 1143, 'lesser': 2576, 'satisfying': 3791, 'utterly': 4702, 'redeeming': 3577, 'genuinely': 1892, 'swedish': 4335, 'thank': 4421, 'spirit': 4113, 'problem': 3408, 'broadway': 592, 'musical': 2947, 'charles': 764, 'gold': 1932, 'doc': 1303, 'hopper': 2161, 'food': 1778, 'chain': 741, 'holiday': 2134, 'thief': 4448, 'fight': 1707, 'miss': 2866, 'lifetime': 2594, 'prison': 3401, 'saying': 3800, 'responsible': 3656, 'highlights': 2104, 'namely': 2962, 'sucks': 4271, 'number': 3060, 'drivel': 1364, 'letting': 2583, 'sounds': 4084, 'words': 4938, 'connection': 946, 'inspired': 2301, 'tears': 4380, 'joy': 2422, 'solo': 4058, 'tone': 4517, 'eight': 1436, 'steps': 4177, 'class': 833, 'rising': 3703, 'addition': 118, 'feels': 1687, 'sense': 3877, 'pointed': 3317, 'transition': 4561, 'feel': 1684, 'coherent': 871, 'mess': 2818, 'thrown': 4481, 'pieces': 3273, 'guest': 1992, 'element': 1442, 'call': 651, 'alike': 185, 'absence': 70, 'routine': 3743, 'especially': 1520, 'animals': 240, 'particular': 3194, 'none': 3028, 'individual': 2277, 'animal': 239, 'conversation': 980, 'designed': 1203, 'eating': 1413, 'instant': 2305, 'incident': 2260, 'pulled': 3462, 'window': 4894, 'fellow': 1691, 'remember': 3616, 'memorable': 2802, 'three': 4469, 'dimensional': 1253, 'popcorn': 3331, 'proved': 3446, 'given': 1913, 'timeless': 4496, 'outside': 3146, 'arrived': 301, 'regarding': 3589, 'development': 1225, 'frank': 1821, 'oz': 3160, 'lucas': 2680, 'childish': 791, 'wars': 4804, 'saga': 3773, 'involved': 2346, 'hook': 2152, 'spite': 4117, 'essential': 1522, 'improved': 2255, 'appearing': 277, 'capable': 672, 'previously': 3388, 'stands': 4147, 'answer': 251, 'under': 4639, 'influence': 2286, 'reason': 3557, 'unwatchable': 4682, 'picking': 3267, 'ones': 3108, 'aside': 315, 'lou': 2663, 'land': 2511, 'sit': 4003, 'tv': 4610, 'occasionally': 3075, 'value': 4709, 'drew': 1360, 'closed': 854, 'chair': 742, 'tune': 4602, 'needless': 2989, 'endearing': 1469, 'intention': 2319, 'occasional': 3074, 'amateur': 206, 'mistakes': 2873, 'faults': 1669, 'easy': 1410, 'peoples': 3222, 'comments': 901, 'brought': 600, 'extreme': 1609, 'laughing': 2533, 'incredibly': 2270, 'touched': 4534, 'unable': 4631, 'week': 4837, 'late': 2523, 'pleasure': 3306, 'seeing': 3857, 'response': 3654, 'luck': 2681, 'doubt': 1332, 'classic': 835, 'friendly': 1836, 'ghost': 1902, 'cartoon': 704, 'figured': 1712, 'early': 1400, 'pig': 3274, '1930s': 11, 'concerns': 934, 'fox': 1814, 'todd': 4510, 'whom': 4875, 'names': 2963, 'happy': 2032, 'away': 369, 'semi': 3874, 'seven': 3903, 'reads': 3545, 'happens': 2029, 'finale': 1723, 'felt': 1692, 'means': 2783, 'moved': 2922, 'comment': 898, 'heck': 2071, 'effect': 1428, 'havent': 2053, 'pleased': 3305, 'id': 2212, 'warner': 4799, 'peace': 3219, 'animated': 241, 'unoriginal': 4673, 'garbage': 1870, 'romantic': 3733, 'dinner': 1254, 'experience': 1580, 'ignore': 2224, 'stupid': 4247, 'remain': 3609, 'running': 3756, 'certain': 737, 'cheesy': 781, 'cgi': 740, 'lame': 2510, 'writing': 4971, 'unbelievable': 4634, 'behavior': 446, 'move': 2921, 'provide': 3448, 'notice': 3048, 'happening': 2028, 'term': 4405, 'should': 3951, 'likable': 2598, 'stayed': 4167, 'listen': 2619, 'anymore': 258, 'paul': 3214, 'freak': 1824, 'eva': 1531, 'consistently': 954, 'picked': 3266, 'solution': 4059, 'gay': 1876, 'hang': 2022, 'annoying': 249, 'lying': 2690, 'sister': 4001, 'lake': 2509, 'bell': 458, 'attractive': 351, 'appealing': 272, 'joan': 2404, 'hart': 2041, 'shines': 3932, 'amazing': 209, 'except': 1556, 'marvelous': 2750, 'vampire': 4711, 'werent': 4849, 'waters': 4817, 'jr': 2423, 'jones': 2418, 'president': 3378, 'stereotypes': 4179, 'singing': 3995, 'blue': 518, 'our': 3139, 'moon': 2900, 'childhood': 790, 'prepared': 3371, 'status': 4165, 'tap': 4364, 'dancing': 1107, 'person': 3238, 'decades': 1145, 'youre': 4992, 'willing': 4889, 'enjoyment': 1488, 'marks': 2742, 'fourth': 1813, 'song': 4071, 'performed': 3230, 'popular': 3333, 'appeared': 276, 'television': 4394, 'season': 3843, 'western': 4853, 'win': 4892, 'award': 366, 'starring': 4154, 'veteran': 4724, 'detective': 1220, 'matt': 2768, 'clark': 832, 'mary': 2751, 'adams': 112, 'miller': 2846, 'various': 4715, 'mid': 2832, 'realistic': 3550, 'mainly': 2708, 'charm': 767, 'ride': 3692, 'looked': 2647, 'horse': 2170, 'covered': 1023, 'hearing': 2063, 'critics': 1064, 'definitely': 1162, 'numerous': 3062, 'pointless': 3318, 'ridiculously': 3694, 'wall': 4781, 'reaction': 3541, 'crowd': 1067, 'nowhere': 3056, 'shock': 3938, 'harsh': 2040, 'precious': 3366, 'appreciate': 279, 'indie': 2276, 'worthy': 4956, 'dealing': 1136, 'potentially': 3356, 'anne': 246, 'uk': 4626, 'victoria': 4732, 'scripted': 3835, 'company': 910, 'workers': 4943, 'gives': 1914, 'adults': 126, 'inner': 2292, 'london': 2641, 'peter': 3247, 'visit': 4755, 'male': 2719, 'bobby': 525, 'pair': 3176, 'teacher': 4375, 'lives': 2628, 'nearby': 2980, 'relationship': 3597, 'initially': 2291, 'closer': 856, 'thus': 4486, 'decides': 1150, 'cannot': 670, 'stay': 4166, 'house': 2178, 'child': 789, 'visits': 4756, 'affair': 135, 'mainstream': 2709, 'portray': 3340, 'daniel': 1111, 'craig': 1030, 'encounter': 1466, 'respect': 3652, 'explicit': 1591, 'content': 966, 'differences': 1247, 'basis': 408, 'directly': 1263, 'strongly': 4231, 'portrayed': 3342, 'exploration': 1593, 'mummy': 2937, 'downhill': 1336, 'fashion': 1659, 'hit': 2122, 'ask': 316, 'drawn': 1351, 'member': 2800, 'group': 1980, 'contrast': 975, 'clearly': 840, 'starts': 4159, 'childrens': 793, 'return': 3665, 'leaves': 2556, 'jet': 2400, 'plane': 3288, 'strength': 4219, 'portrays': 3344, 'sympathetic': 4342, 'contemporary': 965, 'parent': 3187, 'relationships': 3598, 'surviving': 4323, 'feeling': 1685, 'need': 2987, 'lit': 2621, 'summer': 4291, 'overall': 3150, 'easily': 1406, 'piece': 3272, 'shirley': 3936, 'revealed': 3671, 'professional': 3421, 'surely': 4309, 'forever': 1792, 'julie': 2428, 'andrews': 229, 'torn': 4528, 'image': 2233, '2005': 35, 'et': 1526, 'related': 3594, 'post': 3352, 'dying': 1393, 'accurate': 90, 'text': 4419, 'statement': 4162, 'fifteen': 1706, 'passed': 3202, 'cringe': 1059, 'stage': 4139, 'pure': 3471, 'deep': 1154, 'pity': 3281, 'distinct': 1296, 'impression': 2252, 'travesty': 4570, 'nor': 3032, 'energy': 1478, 'expected': 1577, 'challenging': 744, 'brother': 598, 'co': 867, 'unexpected': 4650, 'sexuality': 3909, 'subjects': 4254, 'refreshing': 3586, 'clichéd': 845, 'dull': 1384, 'struggling': 4236, 'belief': 451, 'direction': 1261, 'directorial': 1265, 'molly': 2884, 'towards': 4540, 'lay': 2542, 'blame': 499, 'hopes': 2159, 'force': 1786, 'carefully': 689, 'gray': 1963, 'explore': 1594, 'context': 968, 'dramas': 1347, 'womens': 4924, 'reach': 3536, 'whatever': 4859, 'academy': 77, 'awards': 367, 'persons': 3244, 'face': 1616, 'torture': 4529, 'entertainment': 1500, 'crap': 1031, 'threat': 4467, 'jessica': 2398, 'simpson': 3987, 'hot': 2174, 'prequel': 3372, 'former': 1800, 'empty': 1465, 'burned': 626, 'sat': 3786, 'overrated': 3156, 'stinks': 4192, 'jackie': 2374, 'mall': 2720, 'obsession': 3070, 'novel': 3052, 'forward': 1808, 'bette': 471, 'considered': 951, 'impossible': 2249, 'gruesome': 1986, 'major': 2711, 'superbly': 4297, 'subtle': 4260, 'andy': 230, 'hank': 2024, 'scheme': 3812, 'consequences': 947, 'delivers': 1172, 'exactly': 1551, 'happily': 2030, 'compare': 911, 'thrills': 4475, 'admire': 121, 'enjoyable': 1485, 'violence': 4747, 'wooden': 4934, 'brings': 587, 'philip': 3252, 'hoffman': 2128, 'becoming': 435, 'jumps': 2432, 'forth': 1804, 'confusing': 942, 'kelly': 2452, 'directing': 1260, 'sidney': 3968, 'lumet': 2688, 'tight': 4492, 'stuff': 4243, 'youll': 4988, 'recall': 3562, 'cable': 644, 'lost': 2660, 'motivations': 2915, 'circle': 821, 'america': 212, 'disturbing': 1300, 'period': 3236, 'teenage': 4389, 'teens': 4392, 'sex': 3907, 'particularly': 3195, 'teenager': 4390, 'combined': 885, '70s': 56, '80s': 59, 'unsettling': 4679, 'figure': 1711, 'speak': 4094, 'brave': 567, 'surface': 4310, 'snl': 4044, 'tim': 4494, 'drops': 1372, 'liners': 2611, 'billy': 482, 'williams': 4888, 'shot': 3949, 'went': 4847, 'conceived': 929, 'jon': 2416, 'terribly': 4408, 'escape': 1517, 'obsessed': 3069, 'ignorant': 2223, 'furthermore': 1854, 'diane': 1238, 'keaton': 2448, 'overly': 3155, 'cares': 690, 'anna': 245, 'generally': 1881, 'idiot': 2218, 'jeff': 2390, 'typical': 4623, 'technically': 4382, 'clips': 852, 'commercials': 903, 'feature': 1678, 'length': 2569, 'imagery': 2234, 'lighting': 2596, 'sound': 4081, 'polished': 3323, 'expensive': 1579, '50': 51, 'consists': 955, 'cases': 708, 'provided': 3449, 'slightest': 4028, 'hint': 2112, 'dialogues': 1235, 'form': 1798, 'explained': 1587, 'allow': 189, 'deal': 1135, 'huh': 2187, 'stop': 4201, 'mass': 2753, 'somebody': 4062, 'anybody': 257, 'ashamed': 312, 'added': 116, 'technical': 4381, 'tony': 4521, 'creator': 1043, 'david': 1124, 'chase': 769, 'chances': 748, 'slow': 4031, 'dream': 1354, 'mistaken': 2872, 'identity': 2217, 'asian': 314, 'absolutely': 72, 'flat': 1748, 'weird': 4841, '45': 50, 'sick': 3963, 'unpredictable': 4675, 'intense': 2316, 'edie': 1419, 'career': 686, 'husbands': 2205, 'dropped': 1370, 'junior': 2435, 'likely': 2601, 'balls': 390, 'pull': 3461, 'boss': 546, 'opens': 3115, 'doors': 1329, 'greedy': 1969, 'disappointed': 1273, 'necessary': 2984, 'inducing': 2279, 'creating': 1039, 'twist': 4617, 'clue': 864, 'weeks': 4839, '75': 57, 'paulie': 3215, 'dislike': 1288, 'qualities': 3483, 'wasted': 4809, 'hugh': 2186, 'appeal': 271, 'toy': 4542, 'monsters': 2893, 'silent': 3975, 'hitchcock': 2123, 'mystery': 2956, 'paced': 3162, 'photographed': 3258, 'smooth': 4041, 'round': 3742, 'jack': 2373, 'carl': 692, 'partner': 3198, 'partly': 3197, 'standing': 4146, 'church': 813, 'sight': 3969, 'twins': 4616, 'losing': 2658, 'boxing': 556, 'altogether': 202, 'evening': 1534, 'dress': 1357, 'dressing': 1359, 'ring': 3698, 'cutting': 1092, 'stylish': 4251, 'masterful': 2758, 'gripping': 1976, 'smiling': 4037, 'whats': 4860, 'pretending': 3382, 'solid': 4057, 'critical': 1062, 'established': 1524, 'further': 1853, 'simply': 3986, 'stephen': 4176, 'kung': 2498, 'fu': 1844, 'effort': 1432, 'wouldve': 4959, 'rated': 3527, 'places': 3284, 'unreal': 4676, 'serious': 3891, 'basketball': 409, 'reading': 3544, 'smile': 4036, 'once': 3106, 'creates': 1038, 'pulp': 3465, 'fiction': 1702, 'godfather': 1927, 'pile': 3275, 'recognition': 3568, 'examples': 1554, 'death': 1141, 'train': 4556, 'ruthless': 3764, 'widmark': 4882, 'stealing': 4171, 'womans': 4922, 'peters': 3248, 'south': 4087, 'fascinating': 1658, 'photography': 3260, 'adds': 119, 'puts': 3481, 'league': 2549, 'jungle': 2434, 'describes': 1196, 'raw': 3532, 'bright': 581, 'carrying': 701, 'boyfriend': 558, 'fbi': 1675, 'trail': 4553, 'ritter': 3705, 'realism': 3549, 'portrait': 3339, 'ends': 1474, 'paying': 3217, 'twenty': 4612, 'notable': 3041, 'exceptionally': 1559, 'gorgeous': 1942, 'notch': 3043, 'martial': 2747, 'arts': 310, 'fighter': 1708, 'crew': 1053, 'count': 1010, 'drug': 1373, 'gang': 1867, 'nasty': 2968, 'attack': 337, 'beloved': 461, 'grand': 1953, 'butt': 638, 'beating': 425, 'guys': 2001, 'smoking': 4040, 'appreciated': 280, 'irritating': 2359, 'ears': 1402, 'favorite': 1671, 'concerning': 933, 'delivery': 1173, 'park': 3190, 'subsequent': 4257, 'angel': 231, 'sleazy': 4023, 'briefly': 580, 'court': 1020, 'charge': 761, 'shower': 3957, 'lesbian': 2573, 'cell': 730, 'mate': 2765, 'tries': 4585, 'strangely': 4212, 'buddy': 609, 'behind': 447, 'arm': 292, 'score': 3822, 'constant': 957, 'stops': 4203, 'exciting': 1563, 'anderson': 227, 'gritty': 1977, 'immensely': 2243, 'exploitation': 1592, 'hardcore': 2034, 'grade': 1951, 'junk': 2436, 'computer': 927, 'generated': 1882, 'system': 4345, 'kidnapped': 2466, 'splendid': 4119, 'blend': 504, 'futuristic': 1857, 'narrative': 2966, 'lights': 2597, 'shocking': 3940, 'delight': 1167, 'masters': 2761, 'oscar': 3133, 'winning': 4898, 'endless': 1473, 'knock': 2488, 'aimed': 162, 'mature': 2773, 'approach': 282, 'sin': 3988, 'balance': 387, 'filming': 1718, 'odd': 3080, 'colour': 880, 'christian': 808, 'took': 4523, 'similar': 3978, 'majority': 2712, '40': 48, 'faces': 1618, 'shadow': 3912, 'irrelevant': 2358, 'expressions': 1603, 'clever': 841, 'artistic': 308, 'terms': 4406, 'stronger': 4230, 'graphics': 1959, 'darker': 1116, 'reflect': 3584, 'beautifully': 429, 'political': 3324, 'citizen': 824, 'mysterious': 2955, 'essence': 1521, 'tired': 4501, 'rescue': 3643, 'elements': 1443, 'plenty': 3307, 'alive': 186, 'fred': 1825, 'astaire': 330, 'ginger': 1908, 'rogers': 3725, 'mediocre': 2791, 'baker': 385, 'martin': 2748, 'dancers': 1105, 'joined': 2413, 'navy': 2976, 'tedious': 4387, 'subplot': 4255, 'smith': 4038, 'uninteresting': 4660, 'berlin': 467, 'talents': 4356, 'sings': 3997, 'dances': 1106, 'suit': 4284, 'catchy': 717, 'silly': 3976, 'contest': 967, 'sing': 3992, 'putting': 3482, 'choreography': 802, 'figures': 1713, 'clothes': 860, 'within': 4912, 'contrived': 976, 'beautiful': 428, 'wrote': 4974, 'reminiscent': 3621, 'cole': 873, 'matches': 2764, 'rarely': 3524, 'numbers': 3061, 'gags': 1862, 'weak': 4824, 'saving': 3797, 'grace': 1950, 'warm': 4794, 'grown': 1984, 'feelings': 1686, 'builds': 617, 'tension': 4404, 'arent': 288, 'resolution': 3649, 'outstanding': 3147, 'building': 615, 'unfolds': 4651, 'patrick': 3213, 'detail': 1217, 'mob': 2879, 'afraid': 140, 'bold': 528, 'believable': 453, 'runs': 3757, 'includes': 2263, 'uncle': 4636, 'complex': 923, 'younger': 4990, '20': 29, 'created': 1037, 'masterpiece': 2759, 'modern': 2882, 'existed': 1570, '2002': 32, 'resident': 3647, 'defense': 1159, 'matrix': 2767, 'rip': 3700, 'inevitably': 2283, 'chess': 783, 'reference': 3582, 'zombies': 4998, 'sort': 4077, 'super': 4295, 'finger': 1731, 'credit': 1049, 'idea': 2213, 'extraordinary': 1607, 'pulls': 3464, 'ultimately': 4628, 'appearances': 275, 'led': 2558, 'projects': 3428, 'stereotypical': 4180, 'spirited': 4114, 'rings': 3699, 'european': 1530, 'social': 4049, 'commentary': 899, 'makers': 2715, 'angle': 236, 'confused': 941, 'manner': 2729, 'magnificent': 2705, 'symbolism': 4341, 'visuals': 4759, 'dozens': 1339, 'perfection': 3225, 'theme': 4433, 'message': 2819, 'display': 1291, 'affected': 137, 'reviewer': 3677, 'speaks': 4096, 'flawed': 1750, 'recognize': 3569, 'shake': 3914, 'draw': 1349, 'parallel': 3185, 'accident': 84, 'blacks': 494, 'bin': 483, 'foster': 1809, 'remake': 3612, 'river': 3707, 'laughable': 2530, 'believing': 457, 'notion': 3050, 'ray': 3533, 'faced': 1617, 'performing': 3233, 'appropriate': 283, 'current': 1084, 'embarrassment': 1455, 'forgotten': 1797, 'fortunately': 1805, 'highest': 2102, 'lowest': 2678, 'history': 2121, 'united': 4664, 'nations': 2971, 'un': 4630, 'soldiers': 4054, 'forces': 1788, 'protect': 3443, 'driving': 1368, 'disney': 1289, 'productions': 3420, 'beast': 422, 'surreal': 4317, 'fairy': 1632, 'tale': 4353, 'ancient': 225, 'curse': 1086, 'sequences': 3888, 'explaining': 1588, 'erotic': 1515, 'graphic': 1958, 'hence': 2083, 'initial': 2290, 'remind': 3618, 'territory': 4411, 'taste': 4369, 'bizarre': 492, 'offended': 3085, 'material': 2766, 'miracle': 2860, 'angry': 238, 'remarks': 3615, 'secrets': 3852, 'cause': 723, 'theater': 4427, 'bible': 477, 'christ': 807, 'coming': 896, 'news': 3005, 'changing': 752, 'structure': 4233, 'anti': 254, 'correct': 1000, 'left': 2561, 'vice': 4727, 'composed': 926, 'conversations': 981, 'compelling': 916, 'humble': 2191, 'depressing': 1188, 'cynical': 1093, 'cruel': 1070, 'involves': 2348, 'supposedly': 4307, 'marie': 2737, 'shown': 3959, 'jealous': 2388, 'exposed': 1598, 'revolutionary': 3681, 'wave': 4818, 'movement': 2923, 'significant': 3972, 'movements': 2924, 'profound': 3423, 'key': 2458, 'starred': 4153, 'among': 217, 'unlike': 4670, 'experiences': 1582, 'committed': 905, 'anger': 235, 'delivered': 1170, 'breaking': 570, 'honest': 2146, 'remains': 3611, 'minimal': 2855, 'imagination': 2236, 'achieved': 93, 'shorts': 3948, 'subtlety': 4261, 'remarkable': 3613, 'discovery': 1282, 'pay': 3216, 'incredible': 2269, 'fantasy': 1652, 'rage': 3505, 'lord': 2652, 'harry': 2039, 'loads': 2633, 'cash': 709, 'box': 555, 'office': 3091, 'notably': 3042, 'golden': 1934, 'trailer': 4554, 'neil': 2995, 'showed': 3956, 'theaters': 4428, 'blah': 496, 'bourne': 554, 'opened': 3113, 'weekend': 4838, 'huge': 2185, 'quest': 3486, 'fallen': 1638, 'imaginative': 2237, 'romance': 3732, 'succeeds': 4264, 'ground': 1979, 'princess': 3397, 'earlier': 1399, 'fan': 1648, 'sandra': 3782, 'pretentious': 3383, 'irony': 2357, 'suited': 4286, 'lacking': 2504, 'filmmaker': 1719, 'executive': 1567, 'producer': 3415, 'touch': 4533, 'audiences': 353, 'bored': 541, 'share': 3920, 'surprised': 4313, 'success': 4265, 'carry': 700, 'girlfriend': 1910, 'digital': 1251, 'heroine': 2091, 'spots': 4132, 'rough': 3741, 'stretch': 4221, 'creatures': 1046, 'introduced': 2337, 'singer': 3993, 'lousy': 2667, 'lee': 2559, 'joe': 2407, 'drive': 1363, 'race': 3499, 'fix': 1744, 'kinda': 2477, 'finish': 1732, 'killer': 2470, 'theyve': 4446, 'jaws': 2385, 'copies': 992, 'famous': 1647, 'somehow': 4063, 'explosion': 1596, 'laid': 2508, 'basically': 407, 'uses': 4697, 'ideas': 2215, 'tad': 4347, 'captain': 674, 'standards': 4145, 'jokes': 2415, 'college': 875, 'students': 4239, 'interest': 2323, 'purpose': 3474, 'ready': 3546, 'dry': 1377, 'soft': 4051, 'core': 995, 'strange': 4211, 'hasnt': 2044, 'allowed': 190, 'japan': 2381, 'monster': 2892, 'standard': 4144, 'fare': 1655, 'designs': 1204, 'alas': 172, 'logic': 2638, 'humans': 2190, 'ignored': 2225, 'team': 4378, 'allen': 188, 'justin': 2440, 'queen': 3485, 'join': 2412, 'daily': 1097, 'planet': 3289, 'powers': 3361, 'corny': 997, 'try': 4600, 'border': 539, 'displays': 1293, 'rules': 3754, 'mountain': 2917, 'lion': 2614, 'annoyed': 248, 'jason': 2383, 'atrocious': 335, 'featured': 1679, 'above': 68, 'dedicated': 1153, 'kinds': 2478, 'bother': 548, 'taking': 4352, 'kids': 2467, 'disappointing': 1274, 'sunday': 4293, 'afternoon': 144, 'sappy': 3784, 'mothers': 2912, 'daughters': 1122, 'decision': 1151, 'hoping': 2160, 'meat': 2787, 'trust': 4598, 'bird': 484, 'russian': 3762, 'helps': 2082, 'owner': 3159, 'shop': 3945, 'warming': 4795, 'word': 4937, 'mouth': 2920, 'whenever': 4863, 'reminded': 3619, 'explain': 1586, 'properly': 3437, 'answers': 252, 'associated': 327, 'longer': 2645, 'likes': 2602, 'built': 618, 'prefer': 3368, 'broadcast': 591, 'eve': 1532, 'britain': 588, '90s': 61, 'print': 3399, 'sold': 4052, 'website': 4834, 'author': 359, 'rights': 3697, 'recently': 3567, 'board': 522, 'check': 777, 'bucks': 606, 'east': 1407, 'says': 3801, 'canada': 666, 'ha': 2002, 'fault': 1668, 'legal': 2563, 'authentic': 358, 'scary': 3807, 'chilling': 794, 'flash': 1745, 'favorites': 1672, 'complete': 921, 'celluloid': 731, 'incoherent': 2265, 'pride': 3391, 'shocked': 3939, 'horses': 2171, 'dubbed': 1379, 'reaching': 3539, 'bare': 398, 'distribution': 1298, 'rotten': 3740, 'premise': 3370, 'angela': 232, 'aid': 160, 'exception': 1557, 'falls': 1640, 'intentionally': 2320, 'gross': 1978, 'dating': 1120, 'trip': 4588, 'amongst': 218, 'doll': 1313, 'witness': 4914, 'shell': 3927, 'assault': 324, 'breasts': 572, 'cuts': 1091, 'photographer': 3259, 'construction': 960, 'drunk': 1375, 'random': 3514, 'pie': 3271, 'cameron': 661, 'treats': 4575, 'device': 1227, 'disaster': 1276, 'pass': 3201, 'store': 4204, 'shelf': 3926, 'expecting': 1578, 'hilariously': 2107, 'stopped': 4202, 'rose': 3739, 'miscast': 2862, 'attend': 344, 'screening': 3830, 'expressed': 1601, 'weapon': 4828, 'forms': 1801, 'separate': 3883, 'undoubtedly': 4648, 'frustration': 1843, 'parts': 3199, 'party': 3200, 'reached': 3537, 'eccentric': 1414, 'styles': 4250, 'skills': 4014, 'resist': 3648, 'kurt': 2499, 'emotionally': 1460, 'humour': 2194, 'theatre': 4429, 'minds': 2852, 'gothic': 1945, 'format': 1799, 'red': 3576, 'eerie': 1427, 'nevertheless': 3002, 'picks': 3268, 'phone': 3255, 'breaks': 571, 'repetitive': 3633, 'fill': 1714, 'account': 89, 'met': 2822, 'desperately': 1209, 'quirky': 3493, 'insulting': 2310, 'directs': 1267, 'loss': 2659, 'wrap': 4963, 'hearted': 2065, 'crafted': 1029, '2006': 36, 'suppose': 4305, 'pick': 3265, 'michelle': 2830, 'successful': 4266, 'desperate': 1208, 'california': 650, 'condition': 937, 'serial': 3889, 'killers': 2471, 'writes': 4970, 'pictures': 3270, 'result': 3660, 'pitt': 3280, 'sees': 3866, 'shortly': 3947, 'lewis': 2586, 'cross': 1066, 'trek': 4578, 'inspiring': 2302, 'trash': 4565, 'setting': 3900, 'double': 1331, 'sucked': 4270, 'plight': 3308, 'understated': 4646, 'courage': 1018, 'integrity': 2311, 'manipulative': 2727, 'idiots': 2220, 'therefore': 4439, 'boys': 559, 'nobody': 3022, 'literally': 2622, 'asking': 318, 'trial': 4580, 'club': 863, 'water': 4816, 'philosophical': 3253, 'mans': 2730, 'rural': 3758, 'ned': 2986, 'beatty': 427, 'meant': 2784, 'struggle': 4234, 'law': 2538, 'headed': 2058, 'accidentally': 85, 'covers': 1024, 'solve': 4060, 'laura': 2536, 'unfortunate': 4653, 'circumstances': 822, 'screenwriter': 3833, 'suspenseful': 4331, 'bo': 521, 'florida': 1761, 'ghosts': 1903, 'portion': 3338, 'tried': 4584, 'dollars': 1315, 'dentist': 1180, 'root': 3737, 'inside': 2297, 'centered': 733, 'madness': 2698, 'alex': 179, 'bone': 533, 'funeral': 1849, 'pregnant': 3369, 'throws': 4482, 'grave': 1962, 'tea': 4373, 'gender': 1878, 'nuts': 3064, 'centers': 734, 'guilt': 1994, 'model': 2880, 'crash': 1033, 'impressive': 2253, 'storytelling': 4209, 'regardless': 3590, 'four': 1812, 'professor': 3422, 'albert': 174, 'ball': 388, 'hotel': 2175, 'flashbacks': 1747, 'important': 2247, 'creep': 1051, 'individuals': 2278, 'despair': 1207, 'hidden': 2096, 'fear': 1676, 'waiting': 4772, 'adapted': 114, 'terry': 4415, 'johnson': 2411, 'downright': 1337, 'fictional': 1703, 'pop': 3330, 'culture': 1079, 'theatrical': 4430, 'backdrop': 379, 'moody': 2899, 'contain': 962, 'daring': 1114, 'randomly': 3515, 'storm': 4206, 'meaningful': 2781, 'spiritual': 4116, 'memories': 2803, 'showing': 3958, 'fears': 1677, 'hints': 2113, 'innovative': 2295, 'awkward': 374, 'focus': 1766, 'glory': 1922, 'blues': 519, 'large': 2517, 'scale': 3802, 'universe': 4666, 'costumes': 1006, 'locations': 2636, 'sexy': 3911, 'growing': 1983, 'curtis': 1087, 'witch': 4909, 'hunting': 2201, 'gary': 1873, 'support': 4303, 'striking': 4226, 'fresh': 1833, 'wrapped': 4964, 'worry': 4950, 'contains': 964, 'pre': 3365, 'misses': 2868, 'forty': 1807, 'bits': 490, 'nightmare': 3014, 'elm': 1447, 'st': 4137, 'joke': 2414, 'alice': 182, 'rock': 3720, 'freddy': 1826, 'wreck': 4965, 'fails': 1628, 'sequels': 3886, 'excuse': 1564, 'clown': 862, 'weve': 4856, 'suck': 4269, 'funnier': 1850, 'thoughtful': 4463, 'lisa': 2616, 'stretched': 4222, 'slowly': 4032, 'retarded': 3663, 'icon': 2211, 'represents': 3639, 'continue': 969, 'installment': 2303, 'vs': 4767, 'causing': 726, 'dire': 1257, 'filmed': 1717, 'pacing': 3163, 'effectively': 1430, 'relate': 3593, 'loves': 2674, 'dragon': 1344, 'fighting': 1709, 'army': 295, 'beach': 419, 'danger': 1109, 'widely': 4881, 'died': 1244, 'attempted': 341, 'rent': 3626, 'channel': 753, 'reality': 3551, 'existent': 1572, 'documentary': 1307, 'category': 718, 'jennifer': 2392, 'walker': 4778, 'demons': 1178, 'normal': 3033, 'everyday': 1541, 'hatred': 2049, 'fail': 1625, 'track': 4544, 'record': 3573, 'conflict': 939, 'superior': 4300, 'officers': 3093, 'calls': 654, 'criminal': 1057, 'fathers': 1667, 'reputation': 3640, 'rich': 3685, 'murdered': 2940, 'gangster': 1868, 'tommy': 4516, 'assigned': 325, 'tells': 4397, 'officer': 3092, 'victim': 4729, 'ken': 2453, 'stevens': 4183, 'morgan': 2905, 'gene': 1879, 'apartment': 265, 'questions': 3489, 'issue': 2364, 'shed': 3924, 'returned': 3666, 'facial': 1619, 'attacked': 338, 'information': 2288, 'arrested': 298, 'continues': 971, 'eventually': 1537, 'achieve': 92, 'goal': 1925, 'tense': 4403, 'fitting': 1742, 'convey': 982, 'troubled': 4593, 'deals': 1137, 'include': 2261, 'loses': 2657, 'trouble': 4592, 'surrounding': 4319, 'commit': 904, 'engaging': 1481, 'protagonist': 3441, 'disappointment': 1275, 'depicting': 1184, 'psychological': 3458, 'brief': 579, 'titled': 4505, 'italy': 2368, 'admittedly': 123, 'combat': 882, 'highlight': 2103, 'drives': 1367, 'touches': 4535, 'describe': 1194, 'nostalgia': 3038, 'tag': 4348, 'relies': 3606, 'heavily': 2069, 'using': 4698, 'irish': 2353, 'crisis': 1060, 'plots': 3310, 'extent': 1605, 'bag': 384, 'quotes': 3497, 'unnecessary': 4672, 'bears': 421, 'relation': 3595, 'spring': 4134, 'catching': 716, 'guard': 1988, 'punch': 3466, 'overwhelming': 3157, 'secondly': 3847, 'motivation': 2914, 'advice': 133, 'magazine': 2701, 'fancy': 1649, 'easier': 1405, 'spirits': 4115, 'magic': 2703, 'unusual': 4681, 'unknown': 4668, 'represented': 3638, 'public': 3460, 'upset': 4687, 'intriguing': 2335, 'forbidden': 1785, 'sarah': 3785, 'acceptable': 81, 'closing': 859, 'artificial': 306, 'impact': 2244, 'largely': 2518, 'superficial': 4298, 'required': 3641, 'asked': 317, 'closest': 857, 'lacked': 2503, 'charisma': 762, 'complexity': 924, 'unconvincing': 4638, 'voight': 4764, 'eric': 1514, 'roberts': 3714, 'reveal': 3670, 'execution': 1566, 'receive': 3563, 'foot': 1781, 'silver': 3977, 'intended': 2315, 'vast': 4716, 'produce': 3413, 'insight': 2298, 'jamie': 2379, 'hudson': 2184, 'convincingly': 986, 'humorous': 2193, 'underlying': 4641, 'disappoint': 1272, 'normally': 3034, 'trilogy': 4586, 'hype': 2207, 'spent': 4108, 'developing': 1224, 'discussion': 1284, 'helping': 2081, 'locked': 2637, 'shy': 3962, 'bound': 553, 'unbelievably': 4635, 'yelling': 4980, 'haunting': 2051, 'frightening': 1839, 'attacks': 339, 'manager': 2724, 'physically': 3263, 'plan': 3287, 'tonight': 4519, 'followed': 1773, 'yeah': 4977, 'insane': 2296, 'montage': 2894, 'images': 2235, 'vague': 4705, 'floor': 1759, 'expression': 1602, 'misery': 2865, 'confusion': 943, 'maker': 2714, 'folks': 1771, 'react': 3540, 'hiding': 2099, 'door': 1328, 'steal': 4170, 'folk': 1770, 'streets': 4217, 'buildings': 616, 'sunshine': 4294, '2007': 37, 'newly': 3004, 'won': 4925, 'received': 3564, 'virtually': 4751, 'korean': 2495, 'tragedy': 4551, 'talked': 4359, 'interview': 2329, 'express': 1600, 'melodrama': 2797, 'apparent': 269, 'religion': 3607, 'christians': 809, 'lie': 2590, 'causes': 725, 'murderer': 2941, 'chan': 746, 'meeting': 2794, 'toward': 4539, 'sky': 4017, 'trap': 4563, 'bitter': 491, 'sent': 3880, 'hospital': 2172, 'familiar': 1643, 'helped': 2080, 'quickly': 3491, 'stays': 4169, 'lovers': 2673, 'twists': 4619, 'defend': 1158, 'ourselves': 3140, 'cheated': 775, 'learned': 2551, 'journey': 2421, 'realizes': 3554, 'mirror': 2861, 'topic': 4526, 'unbearable': 4633, 'interpretation': 2328, 'beneath': 464, 'quit': 3494, 'service': 3896, 'noticed': 3049, 'six': 4010, 'months': 2897, 'teaching': 4377, 'blade': 495, 'china': 795, 'learns': 2553, 'colors': 879, 'jerk': 2395, 'captured': 677, 'innocent': 2294, 'accept': 80, 'cleverly': 842, 'scarecrow': 3804, 'occurred': 3077, 'rocks': 3722, 'todays': 4509, 'fever': 1699, 'pitch': 3279, 'theyll': 4444, 'laughs': 2534, 'loosely': 2651, 'ruth': 3763, '2000': 30, 'pink': 3277, 'cusack': 1088, 'kept': 2456, 'wit': 4908, 'painfully': 3172, 'conventional': 979, 'formulaic': 1803, 'formula': 1802, 'seconds': 3848, 'ambitious': 211, 'demands': 1175, 'winds': 4895, 'wishing': 4907, 'smart': 4035, 'realized': 3553, 'introduce': 2336, 'narration': 2965, 'sits': 4006, 'adorable': 124, 'remotely': 3623, 'neither': 2996, 'worked': 4941, 'behave': 445, 'requires': 3642, 'load': 2631, 'ability': 65, 'knowledge': 2491, 'range': 3516, 'emotions': 1461, 'personality': 3242, 'depth': 1190, 'lovable': 2668, 'couldve': 1009, 'hill': 2108, 'abandoned': 62, 'everyones': 1543, 'throat': 4476, 'intensity': 2317, 'regular': 3592, 'australian': 357, 'rachel': 3500, 'signed': 3971, 'contract': 973, 'christmas': 810, 'con': 928, 'incomprehensible': 2267, 'robot': 3717, 'kick': 2460, 'stale': 4141, 'camp': 662, 'sleep': 4024, 'excited': 1561, 'named': 2961, 'sneak': 4043, 'porno': 3337, 'nyc': 3065, 'watchable': 4812, 'beats': 426, 'bet': 470, 'bruce': 602, 'trailers': 4555, 'carrey': 696, 'freeman': 1829, 'crude': 1069, 'reactions': 3542, 'seemingly': 3863, 'exaggerated': 1552, 'ann': 244, 'proves': 3447, 'tear': 4379, 'cardboard': 682, 'air': 164, 'activities': 102, 'proud': 3444, 'ship': 3934, 'valuable': 4708, 'glimpse': 1919, 'leg': 2562, 'caused': 724, 'wild': 4885, 'shooting': 3943, 'vietnam': 4735, 'wwii': 4975, 'propaganda': 3435, 'elsewhere': 1449, 'destruction': 1216, 'eg': 1434, 'unaware': 4632, 'comparing': 913, 'nuclear': 3057, 'robots': 3718, 'destiny': 1212, 'hong': 2149, 'kong': 2494, 'flying': 1764, 'purely': 3472, 'unintentional': 4658, 'dressed': 1358, 'native': 2972, 'sends': 3876, 'gas': 1874, 'morning': 2906, 'thousand': 4465, 'hip': 2114, 'accents': 79, 'fake': 1635, 'southern': 4088, 'liberal': 2588, 'thrill': 4471, 'arthur': 305, 'landscape': 2513, 'floating': 1758, 'mighty': 2836, 'destroy': 1213, 'enter': 1494, 'kings': 2481, 'vincent': 4746, 'gentle': 1890, 'giant': 1905, 'arms': 294, 'brain': 562, 'pet': 3246, 'common': 906, 'farm': 1656, 'detailed': 1218, 'thick': 4447, 'photo': 3257, 'landscapes': 2514, 'awe': 370, 'product': 3418, 'hills': 2109, 'proof': 3434, 'impress': 2250, 'technology': 4385, 'bed': 436, 'travel': 4567, 'prime': 3395, 'soap': 4047, 'opera': 3116, 'exotic': 1574, 'phony': 3256, 'proceeds': 3411, 'overcome': 3151, 'interaction': 2322, 'versus': 4722, 'hooked': 2153, 'cup': 1080, 'slick': 4026, 'island': 2361, 'brady': 561, 'intelligence': 2313, 'amazed': 208, 'brilliance': 582, 'translation': 4562, 'substance': 4258, 'adaptation': 113, 'afterwards': 145, 'harvey': 2042, 'risk': 3704, 'revolution': 3680, 'cuba': 1075, 'references': 3583, 'homage': 2141, 'earned': 1401, 'satire': 3788, 'robbery': 3711, 'independent': 2272, 'kane': 2442, 'roger': 3724, 'teenagers': 4391, 'military': 2844, 'questionable': 3488, 'training': 4558, 'desert': 1198, 'frequently': 1832, 'soldier': 4053, 'colonel': 876, 'hey': 2095, 'judge': 2424, 'equal': 1509, 'dreadful': 1353, 'regard': 3588, 'values': 4710, 'perspective': 3245, 'tend': 4400, 'variety': 4714, 'ironically': 2356, 'spanish': 4092, 'considerable': 950, 'doubts': 1333, 'commercial': 902, 'del': 1165, 'steven': 4182, 'che': 773, 'glorious': 1921, 'defeat': 1157, 'terrific': 4409, 'wishes': 4906, 'patient': 3211, 'morality': 2903, 'leader': 2546, '35': 45, 'sharp': 3922, 'calling': 653, 'decade': 1144, 'mission': 2870, 'capture': 676, 'doomed': 1327, 'interviews': 2330, 'santa': 3783, 'mexico': 2827, 'poetry': 3314, 'fame': 1642, 'woods': 4935, 'wounded': 4961, 'project': 3427, 'resulting': 3661, 'musicals': 2948, 'managed': 2723, 'piano': 3264, 'station': 4164, 'letter': 2581, 'dawn': 1127, 'witnessed': 4915, 'sean': 3840, 'glover': 1923, 'kid': 2464, 'barry': 401, 'metal': 2823, 'recording': 3575, 'artist': 307, 'heavy': 2070, 'climax': 849, 'mitchell': 2875, 'selfish': 3870, 'columbo': 881, 'ladies': 2506, 'delivering': 1171, 'pursuit': 3476, 'italian': 2367, 'boot': 538, 'alternate': 200, 'satan': 3787, 'relevant': 3604, 'giallo': 1904, 'matched': 2763, 'companion': 909, 'west': 4852, 'devoted': 1231, 'ensemble': 1492, 'religious': 3608, 'butler': 637, 'murders': 2943, 'occur': 3076, 'pleasant': 3302, 'revelation': 3674, 'elaborate': 1439, 'considering': 952, 'north': 3036, 'endings': 1472, 'bar': 396, 'fights': 1710, 'center': 732, 'descent': 1193, 'muslim': 2949, 'attitudes': 347, 'traditional': 4550, 'dad': 1095, 'talks': 4361, 'grew': 1972, 'provides': 3450, 'wow': 4962, 'snake': 4042, 'nail': 2957, 'driven': 1365, 'hole': 2132, 'crappy': 1032, 'wells': 4845, '20th': 38, 'claim': 828, 'science': 3816, 'adventure': 130, 'tales': 4357, 'evidence': 1546, 'believed': 455, 'seed': 3856, 'novels': 3053, 'handed': 2016, 'sides': 3967, 'criticism': 1063, 'naked': 2959, 'hitler': 2124, 'pilot': 3276, 'phantom': 3251, 'lazy': 2543, 'shall': 3916, 'flaws': 1752, 'superman': 4301, 'settle': 3902, 'kevin': 2457, 'doctors': 1305, 'alien': 183, 'advance': 127, 'garden': 1872, 'psychotic': 3459, 'university': 4667, 'corpse': 999, 'matthew': 2772, 'bloody': 513, 'baseball': 403, 'bat': 410, 'slight': 4027, 'nudity': 3059, 'incompetent': 2266, 'jeffrey': 2391, 'carpenter': 694, 'abysmal': 76, 'caine': 647, 'remembered': 3617, 'burt': 629, 'earl': 1398, 'rise': 3702, '1950s': 14, 'forgot': 1796, 'faith': 1633, 'failure': 1629, 'test': 4416, 'julia': 2427, 'mail': 2706, 'definite': 1161, 'offered': 3088, 'originally': 3131, 'wives': 4918, 'brutal': 603, 'student': 4238, 'expert': 1585, 'remarkably': 3614, 'aka': 168, 'yesterday': 4983, 'spain': 4091, 'schools': 3814, 'tremendous': 4579, 'civil': 826, 'chooses': 800, 'inventive': 2341, 'scenario': 3808, 'abuse': 74, 'carol': 693, 'killings': 2473, 'bay': 416, 'area': 286, '1968': 16, 'dave': 1123, 'mouse': 2919, 'disease': 1285, 'blown': 516, 'alcoholic': 177, 'dumb': 1385, 'funniest': 1851, '3000': 43, 'generic': 1885, 'personalities': 3241, 'language': 2516, 'truck': 4595, 'intimate': 2331, 'sticks': 4186, 'greatly': 1967, 'reminds': 3620, 'focusing': 1769, 'event': 1535, 'repeatedly': 3632, 'build': 614, 'higher': 2101, 'subplots': 4256, 'guide': 1993, 'lessons': 2578, 'arrival': 299, 'excitement': 1562, 'returning': 3667, 'survived': 4322, 'invasion': 2340, 'ryan': 3765, 'jump': 2429, '60': 53, 'iraq': 2351, 'innocence': 2293, 'jesus': 2399, 'false': 1641, 'freedom': 1828, 'jail': 2376, 'shoot': 3942, 'oil': 3097, 'media': 2789, 'max': 2774, 'tooth': 4524, 'pit': 3278, 'chapter': 757, 'extended': 1604, 'broken': 594, 'reed': 3580, 'ultimate': 4627, 'contrary': 974, 'chuck': 812, 'admit': 122, 'currently': 1085, 'aired': 165, 'blowing': 515, 'packed': 3166, 'target': 4366, 'survive': 4321, '2001': 31, 'planned': 3290, 'states': 4163, 'johnny': 2410, 'closely': 855, 'passing': 3204, 'instance': 2304, 'amy': 222, 'diana': 1237, 'ass': 323, 'grim': 1974, 'gotten': 1947, 'ugly': 4625, 'cliché': 844, 'rocky': 3723, 'sophisticated': 4075, 'brains': 563, 'cost': 1003, 'gonna': 1936, 'ron': 3734, 'moore': 2901, 'mini': 2854, 'merits': 2817, 'mysteries': 2954, 'space': 4090, 'seek': 3858, 'identify': 2216, 'damn': 1100, 'saved': 3795, 'humanity': 2189, 'safe': 3771, 'mindless': 2851, 'zombie': 4997, 'viewed': 4737, 'australia': 356, 'anywhere': 263, 'victims': 4730, 'seasons': 3844, 'limited': 2606, 'granted': 1957, 'punk': 3468, 'surprises': 4314, 'cliche': 843, 'finding': 1727, 'overdone': 3152, 'intentions': 2321, 'scenery': 3810, 'colorful': 878, 'ties': 4490, 'whoever': 4872, 'tie': 4488, 'persona': 3239, 'smaller': 4034, 'drinking': 1362, 'trade': 4547, 'grandmother': 1955, 'virgin': 4749, 'shelley': 3928, 'familys': 1646, 'promising': 3433, 'brenda': 575, 'sitcom': 4004, 'speed': 4103, 'sport': 4129, 'surfing': 4311, 'waves': 4819, 'direct': 1258, 'strike': 4224, 'overlooked': 3154, 'divorce': 1301, 'stated': 4161, 'iran': 2350, 'africa': 141, 'recognized': 3570, 'focuses': 1768, 'aunt': 355, 'fury': 1855, 'ya': 4976, 'described': 1195, 'poignant': 3315, 'equivalent': 1512, 'areas': 287, 'ie': 2221, 'sadistic': 3768, 'punishment': 3467, 'dutch': 1389, 'classes': 834, 'seeking': 3859, 'disappeared': 1271, 'everybody': 1540, 'quick': 3490, 'immediately': 2242, 'flow': 1762, 'faster': 1662, 'elderly': 1440, 'wandering': 4785, 'foul': 1810, 'deliberately': 1166, 'americas': 215, 'stellar': 4174, 'mickey': 2831, 'orson': 3132, 'welles': 4844, 'buried': 624, 'don': 1320, 'nelson': 2997, 'mile': 2842, 'appreciation': 281, 'bathroom': 412, 'bacall': 377, 'victor': 4731, 'mtv': 2933, 'definition': 1163, 'twice': 4613, 'forget': 1793, 'sitting': 4007, 'collection': 874, 'spot': 4131, 'general': 1880, 'sun': 4292, 'essentially': 1523, 'counter': 1011, 'duty': 1390, 'bomb': 531, 'convoluted': 987, 'heston': 2094, 'increasingly': 2268, 'achievement': 94, 'scientist': 3818, 'wealthy': 4827, 'stock': 4193, 'market': 2740, 'develops': 1226, 'holds': 2131, 'pages': 3168, 'succeed': 4262, 'enterprise': 1495, 'whatsoever': 4861, 'onto': 3111, 'serves': 3895, 'suits': 4287, 'wearing': 4831, 'makeup': 2717, 'richards': 3687, 'repeated': 3631, 'similarly': 3980, 'villains': 4745, 'spell': 4104, 'stinker': 4191, 'shut': 3961, 'rented': 3628, 'laughed': 2532, 'judging': 2425, 'wanna': 4786, 'pack': 3165, 'showcase': 3954, 'pearl': 3220, 'introduction': 2339, 'stooges': 4200, 'larry': 2520, 'alongside': 196, 'ted': 4386, 'loud': 2664, 'slapstick': 4019, 'iron': 2354, 'stick': 4185, 'path': 3209, 'hated': 2047, 'fisher': 1739, 'executed': 1565, 'hippie': 2115, 'dated': 1119, 'born': 544, 'flop': 1760, 'frequent': 1831, 'urban': 4688, 'enormous': 1490, 'frame': 1815, 'beings': 449, 'trademark': 4548, 'tragic': 4552, 'dennis': 1179, 'natural': 2973, 'obscure': 3068, 'chaos': 755, 'wrestling': 4966, 'shape': 3919, 'amanda': 205, 'methods': 2825, 'promised': 3431, 'learning': 2552, 'wonders': 4931, 'hammer': 2014, 'corner': 996, 'hed': 2072, 'bottle': 550, 'fly': 1763, 'blank': 501, 'tomatoes': 4515, 'simplistic': 3985, 'presents': 3377, 'ripped': 3701, 'inept': 2281, 'nation': 2969, 'clichés': 846, 'godzilla': 1929, 'offer': 3087, 'trick': 4582, 'gordon': 1940, 'mill': 2845, 'monk': 2889, 'magical': 2704, 'accepted': 82, 'tradition': 4549, 'neat': 2982, 'creative': 1041, 'weapons': 4829, 'craft': 1028, 'inspiration': 2300, 'hundreds': 2196, 'thousands': 4466, 'steel': 4173, 'birth': 486, 'airplane': 166, 'hamilton': 2012, 'ludicrous': 2685, 'memory': 2804, 'capital': 673, 'dare': 1113, 'jay': 2386, 'lincoln': 2608, 'changes': 751, 'hollywoods': 2138, 'henry': 2084, 'fonda': 1777, 'study': 4242, 'wealth': 4826, 'depicted': 1183, 'dreams': 1355, 'dorothy': 1330, 'drunken': 1376, 'deserved': 1200, 'nominated': 3025, 'lust': 2689, 'douglas': 1334, 'master': 2757, 'india': 2273, 'politics': 3326, 'gandhi': 1866, 'khan': 2459, 'chinese': 796, 'section': 3853, 'upper': 4685, 'cannibal': 669, 'birds': 485, 'aint': 163, 'kingdom': 2480, 'slave': 4022, 'nonsense': 3030, 'whale': 4857, 'string': 4227, 'females': 1694, 'derek': 1192, 'date': 1118, 'birthday': 487, 'gundam': 1997, 'saves': 3796, 'al': 170, 'naive': 2958, 'suffering': 4277, 'sacrifice': 3766, 'stilted': 4190, 'lasted': 2522, 'sixties': 4011, 'seventies': 3904, 'narrator': 2967, 'telling': 4396, 'lacks': 2505, 'disagree': 1269, 'stomach': 4196, 'tarzan': 4367, 'linda': 2609, 'warren': 4801, 'carter': 703, 'costume': 1005, 'kiss': 2483, 'apes': 267, 'ape': 266, 'trio': 4587, 'denzel': 1181, 'washington': 4806, 'walken': 4777, 'necessarily': 2983, 'buddies': 608, 'maintain': 2710, 'weight': 4840, 'mixture': 2878, 'stone': 4197, 'wanting': 4790, 'captures': 678, 'lone': 2642, 'wolf': 4920, 'choose': 799, 'site': 4005, 'testament': 4417, 'base': 402, 'rendition': 3625, 'failing': 1627, 'visible': 4753, 'host': 2173, 'buck': 605, 'square': 4136, 'eyed': 1612, 'homer': 2144, 'unrealistic': 4677, 'abusive': 75, 'paper': 3183, 'throwing': 4480, 'worthless': 4954, 'grey': 1973, 'universal': 4665, 'introduces': 2338, 'king': 2479, 'determined': 1221, 'realizing': 3555, 'emphasis': 1463, 'trained': 4557, 'notes': 3046, 'youth': 4994, 'ruined': 3751, 'shark': 3921, 'encounters': 1467, 'charlotte': 766, 'capturing': 679, 'plans': 3292, 'ocean': 3079, 'fatal': 1664, 'department': 1182, 'strikes': 4225, 'starting': 4158, 'village': 4743, 'genuine': 1891, 'disbelief': 1277, 'wed': 4835, 'embarrassed': 1453, 'newspaper': 3006, 'secretary': 3850, 'position': 3345, 'mrs': 2930, 'involvement': 2347, 'ralph': 3510, 'mansion': 2731, 'sam': 3777, 'falk': 1636, 'pool': 3327, 'omen': 3104, 'jerry': 2396, 'depression': 1189, 'juvenile': 2441, 'performs': 3234, 'aspects': 322, 'ho': 2127, 'screams': 3828, 'francis': 1818, 'infamous': 2284, 'wake': 4774, 'swim': 4337, 'captivating': 675, 'desire': 1205, 'holy': 2140, 'iii': 2227, 'suffice': 4279, 'vivid': 4760, 'mask': 2752, 'multiple': 2936, 'studio': 4240, 'split': 4120, 'dignity': 1252, 'constructed': 959, 'chorus': 803, 'sounding': 4083, 'constantly': 958, 'staying': 4168, 'satisfied': 3789, 'crack': 1027, 'cowboy': 1025, 'texas': 4418, 'mechanical': 2788, 'depicts': 1186, 'kidding': 2465, 'bud': 607, 'sign': 3970, 'accomplished': 87, 'sink': 3999, 'allows': 192, 'bull': 619, 'kicked': 2461, 'francisco': 1819, 'tunes': 4603, 'surprising': 4315, 'thrilling': 4474, 'thrillers': 4473, 'bullet': 620, '2003': 33, '2004': 34, 'suitable': 4285, 'drugs': 1374, 'smoke': 4039, 'twilight': 4614, 'zone': 4999, 'primarily': 3393, 'solely': 4056, 'virus': 4752, 'population': 3335, 'improve': 2254, 'household': 2179, 'authority': 360, 'walls': 4783, 'community': 908, 'happiness': 2031, 'poverty': 3357, 'deeply': 1156, 'doom': 1326, 'disappear': 1270, 'send': 3875, 'sleeping': 4025, 'reflection': 3585, 'trapped': 4564, 'boom': 537, 'rap': 3520, 'popularity': 3334, 'paid': 3169, 'dear': 1140, 'sellers': 3872, 'nine': 3017, 'prior': 3400, 'degree': 1164, 'cary': 706, 'grant': 1956, 'powell': 3358, 'gain': 1863, 'worker': 4942, 'illness': 2230, 'welcome': 4842, 'strangers': 4214, 'idiotic': 2219, 'eat': 1411, 'calm': 655, 'attached': 336, 'bollywood': 530, 'enjoys': 1489, 'worlds': 4947, 'traveling': 4568, 'flies': 1756, 'tree': 4576, 'complain': 919, 'sloppy': 4030, 'exact': 1550, 'awfully': 373, 'handsome': 2021, 'clint': 850, 'homeless': 2143, 'mexican': 2826, 'remaining': 3610, 'deaths': 1142, 'prove': 3445, 'fits': 1741, 'dogs': 1311, 'teach': 4374, 'speaking': 4095, 'instantly': 2306, 'elephant': 1444, 'rape': 3521, 'vicious': 4728, 'orange': 3125, 'worthwhile': 4955, 'intrigued': 2334, 'crimes': 1056, 'insult': 2309, 'neighborhood': 2993, 'loving': 2675, 'cities': 823, 'hopeless': 2158, 'follows': 1775, 'description': 1197, 'vote': 4766, 'brazil': 568, 'honor': 2150, 'defined': 1160, 'inappropriate': 2259, 'sincere': 3991, 'process': 3412, 'treat': 4572, 'channels': 754, 'busy': 635, 'bush': 632, 'views': 4742, 'sudden': 4272, 'transformation': 4560, 'classics': 837, 'hundred': 2195, 'unforgettable': 4652, 'buying': 641, 'similarities': 3979, 'greed': 1968, 'catholic': 720, 'gerard': 1895, 'homosexual': 2145, 'literature': 2623, 'attraction': 350, 'discover': 1279, 'disturbed': 1299, 'chases': 771, 'europe': 1529, 'hop': 2154, 'portraying': 3343, 'marketing': 2741, 'replaced': 3634, 'nostalgic': 3039, 'entertained': 1498, 'warmth': 4796, 'kate': 2446, 'ashley': 313, 'danny': 1112, 'joey': 2408, 'jesse': 2397, 'blatant': 502, 'edited': 1420, 'hoped': 2156, 'stupidity': 4248, 'remote': 3622, 'kim': 2475, 'receives': 3565, 'security': 3854, 'murderous': 2942, 'deadly': 1133, 'card': 681, 'jaw': 2384, 'messed': 2821, 'feminist': 1695, 'flesh': 1753, 'choreographed': 801, 'awake': 365, 'tribute': 4581, 'noted': 3045, 'via': 4726, 'struck': 4232, 'mix': 2876, 'measure': 2786, 'indian': 2274, 'pseudo': 3454, 'antics': 255, 'bank': 394, 'pays': 3218, 'virginia': 4750, 'lab': 2501, 'estate': 1525, 'basement': 405, 'equipment': 1511, 'ed': 1415, 'closet': 858, 'strip': 4228, 'splatter': 4118, 'outer': 3143, 'turkey': 4604, 'consistent': 953, 'uneven': 4649, 'parker': 3191, 'elegant': 1441, 'assumed': 329, 'hanks': 2025, 'scare': 3803, 'politically': 3325, 'fed': 1682, 'bodies': 526, 'dozen': 1338, 'san': 3780, 'ranks': 3519, 'enjoying': 1487, 'keeping': 2450, 'nicholson': 3011, 'turner': 4607, 'outfit': 3144, 'cruise': 1071, 'bothered': 549, 'notorious': 3051, 'classical': 836, 'combine': 884, 'breath': 573, 'scientific': 3817, 'scientists': 3819, 'matthau': 2771, 'robbins': 3712, 'fascinated': 1657, 'offensive': 3086, 'tongue': 4518, 'eastwood': 1409, 'forgettable': 1794, 'aging': 153, 'crocodile': 1065, 'cia': 814, 'agents': 151, 'guarantee': 1987, 'rolled': 3729, 'complicated': 925, 'clumsy': 866, 'bland': 500, 'stolen': 4195, 'countless': 1012, 'themes': 4434, 'wannabe': 4787, 'games': 1865, 'banned': 395, 'fulci': 1845, 'continued': 970, 'hideous': 2098, 'racial': 3501, 'stereotype': 4178, 'drag': 1342, 'prize': 3405, 'justify': 2439, 'armed': 293, 'caring': 691, 'hood': 2151, 'worn': 4948, '1990s': 25, 'wing': 4896, 'reynolds': 3684, 'houses': 2180, 'neighbors': 2994, 'goofy': 1939, 'sexually': 3910, 'scripts': 3836, 'mafia': 2700, 'internet': 2327, 'mel': 2796, 'chief': 788, 'vampires': 4712, 'joseph': 2419, 'theory': 4437, 'documentaries': 1306, 'horrendous': 2162, 'useless': 4695, 'dude': 1381, 'slasher': 4020, 'fired': 1735, 'disc': 1278, 'silence': 3974, 'streisand': 4218, 'curiosity': 1082, 'specifically': 4100, 'tiny': 4500, 'surrounded': 4318, 'moves': 2925, 'em': 1452, 'theyd': 4443, 'progresses': 3426, 'distance': 1294, 'triumph': 4590, 'passionate': 3206, 'thoughts': 4464, 'ticket': 4487, 'succeeded': 4263, 'wendy': 4846, 'sid': 3964, 'staff': 4138, 'sir': 4000, 'kenneth': 2455, 'susan': 4326, 'patients': 3212, 'nervous': 2999, 'friday': 1834, 'macy': 2695, 'par': 3184, 'spooky': 4128, 'cake': 648, 'halloween': 2010, 'network': 3000, 'flight': 1757, 'mountains': 2918, 'contact': 961, 'supernatural': 4302, 'inane': 2258, 'wacky': 4769, 'loser': 2655, 'assistant': 326, 'raising': 3509, 'emotion': 1458, 'dropping': 1371, 'renting': 3629, 'clues': 865, 'assume': 328, 'cousin': 1021, 'aids': 161, 'neo': 2998, 'map': 2733, 'dealt': 1138, 'artists': 309, 'breathtaking': 574, 'bargain': 400, 'rental': 3627, 'educational': 1425, 'taught': 4370, 'youd': 4987, 'celebrity': 729, 'ruins': 3752, 'reduced': 3579, 'cage': 645, 'babe': 375, 'eddie': 1416, 'murphy': 2944, 'gift': 1906, 'rats': 3531, 'ellen': 1446, 'brian': 576, 'los': 2653, 'angeles': 233, 'nomination': 3026, 'brando': 566, 'donald': 1321, 'sutherland': 4333, 'develop': 1222, 'hurts': 2203, 'charlie': 765, 'june': 2433, 'troops': 4591, 'studios': 4241, 'nights': 3016, 'stanwyck': 4149, 'wayne': 4821, 'rule': 3753, 'roman': 3731, 'cagney': 646, 'cooper': 990, 'presumably': 3380, 'fx': 1858, 'unintentionally': 4659, 'batman': 413, 'voiced': 4762, 'alfred': 181, 'pushing': 3479, 'utter': 4701, 'mundane': 2938, 'waitress': 4773, 'providing': 3451, 'secretly': 3851, 'planning': 3291, 'discovers': 1281, 'cabin': 643, 'perform': 3227, '1983': 22, 'wisdom': 4902, 'drawing': 1350, 'conservative': 948, 'limits': 2607, 'messages': 2820, 'rubbish': 3748, 'monkeys': 2891, 'monkey': 2890, 'preview': 3386, 'producing': 3417, 'treasure': 4571, 'ages': 152, 'jumping': 2431, 'reasonably': 3559, 'concerned': 932, 'grows': 1985, 'endure': 1475, 'blake': 498, 'blew': 505, 'ego': 1435, 'importance': 2246, 'originality': 3130, 'imitation': 2241, 'gangsters': 1869, 'mayor': 2777, 'staged': 4140, 'angels': 234, 'leo': 2571, 'wise': 4903, 'alan': 171, 'genius': 1887, 'watches': 4814, 'andrew': 228, 'emma': 1457, 'paltrow': 3178, 'agent': 150, 'credibility': 1047, 'compared': 912, 'ah': 158, 'intrigue': 2333, 'cinderella': 815, 'minimum': 2856, 'eager': 1396, 'drink': 1361, 'web': 4833, 'honesty': 2148, 'robin': 3715, 'charismatic': 763, 'cards': 683, 'franchise': 1817, 'elvira': 1450, 'mistress': 2874, 'senseless': 3878, 'kitchen': 2485, 'purchase': 3469, 'ratings': 3530, 'march': 2734, 'ireland': 2352, 'groups': 1981, 'usa': 4691, 'streep': 4215, 'inferior': 2285, 'exists': 1573, 'everywhere': 1545, 'rangers': 3517, 'horrid': 2165, 'harder': 2035, 'woody': 4936, 'invisible': 2344, 'annie': 247, 'devils': 1229, 'spoiled': 4122, 'drags': 1345, 'millions': 2848, 'bettie': 473, 'simplicity': 3984, 'spare': 4093, 'priest': 3392, 'mario': 2738, 'dean': 1139, 'spoil': 4121, 'helicopter': 2076, 'chicago': 785, 'eastern': 1408, 'cared': 685, 'screens': 3832, 'scooby': 3820, 'doo': 1325, 'raymond': 3534, 'distant': 1295, 'panic': 3181, 'dan': 1102, 'hbo': 2055, 'survivors': 4325, 'lifestyle': 2593, 'walks': 4780, 'protagonists': 3442, 'chris': 806, 'unhappy': 4656, 'lucy': 2684, 'feet': 1688, '3rd': 47, 'horrific': 2166, 'trite': 4589, 'burning': 627, 'checking': 778, 'spike': 4111, 'survival': 4320, 'chasing': 772, 'reporter': 3636, 'program': 3424, 'blockbuster': 509, 'walked': 4776, 'confidence': 938, 'bath': 411, 'neighbor': 2992, 'dickens': 1240, 'hello': 2078, 'jewish': 2401, 'details': 1219, 'nancy': 2964, 'handle': 2018, 'bullets': 621, '1972': 18, 'warrior': 4802, 'cox': 1026, 'terrifying': 4410, 'relative': 3599, '1933': 12, 'mst3k': 2932, 'nowadays': 3055, 'holes': 2133, 'loaded': 2632, 'imagined': 2239, 'danes': 1108, 'suggested': 4281, 'vulnerable': 4768, '1973': 19, 'corrupt': 1001, 'robinson': 3716, 'spider': 4109, 'superhero': 4299, 'levels': 2585, 'guessed': 1990, 'hopefully': 2157, 'amitabh': 216, 'judy': 2426, 'lemmon': 2567, 'liking': 2604, 'niro': 3019, 'trees': 4577, 'inspector': 2299, 'flaw': 1749, 'maria': 2736, 'cheating': 776, 'suffer': 4275, 'wasting': 4810, 'vaguely': 4706, 'cure': 1081, 'stress': 4220, 'demon': 1177, 'warriors': 4803, 'intent': 2318, 'compelled': 915, 'painted': 3174, 'samurai': 3779, 'excessive': 1560, 'carrie': 697, 'cameos': 658, 'acid': 95, 'marty': 2749, 'opportunities': 3120, 'occasion': 3073, 'foreign': 1790, 'soviet': 4089, 'union': 4661, 'brand': 565, 'comedian': 887, 'eighties': 1437, 'sorts': 4078, 'price': 3389, 'generations': 1884, 'horrifying': 2167, 'orders': 3127, 'slap': 4018, 'odds': 3082, 'fetched': 1698, 'modesty': 2883, 'avoided': 364, 'ideal': 2214, 'blows': 517, 'field': 1704, 'photos': 3261, '1st': 28, 'noise': 3024, 'button': 639, 'parody': 3192, 'arnold': 296, 'karen': 2444, 'hates': 2048, 'kennedy': 2454, 'cried': 1054, 'witches': 4910, 'topless': 4527, 'sinatra': 3989, 'brown': 601, 'simmons': 3981, 'oscars': 3134, 'source': 4086, 'suffered': 4276, 'isolated': 2363, 'generous': 1886, 'chest': 784, 'aforementioned': 139, 'devoid': 1230, 'countries': 1013, 'improvement': 2256, 'primary': 3394, 'wizard': 4919, 'prevent': 3385, 'pan': 3180, 'engaged': 1480, 'stones': 4198, 'outrageous': 3145, 'pg': 3250, 'families': 1644, 'elvis': 1451, 'performers': 3232, 'rick': 3689, 'staring': 4152, 'fond': 1776, 'passes': 3203, 'september': 3884, 'principal': 3398, 'adam': 111, 'progress': 3425, 'sounded': 4082, 'creators': 1044, 'heights': 2073, 'opposed': 3122, 'pleasantly': 3303, 'machines': 2694, 'obnoxious': 3067, 'domino': 1319, 'scream': 3826, 'melting': 2799, 'cheese': 780, 'glass': 1917, 'trashy': 4566, 'cameras': 660, 'mentioning': 2812, 'bleak': 503, 'pacino': 3164, 'possibility': 3349, 'disgusting': 1286, 'lawrence': 2539, 'appalling': 268, 'kay': 2447, '1990': 24, 'gory': 1943, 'duke': 1383, 'battles': 415, 'franco': 1820, 'suspend': 4329, 'empire': 1464, 'hat': 2045, 'scrooge': 3837, 'gifted': 1907, 'menacing': 2807, 'flawless': 1751, 'genres': 1889, 'chicks': 787, 'diamond': 1236, 'blow': 514, 'germans': 1897, 'rubber': 3747, 'subtitles': 4259, 'cultural': 1078, 'videos': 4734, 'heaven': 2068, 'warn': 4797, 'creation': 1040, 'critic': 1061, '1999': 27, 'singers': 3994, 'arguably': 289, 'terror': 4412, 'official': 3094, 'influenced': 2287, 'hamlet': 2013, 'suspicious': 4332, 'contained': 963, 'prince': 3396, 'lawyer': 2541, 'terrorists': 4414, 'displayed': 1292, 'weakest': 4825, 'betty': 474, 'wilson': 4891, 'shoes': 3941, 'minded': 2850, 'block': 508, 'guts': 1999, 'madonna': 2699, 'gadget': 1860, 'disneys': 1290, 'amounts': 220, 'competition': 918, 'bumbling': 622, 'props': 3439, 'unpleasant': 4674, 'rush': 3759, 'merit': 2816, 'bus': 631, 'empathy': 1462, 'temple': 4398, 'sword': 4340, 'simon': 3982, 'adequate': 120, 'claimed': 829, 'rex': 3683, 'technique': 4383, 'nightmares': 3015, 'connect': 944, 'bridge': 578, 'prisoners': 3403, 'journalist': 2420, 'ultra': 4629, 'prisoner': 3402, 'resembles': 3646, 'benefit': 465, 'dynamic': 1394, 'jazz': 2387, 'parties': 3196, 'boat': 523, 'swimming': 4338, 'realise': 3548, 'cliff': 847, 'jake': 2377, 'witnesses': 4916, 'dancer': 1104, 'claims': 830, 'kissing': 2484, 'enters': 1496, 'user': 4696, 'mildred': 2841, 'depiction': 1185, 'miserable': 2863, 'pot': 3354, 'deceased': 1146, 'pokemon': 3320, 'advise': 134, '2nd': 41, 'sidekick': 3966, 'shoots': 3944, 'multi': 2935, 'germany': 1898, 'stole': 4194, 'useful': 4694, 'steals': 4172, 'afford': 138, 'property': 3438, 'distracting': 1297, 'greek': 1970, 'strictly': 4223, 'proceedings': 3410, 'exist': 1569, 'psycho': 3457, 'perry': 3237, 'horrors': 2169, 'titanic': 4503, 'hire': 2116, 'heat': 2067, 'belongs': 460, 'access': 83, 'belong': 459, '1940s': 13, 'relatively': 3600, 'jeremy': 2394, 'teachers': 4376, 'pat': 3208, 'bang': 393, 'leonard': 2572, 'models': 2881, 'thirty': 4456, 'ships': 3935, 'cook': 988, 'underground': 4640, 'bergman': 466, 'larger': 2519, 'rolling': 3730, 'jobs': 2406, 'knife': 2487, 'dolls': 1316, 'size': 4012, 'shakespeare': 3915, 'luke': 2687, 'carries': 699, 'reunion': 3669, 'sentimental': 3882, 'grab': 1949, 'royal': 3746, '70': 55, 'laughably': 2531, 'illogical': 2231, 'implausible': 2245, 'comical': 894, 'clothing': 861, 'margaret': 2735, 'felix': 1689, 'viewings': 4741, 'plausible': 3295, 'von': 4765, 'hearts': 2066, 'dawson': 1128, 'porn': 3336, 'tends': 4402, 'pushed': 3478, 'dig': 1250, 'campbell': 663, 'medium': 2792, 'broke': 593, 'paint': 3173, 'connected': 945, 'fashioned': 1660, 'factory': 1623, 'thumbs': 4485, 'sally': 3776, 'instinct': 2308, 'entry': 1504, 'lees': 2560, 'refuses': 3587, 'arrogant': 303, 'friendship': 1838, 'fields': 1705, 'shine': 3931, 'scope': 3821, 'lately': 2524, 'bugs': 613, 'draws': 1352, 'crush': 1072, '40s': 49, 'branagh': 564, 'nicholas': 3010, 'cheek': 779, 'edgar': 1417, 'wallace': 4782, 'bore': 540, 'tiresome': 4502, 'explosions': 1597, 'troubles': 4594, 'rat': 3525, 'der': 1191, 'wished': 4905, 'brutally': 604, 'pops': 3332, 'grasp': 1960, 'investigation': 2343, 'albeit': 173, 'tame': 4363, 'paranoia': 3186, 'heroic': 2090, 'resort': 3650, 'historically': 2120, 'stan': 4142, 'cave': 727, 'rival': 3706, 'pal': 3177, 'removed': 3624, 'likewise': 2603, 'sullivan': 4288, 'corporate': 998, 'techniques': 4384, 'feed': 1683, 'enemies': 1476, 'recorded': 3574, 'buffs': 612, 'jumped': 2430, 'searching': 3842, 'carradine': 695, 'tiger': 4491, 'spielberg': 4110, 'abc': 63, 'toys': 4543, 'dracula': 1341, 'beer': 439, 'louis': 2665, 'rabbit': 3498, 'creativity': 1042, 'lyrics': 2692, 'pamela': 3179, 'demented': 1176, 'masses': 2755, 'thru': 4483, 'directions': 1262, 'tons': 4520, 'burn': 625, 'allowing': 191, 'per': 3223, 'claire': 831, 'intellectual': 2312, 'raise': 3507, 'blair': 497, 'opinions': 3119, 'letters': 2582, 'mentions': 2813, 'roy': 3745, 'stood': 4199, 'montana': 2895, 'comfortable': 892, 'firstly': 1737, 'signs': 3973, 'performer': 3231, 'overlook': 3153, 'winter': 4900, 'depressed': 1187, 'cats': 721, 'represent': 3637, 'dreary': 1356, 'financial': 1725, 'rob': 3710, 'mars': 2746, 'chosen': 805, 'civilization': 827, 'gotta': 1946, 'deaf': 1134, 'corruption': 1002, 'relatives': 3601, 'loyal': 2679, 'scores': 3823, 'massacre': 2754, 'poem': 3312, 'nazi': 2977, 'fest': 1696, 'pulling': 3463, 'menace': 2806, 'chased': 770, 'online': 3109, 'midnight': 2834, 'pretend': 3381, 'gabriel': 1859, 'backgrounds': 381, 'kirk': 2482, 'plastic': 3294, 'russell': 3761, 'motives': 2916, 'seagal': 3839, '13th': 5, 'rebel': 3561, 'facing': 1620, 'hollow': 2135, 'advertising': 132, 'thankfully': 4422, 'concert': 935, 'holmes': 2139, 'press': 3379, 'losers': 2656, 'buff': 611, 'sheriff': 3929, 'report': 3635, 'dinosaurs': 1256, 'engage': 1479, 'plant': 3293, 'ham': 2011, 'desired': 1206, 'scares': 3806, 'nazis': 2978, 'miike': 2837, 'roots': 3738, 'nose': 3037, 'savage': 3793, 'threatening': 4468, 'vengeance': 4719, 'prostitute': 3440, 'ought': 3138, 'choices': 798, 'lena': 2568, 'hal': 2006, 'fay': 1674, 'tracks': 4545, 'domestic': 1318, 'valley': 4707, 'wondered': 4927, 'tracy': 4546, 'racism': 3502, '3d': 46, 'flynn': 1765, 'row': 3744, 'agreed': 156, '1980s': 21, 'spoke': 4125, 'cinematographer': 819, 'continuity': 972, 'bedroom': 437, 'escaped': 1518, 'cd': 728, 'ward': 4793, 'unit': 4663, 'lengthy': 2570, 'ballet': 389, 'goodness': 1938, 'noble': 3021, 'lynch': 2691, 'importantly': 2248, 'jackson': 2375, 'abraham': 69, 'exposure': 1599, 'cinemas': 817, 'damon': 1101, 'conspiracy': 956, 'couples': 1017, 'serving': 3897, 'pants': 3182, 'comparison': 914, 'daddy': 1096, 'offering': 3089, 'attorney': 348, 'destroying': 1215, 'shirt': 3937, 'argument': 291, 'relations': 3596, 'championship': 745, '1980': 20, 'resources': 3651, 'snow': 4045, 'rambo': 3511, 'explored': 1595, 'rocket': 3721, 'wins': 4899, 'taxi': 4371, 'purchased': 3470, 'restored': 3659, 'dub': 1378, 'logical': 2639, 'davies': 1125, 'reel': 3581, 'chaplin': 756, 'experiments': 1584, 'farce': 1654, 'coach': 868, 'eaten': 1412, 'beaten': 424, 'pro': 3406, 'morris': 2908, 'reasonable': 3558, 'blond': 510, 'neck': 2985, 'reaches': 3538, 'education': 1424, 'climactic': 848, 'toilet': 4512, 'global': 1920, 'polanski': 3321, 'winters': 4901, 'alcohol': 176, 'overacting': 3149, 'abilities': 64, 'grinch': 1975, 'melodramatic': 2798, 'landing': 2512, 'editor': 1423, 'glenn': 1918, 'uwe': 4703, 'boll': 529, 'mild': 2839, 'ninja': 3018, 'donna': 1323, 'advanced': 128, 'worried': 4949, 'li': 2587, 'resemblance': 3645, 'experiment': 1583, 'ease': 1404, 'norman': 3035, 'desperation': 1210, 'riding': 3695, 'holly': 2136, 'stiller': 4189, 'dolph': 1317, 'investigate': 2342, 'listed': 2618, 'april': 284, 'louise': 2666, 'haunted': 2050, 'edition': 1422, 'canadian': 667, 'sum': 4289, 'museum': 2945, 'meaningless': 2782, 'sentence': 3881, 'ford': 1789, 'switch': 4339, 'conflicts': 940, 'georges': 1894, 'clip': 851, 'enthusiasm': 1501, 'possibilities': 3348, 'mann': 2728, 'lips': 2615, 'nonetheless': 3029, 'blob': 507, 'catherine': 719, 'tricks': 4583, 'satisfy': 3790, 'sandler': 3781, 'atlantis': 332, 'stargate': 4151, 'gag': 1861, 'someones': 4065, 'communist': 907, 'slaughter': 4021, 'bela': 450, 'lugosi': 2686, 'wicked': 4879, 'vegas': 4717, 'akshay': 169, 'ingredients': 2289, 'object': 3066, 'evident': 1547, 'ruby': 3749, 'yellow': 4981, 'restaurant': 3658, 'painting': 3175, 'careful': 688, 'psychic': 3456, 'airport': 167, 'soccer': 4048, 'petty': 3249, 'typically': 4624, 'ramones': 3512, 'psychiatrist': 3455, 'laurel': 2537, 'hardy': 2037, 'responsibility': 3655, 'bite': 489, 'method': 2824, 'respected': 3653, 'unseen': 4678, 'hyde': 2206, 'willis': 4890, 'prom': 3429, 'purple': 3473, 'rooms': 3736, 'jenny': 2393, 'garbo': 1871, 'tender': 4401, 'laws': 2540, 'bakshi': 386, 'blunt': 520}\n"
     ]
    }
   ],
   "source": [
    "print(vocabulary)"
   ]
  },
  {
   "cell_type": "markdown",
   "metadata": {},
   "source": [
    "Once you have added the endpoint name to the Lambda function, click on **Save**. Your Lambda function is now up and running. Next we need to create a way for our web app to execute the Lambda function."
   ]
  },
  {
   "cell_type": "markdown",
   "metadata": {},
   "source": [
    "### Setting up API Gateway\n",
    "\n",
    "Now that our Lambda function is set up, it is time to create a new API using API Gateway that will trigger the Lambda function we have just created.\n",
    "\n",
    "Using AWS Console, navigate to **Amazon API Gateway** and then click on **Get started**.\n",
    "\n",
    "On the next page, make sure that **New API** is selected and give the new api a name, for example, `sentiment_analysis_web_app`. Then, click on **Create API**.\n",
    "\n",
    "Now we have created an API, however it doesn't currently do anything. What we want it to do is to trigger the Lambda function that we created earlier.\n",
    "\n",
    "Select the **Actions** dropdown menu and click **Create Method**. A new blank method will be created, select its dropdown menu and select **POST**, then click on the check mark beside it.\n",
    "\n",
    "For the integration point, make sure that **Lambda Function** is selected and click on the **Use Lambda Proxy integration**. This option makes sure that the data that is sent to the API is then sent directly to the Lambda function with no processing. It also means that the return value must be a proper response object as it will also not be processed by API Gateway.\n",
    "\n",
    "Type the name of the Lambda function you created earlier into the **Lambda Function** text entry box and then click on **Save**. Click on **OK** in the pop-up box that then appears, giving permission to API Gateway to invoke the Lambda function you created.\n",
    "\n",
    "The last step in creating the API Gateway is to select the **Actions** dropdown and click on **Deploy API**. You will need to create a new Deployment stage and name it anything you like, for example `prod`.\n",
    "\n",
    "You have now successfully set up a public API to access your SageMaker model. Make sure to copy or write down the URL provided to invoke your newly created public API as this will be needed in the next step. This URL can be found at the top of the page, highlighted in blue next to the text **Invoke URL**."
   ]
  },
  {
   "cell_type": "markdown",
   "metadata": {},
   "source": [
    "## Step 7: Deploying our web app\n",
    "\n",
    "Now that we have a publicly available API, we can start using it in a web app. For our purposes, we have provided a simple static html file which can make use of the public api you created earlier.\n",
    "\n",
    "In the `website` folder there should be a file called `index.html`. Download the file to your computer and open that file up in a text editor of your choice. There should be a line which contains **\\*\\*REPLACE WITH PUBLIC API URL\\*\\***. Replace this string with the url that you wrote down in the last step and then save the file.\n",
    "\n",
    "Now, if you open `index.html` on your local computer, your browser will behave as a local web server and you can use the provided site to interact with your SageMaker model.\n",
    "\n",
    "If you'd like to go further, you can host this html file anywhere you'd like, for example using github or hosting a static site on Amazon's S3. Once you have done this you can share the link with anyone you'd like and have them play with it too!\n",
    "\n",
    "> **Important Note** In order for the web app to communicate with the SageMaker endpoint, the endpoint has to actually be deployed and running. This means that you are paying for it. Make sure that the endpoint is running when you want to use the web app but that you shut it down when you don't need it, otherwise you will end up with a surprisingly large AWS bill."
   ]
  },
  {
   "cell_type": "markdown",
   "metadata": {},
   "source": [
    "### Delete the endpoint\n",
    "\n",
    "Remember to always shut down your endpoint if you are no longer using it. You are charged for the length of time that the endpoint is running so if you forget and leave it on you could end up with an unexpectedly large bill."
   ]
  },
  {
   "cell_type": "code",
   "execution_count": 55,
   "metadata": {},
   "outputs": [
    {
     "name": "stderr",
     "output_type": "stream",
     "text": [
      "INFO:sagemaker:Deleting endpoint configuration with name: xgboost-2019-04-20-11-38-00-344\n",
      "INFO:sagemaker:Deleting endpoint with name: xgboost-2019-04-20-11-38-00-344\n"
     ]
    }
   ],
   "source": [
    "xgb_predictor.delete_endpoint()"
   ]
  },
  {
   "cell_type": "markdown",
   "metadata": {},
   "source": [
    "## Optional: Clean up\n",
    "\n",
    "The default notebook instance on SageMaker doesn't have a lot of excess disk space available. As you continue to complete and execute notebooks you will eventually fill up this disk space, leading to errors which can be difficult to diagnose. Once you are completely finished using a notebook it is a good idea to remove the files that you created along the way. Of course, you can do this from the terminal or from the notebook hub if you would like. The cell below contains some commands to clean up the created files from within the notebook."
   ]
  },
  {
   "cell_type": "code",
   "execution_count": 57,
   "metadata": {},
   "outputs": [
    {
     "ename": "OSError",
     "evalue": "[Errno 12] Cannot allocate memory",
     "output_type": "error",
     "traceback": [
      "\u001b[0;31m---------------------------------------------------------------------------\u001b[0m",
      "\u001b[0;31mOSError\u001b[0m                                   Traceback (most recent call last)",
      "\u001b[0;32m<ipython-input-57-2c87d8eefdf2>\u001b[0m in \u001b[0;36m<module>\u001b[0;34m()\u001b[0m\n\u001b[1;32m      1\u001b[0m \u001b[0;31m# First we will remove all of the files contained in the data_dir directory\u001b[0m\u001b[0;34m\u001b[0m\u001b[0;34m\u001b[0m\u001b[0m\n\u001b[0;32m----> 2\u001b[0;31m \u001b[0mget_ipython\u001b[0m\u001b[0;34m(\u001b[0m\u001b[0;34m)\u001b[0m\u001b[0;34m.\u001b[0m\u001b[0msystem\u001b[0m\u001b[0;34m(\u001b[0m\u001b[0;34m'rm $data_dir/*'\u001b[0m\u001b[0;34m)\u001b[0m\u001b[0;34m\u001b[0m\u001b[0m\n\u001b[0m\u001b[1;32m      3\u001b[0m \u001b[0;34m\u001b[0m\u001b[0m\n\u001b[1;32m      4\u001b[0m \u001b[0;31m# And then we delete the directory itself\u001b[0m\u001b[0;34m\u001b[0m\u001b[0;34m\u001b[0m\u001b[0m\n\u001b[1;32m      5\u001b[0m \u001b[0mget_ipython\u001b[0m\u001b[0;34m(\u001b[0m\u001b[0;34m)\u001b[0m\u001b[0;34m.\u001b[0m\u001b[0msystem\u001b[0m\u001b[0;34m(\u001b[0m\u001b[0;34m'rmdir $data_dir'\u001b[0m\u001b[0;34m)\u001b[0m\u001b[0;34m\u001b[0m\u001b[0m\n",
      "\u001b[0;32m~/anaconda3/envs/python3/lib/python3.6/site-packages/IPython/core/interactiveshell.py\u001b[0m in \u001b[0;36msystem_piped\u001b[0;34m(self, cmd)\u001b[0m\n\u001b[1;32m   2259\u001b[0m         \u001b[0;31m# a non-None value would trigger :func:`sys.displayhook` calls.\u001b[0m\u001b[0;34m\u001b[0m\u001b[0;34m\u001b[0m\u001b[0m\n\u001b[1;32m   2260\u001b[0m         \u001b[0;31m# Instead, we store the exit_code in user_ns.\u001b[0m\u001b[0;34m\u001b[0m\u001b[0;34m\u001b[0m\u001b[0m\n\u001b[0;32m-> 2261\u001b[0;31m         \u001b[0mself\u001b[0m\u001b[0;34m.\u001b[0m\u001b[0muser_ns\u001b[0m\u001b[0;34m[\u001b[0m\u001b[0;34m'_exit_code'\u001b[0m\u001b[0;34m]\u001b[0m \u001b[0;34m=\u001b[0m \u001b[0msystem\u001b[0m\u001b[0;34m(\u001b[0m\u001b[0mself\u001b[0m\u001b[0;34m.\u001b[0m\u001b[0mvar_expand\u001b[0m\u001b[0;34m(\u001b[0m\u001b[0mcmd\u001b[0m\u001b[0;34m,\u001b[0m \u001b[0mdepth\u001b[0m\u001b[0;34m=\u001b[0m\u001b[0;36m1\u001b[0m\u001b[0;34m)\u001b[0m\u001b[0;34m)\u001b[0m\u001b[0;34m\u001b[0m\u001b[0m\n\u001b[0m\u001b[1;32m   2262\u001b[0m \u001b[0;34m\u001b[0m\u001b[0m\n\u001b[1;32m   2263\u001b[0m     \u001b[0;32mdef\u001b[0m \u001b[0msystem_raw\u001b[0m\u001b[0;34m(\u001b[0m\u001b[0mself\u001b[0m\u001b[0;34m,\u001b[0m \u001b[0mcmd\u001b[0m\u001b[0;34m)\u001b[0m\u001b[0;34m:\u001b[0m\u001b[0;34m\u001b[0m\u001b[0m\n",
      "\u001b[0;32m~/anaconda3/envs/python3/lib/python3.6/site-packages/IPython/utils/_process_posix.py\u001b[0m in \u001b[0;36msystem\u001b[0;34m(self, cmd)\u001b[0m\n\u001b[1;32m    154\u001b[0m                 \u001b[0mchild\u001b[0m \u001b[0;34m=\u001b[0m \u001b[0mpexpect\u001b[0m\u001b[0;34m.\u001b[0m\u001b[0mspawnb\u001b[0m\u001b[0;34m(\u001b[0m\u001b[0mself\u001b[0m\u001b[0;34m.\u001b[0m\u001b[0msh\u001b[0m\u001b[0;34m,\u001b[0m \u001b[0margs\u001b[0m\u001b[0;34m=\u001b[0m\u001b[0;34m[\u001b[0m\u001b[0;34m'-c'\u001b[0m\u001b[0;34m,\u001b[0m \u001b[0mcmd\u001b[0m\u001b[0;34m]\u001b[0m\u001b[0;34m)\u001b[0m \u001b[0;31m# Pexpect-U\u001b[0m\u001b[0;34m\u001b[0m\u001b[0m\n\u001b[1;32m    155\u001b[0m             \u001b[0;32melse\u001b[0m\u001b[0;34m:\u001b[0m\u001b[0;34m\u001b[0m\u001b[0m\n\u001b[0;32m--> 156\u001b[0;31m                 \u001b[0mchild\u001b[0m \u001b[0;34m=\u001b[0m \u001b[0mpexpect\u001b[0m\u001b[0;34m.\u001b[0m\u001b[0mspawn\u001b[0m\u001b[0;34m(\u001b[0m\u001b[0mself\u001b[0m\u001b[0;34m.\u001b[0m\u001b[0msh\u001b[0m\u001b[0;34m,\u001b[0m \u001b[0margs\u001b[0m\u001b[0;34m=\u001b[0m\u001b[0;34m[\u001b[0m\u001b[0;34m'-c'\u001b[0m\u001b[0;34m,\u001b[0m \u001b[0mcmd\u001b[0m\u001b[0;34m]\u001b[0m\u001b[0;34m)\u001b[0m  \u001b[0;31m# Vanilla Pexpect\u001b[0m\u001b[0;34m\u001b[0m\u001b[0m\n\u001b[0m\u001b[1;32m    157\u001b[0m             \u001b[0mflush\u001b[0m \u001b[0;34m=\u001b[0m \u001b[0msys\u001b[0m\u001b[0;34m.\u001b[0m\u001b[0mstdout\u001b[0m\u001b[0;34m.\u001b[0m\u001b[0mflush\u001b[0m\u001b[0;34m\u001b[0m\u001b[0m\n\u001b[1;32m    158\u001b[0m             \u001b[0;32mwhile\u001b[0m \u001b[0;32mTrue\u001b[0m\u001b[0;34m:\u001b[0m\u001b[0;34m\u001b[0m\u001b[0m\n",
      "\u001b[0;32m~/anaconda3/envs/python3/lib/python3.6/site-packages/pexpect/pty_spawn.py\u001b[0m in \u001b[0;36m__init__\u001b[0;34m(self, command, args, timeout, maxread, searchwindowsize, logfile, cwd, env, ignore_sighup, echo, preexec_fn, encoding, codec_errors, dimensions, use_poll)\u001b[0m\n\u001b[1;32m    202\u001b[0m             \u001b[0mself\u001b[0m\u001b[0;34m.\u001b[0m\u001b[0mname\u001b[0m \u001b[0;34m=\u001b[0m \u001b[0;34m'<pexpect factory incomplete>'\u001b[0m\u001b[0;34m\u001b[0m\u001b[0m\n\u001b[1;32m    203\u001b[0m         \u001b[0;32melse\u001b[0m\u001b[0;34m:\u001b[0m\u001b[0;34m\u001b[0m\u001b[0m\n\u001b[0;32m--> 204\u001b[0;31m             \u001b[0mself\u001b[0m\u001b[0;34m.\u001b[0m\u001b[0m_spawn\u001b[0m\u001b[0;34m(\u001b[0m\u001b[0mcommand\u001b[0m\u001b[0;34m,\u001b[0m \u001b[0margs\u001b[0m\u001b[0;34m,\u001b[0m \u001b[0mpreexec_fn\u001b[0m\u001b[0;34m,\u001b[0m \u001b[0mdimensions\u001b[0m\u001b[0;34m)\u001b[0m\u001b[0;34m\u001b[0m\u001b[0m\n\u001b[0m\u001b[1;32m    205\u001b[0m         \u001b[0mself\u001b[0m\u001b[0;34m.\u001b[0m\u001b[0muse_poll\u001b[0m \u001b[0;34m=\u001b[0m \u001b[0muse_poll\u001b[0m\u001b[0;34m\u001b[0m\u001b[0m\n\u001b[1;32m    206\u001b[0m \u001b[0;34m\u001b[0m\u001b[0m\n",
      "\u001b[0;32m~/anaconda3/envs/python3/lib/python3.6/site-packages/pexpect/pty_spawn.py\u001b[0m in \u001b[0;36m_spawn\u001b[0;34m(self, command, args, preexec_fn, dimensions)\u001b[0m\n\u001b[1;32m    301\u001b[0m \u001b[0;34m\u001b[0m\u001b[0m\n\u001b[1;32m    302\u001b[0m         self.ptyproc = self._spawnpty(self.args, env=self.env,\n\u001b[0;32m--> 303\u001b[0;31m                                      cwd=self.cwd, **kwargs)\n\u001b[0m\u001b[1;32m    304\u001b[0m \u001b[0;34m\u001b[0m\u001b[0m\n\u001b[1;32m    305\u001b[0m         \u001b[0mself\u001b[0m\u001b[0;34m.\u001b[0m\u001b[0mpid\u001b[0m \u001b[0;34m=\u001b[0m \u001b[0mself\u001b[0m\u001b[0;34m.\u001b[0m\u001b[0mptyproc\u001b[0m\u001b[0;34m.\u001b[0m\u001b[0mpid\u001b[0m\u001b[0;34m\u001b[0m\u001b[0m\n",
      "\u001b[0;32m~/anaconda3/envs/python3/lib/python3.6/site-packages/pexpect/pty_spawn.py\u001b[0m in \u001b[0;36m_spawnpty\u001b[0;34m(self, args, **kwargs)\u001b[0m\n\u001b[1;32m    312\u001b[0m     \u001b[0;32mdef\u001b[0m \u001b[0m_spawnpty\u001b[0m\u001b[0;34m(\u001b[0m\u001b[0mself\u001b[0m\u001b[0;34m,\u001b[0m \u001b[0margs\u001b[0m\u001b[0;34m,\u001b[0m \u001b[0;34m**\u001b[0m\u001b[0mkwargs\u001b[0m\u001b[0;34m)\u001b[0m\u001b[0;34m:\u001b[0m\u001b[0;34m\u001b[0m\u001b[0m\n\u001b[1;32m    313\u001b[0m         \u001b[0;34m'''Spawn a pty and return an instance of PtyProcess.'''\u001b[0m\u001b[0;34m\u001b[0m\u001b[0m\n\u001b[0;32m--> 314\u001b[0;31m         \u001b[0;32mreturn\u001b[0m \u001b[0mptyprocess\u001b[0m\u001b[0;34m.\u001b[0m\u001b[0mPtyProcess\u001b[0m\u001b[0;34m.\u001b[0m\u001b[0mspawn\u001b[0m\u001b[0;34m(\u001b[0m\u001b[0margs\u001b[0m\u001b[0;34m,\u001b[0m \u001b[0;34m**\u001b[0m\u001b[0mkwargs\u001b[0m\u001b[0;34m)\u001b[0m\u001b[0;34m\u001b[0m\u001b[0m\n\u001b[0m\u001b[1;32m    315\u001b[0m \u001b[0;34m\u001b[0m\u001b[0m\n\u001b[1;32m    316\u001b[0m     \u001b[0;32mdef\u001b[0m \u001b[0mclose\u001b[0m\u001b[0;34m(\u001b[0m\u001b[0mself\u001b[0m\u001b[0;34m,\u001b[0m \u001b[0mforce\u001b[0m\u001b[0;34m=\u001b[0m\u001b[0;32mTrue\u001b[0m\u001b[0;34m)\u001b[0m\u001b[0;34m:\u001b[0m\u001b[0;34m\u001b[0m\u001b[0m\n",
      "\u001b[0;32m~/anaconda3/envs/python3/lib/python3.6/site-packages/ptyprocess/ptyprocess.py\u001b[0m in \u001b[0;36mspawn\u001b[0;34m(cls, argv, cwd, env, echo, preexec_fn, dimensions)\u001b[0m\n\u001b[1;32m    220\u001b[0m \u001b[0;34m\u001b[0m\u001b[0m\n\u001b[1;32m    221\u001b[0m         \u001b[0;32mif\u001b[0m \u001b[0muse_native_pty_fork\u001b[0m\u001b[0;34m:\u001b[0m\u001b[0;34m\u001b[0m\u001b[0m\n\u001b[0;32m--> 222\u001b[0;31m             \u001b[0mpid\u001b[0m\u001b[0;34m,\u001b[0m \u001b[0mfd\u001b[0m \u001b[0;34m=\u001b[0m \u001b[0mpty\u001b[0m\u001b[0;34m.\u001b[0m\u001b[0mfork\u001b[0m\u001b[0;34m(\u001b[0m\u001b[0;34m)\u001b[0m\u001b[0;34m\u001b[0m\u001b[0m\n\u001b[0m\u001b[1;32m    223\u001b[0m         \u001b[0;32melse\u001b[0m\u001b[0;34m:\u001b[0m\u001b[0;34m\u001b[0m\u001b[0m\n\u001b[1;32m    224\u001b[0m             \u001b[0;31m# Use internal fork_pty, for Solaris\u001b[0m\u001b[0;34m\u001b[0m\u001b[0;34m\u001b[0m\u001b[0m\n",
      "\u001b[0;32m~/anaconda3/envs/python3/lib/python3.6/pty.py\u001b[0m in \u001b[0;36mfork\u001b[0;34m()\u001b[0m\n\u001b[1;32m     95\u001b[0m \u001b[0;34m\u001b[0m\u001b[0m\n\u001b[1;32m     96\u001b[0m     \u001b[0mmaster_fd\u001b[0m\u001b[0;34m,\u001b[0m \u001b[0mslave_fd\u001b[0m \u001b[0;34m=\u001b[0m \u001b[0mopenpty\u001b[0m\u001b[0;34m(\u001b[0m\u001b[0;34m)\u001b[0m\u001b[0;34m\u001b[0m\u001b[0m\n\u001b[0;32m---> 97\u001b[0;31m     \u001b[0mpid\u001b[0m \u001b[0;34m=\u001b[0m \u001b[0mos\u001b[0m\u001b[0;34m.\u001b[0m\u001b[0mfork\u001b[0m\u001b[0;34m(\u001b[0m\u001b[0;34m)\u001b[0m\u001b[0;34m\u001b[0m\u001b[0m\n\u001b[0m\u001b[1;32m     98\u001b[0m     \u001b[0;32mif\u001b[0m \u001b[0mpid\u001b[0m \u001b[0;34m==\u001b[0m \u001b[0mCHILD\u001b[0m\u001b[0;34m:\u001b[0m\u001b[0;34m\u001b[0m\u001b[0m\n\u001b[1;32m     99\u001b[0m         \u001b[0;31m# Establish a new session.\u001b[0m\u001b[0;34m\u001b[0m\u001b[0;34m\u001b[0m\u001b[0m\n",
      "\u001b[0;31mOSError\u001b[0m: [Errno 12] Cannot allocate memory"
     ]
    }
   ],
   "source": [
    "# First we will remove all of the files contained in the data_dir directory\n",
    "!rm $data_dir/*\n",
    "\n",
    "# And then we delete the directory itself\n",
    "!rmdir $data_dir\n",
    "\n",
    "# Similarly we remove the files in the cache_dir directory and the directory itself\n",
    "!rm $cache_dir/*\n",
    "!rmdir $cache_dir"
   ]
  },
  {
   "cell_type": "code",
   "execution_count": null,
   "metadata": {},
   "outputs": [],
   "source": []
  }
 ],
 "metadata": {
  "kernelspec": {
   "display_name": "conda_python3",
   "language": "python",
   "name": "conda_python3"
  },
  "language_info": {
   "codemirror_mode": {
    "name": "ipython",
    "version": 3
   },
   "file_extension": ".py",
   "mimetype": "text/x-python",
   "name": "python",
   "nbconvert_exporter": "python",
   "pygments_lexer": "ipython3",
   "version": "3.6.5"
  }
 },
 "nbformat": 4,
 "nbformat_minor": 2
}
